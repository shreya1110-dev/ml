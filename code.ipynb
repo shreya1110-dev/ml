{
 "cells": [
  {
   "cell_type": "code",
   "execution_count": null,
   "id": "4537c48f",
   "metadata": {},
   "outputs": [
    {
     "name": "stdout",
     "output_type": "stream",
     "text": [
      "hello\n"
     ]
    }
   ],
   "source": [
    "print(\"hello\")\n"
   ]
  },
  {
   "cell_type": "code",
   "execution_count": null,
   "id": "8ee98946",
   "metadata": {},
   "outputs": [],
   "source": []
  },
  {
   "cell_type": "markdown",
   "id": "7d53a55c",
   "metadata": {},
   "source": [
    "defining strings in 2 ways\n",
    "'hello'\n",
    "\"hello\""
   ]
  },
  {
   "cell_type": "code",
   "execution_count": null,
   "id": "330dbab4",
   "metadata": {},
   "outputs": [
    {
     "name": "stdout",
     "output_type": "stream",
     "text": [
      "Hello! I am Shreya Sriram\n",
      "Hello! I am Shreya Sriram. Shreya is good\n",
      "Hello! I am Shreya\n"
     ]
    }
   ],
   "source": [
    "#formatting strings\n",
    "name1 = \"Shreya\"\n",
    "name2 = \"Sriram\"\n",
    "\n",
    "#using method 1\n",
    "print('Hello! I am {} {}'.format(name1,name2))\n",
    "\n",
    "#using method 2\n",
    "print('Hello! I am {0} {1}. {0} is good'.format(name1,name2))\n",
    "\n",
    "#using fstring\n",
    "print(f'Hello! I am {name1}')\n"
   ]
  },
  {
   "cell_type": "code",
   "execution_count": null,
   "id": "97ade174",
   "metadata": {},
   "outputs": [
    {
     "name": "stdout",
     "output_type": "stream",
     "text": [
      "Hello\n"
     ]
    }
   ],
   "source": [
    "print('Hello')"
   ]
  },
  {
   "cell_type": "markdown",
   "id": "73437529",
   "metadata": {},
   "source": [
    "# string methods"
   ]
  },
  {
   "cell_type": "code",
   "execution_count": null,
   "id": "2ecdc715",
   "metadata": {},
   "outputs": [
    {
     "name": "stdout",
     "output_type": "stream",
     "text": [
      "Cinema\n",
      "CINEMA\n",
      "cinema\n",
      "2\n",
      "False\n",
      "True\n"
     ]
    }
   ],
   "source": [
    "s1 = 'cInema'\n",
    "s2 = 'shreya sriram'\n",
    "s3 = 'Shreya S'\n",
    "\n",
    "print(s1.capitalize())  #capitalises first letter\n",
    "print(s1.upper())    #uppercase\n",
    "print(s1.lower())    #lowercase\n",
    "print(s2.count('a')) #returns no of occurences\n",
    "print(s2.istitle())   #returns true if all the words in a string start with caps\n",
    "print(s3.istitle())"
   ]
  },
  {
   "cell_type": "markdown",
   "id": "04f1acdd",
   "metadata": {},
   "source": [
    "# list operations"
   ]
  },
  {
   "cell_type": "code",
   "execution_count": null,
   "id": "ff0bea01",
   "metadata": {},
   "outputs": [
    {
     "name": "stdout",
     "output_type": "stream",
     "text": [
      "['apple', 'banana', 'cherry', 'kiwi']\n",
      "['apple', 'apricot', 'banana', 'cherry', 'kiwi']\n",
      "['apple', 'apricot', 'banana', 'cherry']\n",
      "['apple', 'apricot', 'banana']\n",
      "['apple', 'banana']\n",
      "[]\n",
      "['banana', 'apple']\n",
      "1\n",
      "['banana', 'apple', 'cucumber', 'carrot']\n",
      "['apple', 'banana', 'carrot', 'cucumber']\n"
     ]
    }
   ],
   "source": [
    "fruits = [\"apple\",\"banana\",\"cherry\"]\n",
    "veggies = [\"cucumber\",\"carrot\"]\n",
    "\" \".join(fruits)\n",
    "\n",
    "fruits.append(\"kiwi\")   #adds to end\n",
    "print(fruits)\n",
    "\n",
    "fruits.insert(1,\"apricot\") #adds at given index\n",
    "print(fruits)\n",
    "\n",
    "fruits.remove(\"kiwi\") #removes element\n",
    "print(fruits)\n",
    "\n",
    "fruits.pop()  #removes last item\n",
    "print(fruits)\n",
    "\n",
    "fruits.pop(1)\n",
    "print(fruits)\n",
    "\n",
    "scopy = fruits.copy()  #creates a copy of the list\n",
    "\n",
    "scopy.clear() #remove all elements\n",
    "print(scopy)\n",
    "\n",
    "fruits.reverse()\n",
    "print(fruits)\n",
    "\n",
    "print(fruits.count(\"apple\")) # returns count of the particular element\n",
    "\n",
    "fruits.extend(veggies)\n",
    "print(fruits)\n",
    "\n",
    "fruits.sort()\n",
    "print(fruits)"
   ]
  },
  {
   "cell_type": "markdown",
   "id": "9f3cbb08",
   "metadata": {},
   "source": [
    "# tuple operations"
   ]
  },
  {
   "cell_type": "code",
   "execution_count": null,
   "id": "561d6e82",
   "metadata": {},
   "outputs": [
    {
     "name": "stdout",
     "output_type": "stream",
     "text": [
      "2\n",
      "0\n",
      "4\n",
      "('apple', 'banana', 'cherry', 'banana', 'carrot', 'onion')\n"
     ]
    }
   ],
   "source": [
    "fruits = (\"apple\",\"banana\",\"cherry\",\"banana\")\n",
    "veg = (\"carrot\",\"onion\")\n",
    "print(fruits.count(\"banana\"))     #print the no of times a value occurs\n",
    "\n",
    "print(fruits.index(\"apple\")) #returns the index of the tuple\n",
    "\n",
    "print(len(fruits))  #length\n",
    "\n",
    "print(fruits+veg)"
   ]
  },
  {
   "cell_type": "markdown",
   "id": "98a8e58f",
   "metadata": {},
   "source": [
    "# dictionary operations"
   ]
  },
  {
   "cell_type": "code",
   "execution_count": null,
   "id": "de304fca",
   "metadata": {},
   "outputs": [
    {
     "name": "stdout",
     "output_type": "stream",
     "text": [
      "{'name': 'Shreya', 'grade': 8}\n",
      "{'name': 'Sam', 'grade': 5}\n",
      "8\n",
      "{'name': 'Shreya', 'grade': 3}\n",
      "{'name': 'Shreya', 'grade': 3, 'school': 'X'}\n",
      "{'name': 'Shreya', 'grade': 3, 'school': 'X'}\n",
      "dict_items([('name', 'Shreya'), ('grade', 3), ('school', 'X')])\n",
      "dict_keys(['name', 'grade', 'school'])\n",
      "{'grade': 3, 'school': 'X'}\n",
      "('school', 'X')\n"
     ]
    }
   ],
   "source": [
    "#creating dictionary\n",
    "\n",
    "d1 = {'name':'Shreya','grade':8}\n",
    "print(d1)\n",
    "\n",
    "d2 = dict(name=\"Sam\",grade=5)\n",
    "print(d2)\n",
    "\n",
    "print(d1.get('grade'))  #getting items of a dictionary\n",
    "\n",
    "d1['grade'] = 3\n",
    "print(d1)\n",
    "\n",
    "d1['school'] = 'X'        #adding a new column\n",
    "print(d1)\n",
    "\n",
    "d3 = d1.copy()   #copies a dictionary\n",
    "print(d3)\n",
    "\n",
    "print(d3.items())      #returns list of key value pairs\n",
    "\n",
    "print(d3.keys())     #returns list of keys\n",
    "\n",
    "d1.pop('name')     #removes the key value specified\n",
    "print(d1)\n",
    "\n",
    "print(d1.popitem())    #removes last inserted key value pair\n",
    "\n",
    "# del d1['Sam']"
   ]
  },
  {
   "cell_type": "markdown",
   "id": "8335e28d",
   "metadata": {},
   "source": [
    "# nested dictionary"
   ]
  },
  {
   "cell_type": "code",
   "execution_count": null,
   "id": "ad6d8d46",
   "metadata": {},
   "outputs": [
    {
     "name": "stdout",
     "output_type": "stream",
     "text": [
      "{'Sam': {'Math': 89, 'Eng': 90}, 'Ram': {'Math': 89, 'Eng': 90}}\n",
      "{'Math': 89, 'Eng': 90}\n",
      "Name:  Sam\n",
      "Mark:  89\n",
      "Mark:  90\n",
      "Name:  Ram\n",
      "Mark:  89\n",
      "Mark:  90\n",
      "{'Ram': {'Math': 89, 'Eng': 90}}\n"
     ]
    }
   ],
   "source": [
    "students = {}\n",
    "\n",
    "students[\"Sam\"] = {}\n",
    "students[\"Sam\"][\"Math\"] = 89\n",
    "students[\"Sam\"][\"Eng\"] = 90\n",
    "\n",
    "students[\"Ram\"] = {}\n",
    "students[\"Ram\"][\"Math\"] = 89\n",
    "students[\"Ram\"][\"Eng\"] = 90\n",
    "\n",
    "print(students)  #printing nested dictionary\n",
    "\n",
    "print(students[\"Sam\"])  #printing sams marks\n",
    "\n",
    "for name,marks in students.items():    #iterating through dictionary\n",
    "    print(\"Name: \",name)\n",
    "    for mark in marks:\n",
    "        print(\"Mark: \",marks[mark])\n",
    "\n",
    "students.pop(\"Sam\")    #removing the element from dictionary\n",
    "print(students)"
   ]
  },
  {
   "cell_type": "markdown",
   "id": "8e11c7a3",
   "metadata": {},
   "source": [
    "# set methods\n",
    "\n",
    "unordered,unindexed collection of items\n",
    "represented by -> {}"
   ]
  },
  {
   "cell_type": "code",
   "execution_count": null,
   "id": "ff30be94",
   "metadata": {},
   "outputs": [
    {
     "name": "stdout",
     "output_type": "stream",
     "text": [
      "{'bot', 'car', 'apple'}\n",
      "bot\n",
      "car\n",
      "apple\n",
      "{'bot', 'radish', 'car', 'apple'}\n",
      "{'bot', 'l', 'v', 'a', 'o', 'e', 'g', 'u', 'n', 'apple', 'radish', 'car', 'm'}\n",
      "{'l', 'v', 'a', 'o', 'e', 'g', 'u', 'n', 'apple', 'radish', 'car', 'm'}\n",
      "{'l', 'v', 'a', 'o', 'e', 'g', 'u', 'n', 'apple', 'radish', 'car', 'm'}\n"
     ]
    }
   ],
   "source": [
    "s = {'apple','bot','car'}   #representing a set\n",
    "print(s)\n",
    "\n",
    "for item in s:      #iterating through the set and printing\n",
    "    print(item)\n",
    "    \n",
    "# s[0] = 'radish'  #cant assign at an index since indexing doesnt work\n",
    "\n",
    "s.add('radish')  #to add one element to s\n",
    "print(s)\n",
    "\n",
    "s.update('melon','guava')  #to add more than 1 element to s\n",
    "print(s)\n",
    "\n",
    "s.pop()  #removes any random element from the set\n",
    "print(s)\n",
    "\n",
    "s.discard('mango')   #removes element from list, if not present doesnt\n",
    "print(s)\n",
    "\n",
    "# s.remove('mango')    #throws error if not found\n",
    "# print(s)\n",
    "\n",
    "s.clear()  #clears the elements of the set"
   ]
  },
  {
   "cell_type": "markdown",
   "id": "f008a48f",
   "metadata": {},
   "source": [
    "# set operations"
   ]
  },
  {
   "cell_type": "code",
   "execution_count": null,
   "id": "ce498d80",
   "metadata": {},
   "outputs": [
    {
     "name": "stdout",
     "output_type": "stream",
     "text": [
      "{1, 2, 3, 4, 6, 8}\n",
      "{1, 2, 3, 4, 6, 8}\n",
      "{1, 2, 4}\n",
      "{1, 2, 4}\n",
      "{3}\n",
      "{3}\n",
      "{3, 6, 8}\n",
      "{3, 6, 8}\n"
     ]
    }
   ],
   "source": [
    "a = {1,2,3,4}\n",
    "b = {1,2,4,6,8}\n",
    "\n",
    "#union of 2 sets\n",
    "print(a.union(b)) \n",
    "print(a|b)\n",
    "\n",
    "#intersection of sets\n",
    "print(a.intersection(b)) \n",
    "print(a&b)\n",
    "\n",
    "#set difference\n",
    "print(a.difference(b))\n",
    "print(a-b)\n",
    "\n",
    "#symmetric difference (prints all elements of a and b excluding whats common) ie, a+b-(a&b)\n",
    "print(a.symmetric_difference(b))\n",
    "print(a^b)"
   ]
  },
  {
   "cell_type": "markdown",
   "id": "4fdaefcd",
   "metadata": {},
   "source": [
    "# stacks using list"
   ]
  },
  {
   "cell_type": "code",
   "execution_count": null,
   "id": "09384adb",
   "metadata": {},
   "outputs": [
    {
     "name": "stdout",
     "output_type": "stream",
     "text": [
      "['e', 'a', 'v']\n",
      "v\n",
      "['e', 'a']\n"
     ]
    }
   ],
   "source": [
    "l = []\n",
    "#push operation in stack\n",
    "l.append('e')\n",
    "l.append('a')\n",
    "l.append('v')\n",
    "print(l)\n",
    "\n",
    "#pop \n",
    "print(l.pop())\n",
    "print(l)"
   ]
  },
  {
   "cell_type": "markdown",
   "id": "1374312c",
   "metadata": {},
   "source": [
    "# queues using list"
   ]
  },
  {
   "cell_type": "code",
   "execution_count": null,
   "id": "e1206c3c",
   "metadata": {},
   "outputs": [
    {
     "name": "stdout",
     "output_type": "stream",
     "text": [
      "['e', 'a', 'v']\n",
      "e\n",
      "['a', 'v']\n"
     ]
    }
   ],
   "source": [
    "l = []\n",
    "#push operation in queue\n",
    "l.append('e')\n",
    "l.append('a')\n",
    "l.append('v')\n",
    "print(l)\n",
    "\n",
    "#pop \n",
    "print(l.pop(0))  #to pop element from 0th position\n",
    "print(l)"
   ]
  },
  {
   "cell_type": "markdown",
   "id": "6fb62e51",
   "metadata": {},
   "source": [
    "# stack using deque"
   ]
  },
  {
   "cell_type": "code",
   "execution_count": null,
   "id": "56f24eb9",
   "metadata": {},
   "outputs": [
    {
     "name": "stdout",
     "output_type": "stream",
     "text": [
      "deque([23, 3, 13])\n",
      "13\n",
      "deque([23, 3])\n"
     ]
    }
   ],
   "source": [
    "from collections import deque\n",
    "#init deque\n",
    "d = deque()\n",
    "\n",
    "#push\n",
    "d.append(23)\n",
    "d.append(3)\n",
    "d.append(13)\n",
    "print(d)\n",
    "\n",
    "#pop\n",
    "print(d.pop())\n",
    "print(d)"
   ]
  },
  {
   "cell_type": "code",
   "execution_count": null,
   "id": "2b0a4224",
   "metadata": {},
   "outputs": [
    {
     "name": "stdout",
     "output_type": "stream",
     "text": [
      "deque([23, 3, 13])\n",
      "23\n",
      "deque([3, 13])\n"
     ]
    }
   ],
   "source": [
    "from collections import deque\n",
    "#init deque\n",
    "d = deque()\n",
    "\n",
    "#push\n",
    "d.append(23)\n",
    "d.append(3)\n",
    "d.append(13)\n",
    "print(d)\n",
    "\n",
    "#pop\n",
    "print(d.popleft())  #to remove\n",
    "print(d)"
   ]
  },
  {
   "cell_type": "markdown",
   "id": "d39a8c91",
   "metadata": {},
   "source": [
    "# searching algorithms\n",
    "\n",
    "linear search -> O(N)\n",
    "\n",
    "binary search -> O(logN)\n",
    "\n",
    "# sorting algorithms \n",
    "\n",
    "bubble sort   -> O(N^2)\n",
    "\n",
    "insertion sort -> O(N^2)\n",
    "\n",
    "selection sort -> O(N^2)\n",
    "\n",
    "merge sort -> O(NlogN)"
   ]
  },
  {
   "cell_type": "markdown",
   "id": "a7e89ff6",
   "metadata": {},
   "source": [
    "# default arguments in functions"
   ]
  },
  {
   "cell_type": "code",
   "execution_count": null,
   "id": "5186413a",
   "metadata": {},
   "outputs": [
    {
     "name": "stdout",
     "output_type": "stream",
     "text": [
      "11\n"
     ]
    }
   ],
   "source": [
    "def func(a,b=8):\n",
    "    return a+b\n",
    "\n",
    "print(func(3))\n"
   ]
  },
  {
   "cell_type": "code",
   "execution_count": null,
   "id": "9b9a445a",
   "metadata": {},
   "outputs": [],
   "source": [
    "# def func(a,b=90,c):\n",
    "#     return a+b+c\n",
    "\n",
    "# print(func(10,9))   #default arguments should be followed by default arguments"
   ]
  },
  {
   "cell_type": "code",
   "execution_count": null,
   "id": "ed1d80fc",
   "metadata": {},
   "outputs": [
    {
     "name": "stdout",
     "output_type": "stream",
     "text": [
      "27\n"
     ]
    }
   ],
   "source": [
    "def func(a,b=90,c=8):\n",
    "    return a+b+c\n",
    "\n",
    "print(func(10,9))   #default arguments should be followed by default arguments"
   ]
  },
  {
   "cell_type": "markdown",
   "id": "ad849f49",
   "metadata": {},
   "source": [
    "# keyword arguments"
   ]
  },
  {
   "cell_type": "code",
   "execution_count": null,
   "id": "1b13ef29",
   "metadata": {},
   "outputs": [
    {
     "name": "stdout",
     "output_type": "stream",
     "text": [
      "200\n"
     ]
    }
   ],
   "source": [
    "def func(a,b,c):\n",
    "    return a+b+c\n",
    "print(func(a=30,b=90,c=80))"
   ]
  },
  {
   "cell_type": "code",
   "execution_count": null,
   "id": "a57f7aad",
   "metadata": {},
   "outputs": [],
   "source": [
    "# def func(a,b,c):\n",
    "#     return a+b+c\n",
    "# print(func(a=30,90,80))"
   ]
  },
  {
   "cell_type": "code",
   "execution_count": null,
   "id": "07f1b9b1",
   "metadata": {},
   "outputs": [
    {
     "name": "stdout",
     "output_type": "stream",
     "text": [
      "200\n"
     ]
    }
   ],
   "source": [
    "def func(a,b,c):\n",
    "    return a+b+c\n",
    "print(func(c=30,b=90,a=80))"
   ]
  },
  {
   "cell_type": "code",
   "execution_count": null,
   "id": "04c124bc",
   "metadata": {},
   "outputs": [
    {
     "name": "stdout",
     "output_type": "stream",
     "text": [
      "60\n"
     ]
    }
   ],
   "source": [
    "def func(**scores):                                  #if we arent aware of the positional arguments which would come\n",
    "    return scores['science']\n",
    "print(func(science=60,math=40,english=90))\n"
   ]
  },
  {
   "cell_type": "markdown",
   "id": "16b1d39d",
   "metadata": {},
   "source": [
    "# anonymous functions\n",
    "\n",
    "lambda (used when there are small functions to be executed in the code) <br>\n",
    "filter<br>\n",
    "map<br>\n",
    "zip<br>\n",
    "list,dictionary and set comprehension (constructing new sequences using existing sequences)<br>"
   ]
  },
  {
   "cell_type": "markdown",
   "id": "777f90a4",
   "metadata": {},
   "source": [
    "# lambda function (used in data manipulation and feature engineering)\n",
    "they contain only 1 expression and not pass/return statements (syntax error)"
   ]
  },
  {
   "cell_type": "code",
   "execution_count": null,
   "id": "dd218113",
   "metadata": {},
   "outputs": [
    {
     "name": "stdout",
     "output_type": "stream",
     "text": [
      "25\n"
     ]
    }
   ],
   "source": [
    "x = lambda a: a*5\n",
    "print(x(5))"
   ]
  },
  {
   "cell_type": "code",
   "execution_count": null,
   "id": "3e488e68",
   "metadata": {},
   "outputs": [
    {
     "name": "stdout",
     "output_type": "stream",
     "text": [
      "6\n"
     ]
    }
   ],
   "source": [
    "y = lambda x,y: x*y\n",
    "print(y(3,2))"
   ]
  },
  {
   "cell_type": "markdown",
   "id": "5155a817",
   "metadata": {},
   "source": [
    "# zip functions"
   ]
  },
  {
   "cell_type": "code",
   "execution_count": null,
   "id": "2d0ce1e4",
   "metadata": {},
   "outputs": [
    {
     "name": "stdout",
     "output_type": "stream",
     "text": [
      "[('shreya', 90), ('shraddha', 50)]\n",
      "['shreya', 'shraddha']\n",
      "[90, 50]\n"
     ]
    }
   ],
   "source": [
    "student = ['shreya','shraddha']\n",
    "marks = [90,50]\n",
    "zipped_list = list(zip(student,marks))      #zips the student to corresponding marks\n",
    "print(zipped_list)\n",
    "\n",
    "#to unzip the values, use star(*) operator\n",
    "\n",
    "stud,mrks = zip(*zipped_list)  #to unzip\n",
    "#to print list of students and marks\n",
    "print(list(stud))\n",
    "print(list(mrks))"
   ]
  },
  {
   "cell_type": "markdown",
   "id": "89f3fcac",
   "metadata": {},
   "source": [
    "# map function"
   ]
  },
  {
   "cell_type": "code",
   "execution_count": null,
   "id": "a90b73d5",
   "metadata": {},
   "outputs": [
    {
     "name": "stdout",
     "output_type": "stream",
     "text": [
      "[4, 9, 16, 25]\n"
     ]
    }
   ],
   "source": [
    "def sq(x):\n",
    "    return x*x\n",
    "\n",
    "l = [2,3,4,5]\n",
    "print(list(map(sq,l)))   #applies the function sq to all the"
   ]
  },
  {
   "cell_type": "markdown",
   "id": "5663eaff",
   "metadata": {},
   "source": [
    "# filter function"
   ]
  },
  {
   "cell_type": "code",
   "execution_count": null,
   "id": "79d28e8d",
   "metadata": {},
   "outputs": [
    {
     "name": "stdout",
     "output_type": "stream",
     "text": [
      "[2, 4]\n"
     ]
    }
   ],
   "source": [
    "def even(y):\n",
    "    return y%2==0\n",
    "\n",
    "l = [2,3,4,5]\n",
    "print(list(filter(even,l)))   #applies all the elements of the iterable and adds it to the filter if it satisfies the function"
   ]
  },
  {
   "cell_type": "markdown",
   "id": "3b8f26c1",
   "metadata": {},
   "source": [
    "# list comprehension\n",
    "used to create a list"
   ]
  },
  {
   "cell_type": "code",
   "execution_count": null,
   "id": "d92670a5",
   "metadata": {},
   "outputs": [
    {
     "data": {
      "text/plain": [
       "[4, 16]"
      ]
     },
     "execution_count": 452,
     "metadata": {},
     "output_type": "execute_result"
    }
   ],
   "source": [
    "l = [2,3,4,5]\n",
    "#creates a list of the square of the even numbers in the original list\n",
    "new_list = [x*x for x in l if x%2==0]\n",
    "new_list"
   ]
  },
  {
   "cell_type": "markdown",
   "id": "2809d5e8",
   "metadata": {},
   "source": [
    "# set comprehension"
   ]
  },
  {
   "cell_type": "code",
   "execution_count": null,
   "id": "e059b484",
   "metadata": {},
   "outputs": [
    {
     "data": {
      "text/plain": [
       "{0, 1, 4}"
      ]
     },
     "execution_count": 453,
     "metadata": {},
     "output_type": "execute_result"
    }
   ],
   "source": [
    "#creates a set of the square of the even numbers in the original list\n",
    "new_set = {x*x for x in range(0,3)}\n",
    "new_set"
   ]
  },
  {
   "cell_type": "markdown",
   "id": "0ce69cd1",
   "metadata": {},
   "source": [
    "# dictionary comprehension"
   ]
  },
  {
   "cell_type": "code",
   "execution_count": null,
   "id": "dc1933a3",
   "metadata": {},
   "outputs": [
    {
     "data": {
      "text/plain": [
       "{0: 0, 1: 1, 2: 4}"
      ]
     },
     "execution_count": 454,
     "metadata": {},
     "output_type": "execute_result"
    }
   ],
   "source": [
    "#creates a set of the square of the even numbers in the original list\n",
    "new_d = {x:x*x for x in range(0,3)}\n",
    "new_d"
   ]
  },
  {
   "cell_type": "markdown",
   "id": "19eaeea0",
   "metadata": {},
   "source": [
    "# aggregate functions\n",
    "\n",
    "multiple values grouped to a single summary value"
   ]
  },
  {
   "cell_type": "code",
   "execution_count": null,
   "id": "39950321",
   "metadata": {},
   "outputs": [
    {
     "name": "stdout",
     "output_type": "stream",
     "text": [
      "7\n",
      "1\n",
      "25\n"
     ]
    }
   ],
   "source": [
    "l = [1,2,5,4,6,7]\n",
    "\n",
    "print(max(l))\n",
    "print(min(l))\n",
    "print(sum(l))"
   ]
  },
  {
   "cell_type": "markdown",
   "id": "0812c99d",
   "metadata": {},
   "source": [
    "## using statistics module"
   ]
  },
  {
   "cell_type": "code",
   "execution_count": null,
   "id": "6fd09190",
   "metadata": {},
   "outputs": [
    {
     "name": "stdout",
     "output_type": "stream",
     "text": [
      "4.166666666666667\n",
      "1\n",
      "4.5\n"
     ]
    }
   ],
   "source": [
    "import statistics as s\n",
    "\n",
    "l = [1,2,5,4,6,7]\n",
    "\n",
    "#syntax import.function(list_argument)\n",
    "\n",
    "print(s.mean(l))\n",
    "print(s.mode(l))\n",
    "print(s.median(l))"
   ]
  },
  {
   "cell_type": "markdown",
   "id": "633c1c3a",
   "metadata": {},
   "source": [
    "# analytical functions\n",
    "\n",
    "eval -> treats the string like mathematical expression and returns integer (used to evaluate mathematical expressions)<br>\n",
    "sort ->ascending or descending<br>\n",
    "len <br>\n",
    "factorial -> import math<br>"
   ]
  },
  {
   "cell_type": "code",
   "execution_count": null,
   "id": "138675a1",
   "metadata": {},
   "outputs": [
    {
     "data": {
      "text/plain": [
       "23"
      ]
     },
     "execution_count": 457,
     "metadata": {},
     "output_type": "execute_result"
    }
   ],
   "source": [
    "x = 5\n",
    "eval(\"x*4+3\")"
   ]
  },
  {
   "cell_type": "code",
   "execution_count": null,
   "id": "8aa920f4",
   "metadata": {},
   "outputs": [
    {
     "data": {
      "text/plain": [
       "[1, 2, 4, 6, 8, 9]"
      ]
     },
     "execution_count": 458,
     "metadata": {},
     "output_type": "execute_result"
    }
   ],
   "source": [
    "l = [1,4,6,2,8,9]\n",
    "l.sort(reverse=False)\n",
    "l"
   ]
  },
  {
   "cell_type": "code",
   "execution_count": null,
   "id": "04b51978",
   "metadata": {},
   "outputs": [
    {
     "data": {
      "text/plain": [
       "[9, 8, 6, 4, 2, 1]"
      ]
     },
     "execution_count": 459,
     "metadata": {},
     "output_type": "execute_result"
    }
   ],
   "source": [
    "l = [1,4,6,2,8,9]    #if reverse is set to true prints list in descending order\n",
    "l.sort(reverse=True)\n",
    "l"
   ]
  },
  {
   "cell_type": "code",
   "execution_count": null,
   "id": "87a90e4a",
   "metadata": {},
   "outputs": [
    {
     "data": {
      "text/plain": [
       "[1, 2, 4, 6, 8, 9]"
      ]
     },
     "execution_count": 460,
     "metadata": {},
     "output_type": "execute_result"
    }
   ],
   "source": [
    "l.sort()\n",
    "l"
   ]
  },
  {
   "cell_type": "code",
   "execution_count": null,
   "id": "9aef8255",
   "metadata": {},
   "outputs": [
    {
     "name": "stdout",
     "output_type": "stream",
     "text": [
      "24\n"
     ]
    }
   ],
   "source": [
    "import math\n",
    "print(math.factorial(4))"
   ]
  },
  {
   "cell_type": "markdown",
   "id": "95b18b2b",
   "metadata": {},
   "source": [
    "# recursion"
   ]
  },
  {
   "cell_type": "code",
   "execution_count": null,
   "id": "7b5ca72a",
   "metadata": {},
   "outputs": [
    {
     "data": {
      "text/plain": [
       "120"
      ]
     },
     "execution_count": 462,
     "metadata": {},
     "output_type": "execute_result"
    }
   ],
   "source": [
    "#factorial\n",
    "\n",
    "def factorial(x):\n",
    "    if(x==1):\n",
    "        return 1\n",
    "    else:\n",
    "        return x*factorial(x-1)\n",
    "factorial(5)"
   ]
  },
  {
   "cell_type": "code",
   "execution_count": 463,
   "id": "7f929d58",
   "metadata": {},
   "outputs": [
    {
     "name": "stdout",
     "output_type": "stream",
     "text": [
      "0\n",
      "1\n",
      "1\n",
      "2\n",
      "3\n",
      "5\n",
      "8\n",
      "13\n",
      "21\n"
     ]
    }
   ],
   "source": [
    "#fibonacci\n",
    "\n",
    "def fibonacci(x):\n",
    "    if(x==1 or x==0):\n",
    "        return x\n",
    "    else:\n",
    "        return fibonacci(x-1)+fibonacci(x-2)\n",
    "for i in range(0,9):\n",
    "    print(fibonacci(i))"
   ]
  },
  {
   "cell_type": "markdown",
   "id": "6ef28e13",
   "metadata": {},
   "source": [
    "# classes and objects\n",
    "\n",
    "__ -> it refers to special functions (double underscore in start and end)"
   ]
  },
  {
   "cell_type": "code",
   "execution_count": 464,
   "id": "8e9bd3b4",
   "metadata": {},
   "outputs": [
    {
     "name": "stdout",
     "output_type": "stream",
     "text": [
      "30\n"
     ]
    }
   ],
   "source": [
    "#creating a class\n",
    "class Person:\n",
    "    #initialising using constructor \n",
    "    #self is used to refer to that insatnce of the class \n",
    "    #self should be the first argument\n",
    "    def __init__(self,name,age):\n",
    "        self.name = name\n",
    "        self.age = age\n",
    "        \n",
    "#creating a class object\n",
    "p1 = Person('Sam',30)\n",
    "\n",
    "#refering to attributes of a class\n",
    "print(p1.age)\n",
    "\n",
    "#deleting an attribute\n",
    "# del p1.age\n",
    "# print(p1.age)\n",
    "\n",
    "#deleting the object\n",
    "# del p1\n",
    "# print(p1)\n",
    "\n",
    "# NameError: name 'p1' is not defined"
   ]
  },
  {
   "cell_type": "markdown",
   "id": "19500f55",
   "metadata": {},
   "source": [
    "# inheritance"
   ]
  },
  {
   "cell_type": "code",
   "execution_count": 465,
   "id": "b6d532d6",
   "metadata": {},
   "outputs": [
    {
     "name": "stdout",
     "output_type": "stream",
     "text": [
      "Sam 40\n"
     ]
    }
   ],
   "source": [
    "#parent\n",
    "class Person:\n",
    "    def __init__(self,name,age):\n",
    "        self.name = name\n",
    "        self.age = age\n",
    "    def display(self):\n",
    "        print(self.name,self.age)\n",
    "        \n",
    "p1 = Person('Sam',40)\n",
    "p1.display()"
   ]
  },
  {
   "cell_type": "code",
   "execution_count": 466,
   "id": "cef3b249",
   "metadata": {},
   "outputs": [
    {
     "name": "stdout",
     "output_type": "stream",
     "text": [
      "Kiran 17\n"
     ]
    }
   ],
   "source": [
    "#sending the superclass as an argument for the class definition of subclass\n",
    "#can be used to inherit\n",
    "#super is used to refer to parent class object\n",
    "class student(Person):\n",
    "    def __init__(self,name,age):\n",
    "        super().__init__(name,age)\n",
    "\n",
    "s1 = student(\"Kiran\",17)\n",
    "s1.display()"
   ]
  },
  {
   "cell_type": "markdown",
   "id": "ca7fa2f2",
   "metadata": {},
   "source": [
    "# encapsulation -> data hiding\n",
    "\n",
    "process of wrapping variables and methods to a single entity<br>\n",
    "restricts direct access to method and variables<br>\n",
    "private methods and variables of the class is prefixed by _ or __<br>\n",
    "protects from unwanted access<br>\n",
    "private varaibles cannot be modified<br>"
   ]
  },
  {
   "cell_type": "code",
   "execution_count": 467,
   "id": "c43afaf1",
   "metadata": {},
   "outputs": [
    {
     "name": "stdout",
     "output_type": "stream",
     "text": [
      "Sam 40\n",
      "Sam 40\n"
     ]
    }
   ],
   "source": [
    "class Person:\n",
    "    def __init__(self,name,_age):\n",
    "        self.name = name\n",
    "        self._age = _age\n",
    "    def display(self):\n",
    "        print(self.name,self._age)\n",
    "        \n",
    "p1 = Person('Sam',40)\n",
    "p1.display()\n",
    "\n",
    "p1.age = 20       #note no underscore while modifying\n",
    "p1.display()\n",
    "#the value of a private variable cannot be modified\n",
    "\n",
    "#use set/get methods to access a variable"
   ]
  },
  {
   "cell_type": "markdown",
   "id": "e9bb6084",
   "metadata": {},
   "source": [
    "# polymorphism\n",
    "\n",
    "using a method in many forms"
   ]
  },
  {
   "cell_type": "code",
   "execution_count": 468,
   "id": "ecba6cc9",
   "metadata": {},
   "outputs": [
    {
     "data": {
      "text/plain": [
       "'A'"
      ]
     },
     "execution_count": 468,
     "metadata": {},
     "output_type": "execute_result"
    }
   ],
   "source": [
    "class A:\n",
    "    def value(self):\n",
    "        return 'A'\n",
    "\n",
    "class B:\n",
    "    def value(self):\n",
    "        return 'B'\n",
    "    \n",
    "class C:\n",
    "    def value(self):\n",
    "        return 'C'\n",
    "\n",
    "#common interface\n",
    "def interface_common(type):\n",
    "    return type.value()\n",
    "\n",
    "a = A()\n",
    "b = B()\n",
    "c = C()\n",
    "\n",
    "interface_common(a)"
   ]
  },
  {
   "cell_type": "markdown",
   "id": "e2e34ff1",
   "metadata": {},
   "source": [
    "# datetime\n",
    "\n",
    "works with dates and time <br>\n",
    "datetime() class -> requires 3 parameters(year,month,day)<br>\n",
    "furthur classified into date class,time class, datetime class, timedelta class<br>"
   ]
  },
  {
   "cell_type": "code",
   "execution_count": 469,
   "id": "1bbf2b0e",
   "metadata": {},
   "outputs": [
    {
     "name": "stdout",
     "output_type": "stream",
     "text": [
      "2012-06-03 00:00:00\n"
     ]
    }
   ],
   "source": [
    "#importing date and time\n",
    "import datetime\n",
    "\n",
    "x = datetime.datetime(2012,6,3)\n",
    "print(x)"
   ]
  },
  {
   "cell_type": "markdown",
   "id": "64bc8eeb",
   "metadata": {},
   "source": [
    "# date class\n",
    "3 mandatory attributes -> year month date <br>\n",
    "if argument is not of integer type -> TypeError is raised <br>\n",
    "else if argument is not of the required constraints ValueError is raised <br>\n",
    "\n",
    "constraints<br>\n",
    "1. date should be of yyyy-mm-dd format"
   ]
  },
  {
   "cell_type": "code",
   "execution_count": 470,
   "id": "94755972",
   "metadata": {},
   "outputs": [
    {
     "data": {
      "text/plain": [
       "datetime.date(2022, 1, 8)"
      ]
     },
     "execution_count": 470,
     "metadata": {},
     "output_type": "execute_result"
    }
   ],
   "source": [
    "from datetime import date\n",
    "\n",
    "date.today()  #printing todays date"
   ]
  },
  {
   "cell_type": "code",
   "execution_count": 471,
   "id": "5169e5ee",
   "metadata": {},
   "outputs": [
    {
     "name": "stdout",
     "output_type": "stream",
     "text": [
      "2021-05-03\n"
     ]
    }
   ],
   "source": [
    "my_date = date(year=2021,month=5,day=3)  #converting a date to a string\n",
    "print(my_date)"
   ]
  },
  {
   "cell_type": "code",
   "execution_count": 472,
   "id": "40950c38",
   "metadata": {},
   "outputs": [
    {
     "data": {
      "text/plain": [
       "1"
      ]
     },
     "execution_count": 472,
     "metadata": {},
     "output_type": "execute_result"
    }
   ],
   "source": [
    "date.today().month   #to access the month of todays date"
   ]
  },
  {
   "cell_type": "markdown",
   "id": "b03e81ee",
   "metadata": {},
   "source": [
    "# time class\n",
    "\n",
    "4 arguments -> hour,min,second,microsecond <br>\n",
    "all are optional <br>"
   ]
  },
  {
   "cell_type": "code",
   "execution_count": 473,
   "id": "1bf396cc",
   "metadata": {},
   "outputs": [
    {
     "data": {
      "text/plain": [
       "datetime.time(12, 30, 30)"
      ]
     },
     "execution_count": 473,
     "metadata": {},
     "output_type": "execute_result"
    }
   ],
   "source": [
    "from datetime import time\n",
    "\n",
    "mytime = time(hour=12,minute=30,second=30)\n",
    "mytime"
   ]
  },
  {
   "cell_type": "code",
   "execution_count": 474,
   "id": "3bd5ee18",
   "metadata": {},
   "outputs": [
    {
     "data": {
      "text/plain": [
       "datetime.time(0, 50)"
      ]
     },
     "execution_count": 474,
     "metadata": {},
     "output_type": "execute_result"
    }
   ],
   "source": [
    "mytime = time(minute = 50)\n",
    "mytime"
   ]
  },
  {
   "cell_type": "markdown",
   "id": "bf2f68d8",
   "metadata": {},
   "source": [
    "# datetime class\n",
    "info on both day and time<br>\n",
    "year,month,day are mandatory<br>\n",
    "others are optional<br>"
   ]
  },
  {
   "cell_type": "code",
   "execution_count": 475,
   "id": "6148bb0c",
   "metadata": {},
   "outputs": [
    {
     "name": "stdout",
     "output_type": "stream",
     "text": [
      "1990-04-10 00:00:00\n",
      "1990-04-10 12:44:20.043291\n"
     ]
    }
   ],
   "source": [
    "from datetime import datetime\n",
    "\n",
    "a = datetime(year=1990,month=4,day=10)\n",
    "print(a)\n",
    "\n",
    "a = datetime(year=1990,month=4,day=10,hour=12,minute=44,second=20,microsecond=43291)\n",
    "print(a)"
   ]
  },
  {
   "cell_type": "code",
   "execution_count": 476,
   "id": "13fad6ef",
   "metadata": {},
   "outputs": [
    {
     "data": {
      "text/plain": [
       "datetime.datetime(2022, 1, 8, 17, 39, 22, 908728)"
      ]
     },
     "execution_count": 476,
     "metadata": {},
     "output_type": "execute_result"
    }
   ],
   "source": [
    "datetime.now()"
   ]
  },
  {
   "cell_type": "code",
   "execution_count": 477,
   "id": "52873a91",
   "metadata": {},
   "outputs": [
    {
     "data": {
      "text/plain": [
       "1"
      ]
     },
     "execution_count": 477,
     "metadata": {},
     "output_type": "execute_result"
    }
   ],
   "source": [
    "datetime.now().month"
   ]
  },
  {
   "cell_type": "markdown",
   "id": "86c6f518",
   "metadata": {},
   "source": [
    "# time delta class (used for date manipulation)\n",
    "\n",
    "calculates difference in dates"
   ]
  },
  {
   "cell_type": "code",
   "execution_count": 478,
   "id": "6ddda058",
   "metadata": {},
   "outputs": [
    {
     "name": "stdout",
     "output_type": "stream",
     "text": [
      "2022-04-08 17:39:23.382631\n",
      "2021-10-10 17:39:23.382631\n"
     ]
    }
   ],
   "source": [
    "from datetime import datetime,timedelta\n",
    "\n",
    "today = datetime.now()\n",
    "future = today + timedelta(days=90)\n",
    "print(future)\n",
    "\n",
    "today = datetime.now()\n",
    "past = today - timedelta(days=90)\n",
    "print(past)"
   ]
  },
  {
   "cell_type": "markdown",
   "id": "aa36f957",
   "metadata": {},
   "source": [
    "# regular expressions -> used for web scraping,text mining and natural language processing\n",
    "\n",
    "sequence of special characters that match or find other strings/sets of strings <br>\n",
    "re -> package used to work with regular expressions\n",
    "metacharacters -> building blocks for regular expressions, special symbol"
   ]
  },
  {
   "cell_type": "code",
   "execution_count": 479,
   "id": "76ea07df",
   "metadata": {},
   "outputs": [
    {
     "data": {
      "text/plain": [
       "<re.Match object; span=(0, 1), match='a'>"
      ]
     },
     "execution_count": 479,
     "metadata": {},
     "output_type": "execute_result"
    }
   ],
   "source": [
    "import re\n",
    "#square brackets -> used to match a set of characters\n",
    "\n",
    "#re.search(pattern,string)\n",
    "\n",
    "s = 'ab'\n",
    "re.search('[abc]',s)"
   ]
  },
  {
   "cell_type": "code",
   "execution_count": 480,
   "id": "ee410d8e",
   "metadata": {},
   "outputs": [
    {
     "data": {
      "text/plain": [
       "<re.Match object; span=(0, 1), match='a'>"
      ]
     },
     "execution_count": 480,
     "metadata": {},
     "output_type": "execute_result"
    }
   ],
   "source": [
    "#period -> matches a single character except \\n\n",
    "\n",
    "s = 'ac'\n",
    "re.search('.',s)"
   ]
  },
  {
   "cell_type": "code",
   "execution_count": 481,
   "id": "5b4f308a",
   "metadata": {},
   "outputs": [
    {
     "name": "stdout",
     "output_type": "stream",
     "text": [
      "<re.Match object; span=(0, 1), match='m'>\n"
     ]
    }
   ],
   "source": [
    "#caret ^ -> if string starts with certain character\n",
    "\n",
    "s = 'mumbai'\n",
    "x = re.search('^m',s)\n",
    "print(x)"
   ]
  },
  {
   "cell_type": "code",
   "execution_count": 482,
   "id": "95c1202c",
   "metadata": {},
   "outputs": [
    {
     "name": "stdout",
     "output_type": "stream",
     "text": [
      "<re.Match object; span=(5, 6), match='a'>\n",
      "None\n"
     ]
    }
   ],
   "source": [
    "#dollar symbol -> used to check if string ends with certain character\n",
    "\n",
    "a = re.search('a$','Shreya')\n",
    "print(a)\n",
    "b = re.search('a$','Sriram')  #no match\n",
    "print(b)"
   ]
  },
  {
   "cell_type": "code",
   "execution_count": 483,
   "id": "a78dd2b1",
   "metadata": {},
   "outputs": [
    {
     "name": "stdout",
     "output_type": "stream",
     "text": [
      "<re.Match object; span=(0, 2), match='ma'>\n",
      "<re.Match object; span=(2, 4), match='ma'>\n"
     ]
    }
   ],
   "source": [
    "#star symbol -> matches 0 or more occurences of the left pattern\n",
    "#plus -> matches 1 or more occurences of the left pattern\n",
    "\n",
    "a = re.search('ma*','man')\n",
    "print(a)\n",
    "\n",
    "b = re.search('ma+','woman')\n",
    "print(b)"
   ]
  },
  {
   "cell_type": "code",
   "execution_count": 484,
   "id": "74d76e91",
   "metadata": {},
   "outputs": [
    {
     "name": "stdout",
     "output_type": "stream",
     "text": [
      "None\n",
      "<re.Match object; span=(0, 2), match='aa'>\n"
     ]
    }
   ],
   "source": [
    "#braces -> used to mention the exact number of matches\n",
    "\n",
    "a = re.search('a{2}','abc')  #two occurences of a not found\n",
    "print(a)\n",
    "\n",
    "b = re.search('a{2}','aab')\n",
    "print(b)"
   ]
  },
  {
   "cell_type": "code",
   "execution_count": 485,
   "id": "1291999d",
   "metadata": {},
   "outputs": [
    {
     "name": "stdout",
     "output_type": "stream",
     "text": [
      "<re.Match object; span=(4, 5), match='a'>\n",
      "None\n"
     ]
    }
   ],
   "source": [
    "# vertical bar -> used to either/or\n",
    "\n",
    "a = re.search('a|b','Sriram')\n",
    "print(a)\n",
    "\n",
    "b = re.search('e|f','Sriram')\n",
    "print(b)"
   ]
  },
  {
   "cell_type": "code",
   "execution_count": 486,
   "id": "5630c9f7",
   "metadata": {},
   "outputs": [
    {
     "name": "stdout",
     "output_type": "stream",
     "text": [
      "<re.Match object; span=(0, 4), match='abab'>\n",
      "None\n"
     ]
    }
   ],
   "source": [
    "#parenthesis -> used to group certain characters as a group\n",
    "a = re.search('(ab){2}','abab')\n",
    "print(a)\n",
    "\n",
    "b = re.search('(ab){2}','aba')\n",
    "print(b)"
   ]
  },
  {
   "cell_type": "code",
   "execution_count": 487,
   "id": "d8ef713f",
   "metadata": {},
   "outputs": [
    {
     "name": "stdout",
     "output_type": "stream",
     "text": [
      "<re.Match object; span=(0, 2), match='$a'>\n"
     ]
    }
   ],
   "source": [
    "#backslash ->  used to escape all characters including metacharacters\n",
    "\n",
    "a = re.search('\\$a','$ab')\n",
    "print(a)"
   ]
  },
  {
   "cell_type": "markdown",
   "id": "b4315000",
   "metadata": {},
   "source": [
    "# built in functions for regular expressions\n",
    "\n",
    "findall() -> used to search for all occurences of the sub string in the string <br>\n",
    "search()  -> looks for pattern and only prints first occurence else none<br>\n",
    "split()   -> splits the string based on the occurence of pattern<br>\n",
    "sub()     -> replaces matches with string of our choice<br>"
   ]
  },
  {
   "cell_type": "code",
   "execution_count": 488,
   "id": "a0dca375",
   "metadata": {},
   "outputs": [
    {
     "name": "stdout",
     "output_type": "stream",
     "text": [
      "['S', 'S']\n"
     ]
    }
   ],
   "source": [
    "#findall()\n",
    "\n",
    "s = 'Shreya S'\n",
    "x = re.findall('S',s)  #finds all occurences of s in string\n",
    "print(x)"
   ]
  },
  {
   "cell_type": "code",
   "execution_count": 489,
   "id": "579b2d76",
   "metadata": {},
   "outputs": [
    {
     "name": "stdout",
     "output_type": "stream",
     "text": [
      "<re.Match object; span=(0, 1), match='S'>\n"
     ]
    }
   ],
   "source": [
    "#search()\n",
    "\n",
    "s = 'Shreya S'\n",
    "x = re.search('S',s)  #finds first occurences of s in string\n",
    "print(x)"
   ]
  },
  {
   "cell_type": "code",
   "execution_count": 490,
   "id": "9c418a6d",
   "metadata": {},
   "outputs": [
    {
     "name": "stdout",
     "output_type": "stream",
     "text": [
      "['I', 'am', 'good']\n"
     ]
    }
   ],
   "source": [
    "#split()\n",
    "s = 'I am good'\n",
    "x = re.split('\\s',s)  #'/s' refers to whitespace character \n",
    "print(x)"
   ]
  },
  {
   "cell_type": "code",
   "execution_count": 491,
   "id": "2437f099",
   "metadata": {},
   "outputs": [
    {
     "name": "stdout",
     "output_type": "stream",
     "text": [
      "I\tam\tgood\n"
     ]
    }
   ],
   "source": [
    "#sub()   sub(pattern,replacetext,string)\n",
    "#replacing all spaces with tabs \n",
    "s = 'I am good'\n",
    "x = re.sub('\\s','\\t',s)  #'/s' refers to whitespace character \n",
    "print(x)"
   ]
  },
  {
   "cell_type": "markdown",
   "id": "ce676ee3",
   "metadata": {},
   "source": [
    "# special characters for regular expressions\n",
    "\n",
    "'\\A'  -> if characters specified are at the beginning of the string <br>\n",
    "'\\b'  -> if characters specified are at the beginning or end <br>\n",
    "'\\B'  -> if characters are found anywhere except beginning and end <br>\n",
    "'\\D'  -> if characters are not digits <br>\n",
    "'\\d'  -> if characters are digits <br>\n",
    "'\\s'  -> if whitespace characters are found <br>"
   ]
  },
  {
   "cell_type": "code",
   "execution_count": 492,
   "id": "36b25d1e",
   "metadata": {},
   "outputs": [],
   "source": [
    "import re"
   ]
  },
  {
   "cell_type": "code",
   "execution_count": 493,
   "id": "13baab68",
   "metadata": {},
   "outputs": [
    {
     "name": "stdout",
     "output_type": "stream",
     "text": [
      "[]\n",
      "['I']\n"
     ]
    }
   ],
   "source": [
    "#'\\A'\n",
    "s = 'I am good'\n",
    "x = re.findall('\\AThe',s)\n",
    "print(x)\n",
    "\n",
    "x = re.findall('\\AI',s)\n",
    "print(x)"
   ]
  },
  {
   "cell_type": "code",
   "execution_count": 494,
   "id": "5e3d98bc",
   "metadata": {},
   "outputs": [
    {
     "name": "stdout",
     "output_type": "stream",
     "text": [
      "[]\n",
      "['I']\n"
     ]
    }
   ],
   "source": [
    "#'\\b'\n",
    "s = 'I am good'\n",
    "x = re.findall(r'\\bThe',s)\n",
    "print(x)\n",
    "\n",
    "x = re.findall(r'\\bI',s)  #note the r\n",
    "print(x)"
   ]
  },
  {
   "cell_type": "code",
   "execution_count": 495,
   "id": "866233de",
   "metadata": {},
   "outputs": [
    {
     "name": "stdout",
     "output_type": "stream",
     "text": [
      "[]\n",
      "['m']\n"
     ]
    }
   ],
   "source": [
    "#'\\B'\n",
    "s = 'I am good'\n",
    "x = re.findall(r'\\BThe',s)\n",
    "print(x)\n",
    "\n",
    "x = re.findall(r'\\Bm',s)  #note the r\n",
    "print(x)"
   ]
  },
  {
   "cell_type": "code",
   "execution_count": 496,
   "id": "425547b9",
   "metadata": {},
   "outputs": [
    {
     "name": "stdout",
     "output_type": "stream",
     "text": [
      "['I', ' ', 'a', 'm', ' ', 'g', 'o', 'o', 'd']\n",
      "['s', 'e']\n"
     ]
    }
   ],
   "source": [
    "#'\\D'\n",
    "s = 'I am good'\n",
    "x = re.findall('\\D',s)\n",
    "print(x)\n",
    "\n",
    "s = 'se3492'\n",
    "x = re.findall('\\D',s)\n",
    "print(x)"
   ]
  },
  {
   "cell_type": "code",
   "execution_count": 497,
   "id": "b1fa884a",
   "metadata": {},
   "outputs": [
    {
     "name": "stdout",
     "output_type": "stream",
     "text": [
      "[]\n",
      "['3', '4', '9', '2']\n"
     ]
    }
   ],
   "source": [
    "#'\\d'\n",
    "\n",
    "s = 'I am good'\n",
    "x = re.findall('\\d',s)\n",
    "print(x)\n",
    "\n",
    "s = 'se3492'\n",
    "x = re.findall('\\d',s)\n",
    "print(x)"
   ]
  },
  {
   "cell_type": "code",
   "execution_count": 498,
   "id": "fe73ef38",
   "metadata": {},
   "outputs": [
    {
     "name": "stdout",
     "output_type": "stream",
     "text": [
      "[' ', ' ']\n",
      "[]\n"
     ]
    }
   ],
   "source": [
    "#'\\s'\n",
    "\n",
    "s = 'I am good'\n",
    "x = re.findall('\\s',s)\n",
    "print(x)\n",
    "\n",
    "s = 'se3492'\n",
    "x = re.findall('\\s',s)\n",
    "print(x)"
   ]
  },
  {
   "cell_type": "markdown",
   "id": "173aede2",
   "metadata": {},
   "source": [
    "# sets for regular expressions\n",
    "\n",
    "set of characters inside a pair of square brackets"
   ]
  },
  {
   "cell_type": "code",
   "execution_count": 499,
   "id": "dd22da29",
   "metadata": {},
   "outputs": [
    {
     "name": "stdout",
     "output_type": "stream",
     "text": [
      "['a', 'g']\n"
     ]
    }
   ],
   "source": [
    "s = 'I am good'\n",
    "x = re.findall('[arg]',s)  #to find the characters in a set\n",
    "print(x)"
   ]
  },
  {
   "cell_type": "code",
   "execution_count": 500,
   "id": "c65696a0",
   "metadata": {},
   "outputs": [
    {
     "name": "stdout",
     "output_type": "stream",
     "text": [
      "['a', 'g', 'd']\n",
      "['2', '3', '1']\n",
      "['I', 'a', 'm', 'g', 'o', 'o', 'd']\n"
     ]
    }
   ],
   "source": [
    "s = 'I am good'\n",
    "x = re.findall('[a-g]',s)  #to find the range of characters\n",
    "print(x)\n",
    "\n",
    "s = 'I am good 231'\n",
    "x = re.findall('[0-9]',s)  #to find the numbers\n",
    "print(x)\n",
    "\n",
    "s = 'I am good'\n",
    "x = re.findall('[a-zA-Z]',s)  #to find all alphabets\n",
    "print(x)"
   ]
  },
  {
   "cell_type": "code",
   "execution_count": 501,
   "id": "638a1093",
   "metadata": {},
   "outputs": [
    {
     "name": "stdout",
     "output_type": "stream",
     "text": [
      "['I', ' ', 'm', ' ', 'o', 'o', 'd']\n"
     ]
    }
   ],
   "source": [
    "s = 'I am good'\n",
    "x = re.findall('[^arg]',s)  #to find all the characters except those in a set\n",
    "print(x)"
   ]
  },
  {
   "cell_type": "code",
   "execution_count": 502,
   "id": "4df07657",
   "metadata": {},
   "outputs": [
    {
     "name": "stdout",
     "output_type": "stream",
     "text": [
      "['+']\n",
      "[]\n"
     ]
    }
   ],
   "source": [
    "# to find + in a string\n",
    "\n",
    "s = 'I love football+cricket'\n",
    "x = re.findall('[+]',s)\n",
    "print(x)\n",
    "\n",
    "s = 'I love football cricket'\n",
    "x = re.findall('[+]',s)\n",
    "print(x)"
   ]
  },
  {
   "cell_type": "markdown",
   "id": "9009d5fa",
   "metadata": {},
   "source": [
    "# numpy\n",
    "\n",
    "mathematical caluclations<br>\n",
    "faster than traditional python lists<br>\n",
    "frequently used in data science<br>"
   ]
  },
  {
   "cell_type": "code",
   "execution_count": 503,
   "id": "85afe1cb",
   "metadata": {},
   "outputs": [
    {
     "name": "stdout",
     "output_type": "stream",
     "text": [
      "[1 2 3]\n",
      "[1 2 3]\n",
      "[[1 2 3]\n",
      " [2 3 4]]\n",
      "2\n",
      "2\n"
     ]
    }
   ],
   "source": [
    "import numpy as np\n",
    "\n",
    "#creating 1-d array\n",
    "arr = np.array([1,2,3])\n",
    "print(arr)\n",
    "\n",
    "arr = np.array((1,2,3))\n",
    "print(arr)\n",
    "\n",
    "#creating 2-d array\n",
    "arr = np.array([[1,2,3],[2,3,4]])\n",
    "print(arr)\n",
    "\n",
    "#accessing array elements (starting index 0)\n",
    "arr = np.array([[1,2,3],[2,3,4]])\n",
    "print(arr[0,1])  #0th array 1st element\n",
    "\n",
    "arr = np.array((1,2,3))\n",
    "print(arr[1])"
   ]
  },
  {
   "cell_type": "markdown",
   "id": "d075527e",
   "metadata": {},
   "source": [
    "# mathematical operations using numpy\n",
    "trignometric <br>\n",
    "logarithmic <br>\n",
    "inverse <br>\n",
    "exponential <br>\n",
    "statistical <br>"
   ]
  },
  {
   "cell_type": "code",
   "execution_count": 504,
   "id": "e047fd37",
   "metadata": {},
   "outputs": [],
   "source": [
    "import numpy as np\n",
    "arr = np.array([1,2,3,4])\n",
    "arr2 = np.array([2,3,4,4])"
   ]
  },
  {
   "cell_type": "code",
   "execution_count": 505,
   "id": "97352232",
   "metadata": {},
   "outputs": [
    {
     "data": {
      "text/plain": [
       "array([ 0.54030231, -0.41614684, -0.9899925 , -0.65364362])"
      ]
     },
     "execution_count": 505,
     "metadata": {},
     "output_type": "execute_result"
    }
   ],
   "source": [
    "#cosine of all elements of the array\n",
    "np.cos(arr)"
   ]
  },
  {
   "cell_type": "code",
   "execution_count": 506,
   "id": "828ac93d",
   "metadata": {},
   "outputs": [
    {
     "data": {
      "text/plain": [
       "array([0.        , 0.69314718, 1.09861229, 1.38629436])"
      ]
     },
     "execution_count": 506,
     "metadata": {},
     "output_type": "execute_result"
    }
   ],
   "source": [
    "#logarithmic \n",
    "np.log(arr)"
   ]
  },
  {
   "cell_type": "code",
   "execution_count": 507,
   "id": "71492df3",
   "metadata": {},
   "outputs": [
    {
     "name": "stdout",
     "output_type": "stream",
     "text": [
      "2.5\n",
      "2.5\n",
      "1.118033988749895\n"
     ]
    }
   ],
   "source": [
    "#statistical results\n",
    "print(np.mean(arr))\n",
    "\n",
    "print(np.median(arr))\n",
    "\n",
    "print(np.std(arr))  #standard deviation"
   ]
  },
  {
   "cell_type": "code",
   "execution_count": 508,
   "id": "88228e34",
   "metadata": {},
   "outputs": [
    {
     "data": {
      "text/plain": [
       "array([3, 5, 7, 8])"
      ]
     },
     "execution_count": 508,
     "metadata": {},
     "output_type": "execute_result"
    }
   ],
   "source": [
    "#addition,sub,mult of 2 arrays\n",
    "arr+arr2  #arrays should be of same size"
   ]
  },
  {
   "cell_type": "code",
   "execution_count": 509,
   "id": "248baa45",
   "metadata": {},
   "outputs": [
    {
     "data": {
      "text/plain": [
       "array([ 2.71828183,  7.3890561 , 20.08553692, 54.59815003])"
      ]
     },
     "execution_count": 509,
     "metadata": {},
     "output_type": "execute_result"
    }
   ],
   "source": [
    "np.exp(arr) #exponential values"
   ]
  },
  {
   "cell_type": "markdown",
   "id": "410419bb",
   "metadata": {},
   "source": [
    "# built in functions in numpy"
   ]
  },
  {
   "cell_type": "code",
   "execution_count": 510,
   "id": "fcb559db",
   "metadata": {},
   "outputs": [
    {
     "name": "stdout",
     "output_type": "stream",
     "text": [
      "[1. 1.]\n",
      "[[1. 1. 1.]\n",
      " [1. 1. 1.]]\n"
     ]
    }
   ],
   "source": [
    "#ones() -> creates an n-dimension array with all elements as 1\n",
    "import numpy as np\n",
    "\n",
    "a = np.ones(2)    #1d array with 2 ones\n",
    "print(a)\n",
    "\n",
    "a = np.ones((2,3))  #2 rows 3 columns of 1\n",
    "print(a)"
   ]
  },
  {
   "cell_type": "code",
   "execution_count": 511,
   "id": "cc2956c9",
   "metadata": {},
   "outputs": [
    {
     "name": "stdout",
     "output_type": "stream",
     "text": [
      "[0. 0.]\n",
      "[[0. 0.]\n",
      " [0. 0.]\n",
      " [0. 0.]]\n"
     ]
    }
   ],
   "source": [
    "#zeros() -> creates an n-dimension array with all elements as 0\n",
    "a = np.zeros(2)\n",
    "print(a)\n",
    "\n",
    "a = np.zeros((3,2))\n",
    "print(a)"
   ]
  },
  {
   "cell_type": "code",
   "execution_count": 512,
   "id": "a9016188",
   "metadata": {},
   "outputs": [
    {
     "data": {
      "text/plain": [
       "array([[1., 0.],\n",
       "       [0., 1.]])"
      ]
     },
     "execution_count": 512,
     "metadata": {},
     "output_type": "execute_result"
    }
   ],
   "source": [
    "#eye() -> returns an identity matrix of given dimension\n",
    "\n",
    "np.eye(2,2)  #2*2 identity matrix"
   ]
  },
  {
   "cell_type": "code",
   "execution_count": 513,
   "id": "44191634",
   "metadata": {},
   "outputs": [
    {
     "data": {
      "text/plain": [
       "array([1.3, 3.2, 4.1])"
      ]
     },
     "execution_count": 513,
     "metadata": {},
     "output_type": "execute_result"
    }
   ],
   "source": [
    "#round() -> rounds all values \n",
    "\n",
    "arr = [1.3445,3.2390,4.1225]\n",
    "np.round(arr,1)                       #rounds all values of array to one decimal place"
   ]
  },
  {
   "cell_type": "code",
   "execution_count": 514,
   "id": "e4db8965",
   "metadata": {},
   "outputs": [
    {
     "data": {
      "text/plain": [
       "array([ 2.,  6., 10.])"
      ]
     },
     "execution_count": 514,
     "metadata": {},
     "output_type": "execute_result"
    }
   ],
   "source": [
    "#linspace(m,n,x) -> generates x random values in the range m,n\n",
    "\n",
    "np.linspace(2,10,3)"
   ]
  },
  {
   "cell_type": "code",
   "execution_count": 515,
   "id": "70b1e916",
   "metadata": {},
   "outputs": [
    {
     "name": "stdout",
     "output_type": "stream",
     "text": [
      "[3 3 3]\n"
     ]
    }
   ],
   "source": [
    "#fill() -> fills the array of shape with default fill value\n",
    "arr = np.array([1,2,3])\n",
    "arr.fill(3)\n",
    "print(arr)"
   ]
  },
  {
   "cell_type": "code",
   "execution_count": 516,
   "id": "b1e1147a",
   "metadata": {},
   "outputs": [
    {
     "name": "stdout",
     "output_type": "stream",
     "text": [
      "[[1 2 3 4]\n",
      " [5 6 7 8]]\n"
     ]
    }
   ],
   "source": [
    "#reshaping -> changing the shape of the array (ie,number of elements in each dimesion)\n",
    "\n",
    "arr = np.array([1,2,3,4,5,6,7,8])\n",
    "#to reshape the array of size 8 to 2*4\n",
    "x = arr.reshape(2,4)\n",
    "print(x)"
   ]
  },
  {
   "cell_type": "markdown",
   "id": "a9031d06",
   "metadata": {},
   "source": [
    "# pandas"
   ]
  },
  {
   "cell_type": "markdown",
   "id": "08804c10",
   "metadata": {},
   "source": [
    "## reading csv file"
   ]
  },
  {
   "cell_type": "code",
   "execution_count": 517,
   "id": "42e15454",
   "metadata": {},
   "outputs": [
    {
     "data": {
      "text/html": [
       "<div>\n",
       "<style scoped>\n",
       "    .dataframe tbody tr th:only-of-type {\n",
       "        vertical-align: middle;\n",
       "    }\n",
       "\n",
       "    .dataframe tbody tr th {\n",
       "        vertical-align: top;\n",
       "    }\n",
       "\n",
       "    .dataframe thead th {\n",
       "        text-align: right;\n",
       "    }\n",
       "</style>\n",
       "<table border=\"1\" class=\"dataframe\">\n",
       "  <thead>\n",
       "    <tr style=\"text-align: right;\">\n",
       "      <th></th>\n",
       "      <th>Id</th>\n",
       "      <th>SepalLengthCm</th>\n",
       "      <th>SepalWidthCm</th>\n",
       "      <th>PetalLengthCm</th>\n",
       "      <th>PetalWidthCm</th>\n",
       "      <th>Species</th>\n",
       "    </tr>\n",
       "  </thead>\n",
       "  <tbody>\n",
       "    <tr>\n",
       "      <th>0</th>\n",
       "      <td>1</td>\n",
       "      <td>5.1</td>\n",
       "      <td>3.5</td>\n",
       "      <td>1.4</td>\n",
       "      <td>0.2</td>\n",
       "      <td>Iris-setosa</td>\n",
       "    </tr>\n",
       "    <tr>\n",
       "      <th>1</th>\n",
       "      <td>2</td>\n",
       "      <td>4.9</td>\n",
       "      <td>3.0</td>\n",
       "      <td>1.4</td>\n",
       "      <td>0.2</td>\n",
       "      <td>Iris-setosa</td>\n",
       "    </tr>\n",
       "    <tr>\n",
       "      <th>2</th>\n",
       "      <td>3</td>\n",
       "      <td>4.7</td>\n",
       "      <td>3.2</td>\n",
       "      <td>1.3</td>\n",
       "      <td>0.2</td>\n",
       "      <td>Iris-setosa</td>\n",
       "    </tr>\n",
       "    <tr>\n",
       "      <th>3</th>\n",
       "      <td>4</td>\n",
       "      <td>4.6</td>\n",
       "      <td>3.1</td>\n",
       "      <td>1.5</td>\n",
       "      <td>0.2</td>\n",
       "      <td>Iris-setosa</td>\n",
       "    </tr>\n",
       "    <tr>\n",
       "      <th>4</th>\n",
       "      <td>5</td>\n",
       "      <td>5.0</td>\n",
       "      <td>3.6</td>\n",
       "      <td>1.4</td>\n",
       "      <td>0.2</td>\n",
       "      <td>Iris-setosa</td>\n",
       "    </tr>\n",
       "    <tr>\n",
       "      <th>...</th>\n",
       "      <td>...</td>\n",
       "      <td>...</td>\n",
       "      <td>...</td>\n",
       "      <td>...</td>\n",
       "      <td>...</td>\n",
       "      <td>...</td>\n",
       "    </tr>\n",
       "    <tr>\n",
       "      <th>145</th>\n",
       "      <td>146</td>\n",
       "      <td>6.7</td>\n",
       "      <td>3.0</td>\n",
       "      <td>5.2</td>\n",
       "      <td>2.3</td>\n",
       "      <td>Iris-virginica</td>\n",
       "    </tr>\n",
       "    <tr>\n",
       "      <th>146</th>\n",
       "      <td>147</td>\n",
       "      <td>6.3</td>\n",
       "      <td>2.5</td>\n",
       "      <td>5.0</td>\n",
       "      <td>1.9</td>\n",
       "      <td>Iris-virginica</td>\n",
       "    </tr>\n",
       "    <tr>\n",
       "      <th>147</th>\n",
       "      <td>148</td>\n",
       "      <td>6.5</td>\n",
       "      <td>3.0</td>\n",
       "      <td>5.2</td>\n",
       "      <td>2.0</td>\n",
       "      <td>Iris-virginica</td>\n",
       "    </tr>\n",
       "    <tr>\n",
       "      <th>148</th>\n",
       "      <td>149</td>\n",
       "      <td>6.2</td>\n",
       "      <td>3.4</td>\n",
       "      <td>5.4</td>\n",
       "      <td>2.3</td>\n",
       "      <td>Iris-virginica</td>\n",
       "    </tr>\n",
       "    <tr>\n",
       "      <th>149</th>\n",
       "      <td>150</td>\n",
       "      <td>5.9</td>\n",
       "      <td>3.0</td>\n",
       "      <td>5.1</td>\n",
       "      <td>1.8</td>\n",
       "      <td>Iris-virginica</td>\n",
       "    </tr>\n",
       "  </tbody>\n",
       "</table>\n",
       "<p>150 rows × 6 columns</p>\n",
       "</div>"
      ],
      "text/plain": [
       "      Id  SepalLengthCm  SepalWidthCm  PetalLengthCm  PetalWidthCm  \\\n",
       "0      1            5.1           3.5            1.4           0.2   \n",
       "1      2            4.9           3.0            1.4           0.2   \n",
       "2      3            4.7           3.2            1.3           0.2   \n",
       "3      4            4.6           3.1            1.5           0.2   \n",
       "4      5            5.0           3.6            1.4           0.2   \n",
       "..   ...            ...           ...            ...           ...   \n",
       "145  146            6.7           3.0            5.2           2.3   \n",
       "146  147            6.3           2.5            5.0           1.9   \n",
       "147  148            6.5           3.0            5.2           2.0   \n",
       "148  149            6.2           3.4            5.4           2.3   \n",
       "149  150            5.9           3.0            5.1           1.8   \n",
       "\n",
       "            Species  \n",
       "0       Iris-setosa  \n",
       "1       Iris-setosa  \n",
       "2       Iris-setosa  \n",
       "3       Iris-setosa  \n",
       "4       Iris-setosa  \n",
       "..              ...  \n",
       "145  Iris-virginica  \n",
       "146  Iris-virginica  \n",
       "147  Iris-virginica  \n",
       "148  Iris-virginica  \n",
       "149  Iris-virginica  \n",
       "\n",
       "[150 rows x 6 columns]"
      ]
     },
     "execution_count": 517,
     "metadata": {},
     "output_type": "execute_result"
    }
   ],
   "source": [
    "import pandas as pd\n",
    "\n",
    "#store file in data\n",
    "#write file name in parathesis directly if present in same directory else write complete path\n",
    "data = pd.read_csv('csv/Iris.csv')  \n",
    "data"
   ]
  },
  {
   "cell_type": "code",
   "execution_count": 518,
   "id": "6c3858e0",
   "metadata": {},
   "outputs": [
    {
     "data": {
      "text/html": [
       "<div>\n",
       "<style scoped>\n",
       "    .dataframe tbody tr th:only-of-type {\n",
       "        vertical-align: middle;\n",
       "    }\n",
       "\n",
       "    .dataframe tbody tr th {\n",
       "        vertical-align: top;\n",
       "    }\n",
       "\n",
       "    .dataframe thead th {\n",
       "        text-align: right;\n",
       "    }\n",
       "</style>\n",
       "<table border=\"1\" class=\"dataframe\">\n",
       "  <thead>\n",
       "    <tr style=\"text-align: right;\">\n",
       "      <th></th>\n",
       "      <th>Id</th>\n",
       "      <th>SepalLengthCm</th>\n",
       "      <th>SepalWidthCm</th>\n",
       "      <th>PetalLengthCm</th>\n",
       "      <th>PetalWidthCm</th>\n",
       "      <th>Species</th>\n",
       "    </tr>\n",
       "  </thead>\n",
       "  <tbody>\n",
       "    <tr>\n",
       "      <th>0</th>\n",
       "      <td>1</td>\n",
       "      <td>5.1</td>\n",
       "      <td>3.5</td>\n",
       "      <td>1.4</td>\n",
       "      <td>0.2</td>\n",
       "      <td>Iris-setosa</td>\n",
       "    </tr>\n",
       "    <tr>\n",
       "      <th>1</th>\n",
       "      <td>2</td>\n",
       "      <td>4.9</td>\n",
       "      <td>3.0</td>\n",
       "      <td>1.4</td>\n",
       "      <td>0.2</td>\n",
       "      <td>Iris-setosa</td>\n",
       "    </tr>\n",
       "    <tr>\n",
       "      <th>2</th>\n",
       "      <td>3</td>\n",
       "      <td>4.7</td>\n",
       "      <td>3.2</td>\n",
       "      <td>1.3</td>\n",
       "      <td>0.2</td>\n",
       "      <td>Iris-setosa</td>\n",
       "    </tr>\n",
       "    <tr>\n",
       "      <th>3</th>\n",
       "      <td>4</td>\n",
       "      <td>4.6</td>\n",
       "      <td>3.1</td>\n",
       "      <td>1.5</td>\n",
       "      <td>0.2</td>\n",
       "      <td>Iris-setosa</td>\n",
       "    </tr>\n",
       "    <tr>\n",
       "      <th>4</th>\n",
       "      <td>5</td>\n",
       "      <td>5.0</td>\n",
       "      <td>3.6</td>\n",
       "      <td>1.4</td>\n",
       "      <td>0.2</td>\n",
       "      <td>Iris-setosa</td>\n",
       "    </tr>\n",
       "  </tbody>\n",
       "</table>\n",
       "</div>"
      ],
      "text/plain": [
       "   Id  SepalLengthCm  SepalWidthCm  PetalLengthCm  PetalWidthCm      Species\n",
       "0   1            5.1           3.5            1.4           0.2  Iris-setosa\n",
       "1   2            4.9           3.0            1.4           0.2  Iris-setosa\n",
       "2   3            4.7           3.2            1.3           0.2  Iris-setosa\n",
       "3   4            4.6           3.1            1.5           0.2  Iris-setosa\n",
       "4   5            5.0           3.6            1.4           0.2  Iris-setosa"
      ]
     },
     "execution_count": 518,
     "metadata": {},
     "output_type": "execute_result"
    }
   ],
   "source": [
    "data.head()  #prints first 5 lines of the file"
   ]
  },
  {
   "cell_type": "markdown",
   "id": "175da232",
   "metadata": {},
   "source": [
    "## reading excel files"
   ]
  },
  {
   "cell_type": "code",
   "execution_count": 519,
   "id": "f87dfa5b",
   "metadata": {},
   "outputs": [],
   "source": [
    "# use read_excel function\n",
    "# data = pd.read_excel('csv/example_excel.xls')"
   ]
  },
  {
   "cell_type": "markdown",
   "id": "0889860a",
   "metadata": {},
   "source": [
    "\n",
    "# plotting data in pandas (data visualisation)\n",
    "\n",
    "when to use which type\n",
    "pie -> used when there are 4-5 distinct values\n",
    "bar -> used when there are more than 5 distinct\n",
    "line -> when we have many distinct values"
   ]
  },
  {
   "cell_type": "code",
   "execution_count": 520,
   "id": "f0d99386",
   "metadata": {},
   "outputs": [
    {
     "data": {
      "text/plain": [
       "<AxesSubplot:>"
      ]
     },
     "execution_count": 520,
     "metadata": {},
     "output_type": "execute_result"
    },
    {
     "data": {
      "image/png": "[encoded data removed]",
      "text/plain": [
       "<Figure size 432x288 with 1 Axes>"
      ]
     },
     "metadata": {
      "needs_background": "light"
     },
     "output_type": "display_data"
    }
   ],
   "source": [
    "#bar plot\n",
    "import matplotlib \n",
    "data['SepalLengthCm'].value_counts().plot(kind='bar')"
   ]
  },
  {
   "cell_type": "code",
   "execution_count": 521,
   "id": "a530420e",
   "metadata": {},
   "outputs": [
    {
     "data": {
      "text/plain": [
       "<AxesSubplot:>"
      ]
     },
     "execution_count": 521,
     "metadata": {},
     "output_type": "execute_result"
    },
    {
     "data": {
      "image/png": "[encoded data removed]",
      "text/plain": [
       "<Figure size 432x288 with 1 Axes>"
      ]
     },
     "metadata": {
      "needs_background": "light"
     },
     "output_type": "display_data"
    }
   ],
   "source": [
    "data['Species'].value_counts().plot(kind='bar')"
   ]
  },
  {
   "cell_type": "code",
   "execution_count": 522,
   "id": "347ea88a",
   "metadata": {},
   "outputs": [
    {
     "data": {
      "text/plain": [
       "<AxesSubplot:ylabel='SepalLengthCm'>"
      ]
     },
     "execution_count": 522,
     "metadata": {},
     "output_type": "execute_result"
    },
    {
     "data": {
      "image/png": "[encoded data removed]",
      "text/plain": [
       "<Figure size 432x288 with 1 Axes>"
      ]
     },
     "metadata": {},
     "output_type": "display_data"
    }
   ],
   "source": [
    "data['SepalLengthCm'].value_counts().plot(kind='pie')"
   ]
  },
  {
   "cell_type": "code",
   "execution_count": 523,
   "id": "0bab9185",
   "metadata": {},
   "outputs": [
    {
     "data": {
      "text/plain": [
       "<AxesSubplot:ylabel='Species'>"
      ]
     },
     "execution_count": 523,
     "metadata": {},
     "output_type": "execute_result"
    },
    {
     "data": {
      "image/png": "[encoded data removed]",
      "text/plain": [
       "<Figure size 432x288 with 1 Axes>"
      ]
     },
     "metadata": {},
     "output_type": "display_data"
    }
   ],
   "source": [
    "data['Species'].value_counts().plot(kind='pie')"
   ]
  },
  {
   "cell_type": "code",
   "execution_count": 524,
   "id": "06161dba",
   "metadata": {},
   "outputs": [
    {
     "data": {
      "text/plain": [
       "<AxesSubplot:>"
      ]
     },
     "execution_count": 524,
     "metadata": {},
     "output_type": "execute_result"
    },
    {
     "data": {
      "image/png": "[encoded data removed]",
      "text/plain": [
       "<Figure size 432x288 with 1 Axes>"
      ]
     },
     "metadata": {
      "needs_background": "light"
     },
     "output_type": "display_data"
    }
   ],
   "source": [
    "data['SepalLengthCm'].value_counts().plot(kind='line')"
   ]
  },
  {
   "cell_type": "code",
   "execution_count": 525,
   "id": "2a217082",
   "metadata": {},
   "outputs": [
    {
     "data": {
      "text/plain": [
       "<AxesSubplot:>"
      ]
     },
     "execution_count": 525,
     "metadata": {},
     "output_type": "execute_result"
    },
    {
     "data": {
      "image/png": "[encoded data removed]",
      "text/plain": [
       "<Figure size 432x288 with 1 Axes>"
      ]
     },
     "metadata": {
      "needs_background": "light"
     },
     "output_type": "display_data"
    }
   ],
   "source": [
    "data['Species'].value_counts().plot(kind='line')"
   ]
  },
  {
   "cell_type": "markdown",
   "id": "1893b8de",
   "metadata": {},
   "source": [
    "# indexing,slicing,filtering data"
   ]
  },
  {
   "cell_type": "markdown",
   "id": "04febbbc",
   "metadata": {},
   "source": [
    "## creating dataframes"
   ]
  },
  {
   "cell_type": "code",
   "execution_count": 526,
   "id": "9c1a2d0b",
   "metadata": {},
   "outputs": [
    {
     "data": {
      "text/html": [
       "<div>\n",
       "<style scoped>\n",
       "    .dataframe tbody tr th:only-of-type {\n",
       "        vertical-align: middle;\n",
       "    }\n",
       "\n",
       "    .dataframe tbody tr th {\n",
       "        vertical-align: top;\n",
       "    }\n",
       "\n",
       "    .dataframe thead th {\n",
       "        text-align: right;\n",
       "    }\n",
       "</style>\n",
       "<table border=\"1\" class=\"dataframe\">\n",
       "  <thead>\n",
       "    <tr style=\"text-align: right;\">\n",
       "      <th></th>\n",
       "      <th>A</th>\n",
       "      <th>B</th>\n",
       "      <th>C</th>\n",
       "      <th>D</th>\n",
       "      <th>E</th>\n",
       "    </tr>\n",
       "  </thead>\n",
       "  <tbody>\n",
       "    <tr>\n",
       "      <th>2020-01-02</th>\n",
       "      <td>-0.550177</td>\n",
       "      <td>-1.577280</td>\n",
       "      <td>0.486871</td>\n",
       "      <td>-1.869907</td>\n",
       "      <td>-0.458873</td>\n",
       "    </tr>\n",
       "    <tr>\n",
       "      <th>2020-01-03</th>\n",
       "      <td>-1.355687</td>\n",
       "      <td>-0.691331</td>\n",
       "      <td>-0.715725</td>\n",
       "      <td>-0.757286</td>\n",
       "      <td>1.052807</td>\n",
       "    </tr>\n",
       "    <tr>\n",
       "      <th>2020-01-04</th>\n",
       "      <td>0.575537</td>\n",
       "      <td>-0.541980</td>\n",
       "      <td>0.608128</td>\n",
       "      <td>-0.909530</td>\n",
       "      <td>1.128962</td>\n",
       "    </tr>\n",
       "    <tr>\n",
       "      <th>2020-01-05</th>\n",
       "      <td>-0.096712</td>\n",
       "      <td>-0.003209</td>\n",
       "      <td>2.745801</td>\n",
       "      <td>0.643280</td>\n",
       "      <td>-0.425763</td>\n",
       "    </tr>\n",
       "    <tr>\n",
       "      <th>2020-01-06</th>\n",
       "      <td>-0.753770</td>\n",
       "      <td>-1.479078</td>\n",
       "      <td>-0.198238</td>\n",
       "      <td>1.404349</td>\n",
       "      <td>-0.234097</td>\n",
       "    </tr>\n",
       "    <tr>\n",
       "      <th>2020-01-07</th>\n",
       "      <td>2.421467</td>\n",
       "      <td>1.204019</td>\n",
       "      <td>1.632685</td>\n",
       "      <td>-1.315168</td>\n",
       "      <td>0.998830</td>\n",
       "    </tr>\n",
       "    <tr>\n",
       "      <th>2020-01-08</th>\n",
       "      <td>-0.099723</td>\n",
       "      <td>2.468061</td>\n",
       "      <td>0.141178</td>\n",
       "      <td>0.192289</td>\n",
       "      <td>0.819509</td>\n",
       "    </tr>\n",
       "    <tr>\n",
       "      <th>2020-01-09</th>\n",
       "      <td>-1.067386</td>\n",
       "      <td>-0.542171</td>\n",
       "      <td>1.074069</td>\n",
       "      <td>0.226813</td>\n",
       "      <td>-0.170351</td>\n",
       "    </tr>\n",
       "    <tr>\n",
       "      <th>2020-01-10</th>\n",
       "      <td>-0.608943</td>\n",
       "      <td>-0.419991</td>\n",
       "      <td>-0.215365</td>\n",
       "      <td>-0.001297</td>\n",
       "      <td>-1.227375</td>\n",
       "    </tr>\n",
       "    <tr>\n",
       "      <th>2020-01-11</th>\n",
       "      <td>0.936525</td>\n",
       "      <td>-0.243757</td>\n",
       "      <td>0.736162</td>\n",
       "      <td>0.150774</td>\n",
       "      <td>1.623592</td>\n",
       "    </tr>\n",
       "    <tr>\n",
       "      <th>2020-01-12</th>\n",
       "      <td>-0.044795</td>\n",
       "      <td>0.040862</td>\n",
       "      <td>1.520229</td>\n",
       "      <td>0.046671</td>\n",
       "      <td>1.366721</td>\n",
       "    </tr>\n",
       "    <tr>\n",
       "      <th>2020-01-13</th>\n",
       "      <td>-1.597749</td>\n",
       "      <td>-0.726146</td>\n",
       "      <td>-0.190748</td>\n",
       "      <td>-0.273197</td>\n",
       "      <td>0.026066</td>\n",
       "    </tr>\n",
       "    <tr>\n",
       "      <th>2020-01-14</th>\n",
       "      <td>-0.898425</td>\n",
       "      <td>2.291296</td>\n",
       "      <td>0.563235</td>\n",
       "      <td>-0.358687</td>\n",
       "      <td>1.212572</td>\n",
       "    </tr>\n",
       "    <tr>\n",
       "      <th>2020-01-15</th>\n",
       "      <td>3.076060</td>\n",
       "      <td>0.565341</td>\n",
       "      <td>0.619578</td>\n",
       "      <td>-0.807326</td>\n",
       "      <td>-0.807755</td>\n",
       "    </tr>\n",
       "    <tr>\n",
       "      <th>2020-01-16</th>\n",
       "      <td>1.502886</td>\n",
       "      <td>0.902503</td>\n",
       "      <td>0.572985</td>\n",
       "      <td>0.093707</td>\n",
       "      <td>0.506284</td>\n",
       "    </tr>\n",
       "    <tr>\n",
       "      <th>2020-01-17</th>\n",
       "      <td>1.041385</td>\n",
       "      <td>-0.340231</td>\n",
       "      <td>-0.151535</td>\n",
       "      <td>-0.790052</td>\n",
       "      <td>-1.068775</td>\n",
       "    </tr>\n",
       "    <tr>\n",
       "      <th>2020-01-18</th>\n",
       "      <td>-0.602201</td>\n",
       "      <td>0.987441</td>\n",
       "      <td>1.575251</td>\n",
       "      <td>-0.785203</td>\n",
       "      <td>2.049088</td>\n",
       "    </tr>\n",
       "    <tr>\n",
       "      <th>2020-01-19</th>\n",
       "      <td>-0.717122</td>\n",
       "      <td>1.379391</td>\n",
       "      <td>-0.297828</td>\n",
       "      <td>-0.163096</td>\n",
       "      <td>-0.685065</td>\n",
       "    </tr>\n",
       "    <tr>\n",
       "      <th>2020-01-20</th>\n",
       "      <td>-1.723703</td>\n",
       "      <td>0.296915</td>\n",
       "      <td>-0.363114</td>\n",
       "      <td>-0.117947</td>\n",
       "      <td>0.408951</td>\n",
       "    </tr>\n",
       "    <tr>\n",
       "      <th>2020-01-21</th>\n",
       "      <td>1.132612</td>\n",
       "      <td>-0.496756</td>\n",
       "      <td>0.325740</td>\n",
       "      <td>-0.339264</td>\n",
       "      <td>-0.288768</td>\n",
       "    </tr>\n",
       "  </tbody>\n",
       "</table>\n",
       "</div>"
      ],
      "text/plain": [
       "                   A         B         C         D         E\n",
       "2020-01-02 -0.550177 -1.577280  0.486871 -1.869907 -0.458873\n",
       "2020-01-03 -1.355687 -0.691331 -0.715725 -0.757286  1.052807\n",
       "2020-01-04  0.575537 -0.541980  0.608128 -0.909530  1.128962\n",
       "2020-01-05 -0.096712 -0.003209  2.745801  0.643280 -0.425763\n",
       "2020-01-06 -0.753770 -1.479078 -0.198238  1.404349 -0.234097\n",
       "2020-01-07  2.421467  1.204019  1.632685 -1.315168  0.998830\n",
       "2020-01-08 -0.099723  2.468061  0.141178  0.192289  0.819509\n",
       "2020-01-09 -1.067386 -0.542171  1.074069  0.226813 -0.170351\n",
       "2020-01-10 -0.608943 -0.419991 -0.215365 -0.001297 -1.227375\n",
       "2020-01-11  0.936525 -0.243757  0.736162  0.150774  1.623592\n",
       "2020-01-12 -0.044795  0.040862  1.520229  0.046671  1.366721\n",
       "2020-01-13 -1.597749 -0.726146 -0.190748 -0.273197  0.026066\n",
       "2020-01-14 -0.898425  2.291296  0.563235 -0.358687  1.212572\n",
       "2020-01-15  3.076060  0.565341  0.619578 -0.807326 -0.807755\n",
       "2020-01-16  1.502886  0.902503  0.572985  0.093707  0.506284\n",
       "2020-01-17  1.041385 -0.340231 -0.151535 -0.790052 -1.068775\n",
       "2020-01-18 -0.602201  0.987441  1.575251 -0.785203  2.049088\n",
       "2020-01-19 -0.717122  1.379391 -0.297828 -0.163096 -0.685065\n",
       "2020-01-20 -1.723703  0.296915 -0.363114 -0.117947  0.408951\n",
       "2020-01-21  1.132612 -0.496756  0.325740 -0.339264 -0.288768"
      ]
     },
     "execution_count": 526,
     "metadata": {},
     "output_type": "execute_result"
    }
   ],
   "source": [
    "#creating timeseries\n",
    "\n",
    "import pandas as pd\n",
    "import numpy as np\n",
    "\n",
    "#creating a timeseries (ie,dates starting from given date + consecutive dates till the number given in periods)\n",
    "time_series = pd.date_range('1/2/2020',periods=20)  #20 days starting from 1/2/2020\n",
    "\n",
    "df = pd.DataFrame(np.random.randn(20,5),index = time_series,columns = ['A','B','C','D','E'])\n",
    "df\n",
    "\n",
    "#creating dataframe ie,period rows\n",
    "#and 5 columns, use timeseries as index(x values) and name the 5 columns as given in columns\n",
    "#values of the columns is randomly generated numpy array\n"
   ]
  },
  {
   "cell_type": "code",
   "execution_count": 527,
   "id": "be9ff3e0",
   "metadata": {},
   "outputs": [
    {
     "name": "stdout",
     "output_type": "stream",
     "text": [
      "   x  y\n",
      "0  1  2\n",
      "1  2  3\n",
      "2  3  4\n"
     ]
    }
   ],
   "source": [
    "#creating a dataframe using the dictionary structure\n",
    "\n",
    "x = pd.DataFrame({'x':[1,2,3] , 'y':[2,3,4]})\n",
    "print(x)"
   ]
  },
  {
   "cell_type": "markdown",
   "id": "6192e736",
   "metadata": {},
   "source": [
    "## indexing"
   ]
  },
  {
   "cell_type": "code",
   "execution_count": 528,
   "id": "f818d8c2",
   "metadata": {},
   "outputs": [
    {
     "data": {
      "text/html": [
       "<div>\n",
       "<style scoped>\n",
       "    .dataframe tbody tr th:only-of-type {\n",
       "        vertical-align: middle;\n",
       "    }\n",
       "\n",
       "    .dataframe tbody tr th {\n",
       "        vertical-align: top;\n",
       "    }\n",
       "\n",
       "    .dataframe thead th {\n",
       "        text-align: right;\n",
       "    }\n",
       "</style>\n",
       "<table border=\"1\" class=\"dataframe\">\n",
       "  <thead>\n",
       "    <tr style=\"text-align: right;\">\n",
       "      <th></th>\n",
       "      <th>A</th>\n",
       "      <th>B</th>\n",
       "      <th>C</th>\n",
       "      <th>D</th>\n",
       "      <th>E</th>\n",
       "    </tr>\n",
       "  </thead>\n",
       "  <tbody>\n",
       "    <tr>\n",
       "      <th>2020-01-02</th>\n",
       "      <td>-0.550177</td>\n",
       "      <td>-1.577280</td>\n",
       "      <td>0.486871</td>\n",
       "      <td>-1.869907</td>\n",
       "      <td>-0.458873</td>\n",
       "    </tr>\n",
       "    <tr>\n",
       "      <th>2020-01-03</th>\n",
       "      <td>-1.355687</td>\n",
       "      <td>-0.691331</td>\n",
       "      <td>-0.715725</td>\n",
       "      <td>-0.757286</td>\n",
       "      <td>1.052807</td>\n",
       "    </tr>\n",
       "    <tr>\n",
       "      <th>2020-01-04</th>\n",
       "      <td>0.575537</td>\n",
       "      <td>-0.541980</td>\n",
       "      <td>0.608128</td>\n",
       "      <td>-0.909530</td>\n",
       "      <td>1.128962</td>\n",
       "    </tr>\n",
       "    <tr>\n",
       "      <th>2020-01-05</th>\n",
       "      <td>-0.096712</td>\n",
       "      <td>-0.003209</td>\n",
       "      <td>2.745801</td>\n",
       "      <td>0.643280</td>\n",
       "      <td>-0.425763</td>\n",
       "    </tr>\n",
       "    <tr>\n",
       "      <th>2020-01-06</th>\n",
       "      <td>-0.753770</td>\n",
       "      <td>-1.479078</td>\n",
       "      <td>-0.198238</td>\n",
       "      <td>1.404349</td>\n",
       "      <td>-0.234097</td>\n",
       "    </tr>\n",
       "    <tr>\n",
       "      <th>2020-01-07</th>\n",
       "      <td>2.421467</td>\n",
       "      <td>1.204019</td>\n",
       "      <td>1.632685</td>\n",
       "      <td>-1.315168</td>\n",
       "      <td>0.998830</td>\n",
       "    </tr>\n",
       "    <tr>\n",
       "      <th>2020-01-08</th>\n",
       "      <td>-0.099723</td>\n",
       "      <td>2.468061</td>\n",
       "      <td>0.141178</td>\n",
       "      <td>0.192289</td>\n",
       "      <td>0.819509</td>\n",
       "    </tr>\n",
       "    <tr>\n",
       "      <th>2020-01-09</th>\n",
       "      <td>-1.067386</td>\n",
       "      <td>-0.542171</td>\n",
       "      <td>1.074069</td>\n",
       "      <td>0.226813</td>\n",
       "      <td>-0.170351</td>\n",
       "    </tr>\n",
       "    <tr>\n",
       "      <th>2020-01-10</th>\n",
       "      <td>-0.608943</td>\n",
       "      <td>-0.419991</td>\n",
       "      <td>-0.215365</td>\n",
       "      <td>-0.001297</td>\n",
       "      <td>-1.227375</td>\n",
       "    </tr>\n",
       "    <tr>\n",
       "      <th>2020-01-11</th>\n",
       "      <td>0.936525</td>\n",
       "      <td>-0.243757</td>\n",
       "      <td>0.736162</td>\n",
       "      <td>0.150774</td>\n",
       "      <td>1.623592</td>\n",
       "    </tr>\n",
       "    <tr>\n",
       "      <th>2020-01-12</th>\n",
       "      <td>-0.044795</td>\n",
       "      <td>0.040862</td>\n",
       "      <td>1.520229</td>\n",
       "      <td>0.046671</td>\n",
       "      <td>1.366721</td>\n",
       "    </tr>\n",
       "    <tr>\n",
       "      <th>2020-01-13</th>\n",
       "      <td>-1.597749</td>\n",
       "      <td>-0.726146</td>\n",
       "      <td>-0.190748</td>\n",
       "      <td>-0.273197</td>\n",
       "      <td>0.026066</td>\n",
       "    </tr>\n",
       "    <tr>\n",
       "      <th>2020-01-14</th>\n",
       "      <td>-0.898425</td>\n",
       "      <td>2.291296</td>\n",
       "      <td>0.563235</td>\n",
       "      <td>-0.358687</td>\n",
       "      <td>1.212572</td>\n",
       "    </tr>\n",
       "    <tr>\n",
       "      <th>2020-01-15</th>\n",
       "      <td>3.076060</td>\n",
       "      <td>0.565341</td>\n",
       "      <td>0.619578</td>\n",
       "      <td>-0.807326</td>\n",
       "      <td>-0.807755</td>\n",
       "    </tr>\n",
       "    <tr>\n",
       "      <th>2020-01-16</th>\n",
       "      <td>1.502886</td>\n",
       "      <td>0.902503</td>\n",
       "      <td>0.572985</td>\n",
       "      <td>0.093707</td>\n",
       "      <td>0.506284</td>\n",
       "    </tr>\n",
       "    <tr>\n",
       "      <th>2020-01-17</th>\n",
       "      <td>1.041385</td>\n",
       "      <td>-0.340231</td>\n",
       "      <td>-0.151535</td>\n",
       "      <td>-0.790052</td>\n",
       "      <td>-1.068775</td>\n",
       "    </tr>\n",
       "    <tr>\n",
       "      <th>2020-01-18</th>\n",
       "      <td>-0.602201</td>\n",
       "      <td>0.987441</td>\n",
       "      <td>1.575251</td>\n",
       "      <td>-0.785203</td>\n",
       "      <td>2.049088</td>\n",
       "    </tr>\n",
       "    <tr>\n",
       "      <th>2020-01-19</th>\n",
       "      <td>-0.717122</td>\n",
       "      <td>1.379391</td>\n",
       "      <td>-0.297828</td>\n",
       "      <td>-0.163096</td>\n",
       "      <td>-0.685065</td>\n",
       "    </tr>\n",
       "    <tr>\n",
       "      <th>2020-01-20</th>\n",
       "      <td>-1.723703</td>\n",
       "      <td>0.296915</td>\n",
       "      <td>-0.363114</td>\n",
       "      <td>-0.117947</td>\n",
       "      <td>0.408951</td>\n",
       "    </tr>\n",
       "    <tr>\n",
       "      <th>2020-01-21</th>\n",
       "      <td>1.132612</td>\n",
       "      <td>-0.496756</td>\n",
       "      <td>0.325740</td>\n",
       "      <td>-0.339264</td>\n",
       "      <td>-0.288768</td>\n",
       "    </tr>\n",
       "  </tbody>\n",
       "</table>\n",
       "</div>"
      ],
      "text/plain": [
       "                   A         B         C         D         E\n",
       "2020-01-02 -0.550177 -1.577280  0.486871 -1.869907 -0.458873\n",
       "2020-01-03 -1.355687 -0.691331 -0.715725 -0.757286  1.052807\n",
       "2020-01-04  0.575537 -0.541980  0.608128 -0.909530  1.128962\n",
       "2020-01-05 -0.096712 -0.003209  2.745801  0.643280 -0.425763\n",
       "2020-01-06 -0.753770 -1.479078 -0.198238  1.404349 -0.234097\n",
       "2020-01-07  2.421467  1.204019  1.632685 -1.315168  0.998830\n",
       "2020-01-08 -0.099723  2.468061  0.141178  0.192289  0.819509\n",
       "2020-01-09 -1.067386 -0.542171  1.074069  0.226813 -0.170351\n",
       "2020-01-10 -0.608943 -0.419991 -0.215365 -0.001297 -1.227375\n",
       "2020-01-11  0.936525 -0.243757  0.736162  0.150774  1.623592\n",
       "2020-01-12 -0.044795  0.040862  1.520229  0.046671  1.366721\n",
       "2020-01-13 -1.597749 -0.726146 -0.190748 -0.273197  0.026066\n",
       "2020-01-14 -0.898425  2.291296  0.563235 -0.358687  1.212572\n",
       "2020-01-15  3.076060  0.565341  0.619578 -0.807326 -0.807755\n",
       "2020-01-16  1.502886  0.902503  0.572985  0.093707  0.506284\n",
       "2020-01-17  1.041385 -0.340231 -0.151535 -0.790052 -1.068775\n",
       "2020-01-18 -0.602201  0.987441  1.575251 -0.785203  2.049088\n",
       "2020-01-19 -0.717122  1.379391 -0.297828 -0.163096 -0.685065\n",
       "2020-01-20 -1.723703  0.296915 -0.363114 -0.117947  0.408951\n",
       "2020-01-21  1.132612 -0.496756  0.325740 -0.339264 -0.288768"
      ]
     },
     "execution_count": 528,
     "metadata": {},
     "output_type": "execute_result"
    }
   ],
   "source": [
    "df"
   ]
  },
  {
   "cell_type": "markdown",
   "id": "382a2da1",
   "metadata": {},
   "source": [
    "## indexing"
   ]
  },
  {
   "cell_type": "code",
   "execution_count": 529,
   "id": "312a1434",
   "metadata": {},
   "outputs": [
    {
     "data": {
      "text/plain": [
       "2020-01-02   -0.550177\n",
       "2020-01-03   -1.355687\n",
       "2020-01-04    0.575537\n",
       "2020-01-05   -0.096712\n",
       "2020-01-06   -0.753770\n",
       "2020-01-07    2.421467\n",
       "2020-01-08   -0.099723\n",
       "2020-01-09   -1.067386\n",
       "2020-01-10   -0.608943\n",
       "2020-01-11    0.936525\n",
       "2020-01-12   -0.044795\n",
       "2020-01-13   -1.597749\n",
       "2020-01-14   -0.898425\n",
       "2020-01-15    3.076060\n",
       "2020-01-16    1.502886\n",
       "2020-01-17    1.041385\n",
       "2020-01-18   -0.602201\n",
       "2020-01-19   -0.717122\n",
       "2020-01-20   -1.723703\n",
       "2020-01-21    1.132612\n",
       "Freq: D, Name: A, dtype: float64"
      ]
     },
     "execution_count": 529,
     "metadata": {},
     "output_type": "execute_result"
    }
   ],
   "source": [
    "df['A']   #displaying only column 1 with the index valeus"
   ]
  },
  {
   "cell_type": "code",
   "execution_count": 530,
   "id": "29f47ddd",
   "metadata": {},
   "outputs": [
    {
     "data": {
      "text/html": [
       "<div>\n",
       "<style scoped>\n",
       "    .dataframe tbody tr th:only-of-type {\n",
       "        vertical-align: middle;\n",
       "    }\n",
       "\n",
       "    .dataframe tbody tr th {\n",
       "        vertical-align: top;\n",
       "    }\n",
       "\n",
       "    .dataframe thead th {\n",
       "        text-align: right;\n",
       "    }\n",
       "</style>\n",
       "<table border=\"1\" class=\"dataframe\">\n",
       "  <thead>\n",
       "    <tr style=\"text-align: right;\">\n",
       "      <th></th>\n",
       "      <th>A</th>\n",
       "      <th>B</th>\n",
       "      <th>C</th>\n",
       "    </tr>\n",
       "  </thead>\n",
       "  <tbody>\n",
       "    <tr>\n",
       "      <th>2020-01-02</th>\n",
       "      <td>-0.550177</td>\n",
       "      <td>-1.577280</td>\n",
       "      <td>0.486871</td>\n",
       "    </tr>\n",
       "    <tr>\n",
       "      <th>2020-01-03</th>\n",
       "      <td>-1.355687</td>\n",
       "      <td>-0.691331</td>\n",
       "      <td>-0.715725</td>\n",
       "    </tr>\n",
       "    <tr>\n",
       "      <th>2020-01-04</th>\n",
       "      <td>0.575537</td>\n",
       "      <td>-0.541980</td>\n",
       "      <td>0.608128</td>\n",
       "    </tr>\n",
       "    <tr>\n",
       "      <th>2020-01-05</th>\n",
       "      <td>-0.096712</td>\n",
       "      <td>-0.003209</td>\n",
       "      <td>2.745801</td>\n",
       "    </tr>\n",
       "    <tr>\n",
       "      <th>2020-01-06</th>\n",
       "      <td>-0.753770</td>\n",
       "      <td>-1.479078</td>\n",
       "      <td>-0.198238</td>\n",
       "    </tr>\n",
       "    <tr>\n",
       "      <th>2020-01-07</th>\n",
       "      <td>2.421467</td>\n",
       "      <td>1.204019</td>\n",
       "      <td>1.632685</td>\n",
       "    </tr>\n",
       "    <tr>\n",
       "      <th>2020-01-08</th>\n",
       "      <td>-0.099723</td>\n",
       "      <td>2.468061</td>\n",
       "      <td>0.141178</td>\n",
       "    </tr>\n",
       "    <tr>\n",
       "      <th>2020-01-09</th>\n",
       "      <td>-1.067386</td>\n",
       "      <td>-0.542171</td>\n",
       "      <td>1.074069</td>\n",
       "    </tr>\n",
       "    <tr>\n",
       "      <th>2020-01-10</th>\n",
       "      <td>-0.608943</td>\n",
       "      <td>-0.419991</td>\n",
       "      <td>-0.215365</td>\n",
       "    </tr>\n",
       "    <tr>\n",
       "      <th>2020-01-11</th>\n",
       "      <td>0.936525</td>\n",
       "      <td>-0.243757</td>\n",
       "      <td>0.736162</td>\n",
       "    </tr>\n",
       "    <tr>\n",
       "      <th>2020-01-12</th>\n",
       "      <td>-0.044795</td>\n",
       "      <td>0.040862</td>\n",
       "      <td>1.520229</td>\n",
       "    </tr>\n",
       "    <tr>\n",
       "      <th>2020-01-13</th>\n",
       "      <td>-1.597749</td>\n",
       "      <td>-0.726146</td>\n",
       "      <td>-0.190748</td>\n",
       "    </tr>\n",
       "    <tr>\n",
       "      <th>2020-01-14</th>\n",
       "      <td>-0.898425</td>\n",
       "      <td>2.291296</td>\n",
       "      <td>0.563235</td>\n",
       "    </tr>\n",
       "    <tr>\n",
       "      <th>2020-01-15</th>\n",
       "      <td>3.076060</td>\n",
       "      <td>0.565341</td>\n",
       "      <td>0.619578</td>\n",
       "    </tr>\n",
       "    <tr>\n",
       "      <th>2020-01-16</th>\n",
       "      <td>1.502886</td>\n",
       "      <td>0.902503</td>\n",
       "      <td>0.572985</td>\n",
       "    </tr>\n",
       "    <tr>\n",
       "      <th>2020-01-17</th>\n",
       "      <td>1.041385</td>\n",
       "      <td>-0.340231</td>\n",
       "      <td>-0.151535</td>\n",
       "    </tr>\n",
       "    <tr>\n",
       "      <th>2020-01-18</th>\n",
       "      <td>-0.602201</td>\n",
       "      <td>0.987441</td>\n",
       "      <td>1.575251</td>\n",
       "    </tr>\n",
       "    <tr>\n",
       "      <th>2020-01-19</th>\n",
       "      <td>-0.717122</td>\n",
       "      <td>1.379391</td>\n",
       "      <td>-0.297828</td>\n",
       "    </tr>\n",
       "    <tr>\n",
       "      <th>2020-01-20</th>\n",
       "      <td>-1.723703</td>\n",
       "      <td>0.296915</td>\n",
       "      <td>-0.363114</td>\n",
       "    </tr>\n",
       "    <tr>\n",
       "      <th>2020-01-21</th>\n",
       "      <td>1.132612</td>\n",
       "      <td>-0.496756</td>\n",
       "      <td>0.325740</td>\n",
       "    </tr>\n",
       "  </tbody>\n",
       "</table>\n",
       "</div>"
      ],
      "text/plain": [
       "                   A         B         C\n",
       "2020-01-02 -0.550177 -1.577280  0.486871\n",
       "2020-01-03 -1.355687 -0.691331 -0.715725\n",
       "2020-01-04  0.575537 -0.541980  0.608128\n",
       "2020-01-05 -0.096712 -0.003209  2.745801\n",
       "2020-01-06 -0.753770 -1.479078 -0.198238\n",
       "2020-01-07  2.421467  1.204019  1.632685\n",
       "2020-01-08 -0.099723  2.468061  0.141178\n",
       "2020-01-09 -1.067386 -0.542171  1.074069\n",
       "2020-01-10 -0.608943 -0.419991 -0.215365\n",
       "2020-01-11  0.936525 -0.243757  0.736162\n",
       "2020-01-12 -0.044795  0.040862  1.520229\n",
       "2020-01-13 -1.597749 -0.726146 -0.190748\n",
       "2020-01-14 -0.898425  2.291296  0.563235\n",
       "2020-01-15  3.076060  0.565341  0.619578\n",
       "2020-01-16  1.502886  0.902503  0.572985\n",
       "2020-01-17  1.041385 -0.340231 -0.151535\n",
       "2020-01-18 -0.602201  0.987441  1.575251\n",
       "2020-01-19 -0.717122  1.379391 -0.297828\n",
       "2020-01-20 -1.723703  0.296915 -0.363114\n",
       "2020-01-21  1.132612 -0.496756  0.325740"
      ]
     },
     "execution_count": 530,
     "metadata": {},
     "output_type": "execute_result"
    }
   ],
   "source": [
    "df[['A','B','C']]   #use double square brackets for multiple columns"
   ]
  },
  {
   "cell_type": "code",
   "execution_count": 531,
   "id": "1a36f75b",
   "metadata": {},
   "outputs": [
    {
     "data": {
      "text/plain": [
       "0.5755374989856149"
      ]
     },
     "execution_count": 531,
     "metadata": {},
     "output_type": "execute_result"
    }
   ],
   "source": [
    "#to access a particular value in a particular row and column\n",
    "\n",
    "column1 = df['A']\n",
    "column1[time_series[2]]   #prints the first column 3rd row value"
   ]
  },
  {
   "cell_type": "markdown",
   "id": "59ec8a45",
   "metadata": {},
   "source": [
    "## selecting data\n",
    "\n",
    "dataframe.loc() ->  accesses a group of rows or columns by labels"
   ]
  },
  {
   "cell_type": "code",
   "execution_count": 532,
   "id": "30cc76f4",
   "metadata": {},
   "outputs": [
    {
     "name": "stdout",
     "output_type": "stream",
     "text": [
      "   x   y\n",
      "0  1   2\n",
      "1  9  10\n",
      "2  3   4\n"
     ]
    }
   ],
   "source": [
    "x.loc[1] = {'x':9,'y':10}  #modifying the second row\n",
    "print(x)"
   ]
  },
  {
   "cell_type": "markdown",
   "id": "7215672b",
   "metadata": {},
   "source": [
    "## slicing \n",
    "\n",
    "enables accessing sequences"
   ]
  },
  {
   "cell_type": "code",
   "execution_count": 533,
   "id": "fba49b00",
   "metadata": {},
   "outputs": [
    {
     "data": {
      "text/html": [
       "<div>\n",
       "<style scoped>\n",
       "    .dataframe tbody tr th:only-of-type {\n",
       "        vertical-align: middle;\n",
       "    }\n",
       "\n",
       "    .dataframe tbody tr th {\n",
       "        vertical-align: top;\n",
       "    }\n",
       "\n",
       "    .dataframe thead th {\n",
       "        text-align: right;\n",
       "    }\n",
       "</style>\n",
       "<table border=\"1\" class=\"dataframe\">\n",
       "  <thead>\n",
       "    <tr style=\"text-align: right;\">\n",
       "      <th></th>\n",
       "      <th>A</th>\n",
       "      <th>B</th>\n",
       "    </tr>\n",
       "  </thead>\n",
       "  <tbody>\n",
       "    <tr>\n",
       "      <th>2020-01-02</th>\n",
       "      <td>-0.550177</td>\n",
       "      <td>-1.577280</td>\n",
       "    </tr>\n",
       "    <tr>\n",
       "      <th>2020-01-03</th>\n",
       "      <td>-1.355687</td>\n",
       "      <td>-0.691331</td>\n",
       "    </tr>\n",
       "    <tr>\n",
       "      <th>2020-01-04</th>\n",
       "      <td>0.575537</td>\n",
       "      <td>-0.541980</td>\n",
       "    </tr>\n",
       "    <tr>\n",
       "      <th>2020-01-05</th>\n",
       "      <td>-0.096712</td>\n",
       "      <td>-0.003209</td>\n",
       "    </tr>\n",
       "    <tr>\n",
       "      <th>2020-01-06</th>\n",
       "      <td>-0.753770</td>\n",
       "      <td>-1.479078</td>\n",
       "    </tr>\n",
       "  </tbody>\n",
       "</table>\n",
       "</div>"
      ],
      "text/plain": [
       "                   A         B\n",
       "2020-01-02 -0.550177 -1.577280\n",
       "2020-01-03 -1.355687 -0.691331\n",
       "2020-01-04  0.575537 -0.541980\n",
       "2020-01-05 -0.096712 -0.003209\n",
       "2020-01-06 -0.753770 -1.479078"
      ]
     },
     "execution_count": 533,
     "metadata": {},
     "output_type": "execute_result"
    }
   ],
   "source": [
    "#print 1st 5 rows of c1 and c2\n",
    "\n",
    "df.iloc[:5,0:2]   #first 5 rows , 0,1 columns\n",
    "\n",
    "#dataframe.iloc -> access a grp of rows or columns by index location"
   ]
  },
  {
   "cell_type": "markdown",
   "id": "4956b3e5",
   "metadata": {},
   "source": [
    "## striding"
   ]
  },
  {
   "cell_type": "code",
   "execution_count": 534,
   "id": "26d24a3b",
   "metadata": {},
   "outputs": [],
   "source": [
    "# to print a particular multiple of rows in all columns"
   ]
  },
  {
   "cell_type": "code",
   "execution_count": 535,
   "id": "a9b40c9b",
   "metadata": {},
   "outputs": [
    {
     "data": {
      "text/html": [
       "<div>\n",
       "<style scoped>\n",
       "    .dataframe tbody tr th:only-of-type {\n",
       "        vertical-align: middle;\n",
       "    }\n",
       "\n",
       "    .dataframe tbody tr th {\n",
       "        vertical-align: top;\n",
       "    }\n",
       "\n",
       "    .dataframe thead th {\n",
       "        text-align: right;\n",
       "    }\n",
       "</style>\n",
       "<table border=\"1\" class=\"dataframe\">\n",
       "  <thead>\n",
       "    <tr style=\"text-align: right;\">\n",
       "      <th></th>\n",
       "      <th>A</th>\n",
       "      <th>B</th>\n",
       "      <th>C</th>\n",
       "      <th>D</th>\n",
       "      <th>E</th>\n",
       "    </tr>\n",
       "  </thead>\n",
       "  <tbody>\n",
       "    <tr>\n",
       "      <th>2020-01-02</th>\n",
       "      <td>-0.550177</td>\n",
       "      <td>-1.577280</td>\n",
       "      <td>0.486871</td>\n",
       "      <td>-1.869907</td>\n",
       "      <td>-0.458873</td>\n",
       "    </tr>\n",
       "    <tr>\n",
       "      <th>2020-01-05</th>\n",
       "      <td>-0.096712</td>\n",
       "      <td>-0.003209</td>\n",
       "      <td>2.745801</td>\n",
       "      <td>0.643280</td>\n",
       "      <td>-0.425763</td>\n",
       "    </tr>\n",
       "    <tr>\n",
       "      <th>2020-01-08</th>\n",
       "      <td>-0.099723</td>\n",
       "      <td>2.468061</td>\n",
       "      <td>0.141178</td>\n",
       "      <td>0.192289</td>\n",
       "      <td>0.819509</td>\n",
       "    </tr>\n",
       "    <tr>\n",
       "      <th>2020-01-11</th>\n",
       "      <td>0.936525</td>\n",
       "      <td>-0.243757</td>\n",
       "      <td>0.736162</td>\n",
       "      <td>0.150774</td>\n",
       "      <td>1.623592</td>\n",
       "    </tr>\n",
       "    <tr>\n",
       "      <th>2020-01-14</th>\n",
       "      <td>-0.898425</td>\n",
       "      <td>2.291296</td>\n",
       "      <td>0.563235</td>\n",
       "      <td>-0.358687</td>\n",
       "      <td>1.212572</td>\n",
       "    </tr>\n",
       "    <tr>\n",
       "      <th>2020-01-17</th>\n",
       "      <td>1.041385</td>\n",
       "      <td>-0.340231</td>\n",
       "      <td>-0.151535</td>\n",
       "      <td>-0.790052</td>\n",
       "      <td>-1.068775</td>\n",
       "    </tr>\n",
       "    <tr>\n",
       "      <th>2020-01-20</th>\n",
       "      <td>-1.723703</td>\n",
       "      <td>0.296915</td>\n",
       "      <td>-0.363114</td>\n",
       "      <td>-0.117947</td>\n",
       "      <td>0.408951</td>\n",
       "    </tr>\n",
       "  </tbody>\n",
       "</table>\n",
       "</div>"
      ],
      "text/plain": [
       "                   A         B         C         D         E\n",
       "2020-01-02 -0.550177 -1.577280  0.486871 -1.869907 -0.458873\n",
       "2020-01-05 -0.096712 -0.003209  2.745801  0.643280 -0.425763\n",
       "2020-01-08 -0.099723  2.468061  0.141178  0.192289  0.819509\n",
       "2020-01-11  0.936525 -0.243757  0.736162  0.150774  1.623592\n",
       "2020-01-14 -0.898425  2.291296  0.563235 -0.358687  1.212572\n",
       "2020-01-17  1.041385 -0.340231 -0.151535 -0.790052 -1.068775\n",
       "2020-01-20 -1.723703  0.296915 -0.363114 -0.117947  0.408951"
      ]
     },
     "execution_count": 535,
     "metadata": {},
     "output_type": "execute_result"
    }
   ],
   "source": [
    "df.iloc[::3]    #prints every third row"
   ]
  },
  {
   "cell_type": "markdown",
   "id": "935d7b6c",
   "metadata": {},
   "source": [
    "## filtering"
   ]
  },
  {
   "cell_type": "code",
   "execution_count": 536,
   "id": "f355b9cf",
   "metadata": {},
   "outputs": [
    {
     "data": {
      "text/html": [
       "<div>\n",
       "<style scoped>\n",
       "    .dataframe tbody tr th:only-of-type {\n",
       "        vertical-align: middle;\n",
       "    }\n",
       "\n",
       "    .dataframe tbody tr th {\n",
       "        vertical-align: top;\n",
       "    }\n",
       "\n",
       "    .dataframe thead th {\n",
       "        text-align: right;\n",
       "    }\n",
       "</style>\n",
       "<table border=\"1\" class=\"dataframe\">\n",
       "  <thead>\n",
       "    <tr style=\"text-align: right;\">\n",
       "      <th></th>\n",
       "      <th>A</th>\n",
       "      <th>B</th>\n",
       "      <th>C</th>\n",
       "      <th>D</th>\n",
       "      <th>E</th>\n",
       "    </tr>\n",
       "  </thead>\n",
       "  <tbody>\n",
       "    <tr>\n",
       "      <th>2020-01-02</th>\n",
       "      <td>-0.550177</td>\n",
       "      <td>-1.577280</td>\n",
       "      <td>0.486871</td>\n",
       "      <td>-1.869907</td>\n",
       "      <td>-0.458873</td>\n",
       "    </tr>\n",
       "    <tr>\n",
       "      <th>2020-01-03</th>\n",
       "      <td>-1.355687</td>\n",
       "      <td>-0.691331</td>\n",
       "      <td>-0.715725</td>\n",
       "      <td>-0.757286</td>\n",
       "      <td>1.052807</td>\n",
       "    </tr>\n",
       "    <tr>\n",
       "      <th>2020-01-05</th>\n",
       "      <td>-0.096712</td>\n",
       "      <td>-0.003209</td>\n",
       "      <td>2.745801</td>\n",
       "      <td>0.643280</td>\n",
       "      <td>-0.425763</td>\n",
       "    </tr>\n",
       "    <tr>\n",
       "      <th>2020-01-06</th>\n",
       "      <td>-0.753770</td>\n",
       "      <td>-1.479078</td>\n",
       "      <td>-0.198238</td>\n",
       "      <td>1.404349</td>\n",
       "      <td>-0.234097</td>\n",
       "    </tr>\n",
       "    <tr>\n",
       "      <th>2020-01-08</th>\n",
       "      <td>-0.099723</td>\n",
       "      <td>2.468061</td>\n",
       "      <td>0.141178</td>\n",
       "      <td>0.192289</td>\n",
       "      <td>0.819509</td>\n",
       "    </tr>\n",
       "    <tr>\n",
       "      <th>2020-01-09</th>\n",
       "      <td>-1.067386</td>\n",
       "      <td>-0.542171</td>\n",
       "      <td>1.074069</td>\n",
       "      <td>0.226813</td>\n",
       "      <td>-0.170351</td>\n",
       "    </tr>\n",
       "    <tr>\n",
       "      <th>2020-01-10</th>\n",
       "      <td>-0.608943</td>\n",
       "      <td>-0.419991</td>\n",
       "      <td>-0.215365</td>\n",
       "      <td>-0.001297</td>\n",
       "      <td>-1.227375</td>\n",
       "    </tr>\n",
       "    <tr>\n",
       "      <th>2020-01-12</th>\n",
       "      <td>-0.044795</td>\n",
       "      <td>0.040862</td>\n",
       "      <td>1.520229</td>\n",
       "      <td>0.046671</td>\n",
       "      <td>1.366721</td>\n",
       "    </tr>\n",
       "    <tr>\n",
       "      <th>2020-01-13</th>\n",
       "      <td>-1.597749</td>\n",
       "      <td>-0.726146</td>\n",
       "      <td>-0.190748</td>\n",
       "      <td>-0.273197</td>\n",
       "      <td>0.026066</td>\n",
       "    </tr>\n",
       "    <tr>\n",
       "      <th>2020-01-14</th>\n",
       "      <td>-0.898425</td>\n",
       "      <td>2.291296</td>\n",
       "      <td>0.563235</td>\n",
       "      <td>-0.358687</td>\n",
       "      <td>1.212572</td>\n",
       "    </tr>\n",
       "    <tr>\n",
       "      <th>2020-01-18</th>\n",
       "      <td>-0.602201</td>\n",
       "      <td>0.987441</td>\n",
       "      <td>1.575251</td>\n",
       "      <td>-0.785203</td>\n",
       "      <td>2.049088</td>\n",
       "    </tr>\n",
       "    <tr>\n",
       "      <th>2020-01-19</th>\n",
       "      <td>-0.717122</td>\n",
       "      <td>1.379391</td>\n",
       "      <td>-0.297828</td>\n",
       "      <td>-0.163096</td>\n",
       "      <td>-0.685065</td>\n",
       "    </tr>\n",
       "    <tr>\n",
       "      <th>2020-01-20</th>\n",
       "      <td>-1.723703</td>\n",
       "      <td>0.296915</td>\n",
       "      <td>-0.363114</td>\n",
       "      <td>-0.117947</td>\n",
       "      <td>0.408951</td>\n",
       "    </tr>\n",
       "  </tbody>\n",
       "</table>\n",
       "</div>"
      ],
      "text/plain": [
       "                   A         B         C         D         E\n",
       "2020-01-02 -0.550177 -1.577280  0.486871 -1.869907 -0.458873\n",
       "2020-01-03 -1.355687 -0.691331 -0.715725 -0.757286  1.052807\n",
       "2020-01-05 -0.096712 -0.003209  2.745801  0.643280 -0.425763\n",
       "2020-01-06 -0.753770 -1.479078 -0.198238  1.404349 -0.234097\n",
       "2020-01-08 -0.099723  2.468061  0.141178  0.192289  0.819509\n",
       "2020-01-09 -1.067386 -0.542171  1.074069  0.226813 -0.170351\n",
       "2020-01-10 -0.608943 -0.419991 -0.215365 -0.001297 -1.227375\n",
       "2020-01-12 -0.044795  0.040862  1.520229  0.046671  1.366721\n",
       "2020-01-13 -1.597749 -0.726146 -0.190748 -0.273197  0.026066\n",
       "2020-01-14 -0.898425  2.291296  0.563235 -0.358687  1.212572\n",
       "2020-01-18 -0.602201  0.987441  1.575251 -0.785203  2.049088\n",
       "2020-01-19 -0.717122  1.379391 -0.297828 -0.163096 -0.685065\n",
       "2020-01-20 -1.723703  0.296915 -0.363114 -0.117947  0.408951"
      ]
     },
     "execution_count": 536,
     "metadata": {},
     "output_type": "execute_result"
    }
   ],
   "source": [
    "df[ (df['A'] < 0) ]   #prints all values where A values are less than 0"
   ]
  },
  {
   "cell_type": "code",
   "execution_count": 537,
   "id": "19254b68",
   "metadata": {},
   "outputs": [
    {
     "data": {
      "text/html": [
       "<div>\n",
       "<style scoped>\n",
       "    .dataframe tbody tr th:only-of-type {\n",
       "        vertical-align: middle;\n",
       "    }\n",
       "\n",
       "    .dataframe tbody tr th {\n",
       "        vertical-align: top;\n",
       "    }\n",
       "\n",
       "    .dataframe thead th {\n",
       "        text-align: right;\n",
       "    }\n",
       "</style>\n",
       "<table border=\"1\" class=\"dataframe\">\n",
       "  <thead>\n",
       "    <tr style=\"text-align: right;\">\n",
       "      <th></th>\n",
       "      <th>C</th>\n",
       "      <th>D</th>\n",
       "    </tr>\n",
       "  </thead>\n",
       "  <tbody>\n",
       "    <tr>\n",
       "      <th>2020-01-08</th>\n",
       "      <td>0.141178</td>\n",
       "      <td>0.192289</td>\n",
       "    </tr>\n",
       "    <tr>\n",
       "      <th>2020-01-12</th>\n",
       "      <td>1.520229</td>\n",
       "      <td>0.046671</td>\n",
       "    </tr>\n",
       "    <tr>\n",
       "      <th>2020-01-14</th>\n",
       "      <td>0.563235</td>\n",
       "      <td>-0.358687</td>\n",
       "    </tr>\n",
       "    <tr>\n",
       "      <th>2020-01-18</th>\n",
       "      <td>1.575251</td>\n",
       "      <td>-0.785203</td>\n",
       "    </tr>\n",
       "    <tr>\n",
       "      <th>2020-01-19</th>\n",
       "      <td>-0.297828</td>\n",
       "      <td>-0.163096</td>\n",
       "    </tr>\n",
       "    <tr>\n",
       "      <th>2020-01-20</th>\n",
       "      <td>-0.363114</td>\n",
       "      <td>-0.117947</td>\n",
       "    </tr>\n",
       "  </tbody>\n",
       "</table>\n",
       "</div>"
      ],
      "text/plain": [
       "                   C         D\n",
       "2020-01-08  0.141178  0.192289\n",
       "2020-01-12  1.520229  0.046671\n",
       "2020-01-14  0.563235 -0.358687\n",
       "2020-01-18  1.575251 -0.785203\n",
       "2020-01-19 -0.297828 -0.163096\n",
       "2020-01-20 -0.363114 -0.117947"
      ]
     },
     "execution_count": 537,
     "metadata": {},
     "output_type": "execute_result"
    }
   ],
   "source": [
    "#to print certain columns from a filtered set of rows\n",
    "\n",
    "df[(df['A']<0) & (df['B']>0)] [['C','D']] #has to satisfy cond1 and cond2 and prints C and D if satisfied"
   ]
  },
  {
   "cell_type": "markdown",
   "id": "73bd2ee5",
   "metadata": {},
   "source": [
    "## merging and concatenating dataframes"
   ]
  },
  {
   "cell_type": "markdown",
   "id": "38ba416b",
   "metadata": {},
   "source": [
    "## merging"
   ]
  },
  {
   "cell_type": "code",
   "execution_count": 538,
   "id": "d8ea0515",
   "metadata": {},
   "outputs": [],
   "source": [
    "#bringing 2 datasets together and aligning the rows based on common attributes\n",
    "\n",
    "#inner join -> returns only matching rows\n",
    "#outer join -> returns all rows in either left or right side\n",
    "#left join  -> returns left dataframe and NaN in unmatched right df elements\n",
    "#right join -> returns right dataframe and NaN in unmatched left df elements"
   ]
  },
  {
   "cell_type": "markdown",
   "id": "b3ee5cec",
   "metadata": {},
   "source": [
    "## Merging"
   ]
  },
  {
   "cell_type": "code",
   "execution_count": null,
   "id": "0477359a",
   "metadata": {},
   "outputs": [],
   "source": [
    "import pandas as pd"
   ]
  },
  {
   "cell_type": "code",
   "execution_count": null,
   "id": "1dd2cc56",
   "metadata": {},
   "outputs": [],
   "source": [
    "data1=pd.read_csv('market_fact.csv')\n",
    "data2=pd.read_csv('orders_dimen.csv')"
   ]
  },
  {
   "cell_type": "code",
   "execution_count": null,
   "id": "a4faf49a",
   "metadata": {},
   "outputs": [
    {
     "data": {
      "text/html": [
       "<div>\n",
       "<style scoped>\n",
       "    .dataframe tbody tr th:only-of-type {\n",
       "        vertical-align: middle;\n",
       "    }\n",
       "\n",
       "    .dataframe tbody tr th {\n",
       "        vertical-align: top;\n",
       "    }\n",
       "\n",
       "    .dataframe thead th {\n",
       "        text-align: right;\n",
       "    }\n",
       "</style>\n",
       "<table border=\"1\" class=\"dataframe\">\n",
       "  <thead>\n",
       "    <tr style=\"text-align: right;\">\n",
       "      <th></th>\n",
       "      <th>Ord_id</th>\n",
       "      <th>Prod_id</th>\n",
       "      <th>Ship_id</th>\n",
       "      <th>Cust_id</th>\n",
       "      <th>Sales</th>\n",
       "      <th>Discount</th>\n",
       "      <th>Order_Quantity</th>\n",
       "      <th>Profit</th>\n",
       "      <th>Shipping_Cost</th>\n",
       "      <th>Product_Base_Margin</th>\n",
       "    </tr>\n",
       "  </thead>\n",
       "  <tbody>\n",
       "    <tr>\n",
       "      <th>0</th>\n",
       "      <td>Ord_5446</td>\n",
       "      <td>Prod_16</td>\n",
       "      <td>SHP_7609</td>\n",
       "      <td>Cust_1818</td>\n",
       "      <td>136.81</td>\n",
       "      <td>0.01</td>\n",
       "      <td>23</td>\n",
       "      <td>-30.51</td>\n",
       "      <td>3.60</td>\n",
       "      <td>0.56</td>\n",
       "    </tr>\n",
       "    <tr>\n",
       "      <th>1</th>\n",
       "      <td>Ord_5406</td>\n",
       "      <td>Prod_13</td>\n",
       "      <td>SHP_7549</td>\n",
       "      <td>Cust_1818</td>\n",
       "      <td>42.27</td>\n",
       "      <td>0.01</td>\n",
       "      <td>13</td>\n",
       "      <td>4.56</td>\n",
       "      <td>0.93</td>\n",
       "      <td>0.54</td>\n",
       "    </tr>\n",
       "    <tr>\n",
       "      <th>2</th>\n",
       "      <td>Ord_5446</td>\n",
       "      <td>Prod_4</td>\n",
       "      <td>SHP_7610</td>\n",
       "      <td>Cust_1818</td>\n",
       "      <td>4701.69</td>\n",
       "      <td>0.00</td>\n",
       "      <td>26</td>\n",
       "      <td>1148.90</td>\n",
       "      <td>2.50</td>\n",
       "      <td>0.59</td>\n",
       "    </tr>\n",
       "    <tr>\n",
       "      <th>3</th>\n",
       "      <td>Ord_5456</td>\n",
       "      <td>Prod_6</td>\n",
       "      <td>SHP_7625</td>\n",
       "      <td>Cust_1818</td>\n",
       "      <td>2337.89</td>\n",
       "      <td>0.09</td>\n",
       "      <td>43</td>\n",
       "      <td>729.34</td>\n",
       "      <td>14.30</td>\n",
       "      <td>0.37</td>\n",
       "    </tr>\n",
       "    <tr>\n",
       "      <th>4</th>\n",
       "      <td>Ord_5485</td>\n",
       "      <td>Prod_17</td>\n",
       "      <td>SHP_7664</td>\n",
       "      <td>Cust_1818</td>\n",
       "      <td>4233.15</td>\n",
       "      <td>0.08</td>\n",
       "      <td>35</td>\n",
       "      <td>1219.87</td>\n",
       "      <td>26.30</td>\n",
       "      <td>0.38</td>\n",
       "    </tr>\n",
       "  </tbody>\n",
       "</table>\n",
       "</div>"
      ],
      "text/plain": [
       "     Ord_id  Prod_id   Ship_id    Cust_id    Sales  Discount  Order_Quantity  \\\n",
       "0  Ord_5446  Prod_16  SHP_7609  Cust_1818   136.81      0.01              23   \n",
       "1  Ord_5406  Prod_13  SHP_7549  Cust_1818    42.27      0.01              13   \n",
       "2  Ord_5446   Prod_4  SHP_7610  Cust_1818  4701.69      0.00              26   \n",
       "3  Ord_5456   Prod_6  SHP_7625  Cust_1818  2337.89      0.09              43   \n",
       "4  Ord_5485  Prod_17  SHP_7664  Cust_1818  4233.15      0.08              35   \n",
       "\n",
       "    Profit  Shipping_Cost  Product_Base_Margin  \n",
       "0   -30.51           3.60                 0.56  \n",
       "1     4.56           0.93                 0.54  \n",
       "2  1148.90           2.50                 0.59  \n",
       "3   729.34          14.30                 0.37  \n",
       "4  1219.87          26.30                 0.38  "
      ]
     },
     "metadata": {},
     "output_type": "display_data"
    }
   ],
   "source": [
    "data1.head()"
   ]
  },
  {
   "cell_type": "code",
   "execution_count": null,
   "id": "08e0184a",
   "metadata": {},
   "outputs": [
    {
     "data": {
      "text/html": [
       "<div>\n",
       "<style scoped>\n",
       "    .dataframe tbody tr th:only-of-type {\n",
       "        vertical-align: middle;\n",
       "    }\n",
       "\n",
       "    .dataframe tbody tr th {\n",
       "        vertical-align: top;\n",
       "    }\n",
       "\n",
       "    .dataframe thead th {\n",
       "        text-align: right;\n",
       "    }\n",
       "</style>\n",
       "<table border=\"1\" class=\"dataframe\">\n",
       "  <thead>\n",
       "    <tr style=\"text-align: right;\">\n",
       "      <th></th>\n",
       "      <th>Order_ID</th>\n",
       "      <th>Order_Date</th>\n",
       "      <th>Order_Priority</th>\n",
       "      <th>Ord_id</th>\n",
       "    </tr>\n",
       "  </thead>\n",
       "  <tbody>\n",
       "    <tr>\n",
       "      <th>0</th>\n",
       "      <td>3</td>\n",
       "      <td>13-10-2010</td>\n",
       "      <td>LOW</td>\n",
       "      <td>Ord_1</td>\n",
       "    </tr>\n",
       "    <tr>\n",
       "      <th>1</th>\n",
       "      <td>293</td>\n",
       "      <td>01-10-2012</td>\n",
       "      <td>HIGH</td>\n",
       "      <td>Ord_2</td>\n",
       "    </tr>\n",
       "    <tr>\n",
       "      <th>2</th>\n",
       "      <td>483</td>\n",
       "      <td>10-07-2011</td>\n",
       "      <td>HIGH</td>\n",
       "      <td>Ord_3</td>\n",
       "    </tr>\n",
       "    <tr>\n",
       "      <th>3</th>\n",
       "      <td>515</td>\n",
       "      <td>28-08-2010</td>\n",
       "      <td>NOT SPECIFIED</td>\n",
       "      <td>Ord_4</td>\n",
       "    </tr>\n",
       "    <tr>\n",
       "      <th>4</th>\n",
       "      <td>613</td>\n",
       "      <td>17-06-2011</td>\n",
       "      <td>HIGH</td>\n",
       "      <td>Ord_5</td>\n",
       "    </tr>\n",
       "  </tbody>\n",
       "</table>\n",
       "</div>"
      ],
      "text/plain": [
       "   Order_ID  Order_Date Order_Priority Ord_id\n",
       "0         3  13-10-2010            LOW  Ord_1\n",
       "1       293  01-10-2012           HIGH  Ord_2\n",
       "2       483  10-07-2011           HIGH  Ord_3\n",
       "3       515  28-08-2010  NOT SPECIFIED  Ord_4\n",
       "4       613  17-06-2011           HIGH  Ord_5"
      ]
     },
     "metadata": {},
     "output_type": "display_data"
    }
   ],
   "source": [
    "data2.head()"
   ]
  },
  {
   "cell_type": "code",
   "execution_count": null,
   "id": "de8b92ef",
   "metadata": {},
   "outputs": [
    {
     "data": {
      "text/html": [
       "<div>\n",
       "<style scoped>\n",
       "    .dataframe tbody tr th:only-of-type {\n",
       "        vertical-align: middle;\n",
       "    }\n",
       "\n",
       "    .dataframe tbody tr th {\n",
       "        vertical-align: top;\n",
       "    }\n",
       "\n",
       "    .dataframe thead th {\n",
       "        text-align: right;\n",
       "    }\n",
       "</style>\n",
       "<table border=\"1\" class=\"dataframe\">\n",
       "  <thead>\n",
       "    <tr style=\"text-align: right;\">\n",
       "      <th></th>\n",
       "      <th>Ord_id</th>\n",
       "      <th>Prod_id</th>\n",
       "      <th>Ship_id</th>\n",
       "      <th>Cust_id</th>\n",
       "      <th>Sales</th>\n",
       "      <th>Discount</th>\n",
       "      <th>Order_Quantity</th>\n",
       "      <th>Profit</th>\n",
       "      <th>Shipping_Cost</th>\n",
       "      <th>Product_Base_Margin</th>\n",
       "      <th>Order_ID</th>\n",
       "      <th>Order_Date</th>\n",
       "      <th>Order_Priority</th>\n",
       "    </tr>\n",
       "  </thead>\n",
       "  <tbody>\n",
       "    <tr>\n",
       "      <th>0</th>\n",
       "      <td>Ord_5446</td>\n",
       "      <td>Prod_16</td>\n",
       "      <td>SHP_7609</td>\n",
       "      <td>Cust_1818</td>\n",
       "      <td>136.81</td>\n",
       "      <td>0.01</td>\n",
       "      <td>23</td>\n",
       "      <td>-30.51</td>\n",
       "      <td>3.60</td>\n",
       "      <td>0.56</td>\n",
       "      <td>36262</td>\n",
       "      <td>27-07-2010</td>\n",
       "      <td>NOT SPECIFIED</td>\n",
       "    </tr>\n",
       "    <tr>\n",
       "      <th>1</th>\n",
       "      <td>Ord_5446</td>\n",
       "      <td>Prod_4</td>\n",
       "      <td>SHP_7610</td>\n",
       "      <td>Cust_1818</td>\n",
       "      <td>4701.69</td>\n",
       "      <td>0.00</td>\n",
       "      <td>26</td>\n",
       "      <td>1148.90</td>\n",
       "      <td>2.50</td>\n",
       "      <td>0.59</td>\n",
       "      <td>36262</td>\n",
       "      <td>27-07-2010</td>\n",
       "      <td>NOT SPECIFIED</td>\n",
       "    </tr>\n",
       "    <tr>\n",
       "      <th>2</th>\n",
       "      <td>Ord_5446</td>\n",
       "      <td>Prod_6</td>\n",
       "      <td>SHP_7608</td>\n",
       "      <td>Cust_1818</td>\n",
       "      <td>164.02</td>\n",
       "      <td>0.03</td>\n",
       "      <td>23</td>\n",
       "      <td>-47.64</td>\n",
       "      <td>6.15</td>\n",
       "      <td>0.37</td>\n",
       "      <td>36262</td>\n",
       "      <td>27-07-2010</td>\n",
       "      <td>NOT SPECIFIED</td>\n",
       "    </tr>\n",
       "    <tr>\n",
       "      <th>3</th>\n",
       "      <td>Ord_5406</td>\n",
       "      <td>Prod_13</td>\n",
       "      <td>SHP_7549</td>\n",
       "      <td>Cust_1818</td>\n",
       "      <td>42.27</td>\n",
       "      <td>0.01</td>\n",
       "      <td>13</td>\n",
       "      <td>4.56</td>\n",
       "      <td>0.93</td>\n",
       "      <td>0.54</td>\n",
       "      <td>20513</td>\n",
       "      <td>07-07-2009</td>\n",
       "      <td>HIGH</td>\n",
       "    </tr>\n",
       "    <tr>\n",
       "      <th>4</th>\n",
       "      <td>Ord_5456</td>\n",
       "      <td>Prod_6</td>\n",
       "      <td>SHP_7625</td>\n",
       "      <td>Cust_1818</td>\n",
       "      <td>2337.89</td>\n",
       "      <td>0.09</td>\n",
       "      <td>43</td>\n",
       "      <td>729.34</td>\n",
       "      <td>14.30</td>\n",
       "      <td>0.37</td>\n",
       "      <td>39682</td>\n",
       "      <td>09-11-2010</td>\n",
       "      <td>MEDIUM</td>\n",
       "    </tr>\n",
       "  </tbody>\n",
       "</table>\n",
       "</div>"
      ],
      "text/plain": [
       "     Ord_id  Prod_id   Ship_id    Cust_id    Sales  Discount  Order_Quantity  \\\n",
       "0  Ord_5446  Prod_16  SHP_7609  Cust_1818   136.81      0.01              23   \n",
       "1  Ord_5446   Prod_4  SHP_7610  Cust_1818  4701.69      0.00              26   \n",
       "2  Ord_5446   Prod_6  SHP_7608  Cust_1818   164.02      0.03              23   \n",
       "3  Ord_5406  Prod_13  SHP_7549  Cust_1818    42.27      0.01              13   \n",
       "4  Ord_5456   Prod_6  SHP_7625  Cust_1818  2337.89      0.09              43   \n",
       "\n",
       "    Profit  Shipping_Cost  Product_Base_Margin  Order_ID  Order_Date  \\\n",
       "0   -30.51           3.60                 0.56     36262  27-07-2010   \n",
       "1  1148.90           2.50                 0.59     36262  27-07-2010   \n",
       "2   -47.64           6.15                 0.37     36262  27-07-2010   \n",
       "3     4.56           0.93                 0.54     20513  07-07-2009   \n",
       "4   729.34          14.30                 0.37     39682  09-11-2010   \n",
       "\n",
       "  Order_Priority  \n",
       "0  NOT SPECIFIED  \n",
       "1  NOT SPECIFIED  \n",
       "2  NOT SPECIFIED  \n",
       "3           HIGH  \n",
       "4         MEDIUM  "
      ]
     },
     "metadata": {},
     "output_type": "display_data"
    }
   ],
   "source": [
    "#Merging the two datasets\n",
    "cust_order = pd.merge(data1,data2, on = 'Ord_id', how = \"inner\")\n",
    "cust_order.head()"
   ]
  },
  {
   "cell_type": "markdown",
   "id": "9dca5524",
   "metadata": {},
   "source": [
    "## Concatenation"
   ]
  },
  {
   "cell_type": "code",
   "execution_count": null,
   "id": "3ccb2189",
   "metadata": {},
   "outputs": [],
   "source": [
    "# dataframes having the same columns\n",
    "df1 = pd.DataFrame({'Name': ['Arijit', 'Neeraj', 'Sakshi', 'Muskan'],\n",
    "                    'Age': [34, 30, 22, 33],\n",
    "                    'Gender': ['M', 'M', 'F', 'M']}\n",
    "                  )\n",
    "\n",
    "df2 = pd.DataFrame({'Name': ['Kartik', 'Veer', 'Preeti'],\n",
    "                    'Age': [31, 22, 19],\n",
    "                    'Gender': ['M', 'M', 'F']}\n",
    "                  )"
   ]
  },
  {
   "cell_type": "code",
   "execution_count": null,
   "id": "7bc02a53",
   "metadata": {},
   "outputs": [
    {
     "data": {
      "text/html": [
       "<div>\n",
       "<style scoped>\n",
       "    .dataframe tbody tr th:only-of-type {\n",
       "        vertical-align: middle;\n",
       "    }\n",
       "\n",
       "    .dataframe tbody tr th {\n",
       "        vertical-align: top;\n",
       "    }\n",
       "\n",
       "    .dataframe thead th {\n",
       "        text-align: right;\n",
       "    }\n",
       "</style>\n",
       "<table border=\"1\" class=\"dataframe\">\n",
       "  <thead>\n",
       "    <tr style=\"text-align: right;\">\n",
       "      <th></th>\n",
       "      <th>Name</th>\n",
       "      <th>Age</th>\n",
       "      <th>Gender</th>\n",
       "    </tr>\n",
       "  </thead>\n",
       "  <tbody>\n",
       "    <tr>\n",
       "      <th>0</th>\n",
       "      <td>Arijit</td>\n",
       "      <td>34</td>\n",
       "      <td>M</td>\n",
       "    </tr>\n",
       "    <tr>\n",
       "      <th>1</th>\n",
       "      <td>Neeraj</td>\n",
       "      <td>30</td>\n",
       "      <td>M</td>\n",
       "    </tr>\n",
       "    <tr>\n",
       "      <th>2</th>\n",
       "      <td>Sakshi</td>\n",
       "      <td>22</td>\n",
       "      <td>F</td>\n",
       "    </tr>\n",
       "    <tr>\n",
       "      <th>3</th>\n",
       "      <td>Muskan</td>\n",
       "      <td>33</td>\n",
       "      <td>M</td>\n",
       "    </tr>\n",
       "  </tbody>\n",
       "</table>\n",
       "</div>"
      ],
      "text/plain": [
       "     Name  Age Gender\n",
       "0  Arijit   34      M\n",
       "1  Neeraj   30      M\n",
       "2  Sakshi   22      F\n",
       "3  Muskan   33      M"
      ]
     },
     "metadata": {},
     "output_type": "display_data"
    }
   ],
   "source": [
    "df1"
   ]
  },
  {
   "cell_type": "code",
   "execution_count": null,
   "id": "a72f9b50",
   "metadata": {},
   "outputs": [
    {
     "data": {
      "text/html": [
       "<div>\n",
       "<style scoped>\n",
       "    .dataframe tbody tr th:only-of-type {\n",
       "        vertical-align: middle;\n",
       "    }\n",
       "\n",
       "    .dataframe tbody tr th {\n",
       "        vertical-align: top;\n",
       "    }\n",
       "\n",
       "    .dataframe thead th {\n",
       "        text-align: right;\n",
       "    }\n",
       "</style>\n",
       "<table border=\"1\" class=\"dataframe\">\n",
       "  <thead>\n",
       "    <tr style=\"text-align: right;\">\n",
       "      <th></th>\n",
       "      <th>Name</th>\n",
       "      <th>Age</th>\n",
       "      <th>Gender</th>\n",
       "    </tr>\n",
       "  </thead>\n",
       "  <tbody>\n",
       "    <tr>\n",
       "      <th>0</th>\n",
       "      <td>Kartik</td>\n",
       "      <td>31</td>\n",
       "      <td>M</td>\n",
       "    </tr>\n",
       "    <tr>\n",
       "      <th>1</th>\n",
       "      <td>Veer</td>\n",
       "      <td>22</td>\n",
       "      <td>M</td>\n",
       "    </tr>\n",
       "    <tr>\n",
       "      <th>2</th>\n",
       "      <td>Preeti</td>\n",
       "      <td>19</td>\n",
       "      <td>F</td>\n",
       "    </tr>\n",
       "  </tbody>\n",
       "</table>\n",
       "</div>"
      ],
      "text/plain": [
       "     Name  Age Gender\n",
       "0  Kartik   31      M\n",
       "1    Veer   22      M\n",
       "2  Preeti   19      F"
      ]
     },
     "metadata": {},
     "output_type": "display_data"
    }
   ],
   "source": [
    "df2"
   ]
  },
  {
   "cell_type": "code",
   "execution_count": null,
   "id": "99525643",
   "metadata": {},
   "outputs": [
    {
     "data": {
      "text/html": [
       "<div>\n",
       "<style scoped>\n",
       "    .dataframe tbody tr th:only-of-type {\n",
       "        vertical-align: middle;\n",
       "    }\n",
       "\n",
       "    .dataframe tbody tr th {\n",
       "        vertical-align: top;\n",
       "    }\n",
       "\n",
       "    .dataframe thead th {\n",
       "        text-align: right;\n",
       "    }\n",
       "</style>\n",
       "<table border=\"1\" class=\"dataframe\">\n",
       "  <thead>\n",
       "    <tr style=\"text-align: right;\">\n",
       "      <th></th>\n",
       "      <th>Name</th>\n",
       "      <th>Age</th>\n",
       "      <th>Gender</th>\n",
       "    </tr>\n",
       "  </thead>\n",
       "  <tbody>\n",
       "    <tr>\n",
       "      <th>0</th>\n",
       "      <td>Arijit</td>\n",
       "      <td>34</td>\n",
       "      <td>M</td>\n",
       "    </tr>\n",
       "    <tr>\n",
       "      <th>1</th>\n",
       "      <td>Neeraj</td>\n",
       "      <td>30</td>\n",
       "      <td>M</td>\n",
       "    </tr>\n",
       "    <tr>\n",
       "      <th>2</th>\n",
       "      <td>Sakshi</td>\n",
       "      <td>22</td>\n",
       "      <td>F</td>\n",
       "    </tr>\n",
       "    <tr>\n",
       "      <th>3</th>\n",
       "      <td>Muskan</td>\n",
       "      <td>33</td>\n",
       "      <td>M</td>\n",
       "    </tr>\n",
       "    <tr>\n",
       "      <th>4</th>\n",
       "      <td>Kartik</td>\n",
       "      <td>31</td>\n",
       "      <td>M</td>\n",
       "    </tr>\n",
       "    <tr>\n",
       "      <th>5</th>\n",
       "      <td>Veer</td>\n",
       "      <td>22</td>\n",
       "      <td>M</td>\n",
       "    </tr>\n",
       "    <tr>\n",
       "      <th>6</th>\n",
       "      <td>Preeti</td>\n",
       "      <td>19</td>\n",
       "      <td>F</td>\n",
       "    </tr>\n",
       "  </tbody>\n",
       "</table>\n",
       "</div>"
      ],
      "text/plain": [
       "     Name  Age Gender\n",
       "0  Arijit   34      M\n",
       "1  Neeraj   30      M\n",
       "2  Sakshi   22      F\n",
       "3  Muskan   33      M\n",
       "4  Kartik   31      M\n",
       "5    Veer   22      M\n",
       "6  Preeti   19      F"
      ]
     },
     "metadata": {},
     "output_type": "display_data"
    }
   ],
   "source": [
    "df = pd.concat([df1, df2], axis = 0)\n",
    "df= df.reset_index()\n",
    "df = df.drop(['index'], axis = 1)\n",
    "df"
   ]
  },
  {
   "cell_type": "code",
   "execution_count": null,
   "id": "8641fbee",
   "metadata": {},
   "outputs": [
    {
     "data": {
      "text/html": [
       "<div>\n",
       "<style scoped>\n",
       "    .dataframe tbody tr th:only-of-type {\n",
       "        vertical-align: middle;\n",
       "    }\n",
       "\n",
       "    .dataframe tbody tr th {\n",
       "        vertical-align: top;\n",
       "    }\n",
       "\n",
       "    .dataframe thead th {\n",
       "        text-align: right;\n",
       "    }\n",
       "</style>\n",
       "<table border=\"1\" class=\"dataframe\">\n",
       "  <thead>\n",
       "    <tr style=\"text-align: right;\">\n",
       "      <th></th>\n",
       "      <th>Name</th>\n",
       "      <th>Age</th>\n",
       "      <th>Gender</th>\n",
       "    </tr>\n",
       "  </thead>\n",
       "  <tbody>\n",
       "    <tr>\n",
       "      <th>0</th>\n",
       "      <td>Arijit</td>\n",
       "      <td>34</td>\n",
       "      <td>M</td>\n",
       "    </tr>\n",
       "    <tr>\n",
       "      <th>1</th>\n",
       "      <td>Neeraj</td>\n",
       "      <td>30</td>\n",
       "      <td>M</td>\n",
       "    </tr>\n",
       "    <tr>\n",
       "      <th>2</th>\n",
       "      <td>Sakshi</td>\n",
       "      <td>22</td>\n",
       "      <td>F</td>\n",
       "    </tr>\n",
       "    <tr>\n",
       "      <th>3</th>\n",
       "      <td>Muskan</td>\n",
       "      <td>33</td>\n",
       "      <td>M</td>\n",
       "    </tr>\n",
       "    <tr>\n",
       "      <th>4</th>\n",
       "      <td>Kartik</td>\n",
       "      <td>31</td>\n",
       "      <td>M</td>\n",
       "    </tr>\n",
       "    <tr>\n",
       "      <th>5</th>\n",
       "      <td>Veer</td>\n",
       "      <td>22</td>\n",
       "      <td>M</td>\n",
       "    </tr>\n",
       "    <tr>\n",
       "      <th>6</th>\n",
       "      <td>Preeti</td>\n",
       "      <td>19</td>\n",
       "      <td>F</td>\n",
       "    </tr>\n",
       "  </tbody>\n",
       "</table>\n",
       "</div>"
      ],
      "text/plain": [
       "     Name  Age Gender\n",
       "0  Arijit   34      M\n",
       "1  Neeraj   30      M\n",
       "2  Sakshi   22      F\n",
       "3  Muskan   33      M\n",
       "4  Kartik   31      M\n",
       "5    Veer   22      M\n",
       "6  Preeti   19      F"
      ]
     },
     "metadata": {},
     "output_type": "display_data"
    }
   ],
   "source": [
    "df = df1.append(df2)\n",
    "df = df.reset_index()\n",
    "df = df.drop(['index'], axis = 1)\n",
    "df"
   ]
  },
  {
   "cell_type": "code",
   "execution_count": null,
   "id": "b4931866",
   "metadata": {},
   "outputs": [],
   "source": [
    "df1 = pd.DataFrame({'Name': ['Arijit', 'Neeraj', 'Sakshi', 'Muskan'],\n",
    "                    'Age': ['34', '30', '22', '33'],\n",
    "                    'Gender': ['M', 'M', 'F', 'M']}\n",
    "                  )\n",
    "df2 = pd.DataFrame({'School': ['KendraVidyalay', 'Delhi Public', 'Carmel Convent', 'St. Paul'],\n",
    "                    'Graduation Marks': ['84', '89', '76', '91']})"
   ]
  },
  {
   "cell_type": "code",
   "execution_count": null,
   "id": "652d4130",
   "metadata": {},
   "outputs": [
    {
     "data": {
      "text/html": [
       "<div>\n",
       "<style scoped>\n",
       "    .dataframe tbody tr th:only-of-type {\n",
       "        vertical-align: middle;\n",
       "    }\n",
       "\n",
       "    .dataframe tbody tr th {\n",
       "        vertical-align: top;\n",
       "    }\n",
       "\n",
       "    .dataframe thead th {\n",
       "        text-align: right;\n",
       "    }\n",
       "</style>\n",
       "<table border=\"1\" class=\"dataframe\">\n",
       "  <thead>\n",
       "    <tr style=\"text-align: right;\">\n",
       "      <th></th>\n",
       "      <th>Name</th>\n",
       "      <th>Age</th>\n",
       "      <th>Gender</th>\n",
       "    </tr>\n",
       "  </thead>\n",
       "  <tbody>\n",
       "    <tr>\n",
       "      <th>0</th>\n",
       "      <td>Arijit</td>\n",
       "      <td>34</td>\n",
       "      <td>M</td>\n",
       "    </tr>\n",
       "    <tr>\n",
       "      <th>1</th>\n",
       "      <td>Neeraj</td>\n",
       "      <td>30</td>\n",
       "      <td>M</td>\n",
       "    </tr>\n",
       "    <tr>\n",
       "      <th>2</th>\n",
       "      <td>Sakshi</td>\n",
       "      <td>22</td>\n",
       "      <td>F</td>\n",
       "    </tr>\n",
       "    <tr>\n",
       "      <th>3</th>\n",
       "      <td>Muskan</td>\n",
       "      <td>33</td>\n",
       "      <td>M</td>\n",
       "    </tr>\n",
       "  </tbody>\n",
       "</table>\n",
       "</div>"
      ],
      "text/plain": [
       "     Name Age Gender\n",
       "0  Arijit  34      M\n",
       "1  Neeraj  30      M\n",
       "2  Sakshi  22      F\n",
       "3  Muskan  33      M"
      ]
     },
     "metadata": {},
     "output_type": "display_data"
    }
   ],
   "source": [
    "df1"
   ]
  },
  {
   "cell_type": "code",
   "execution_count": null,
   "id": "cbe5d81e",
   "metadata": {},
   "outputs": [
    {
     "data": {
      "text/html": [
       "<div>\n",
       "<style scoped>\n",
       "    .dataframe tbody tr th:only-of-type {\n",
       "        vertical-align: middle;\n",
       "    }\n",
       "\n",
       "    .dataframe tbody tr th {\n",
       "        vertical-align: top;\n",
       "    }\n",
       "\n",
       "    .dataframe thead th {\n",
       "        text-align: right;\n",
       "    }\n",
       "</style>\n",
       "<table border=\"1\" class=\"dataframe\">\n",
       "  <thead>\n",
       "    <tr style=\"text-align: right;\">\n",
       "      <th></th>\n",
       "      <th>School</th>\n",
       "      <th>Graduation Marks</th>\n",
       "    </tr>\n",
       "  </thead>\n",
       "  <tbody>\n",
       "    <tr>\n",
       "      <th>0</th>\n",
       "      <td>KendraVidyalay</td>\n",
       "      <td>84</td>\n",
       "    </tr>\n",
       "    <tr>\n",
       "      <th>1</th>\n",
       "      <td>Delhi Public</td>\n",
       "      <td>89</td>\n",
       "    </tr>\n",
       "    <tr>\n",
       "      <th>2</th>\n",
       "      <td>Carmel Convent</td>\n",
       "      <td>76</td>\n",
       "    </tr>\n",
       "    <tr>\n",
       "      <th>3</th>\n",
       "      <td>St. Paul</td>\n",
       "      <td>91</td>\n",
       "    </tr>\n",
       "  </tbody>\n",
       "</table>\n",
       "</div>"
      ],
      "text/plain": [
       "           School Graduation Marks\n",
       "0  KendraVidyalay               84\n",
       "1    Delhi Public               89\n",
       "2  Carmel Convent               76\n",
       "3        St. Paul               91"
      ]
     },
     "metadata": {},
     "output_type": "display_data"
    }
   ],
   "source": [
    "df2"
   ]
  },
  {
   "cell_type": "code",
   "execution_count": null,
   "id": "ce2c8665",
   "metadata": {},
   "outputs": [
    {
     "data": {
      "text/html": [
       "<div>\n",
       "<style scoped>\n",
       "    .dataframe tbody tr th:only-of-type {\n",
       "        vertical-align: middle;\n",
       "    }\n",
       "\n",
       "    .dataframe tbody tr th {\n",
       "        vertical-align: top;\n",
       "    }\n",
       "\n",
       "    .dataframe thead th {\n",
       "        text-align: right;\n",
       "    }\n",
       "</style>\n",
       "<table border=\"1\" class=\"dataframe\">\n",
       "  <thead>\n",
       "    <tr style=\"text-align: right;\">\n",
       "      <th></th>\n",
       "      <th>Name</th>\n",
       "      <th>Age</th>\n",
       "      <th>Gender</th>\n",
       "      <th>School</th>\n",
       "      <th>Graduation Marks</th>\n",
       "    </tr>\n",
       "  </thead>\n",
       "  <tbody>\n",
       "    <tr>\n",
       "      <th>0</th>\n",
       "      <td>Arijit</td>\n",
       "      <td>34</td>\n",
       "      <td>M</td>\n",
       "      <td>KendraVidyalay</td>\n",
       "      <td>84</td>\n",
       "    </tr>\n",
       "    <tr>\n",
       "      <th>1</th>\n",
       "      <td>Neeraj</td>\n",
       "      <td>30</td>\n",
       "      <td>M</td>\n",
       "      <td>Delhi Public</td>\n",
       "      <td>89</td>\n",
       "    </tr>\n",
       "    <tr>\n",
       "      <th>2</th>\n",
       "      <td>Sakshi</td>\n",
       "      <td>22</td>\n",
       "      <td>F</td>\n",
       "      <td>Carmel Convent</td>\n",
       "      <td>76</td>\n",
       "    </tr>\n",
       "    <tr>\n",
       "      <th>3</th>\n",
       "      <td>Muskan</td>\n",
       "      <td>33</td>\n",
       "      <td>M</td>\n",
       "      <td>St. Paul</td>\n",
       "      <td>91</td>\n",
       "    </tr>\n",
       "  </tbody>\n",
       "</table>\n",
       "</div>"
      ],
      "text/plain": [
       "     Name Age Gender          School Graduation Marks\n",
       "0  Arijit  34      M  KendraVidyalay               84\n",
       "1  Neeraj  30      M    Delhi Public               89\n",
       "2  Sakshi  22      F  Carmel Convent               76\n",
       "3  Muskan  33      M        St. Paul               91"
      ]
     },
     "metadata": {},
     "output_type": "display_data"
    }
   ],
   "source": [
    "df = pd.concat([df1,df2], axis = 1)\n",
    "df"
   ]
  },
  {
   "cell_type": "markdown",
   "id": "7751b8c4",
   "metadata": {},
   "source": [
    "## Merging"
   ]
  },
  {
   "cell_type": "code",
   "execution_count": null,
   "id": "1a48871b",
   "metadata": {},
   "outputs": [],
   "source": [
    "import pandas as pd"
   ]
  },
  {
   "cell_type": "code",
   "execution_count": null,
   "id": "95817e25",
   "metadata": {},
   "outputs": [],
   "source": [
    "data1=pd.read_csv('market_fact.csv')\n",
    "data2=pd.read_csv('orders_dimen.csv')"
   ]
  },
  {
   "cell_type": "code",
   "execution_count": null,
   "id": "e9c35ffb",
   "metadata": {},
   "outputs": [
    {
     "data": {
      "text/html": [
       "<div>\n",
       "<style scoped>\n",
       "    .dataframe tbody tr th:only-of-type {\n",
       "        vertical-align: middle;\n",
       "    }\n",
       "\n",
       "    .dataframe tbody tr th {\n",
       "        vertical-align: top;\n",
       "    }\n",
       "\n",
       "    .dataframe thead th {\n",
       "        text-align: right;\n",
       "    }\n",
       "</style>\n",
       "<table border=\"1\" class=\"dataframe\">\n",
       "  <thead>\n",
       "    <tr style=\"text-align: right;\">\n",
       "      <th></th>\n",
       "      <th>Ord_id</th>\n",
       "      <th>Prod_id</th>\n",
       "      <th>Ship_id</th>\n",
       "      <th>Cust_id</th>\n",
       "      <th>Sales</th>\n",
       "      <th>Discount</th>\n",
       "      <th>Order_Quantity</th>\n",
       "      <th>Profit</th>\n",
       "      <th>Shipping_Cost</th>\n",
       "      <th>Product_Base_Margin</th>\n",
       "    </tr>\n",
       "  </thead>\n",
       "  <tbody>\n",
       "    <tr>\n",
       "      <th>0</th>\n",
       "      <td>Ord_5446</td>\n",
       "      <td>Prod_16</td>\n",
       "      <td>SHP_7609</td>\n",
       "      <td>Cust_1818</td>\n",
       "      <td>136.81</td>\n",
       "      <td>0.01</td>\n",
       "      <td>23</td>\n",
       "      <td>-30.51</td>\n",
       "      <td>3.60</td>\n",
       "      <td>0.56</td>\n",
       "    </tr>\n",
       "    <tr>\n",
       "      <th>1</th>\n",
       "      <td>Ord_5406</td>\n",
       "      <td>Prod_13</td>\n",
       "      <td>SHP_7549</td>\n",
       "      <td>Cust_1818</td>\n",
       "      <td>42.27</td>\n",
       "      <td>0.01</td>\n",
       "      <td>13</td>\n",
       "      <td>4.56</td>\n",
       "      <td>0.93</td>\n",
       "      <td>0.54</td>\n",
       "    </tr>\n",
       "    <tr>\n",
       "      <th>2</th>\n",
       "      <td>Ord_5446</td>\n",
       "      <td>Prod_4</td>\n",
       "      <td>SHP_7610</td>\n",
       "      <td>Cust_1818</td>\n",
       "      <td>4701.69</td>\n",
       "      <td>0.00</td>\n",
       "      <td>26</td>\n",
       "      <td>1148.90</td>\n",
       "      <td>2.50</td>\n",
       "      <td>0.59</td>\n",
       "    </tr>\n",
       "    <tr>\n",
       "      <th>3</th>\n",
       "      <td>Ord_5456</td>\n",
       "      <td>Prod_6</td>\n",
       "      <td>SHP_7625</td>\n",
       "      <td>Cust_1818</td>\n",
       "      <td>2337.89</td>\n",
       "      <td>0.09</td>\n",
       "      <td>43</td>\n",
       "      <td>729.34</td>\n",
       "      <td>14.30</td>\n",
       "      <td>0.37</td>\n",
       "    </tr>\n",
       "    <tr>\n",
       "      <th>4</th>\n",
       "      <td>Ord_5485</td>\n",
       "      <td>Prod_17</td>\n",
       "      <td>SHP_7664</td>\n",
       "      <td>Cust_1818</td>\n",
       "      <td>4233.15</td>\n",
       "      <td>0.08</td>\n",
       "      <td>35</td>\n",
       "      <td>1219.87</td>\n",
       "      <td>26.30</td>\n",
       "      <td>0.38</td>\n",
       "    </tr>\n",
       "  </tbody>\n",
       "</table>\n",
       "</div>"
      ],
      "text/plain": [
       "     Ord_id  Prod_id   Ship_id    Cust_id    Sales  Discount  Order_Quantity  \\\n",
       "0  Ord_5446  Prod_16  SHP_7609  Cust_1818   136.81      0.01              23   \n",
       "1  Ord_5406  Prod_13  SHP_7549  Cust_1818    42.27      0.01              13   \n",
       "2  Ord_5446   Prod_4  SHP_7610  Cust_1818  4701.69      0.00              26   \n",
       "3  Ord_5456   Prod_6  SHP_7625  Cust_1818  2337.89      0.09              43   \n",
       "4  Ord_5485  Prod_17  SHP_7664  Cust_1818  4233.15      0.08              35   \n",
       "\n",
       "    Profit  Shipping_Cost  Product_Base_Margin  \n",
       "0   -30.51           3.60                 0.56  \n",
       "1     4.56           0.93                 0.54  \n",
       "2  1148.90           2.50                 0.59  \n",
       "3   729.34          14.30                 0.37  \n",
       "4  1219.87          26.30                 0.38  "
      ]
     },
     "metadata": {},
     "output_type": "display_data"
    }
   ],
   "source": [
    "data1.head()"
   ]
  },
  {
   "cell_type": "code",
   "execution_count": null,
   "id": "2a31046c",
   "metadata": {},
   "outputs": [
    {
     "data": {
      "text/html": [
       "<div>\n",
       "<style scoped>\n",
       "    .dataframe tbody tr th:only-of-type {\n",
       "        vertical-align: middle;\n",
       "    }\n",
       "\n",
       "    .dataframe tbody tr th {\n",
       "        vertical-align: top;\n",
       "    }\n",
       "\n",
       "    .dataframe thead th {\n",
       "        text-align: right;\n",
       "    }\n",
       "</style>\n",
       "<table border=\"1\" class=\"dataframe\">\n",
       "  <thead>\n",
       "    <tr style=\"text-align: right;\">\n",
       "      <th></th>\n",
       "      <th>Order_ID</th>\n",
       "      <th>Order_Date</th>\n",
       "      <th>Order_Priority</th>\n",
       "      <th>Ord_id</th>\n",
       "    </tr>\n",
       "  </thead>\n",
       "  <tbody>\n",
       "    <tr>\n",
       "      <th>0</th>\n",
       "      <td>3</td>\n",
       "      <td>13-10-2010</td>\n",
       "      <td>LOW</td>\n",
       "      <td>Ord_1</td>\n",
       "    </tr>\n",
       "    <tr>\n",
       "      <th>1</th>\n",
       "      <td>293</td>\n",
       "      <td>01-10-2012</td>\n",
       "      <td>HIGH</td>\n",
       "      <td>Ord_2</td>\n",
       "    </tr>\n",
       "    <tr>\n",
       "      <th>2</th>\n",
       "      <td>483</td>\n",
       "      <td>10-07-2011</td>\n",
       "      <td>HIGH</td>\n",
       "      <td>Ord_3</td>\n",
       "    </tr>\n",
       "    <tr>\n",
       "      <th>3</th>\n",
       "      <td>515</td>\n",
       "      <td>28-08-2010</td>\n",
       "      <td>NOT SPECIFIED</td>\n",
       "      <td>Ord_4</td>\n",
       "    </tr>\n",
       "    <tr>\n",
       "      <th>4</th>\n",
       "      <td>613</td>\n",
       "      <td>17-06-2011</td>\n",
       "      <td>HIGH</td>\n",
       "      <td>Ord_5</td>\n",
       "    </tr>\n",
       "  </tbody>\n",
       "</table>\n",
       "</div>"
      ],
      "text/plain": [
       "   Order_ID  Order_Date Order_Priority Ord_id\n",
       "0         3  13-10-2010            LOW  Ord_1\n",
       "1       293  01-10-2012           HIGH  Ord_2\n",
       "2       483  10-07-2011           HIGH  Ord_3\n",
       "3       515  28-08-2010  NOT SPECIFIED  Ord_4\n",
       "4       613  17-06-2011           HIGH  Ord_5"
      ]
     },
     "metadata": {},
     "output_type": "display_data"
    }
   ],
   "source": [
    "data2.head()"
   ]
  },
  {
   "cell_type": "code",
   "execution_count": null,
   "id": "a32fc46b",
   "metadata": {},
   "outputs": [
    {
     "data": {
      "text/html": [
       "<div>\n",
       "<style scoped>\n",
       "    .dataframe tbody tr th:only-of-type {\n",
       "        vertical-align: middle;\n",
       "    }\n",
       "\n",
       "    .dataframe tbody tr th {\n",
       "        vertical-align: top;\n",
       "    }\n",
       "\n",
       "    .dataframe thead th {\n",
       "        text-align: right;\n",
       "    }\n",
       "</style>\n",
       "<table border=\"1\" class=\"dataframe\">\n",
       "  <thead>\n",
       "    <tr style=\"text-align: right;\">\n",
       "      <th></th>\n",
       "      <th>Ord_id</th>\n",
       "      <th>Prod_id</th>\n",
       "      <th>Ship_id</th>\n",
       "      <th>Cust_id</th>\n",
       "      <th>Sales</th>\n",
       "      <th>Discount</th>\n",
       "      <th>Order_Quantity</th>\n",
       "      <th>Profit</th>\n",
       "      <th>Shipping_Cost</th>\n",
       "      <th>Product_Base_Margin</th>\n",
       "      <th>Order_ID</th>\n",
       "      <th>Order_Date</th>\n",
       "      <th>Order_Priority</th>\n",
       "    </tr>\n",
       "  </thead>\n",
       "  <tbody>\n",
       "    <tr>\n",
       "      <th>0</th>\n",
       "      <td>Ord_5446</td>\n",
       "      <td>Prod_16</td>\n",
       "      <td>SHP_7609</td>\n",
       "      <td>Cust_1818</td>\n",
       "      <td>136.81</td>\n",
       "      <td>0.01</td>\n",
       "      <td>23</td>\n",
       "      <td>-30.51</td>\n",
       "      <td>3.60</td>\n",
       "      <td>0.56</td>\n",
       "      <td>36262</td>\n",
       "      <td>27-07-2010</td>\n",
       "      <td>NOT SPECIFIED</td>\n",
       "    </tr>\n",
       "    <tr>\n",
       "      <th>1</th>\n",
       "      <td>Ord_5446</td>\n",
       "      <td>Prod_4</td>\n",
       "      <td>SHP_7610</td>\n",
       "      <td>Cust_1818</td>\n",
       "      <td>4701.69</td>\n",
       "      <td>0.00</td>\n",
       "      <td>26</td>\n",
       "      <td>1148.90</td>\n",
       "      <td>2.50</td>\n",
       "      <td>0.59</td>\n",
       "      <td>36262</td>\n",
       "      <td>27-07-2010</td>\n",
       "      <td>NOT SPECIFIED</td>\n",
       "    </tr>\n",
       "    <tr>\n",
       "      <th>2</th>\n",
       "      <td>Ord_5446</td>\n",
       "      <td>Prod_6</td>\n",
       "      <td>SHP_7608</td>\n",
       "      <td>Cust_1818</td>\n",
       "      <td>164.02</td>\n",
       "      <td>0.03</td>\n",
       "      <td>23</td>\n",
       "      <td>-47.64</td>\n",
       "      <td>6.15</td>\n",
       "      <td>0.37</td>\n",
       "      <td>36262</td>\n",
       "      <td>27-07-2010</td>\n",
       "      <td>NOT SPECIFIED</td>\n",
       "    </tr>\n",
       "    <tr>\n",
       "      <th>3</th>\n",
       "      <td>Ord_5406</td>\n",
       "      <td>Prod_13</td>\n",
       "      <td>SHP_7549</td>\n",
       "      <td>Cust_1818</td>\n",
       "      <td>42.27</td>\n",
       "      <td>0.01</td>\n",
       "      <td>13</td>\n",
       "      <td>4.56</td>\n",
       "      <td>0.93</td>\n",
       "      <td>0.54</td>\n",
       "      <td>20513</td>\n",
       "      <td>07-07-2009</td>\n",
       "      <td>HIGH</td>\n",
       "    </tr>\n",
       "    <tr>\n",
       "      <th>4</th>\n",
       "      <td>Ord_5456</td>\n",
       "      <td>Prod_6</td>\n",
       "      <td>SHP_7625</td>\n",
       "      <td>Cust_1818</td>\n",
       "      <td>2337.89</td>\n",
       "      <td>0.09</td>\n",
       "      <td>43</td>\n",
       "      <td>729.34</td>\n",
       "      <td>14.30</td>\n",
       "      <td>0.37</td>\n",
       "      <td>39682</td>\n",
       "      <td>09-11-2010</td>\n",
       "      <td>MEDIUM</td>\n",
       "    </tr>\n",
       "  </tbody>\n",
       "</table>\n",
       "</div>"
      ],
      "text/plain": [
       "     Ord_id  Prod_id   Ship_id    Cust_id    Sales  Discount  Order_Quantity  \\\n",
       "0  Ord_5446  Prod_16  SHP_7609  Cust_1818   136.81      0.01              23   \n",
       "1  Ord_5446   Prod_4  SHP_7610  Cust_1818  4701.69      0.00              26   \n",
       "2  Ord_5446   Prod_6  SHP_7608  Cust_1818   164.02      0.03              23   \n",
       "3  Ord_5406  Prod_13  SHP_7549  Cust_1818    42.27      0.01              13   \n",
       "4  Ord_5456   Prod_6  SHP_7625  Cust_1818  2337.89      0.09              43   \n",
       "\n",
       "    Profit  Shipping_Cost  Product_Base_Margin  Order_ID  Order_Date  \\\n",
       "0   -30.51           3.60                 0.56     36262  27-07-2010   \n",
       "1  1148.90           2.50                 0.59     36262  27-07-2010   \n",
       "2   -47.64           6.15                 0.37     36262  27-07-2010   \n",
       "3     4.56           0.93                 0.54     20513  07-07-2009   \n",
       "4   729.34          14.30                 0.37     39682  09-11-2010   \n",
       "\n",
       "  Order_Priority  \n",
       "0  NOT SPECIFIED  \n",
       "1  NOT SPECIFIED  \n",
       "2  NOT SPECIFIED  \n",
       "3           HIGH  \n",
       "4         MEDIUM  "
      ]
     },
     "metadata": {},
     "output_type": "display_data"
    }
   ],
   "source": [
    "#Merging the two datasets\n",
    "cust_order = pd.merge(data1,data2, on = 'Ord_id', how = \"inner\")\n",
    "cust_order.head()"
   ]
  },
  {
   "cell_type": "markdown",
   "id": "bf6bc5d9",
   "metadata": {},
   "source": [
    "## Concatenation"
   ]
  },
  {
   "cell_type": "code",
   "execution_count": null,
   "id": "8f4813fe",
   "metadata": {},
   "outputs": [],
   "source": [
    "# dataframes having the same columns\n",
    "df1 = pd.DataFrame({'Name': ['Arijit', 'Neeraj', 'Sakshi', 'Muskan'],\n",
    "                    'Age': [34, 30, 22, 33],\n",
    "                    'Gender': ['M', 'M', 'F', 'M']}\n",
    "                  )\n",
    "\n",
    "df2 = pd.DataFrame({'Name': ['Kartik', 'Veer', 'Preeti'],\n",
    "                    'Age': [31, 22, 19],\n",
    "                    'Gender': ['M', 'M', 'F']}\n",
    "                  )"
   ]
  },
  {
   "cell_type": "code",
   "execution_count": null,
   "id": "4ffc0ac1",
   "metadata": {},
   "outputs": [
    {
     "data": {
      "text/html": [
       "<div>\n",
       "<style scoped>\n",
       "    .dataframe tbody tr th:only-of-type {\n",
       "        vertical-align: middle;\n",
       "    }\n",
       "\n",
       "    .dataframe tbody tr th {\n",
       "        vertical-align: top;\n",
       "    }\n",
       "\n",
       "    .dataframe thead th {\n",
       "        text-align: right;\n",
       "    }\n",
       "</style>\n",
       "<table border=\"1\" class=\"dataframe\">\n",
       "  <thead>\n",
       "    <tr style=\"text-align: right;\">\n",
       "      <th></th>\n",
       "      <th>Name</th>\n",
       "      <th>Age</th>\n",
       "      <th>Gender</th>\n",
       "    </tr>\n",
       "  </thead>\n",
       "  <tbody>\n",
       "    <tr>\n",
       "      <th>0</th>\n",
       "      <td>Arijit</td>\n",
       "      <td>34</td>\n",
       "      <td>M</td>\n",
       "    </tr>\n",
       "    <tr>\n",
       "      <th>1</th>\n",
       "      <td>Neeraj</td>\n",
       "      <td>30</td>\n",
       "      <td>M</td>\n",
       "    </tr>\n",
       "    <tr>\n",
       "      <th>2</th>\n",
       "      <td>Sakshi</td>\n",
       "      <td>22</td>\n",
       "      <td>F</td>\n",
       "    </tr>\n",
       "    <tr>\n",
       "      <th>3</th>\n",
       "      <td>Muskan</td>\n",
       "      <td>33</td>\n",
       "      <td>M</td>\n",
       "    </tr>\n",
       "  </tbody>\n",
       "</table>\n",
       "</div>"
      ],
      "text/plain": [
       "     Name  Age Gender\n",
       "0  Arijit   34      M\n",
       "1  Neeraj   30      M\n",
       "2  Sakshi   22      F\n",
       "3  Muskan   33      M"
      ]
     },
     "metadata": {},
     "output_type": "display_data"
    }
   ],
   "source": [
    "df1"
   ]
  },
  {
   "cell_type": "code",
   "execution_count": null,
   "id": "5b4d58b0",
   "metadata": {},
   "outputs": [
    {
     "data": {
      "text/html": [
       "<div>\n",
       "<style scoped>\n",
       "    .dataframe tbody tr th:only-of-type {\n",
       "        vertical-align: middle;\n",
       "    }\n",
       "\n",
       "    .dataframe tbody tr th {\n",
       "        vertical-align: top;\n",
       "    }\n",
       "\n",
       "    .dataframe thead th {\n",
       "        text-align: right;\n",
       "    }\n",
       "</style>\n",
       "<table border=\"1\" class=\"dataframe\">\n",
       "  <thead>\n",
       "    <tr style=\"text-align: right;\">\n",
       "      <th></th>\n",
       "      <th>Name</th>\n",
       "      <th>Age</th>\n",
       "      <th>Gender</th>\n",
       "    </tr>\n",
       "  </thead>\n",
       "  <tbody>\n",
       "    <tr>\n",
       "      <th>0</th>\n",
       "      <td>Kartik</td>\n",
       "      <td>31</td>\n",
       "      <td>M</td>\n",
       "    </tr>\n",
       "    <tr>\n",
       "      <th>1</th>\n",
       "      <td>Veer</td>\n",
       "      <td>22</td>\n",
       "      <td>M</td>\n",
       "    </tr>\n",
       "    <tr>\n",
       "      <th>2</th>\n",
       "      <td>Preeti</td>\n",
       "      <td>19</td>\n",
       "      <td>F</td>\n",
       "    </tr>\n",
       "  </tbody>\n",
       "</table>\n",
       "</div>"
      ],
      "text/plain": [
       "     Name  Age Gender\n",
       "0  Kartik   31      M\n",
       "1    Veer   22      M\n",
       "2  Preeti   19      F"
      ]
     },
     "metadata": {},
     "output_type": "display_data"
    }
   ],
   "source": [
    "df2"
   ]
  },
  {
   "cell_type": "code",
   "execution_count": null,
   "id": "e2d44357",
   "metadata": {},
   "outputs": [
    {
     "data": {
      "text/html": [
       "<div>\n",
       "<style scoped>\n",
       "    .dataframe tbody tr th:only-of-type {\n",
       "        vertical-align: middle;\n",
       "    }\n",
       "\n",
       "    .dataframe tbody tr th {\n",
       "        vertical-align: top;\n",
       "    }\n",
       "\n",
       "    .dataframe thead th {\n",
       "        text-align: right;\n",
       "    }\n",
       "</style>\n",
       "<table border=\"1\" class=\"dataframe\">\n",
       "  <thead>\n",
       "    <tr style=\"text-align: right;\">\n",
       "      <th></th>\n",
       "      <th>Name</th>\n",
       "      <th>Age</th>\n",
       "      <th>Gender</th>\n",
       "    </tr>\n",
       "  </thead>\n",
       "  <tbody>\n",
       "    <tr>\n",
       "      <th>0</th>\n",
       "      <td>Arijit</td>\n",
       "      <td>34</td>\n",
       "      <td>M</td>\n",
       "    </tr>\n",
       "    <tr>\n",
       "      <th>1</th>\n",
       "      <td>Neeraj</td>\n",
       "      <td>30</td>\n",
       "      <td>M</td>\n",
       "    </tr>\n",
       "    <tr>\n",
       "      <th>2</th>\n",
       "      <td>Sakshi</td>\n",
       "      <td>22</td>\n",
       "      <td>F</td>\n",
       "    </tr>\n",
       "    <tr>\n",
       "      <th>3</th>\n",
       "      <td>Muskan</td>\n",
       "      <td>33</td>\n",
       "      <td>M</td>\n",
       "    </tr>\n",
       "    <tr>\n",
       "      <th>4</th>\n",
       "      <td>Kartik</td>\n",
       "      <td>31</td>\n",
       "      <td>M</td>\n",
       "    </tr>\n",
       "    <tr>\n",
       "      <th>5</th>\n",
       "      <td>Veer</td>\n",
       "      <td>22</td>\n",
       "      <td>M</td>\n",
       "    </tr>\n",
       "    <tr>\n",
       "      <th>6</th>\n",
       "      <td>Preeti</td>\n",
       "      <td>19</td>\n",
       "      <td>F</td>\n",
       "    </tr>\n",
       "  </tbody>\n",
       "</table>\n",
       "</div>"
      ],
      "text/plain": [
       "     Name  Age Gender\n",
       "0  Arijit   34      M\n",
       "1  Neeraj   30      M\n",
       "2  Sakshi   22      F\n",
       "3  Muskan   33      M\n",
       "4  Kartik   31      M\n",
       "5    Veer   22      M\n",
       "6  Preeti   19      F"
      ]
     },
     "metadata": {},
     "output_type": "display_data"
    }
   ],
   "source": [
    "df = pd.concat([df1, df2], axis = 0)\n",
    "df= df.reset_index()\n",
    "df = df.drop(['index'], axis = 1)\n",
    "df"
   ]
  },
  {
   "cell_type": "code",
   "execution_count": null,
   "id": "b74c30df",
   "metadata": {},
   "outputs": [
    {
     "data": {
      "text/html": [
       "<div>\n",
       "<style scoped>\n",
       "    .dataframe tbody tr th:only-of-type {\n",
       "        vertical-align: middle;\n",
       "    }\n",
       "\n",
       "    .dataframe tbody tr th {\n",
       "        vertical-align: top;\n",
       "    }\n",
       "\n",
       "    .dataframe thead th {\n",
       "        text-align: right;\n",
       "    }\n",
       "</style>\n",
       "<table border=\"1\" class=\"dataframe\">\n",
       "  <thead>\n",
       "    <tr style=\"text-align: right;\">\n",
       "      <th></th>\n",
       "      <th>Name</th>\n",
       "      <th>Age</th>\n",
       "      <th>Gender</th>\n",
       "    </tr>\n",
       "  </thead>\n",
       "  <tbody>\n",
       "    <tr>\n",
       "      <th>0</th>\n",
       "      <td>Arijit</td>\n",
       "      <td>34</td>\n",
       "      <td>M</td>\n",
       "    </tr>\n",
       "    <tr>\n",
       "      <th>1</th>\n",
       "      <td>Neeraj</td>\n",
       "      <td>30</td>\n",
       "      <td>M</td>\n",
       "    </tr>\n",
       "    <tr>\n",
       "      <th>2</th>\n",
       "      <td>Sakshi</td>\n",
       "      <td>22</td>\n",
       "      <td>F</td>\n",
       "    </tr>\n",
       "    <tr>\n",
       "      <th>3</th>\n",
       "      <td>Muskan</td>\n",
       "      <td>33</td>\n",
       "      <td>M</td>\n",
       "    </tr>\n",
       "    <tr>\n",
       "      <th>4</th>\n",
       "      <td>Kartik</td>\n",
       "      <td>31</td>\n",
       "      <td>M</td>\n",
       "    </tr>\n",
       "    <tr>\n",
       "      <th>5</th>\n",
       "      <td>Veer</td>\n",
       "      <td>22</td>\n",
       "      <td>M</td>\n",
       "    </tr>\n",
       "    <tr>\n",
       "      <th>6</th>\n",
       "      <td>Preeti</td>\n",
       "      <td>19</td>\n",
       "      <td>F</td>\n",
       "    </tr>\n",
       "  </tbody>\n",
       "</table>\n",
       "</div>"
      ],
      "text/plain": [
       "     Name  Age Gender\n",
       "0  Arijit   34      M\n",
       "1  Neeraj   30      M\n",
       "2  Sakshi   22      F\n",
       "3  Muskan   33      M\n",
       "4  Kartik   31      M\n",
       "5    Veer   22      M\n",
       "6  Preeti   19      F"
      ]
     },
     "metadata": {},
     "output_type": "display_data"
    }
   ],
   "source": [
    "df = df1.append(df2)\n",
    "df = df.reset_index()\n",
    "df = df.drop(['index'], axis = 1)\n",
    "df"
   ]
  },
  {
   "cell_type": "code",
   "execution_count": null,
   "id": "18a82e77",
   "metadata": {},
   "outputs": [],
   "source": [
    "df1 = pd.DataFrame({'Name': ['Arijit', 'Neeraj', 'Sakshi', 'Muskan'],\n",
    "                    'Age': ['34', '30', '22', '33'],\n",
    "                    'Gender': ['M', 'M', 'F', 'M']}\n",
    "                  )\n",
    "df2 = pd.DataFrame({'School': ['KendraVidyalay', 'Delhi Public', 'Carmel Convent', 'St. Paul'],\n",
    "                    'Graduation Marks': ['84', '89', '76', '91']})"
   ]
  },
  {
   "cell_type": "code",
   "execution_count": null,
   "id": "801f1f66",
   "metadata": {},
   "outputs": [
    {
     "data": {
      "text/html": [
       "<div>\n",
       "<style scoped>\n",
       "    .dataframe tbody tr th:only-of-type {\n",
       "        vertical-align: middle;\n",
       "    }\n",
       "\n",
       "    .dataframe tbody tr th {\n",
       "        vertical-align: top;\n",
       "    }\n",
       "\n",
       "    .dataframe thead th {\n",
       "        text-align: right;\n",
       "    }\n",
       "</style>\n",
       "<table border=\"1\" class=\"dataframe\">\n",
       "  <thead>\n",
       "    <tr style=\"text-align: right;\">\n",
       "      <th></th>\n",
       "      <th>Name</th>\n",
       "      <th>Age</th>\n",
       "      <th>Gender</th>\n",
       "    </tr>\n",
       "  </thead>\n",
       "  <tbody>\n",
       "    <tr>\n",
       "      <th>0</th>\n",
       "      <td>Arijit</td>\n",
       "      <td>34</td>\n",
       "      <td>M</td>\n",
       "    </tr>\n",
       "    <tr>\n",
       "      <th>1</th>\n",
       "      <td>Neeraj</td>\n",
       "      <td>30</td>\n",
       "      <td>M</td>\n",
       "    </tr>\n",
       "    <tr>\n",
       "      <th>2</th>\n",
       "      <td>Sakshi</td>\n",
       "      <td>22</td>\n",
       "      <td>F</td>\n",
       "    </tr>\n",
       "    <tr>\n",
       "      <th>3</th>\n",
       "      <td>Muskan</td>\n",
       "      <td>33</td>\n",
       "      <td>M</td>\n",
       "    </tr>\n",
       "  </tbody>\n",
       "</table>\n",
       "</div>"
      ],
      "text/plain": [
       "     Name Age Gender\n",
       "0  Arijit  34      M\n",
       "1  Neeraj  30      M\n",
       "2  Sakshi  22      F\n",
       "3  Muskan  33      M"
      ]
     },
     "metadata": {},
     "output_type": "display_data"
    }
   ],
   "source": [
    "df1"
   ]
  },
  {
   "cell_type": "code",
   "execution_count": null,
   "id": "55ef16b1",
   "metadata": {},
   "outputs": [
    {
     "data": {
      "text/html": [
       "<div>\n",
       "<style scoped>\n",
       "    .dataframe tbody tr th:only-of-type {\n",
       "        vertical-align: middle;\n",
       "    }\n",
       "\n",
       "    .dataframe tbody tr th {\n",
       "        vertical-align: top;\n",
       "    }\n",
       "\n",
       "    .dataframe thead th {\n",
       "        text-align: right;\n",
       "    }\n",
       "</style>\n",
       "<table border=\"1\" class=\"dataframe\">\n",
       "  <thead>\n",
       "    <tr style=\"text-align: right;\">\n",
       "      <th></th>\n",
       "      <th>School</th>\n",
       "      <th>Graduation Marks</th>\n",
       "    </tr>\n",
       "  </thead>\n",
       "  <tbody>\n",
       "    <tr>\n",
       "      <th>0</th>\n",
       "      <td>KendraVidyalay</td>\n",
       "      <td>84</td>\n",
       "    </tr>\n",
       "    <tr>\n",
       "      <th>1</th>\n",
       "      <td>Delhi Public</td>\n",
       "      <td>89</td>\n",
       "    </tr>\n",
       "    <tr>\n",
       "      <th>2</th>\n",
       "      <td>Carmel Convent</td>\n",
       "      <td>76</td>\n",
       "    </tr>\n",
       "    <tr>\n",
       "      <th>3</th>\n",
       "      <td>St. Paul</td>\n",
       "      <td>91</td>\n",
       "    </tr>\n",
       "  </tbody>\n",
       "</table>\n",
       "</div>"
      ],
      "text/plain": [
       "           School Graduation Marks\n",
       "0  KendraVidyalay               84\n",
       "1    Delhi Public               89\n",
       "2  Carmel Convent               76\n",
       "3        St. Paul               91"
      ]
     },
     "metadata": {},
     "output_type": "display_data"
    }
   ],
   "source": [
    "df2"
   ]
  },
  {
   "cell_type": "code",
   "execution_count": null,
   "id": "33bb6b9e",
   "metadata": {},
   "outputs": [
    {
     "data": {
      "text/html": [
       "<div>\n",
       "<style scoped>\n",
       "    .dataframe tbody tr th:only-of-type {\n",
       "        vertical-align: middle;\n",
       "    }\n",
       "\n",
       "    .dataframe tbody tr th {\n",
       "        vertical-align: top;\n",
       "    }\n",
       "\n",
       "    .dataframe thead th {\n",
       "        text-align: right;\n",
       "    }\n",
       "</style>\n",
       "<table border=\"1\" class=\"dataframe\">\n",
       "  <thead>\n",
       "    <tr style=\"text-align: right;\">\n",
       "      <th></th>\n",
       "      <th>Name</th>\n",
       "      <th>Age</th>\n",
       "      <th>Gender</th>\n",
       "      <th>School</th>\n",
       "      <th>Graduation Marks</th>\n",
       "    </tr>\n",
       "  </thead>\n",
       "  <tbody>\n",
       "    <tr>\n",
       "      <th>0</th>\n",
       "      <td>Arijit</td>\n",
       "      <td>34</td>\n",
       "      <td>M</td>\n",
       "      <td>KendraVidyalay</td>\n",
       "      <td>84</td>\n",
       "    </tr>\n",
       "    <tr>\n",
       "      <th>1</th>\n",
       "      <td>Neeraj</td>\n",
       "      <td>30</td>\n",
       "      <td>M</td>\n",
       "      <td>Delhi Public</td>\n",
       "      <td>89</td>\n",
       "    </tr>\n",
       "    <tr>\n",
       "      <th>2</th>\n",
       "      <td>Sakshi</td>\n",
       "      <td>22</td>\n",
       "      <td>F</td>\n",
       "      <td>Carmel Convent</td>\n",
       "      <td>76</td>\n",
       "    </tr>\n",
       "    <tr>\n",
       "      <th>3</th>\n",
       "      <td>Muskan</td>\n",
       "      <td>33</td>\n",
       "      <td>M</td>\n",
       "      <td>St. Paul</td>\n",
       "      <td>91</td>\n",
       "    </tr>\n",
       "  </tbody>\n",
       "</table>\n",
       "</div>"
      ],
      "text/plain": [
       "     Name Age Gender          School Graduation Marks\n",
       "0  Arijit  34      M  KendraVidyalay               84\n",
       "1  Neeraj  30      M    Delhi Public               89\n",
       "2  Sakshi  22      F  Carmel Convent               76\n",
       "3  Muskan  33      M        St. Paul               91"
      ]
     },
     "metadata": {},
     "output_type": "display_data"
    }
   ],
   "source": [
    "df = pd.concat([df1,df2], axis = 1)\n",
    "df"
   ]
  },
  {
   "cell_type": "markdown",
   "id": "f5d50f3e",
   "metadata": {},
   "source": [
    "## lambda map and apply functions"
   ]
  },
  {
   "cell_type": "markdown",
   "id": "afcfacc8",
   "metadata": {},
   "source": [
    "-> map functions calls the specified function for each item of an iterable and returns a list of results<br>\n",
    "-> used only on series<br>"
   ]
  },
  {
   "cell_type": "code",
   "execution_count": 540,
   "id": "cf3add78",
   "metadata": {},
   "outputs": [
    {
     "data": {
      "text/html": [
       "<div>\n",
       "<style scoped>\n",
       "    .dataframe tbody tr th:only-of-type {\n",
       "        vertical-align: middle;\n",
       "    }\n",
       "\n",
       "    .dataframe tbody tr th {\n",
       "        vertical-align: top;\n",
       "    }\n",
       "\n",
       "    .dataframe thead th {\n",
       "        text-align: right;\n",
       "    }\n",
       "</style>\n",
       "<table border=\"1\" class=\"dataframe\">\n",
       "  <thead>\n",
       "    <tr style=\"text-align: right;\">\n",
       "      <th></th>\n",
       "      <th>Age</th>\n",
       "      <th>Attrition</th>\n",
       "      <th>BusinessTravel</th>\n",
       "      <th>DailyRate</th>\n",
       "      <th>Department</th>\n",
       "      <th>DistanceFromHome</th>\n",
       "      <th>Education</th>\n",
       "      <th>EducationField</th>\n",
       "      <th>EmployeeCount</th>\n",
       "      <th>EmployeeNumber</th>\n",
       "      <th>...</th>\n",
       "      <th>RelationshipSatisfaction</th>\n",
       "      <th>StandardHours</th>\n",
       "      <th>StockOptionLevel</th>\n",
       "      <th>TotalWorkingYears</th>\n",
       "      <th>TrainingTimesLastYear</th>\n",
       "      <th>WorkLifeBalance</th>\n",
       "      <th>YearsAtCompany</th>\n",
       "      <th>YearsInCurrentRole</th>\n",
       "      <th>YearsSinceLastPromotion</th>\n",
       "      <th>YearsWithCurrManager</th>\n",
       "    </tr>\n",
       "  </thead>\n",
       "  <tbody>\n",
       "    <tr>\n",
       "      <th>0</th>\n",
       "      <td>41</td>\n",
       "      <td>Yes</td>\n",
       "      <td>Travel_Rarely</td>\n",
       "      <td>1102</td>\n",
       "      <td>Sales</td>\n",
       "      <td>1</td>\n",
       "      <td>2</td>\n",
       "      <td>Life Sciences</td>\n",
       "      <td>1</td>\n",
       "      <td>1</td>\n",
       "      <td>...</td>\n",
       "      <td>1</td>\n",
       "      <td>80</td>\n",
       "      <td>0</td>\n",
       "      <td>8</td>\n",
       "      <td>0</td>\n",
       "      <td>1</td>\n",
       "      <td>6</td>\n",
       "      <td>4</td>\n",
       "      <td>0</td>\n",
       "      <td>5</td>\n",
       "    </tr>\n",
       "    <tr>\n",
       "      <th>1</th>\n",
       "      <td>49</td>\n",
       "      <td>No</td>\n",
       "      <td>Travel_Frequently</td>\n",
       "      <td>279</td>\n",
       "      <td>Research &amp; Development</td>\n",
       "      <td>8</td>\n",
       "      <td>1</td>\n",
       "      <td>Life Sciences</td>\n",
       "      <td>1</td>\n",
       "      <td>2</td>\n",
       "      <td>...</td>\n",
       "      <td>4</td>\n",
       "      <td>80</td>\n",
       "      <td>1</td>\n",
       "      <td>10</td>\n",
       "      <td>3</td>\n",
       "      <td>3</td>\n",
       "      <td>10</td>\n",
       "      <td>7</td>\n",
       "      <td>1</td>\n",
       "      <td>7</td>\n",
       "    </tr>\n",
       "    <tr>\n",
       "      <th>2</th>\n",
       "      <td>37</td>\n",
       "      <td>Yes</td>\n",
       "      <td>Travel_Rarely</td>\n",
       "      <td>1373</td>\n",
       "      <td>Research &amp; Development</td>\n",
       "      <td>2</td>\n",
       "      <td>2</td>\n",
       "      <td>Other</td>\n",
       "      <td>1</td>\n",
       "      <td>4</td>\n",
       "      <td>...</td>\n",
       "      <td>2</td>\n",
       "      <td>80</td>\n",
       "      <td>0</td>\n",
       "      <td>7</td>\n",
       "      <td>3</td>\n",
       "      <td>3</td>\n",
       "      <td>0</td>\n",
       "      <td>0</td>\n",
       "      <td>0</td>\n",
       "      <td>0</td>\n",
       "    </tr>\n",
       "    <tr>\n",
       "      <th>3</th>\n",
       "      <td>33</td>\n",
       "      <td>No</td>\n",
       "      <td>Travel_Frequently</td>\n",
       "      <td>1392</td>\n",
       "      <td>Research &amp; Development</td>\n",
       "      <td>3</td>\n",
       "      <td>4</td>\n",
       "      <td>Life Sciences</td>\n",
       "      <td>1</td>\n",
       "      <td>5</td>\n",
       "      <td>...</td>\n",
       "      <td>3</td>\n",
       "      <td>80</td>\n",
       "      <td>0</td>\n",
       "      <td>8</td>\n",
       "      <td>3</td>\n",
       "      <td>3</td>\n",
       "      <td>8</td>\n",
       "      <td>7</td>\n",
       "      <td>3</td>\n",
       "      <td>0</td>\n",
       "    </tr>\n",
       "    <tr>\n",
       "      <th>4</th>\n",
       "      <td>27</td>\n",
       "      <td>No</td>\n",
       "      <td>Travel_Rarely</td>\n",
       "      <td>591</td>\n",
       "      <td>Research &amp; Development</td>\n",
       "      <td>2</td>\n",
       "      <td>1</td>\n",
       "      <td>Medical</td>\n",
       "      <td>1</td>\n",
       "      <td>7</td>\n",
       "      <td>...</td>\n",
       "      <td>4</td>\n",
       "      <td>80</td>\n",
       "      <td>1</td>\n",
       "      <td>6</td>\n",
       "      <td>3</td>\n",
       "      <td>3</td>\n",
       "      <td>2</td>\n",
       "      <td>2</td>\n",
       "      <td>2</td>\n",
       "      <td>2</td>\n",
       "    </tr>\n",
       "  </tbody>\n",
       "</table>\n",
       "<p>5 rows × 35 columns</p>\n",
       "</div>"
      ],
      "text/plain": [
       "   Age Attrition     BusinessTravel  DailyRate              Department  \\\n",
       "0   41       Yes      Travel_Rarely       1102                   Sales   \n",
       "1   49        No  Travel_Frequently        279  Research & Development   \n",
       "2   37       Yes      Travel_Rarely       1373  Research & Development   \n",
       "3   33        No  Travel_Frequently       1392  Research & Development   \n",
       "4   27        No      Travel_Rarely        591  Research & Development   \n",
       "\n",
       "   DistanceFromHome  Education EducationField  EmployeeCount  EmployeeNumber  \\\n",
       "0                 1          2  Life Sciences              1               1   \n",
       "1                 8          1  Life Sciences              1               2   \n",
       "2                 2          2          Other              1               4   \n",
       "3                 3          4  Life Sciences              1               5   \n",
       "4                 2          1        Medical              1               7   \n",
       "\n",
       "   ...  RelationshipSatisfaction StandardHours  StockOptionLevel  \\\n",
       "0  ...                         1            80                 0   \n",
       "1  ...                         4            80                 1   \n",
       "2  ...                         2            80                 0   \n",
       "3  ...                         3            80                 0   \n",
       "4  ...                         4            80                 1   \n",
       "\n",
       "   TotalWorkingYears  TrainingTimesLastYear WorkLifeBalance  YearsAtCompany  \\\n",
       "0                  8                      0               1               6   \n",
       "1                 10                      3               3              10   \n",
       "2                  7                      3               3               0   \n",
       "3                  8                      3               3               8   \n",
       "4                  6                      3               3               2   \n",
       "\n",
       "  YearsInCurrentRole  YearsSinceLastPromotion  YearsWithCurrManager  \n",
       "0                  4                        0                     5  \n",
       "1                  7                        1                     7  \n",
       "2                  0                        0                     0  \n",
       "3                  7                        3                     0  \n",
       "4                  2                        2                     2  \n",
       "\n",
       "[5 rows x 35 columns]"
      ]
     },
     "execution_count": 540,
     "metadata": {},
     "output_type": "execute_result"
    }
   ],
   "source": [
    "import numpy as np\n",
    "import pandas as pd\n",
    "\n",
    "# reading a dataset\n",
    "data = pd.read_csv('csv/employee.csv') #define path in quotes\n",
    "\n",
    "# checking first 5 rows of a dataset\n",
    "data.head()\n",
    "    "
   ]
  },
  {
   "cell_type": "code",
   "execution_count": 541,
   "id": "09295e39",
   "metadata": {},
   "outputs": [
    {
     "data": {
      "text/plain": [
       "0       110.2\n",
       "1        27.9\n",
       "2       137.3\n",
       "3       139.2\n",
       "4        59.1\n",
       "        ...  \n",
       "1465     88.4\n",
       "1466     61.3\n",
       "1467     15.5\n",
       "1468    102.3\n",
       "1469     62.8\n",
       "Name: DailyRate, Length: 1470, dtype: float64"
      ]
     },
     "execution_count": 541,
     "metadata": {},
     "output_type": "execute_result"
    }
   ],
   "source": [
    "# define function to divide dailyrate by 10\n",
    "def func(x):\n",
    "    return x/10\n",
    "\n",
    "# using map function on the dataset\n",
    "data['DailyRate'] = data['DailyRate'].map(func)\n",
    "data['DailyRate']"
   ]
  },
  {
   "cell_type": "code",
   "execution_count": 543,
   "id": "24b0a653",
   "metadata": {},
   "outputs": [],
   "source": [
    "# try using map function on a dataset (ie, multiple columns)\n",
    "# this is not possible since map is used only on a series,\n",
    "# not on a dataframe\n",
    "\n",
    "# data[['DailyRate', 'MonthlyRate']].map(func)"
   ]
  },
  {
   "cell_type": "code",
   "execution_count": 544,
   "id": "d9775d70",
   "metadata": {},
   "outputs": [
    {
     "data": {
      "text/html": [
       "<div>\n",
       "<style scoped>\n",
       "    .dataframe tbody tr th:only-of-type {\n",
       "        vertical-align: middle;\n",
       "    }\n",
       "\n",
       "    .dataframe tbody tr th {\n",
       "        vertical-align: top;\n",
       "    }\n",
       "\n",
       "    .dataframe thead th {\n",
       "        text-align: right;\n",
       "    }\n",
       "</style>\n",
       "<table border=\"1\" class=\"dataframe\">\n",
       "  <thead>\n",
       "    <tr style=\"text-align: right;\">\n",
       "      <th></th>\n",
       "      <th>Age</th>\n",
       "      <th>Attrition</th>\n",
       "      <th>BusinessTravel</th>\n",
       "      <th>DailyRate</th>\n",
       "      <th>Department</th>\n",
       "      <th>DistanceFromHome</th>\n",
       "      <th>Education</th>\n",
       "      <th>EducationField</th>\n",
       "      <th>EmployeeCount</th>\n",
       "      <th>EmployeeNumber</th>\n",
       "      <th>...</th>\n",
       "      <th>RelationshipSatisfaction</th>\n",
       "      <th>StandardHours</th>\n",
       "      <th>StockOptionLevel</th>\n",
       "      <th>TotalWorkingYears</th>\n",
       "      <th>TrainingTimesLastYear</th>\n",
       "      <th>WorkLifeBalance</th>\n",
       "      <th>YearsAtCompany</th>\n",
       "      <th>YearsInCurrentRole</th>\n",
       "      <th>YearsSinceLastPromotion</th>\n",
       "      <th>YearsWithCurrManager</th>\n",
       "    </tr>\n",
       "  </thead>\n",
       "  <tbody>\n",
       "    <tr>\n",
       "      <th>0</th>\n",
       "      <td>41</td>\n",
       "      <td>Yes</td>\n",
       "      <td>Travel_Rarely</td>\n",
       "      <td>110.2</td>\n",
       "      <td>Sales</td>\n",
       "      <td>1</td>\n",
       "      <td>2</td>\n",
       "      <td>Life Sciences</td>\n",
       "      <td>1</td>\n",
       "      <td>1</td>\n",
       "      <td>...</td>\n",
       "      <td>1</td>\n",
       "      <td>80</td>\n",
       "      <td>0</td>\n",
       "      <td>8</td>\n",
       "      <td>0</td>\n",
       "      <td>1</td>\n",
       "      <td>6</td>\n",
       "      <td>4</td>\n",
       "      <td>0</td>\n",
       "      <td>5</td>\n",
       "    </tr>\n",
       "    <tr>\n",
       "      <th>1</th>\n",
       "      <td>49</td>\n",
       "      <td>No</td>\n",
       "      <td>Travel_Frequently</td>\n",
       "      <td>27.9</td>\n",
       "      <td>Research &amp; Development</td>\n",
       "      <td>8</td>\n",
       "      <td>1</td>\n",
       "      <td>Life Sciences</td>\n",
       "      <td>1</td>\n",
       "      <td>2</td>\n",
       "      <td>...</td>\n",
       "      <td>4</td>\n",
       "      <td>80</td>\n",
       "      <td>1</td>\n",
       "      <td>10</td>\n",
       "      <td>3</td>\n",
       "      <td>3</td>\n",
       "      <td>10</td>\n",
       "      <td>7</td>\n",
       "      <td>1</td>\n",
       "      <td>7</td>\n",
       "    </tr>\n",
       "    <tr>\n",
       "      <th>2</th>\n",
       "      <td>37</td>\n",
       "      <td>Yes</td>\n",
       "      <td>Travel_Rarely</td>\n",
       "      <td>137.3</td>\n",
       "      <td>Research &amp; Development</td>\n",
       "      <td>2</td>\n",
       "      <td>2</td>\n",
       "      <td>Other</td>\n",
       "      <td>1</td>\n",
       "      <td>4</td>\n",
       "      <td>...</td>\n",
       "      <td>2</td>\n",
       "      <td>80</td>\n",
       "      <td>0</td>\n",
       "      <td>7</td>\n",
       "      <td>3</td>\n",
       "      <td>3</td>\n",
       "      <td>0</td>\n",
       "      <td>0</td>\n",
       "      <td>0</td>\n",
       "      <td>0</td>\n",
       "    </tr>\n",
       "    <tr>\n",
       "      <th>3</th>\n",
       "      <td>33</td>\n",
       "      <td>No</td>\n",
       "      <td>Travel_Frequently</td>\n",
       "      <td>139.2</td>\n",
       "      <td>Research &amp; Development</td>\n",
       "      <td>3</td>\n",
       "      <td>4</td>\n",
       "      <td>Life Sciences</td>\n",
       "      <td>1</td>\n",
       "      <td>5</td>\n",
       "      <td>...</td>\n",
       "      <td>3</td>\n",
       "      <td>80</td>\n",
       "      <td>0</td>\n",
       "      <td>8</td>\n",
       "      <td>3</td>\n",
       "      <td>3</td>\n",
       "      <td>8</td>\n",
       "      <td>7</td>\n",
       "      <td>3</td>\n",
       "      <td>0</td>\n",
       "    </tr>\n",
       "    <tr>\n",
       "      <th>4</th>\n",
       "      <td>27</td>\n",
       "      <td>No</td>\n",
       "      <td>Travel_Rarely</td>\n",
       "      <td>59.1</td>\n",
       "      <td>Research &amp; Development</td>\n",
       "      <td>2</td>\n",
       "      <td>1</td>\n",
       "      <td>Medical</td>\n",
       "      <td>1</td>\n",
       "      <td>7</td>\n",
       "      <td>...</td>\n",
       "      <td>4</td>\n",
       "      <td>80</td>\n",
       "      <td>1</td>\n",
       "      <td>6</td>\n",
       "      <td>3</td>\n",
       "      <td>3</td>\n",
       "      <td>2</td>\n",
       "      <td>2</td>\n",
       "      <td>2</td>\n",
       "      <td>2</td>\n",
       "    </tr>\n",
       "    <tr>\n",
       "      <th>...</th>\n",
       "      <td>...</td>\n",
       "      <td>...</td>\n",
       "      <td>...</td>\n",
       "      <td>...</td>\n",
       "      <td>...</td>\n",
       "      <td>...</td>\n",
       "      <td>...</td>\n",
       "      <td>...</td>\n",
       "      <td>...</td>\n",
       "      <td>...</td>\n",
       "      <td>...</td>\n",
       "      <td>...</td>\n",
       "      <td>...</td>\n",
       "      <td>...</td>\n",
       "      <td>...</td>\n",
       "      <td>...</td>\n",
       "      <td>...</td>\n",
       "      <td>...</td>\n",
       "      <td>...</td>\n",
       "      <td>...</td>\n",
       "      <td>...</td>\n",
       "    </tr>\n",
       "    <tr>\n",
       "      <th>1465</th>\n",
       "      <td>36</td>\n",
       "      <td>No</td>\n",
       "      <td>Travel_Frequently</td>\n",
       "      <td>88.4</td>\n",
       "      <td>Research &amp; Development</td>\n",
       "      <td>23</td>\n",
       "      <td>2</td>\n",
       "      <td>Medical</td>\n",
       "      <td>1</td>\n",
       "      <td>2061</td>\n",
       "      <td>...</td>\n",
       "      <td>3</td>\n",
       "      <td>80</td>\n",
       "      <td>1</td>\n",
       "      <td>17</td>\n",
       "      <td>3</td>\n",
       "      <td>3</td>\n",
       "      <td>5</td>\n",
       "      <td>2</td>\n",
       "      <td>0</td>\n",
       "      <td>3</td>\n",
       "    </tr>\n",
       "    <tr>\n",
       "      <th>1466</th>\n",
       "      <td>39</td>\n",
       "      <td>No</td>\n",
       "      <td>Travel_Rarely</td>\n",
       "      <td>61.3</td>\n",
       "      <td>Research &amp; Development</td>\n",
       "      <td>6</td>\n",
       "      <td>1</td>\n",
       "      <td>Medical</td>\n",
       "      <td>1</td>\n",
       "      <td>2062</td>\n",
       "      <td>...</td>\n",
       "      <td>1</td>\n",
       "      <td>80</td>\n",
       "      <td>1</td>\n",
       "      <td>9</td>\n",
       "      <td>5</td>\n",
       "      <td>3</td>\n",
       "      <td>7</td>\n",
       "      <td>7</td>\n",
       "      <td>1</td>\n",
       "      <td>7</td>\n",
       "    </tr>\n",
       "    <tr>\n",
       "      <th>1467</th>\n",
       "      <td>27</td>\n",
       "      <td>No</td>\n",
       "      <td>Travel_Rarely</td>\n",
       "      <td>15.5</td>\n",
       "      <td>Research &amp; Development</td>\n",
       "      <td>4</td>\n",
       "      <td>3</td>\n",
       "      <td>Life Sciences</td>\n",
       "      <td>1</td>\n",
       "      <td>2064</td>\n",
       "      <td>...</td>\n",
       "      <td>2</td>\n",
       "      <td>80</td>\n",
       "      <td>1</td>\n",
       "      <td>6</td>\n",
       "      <td>0</td>\n",
       "      <td>3</td>\n",
       "      <td>6</td>\n",
       "      <td>2</td>\n",
       "      <td>0</td>\n",
       "      <td>3</td>\n",
       "    </tr>\n",
       "    <tr>\n",
       "      <th>1468</th>\n",
       "      <td>49</td>\n",
       "      <td>No</td>\n",
       "      <td>Travel_Frequently</td>\n",
       "      <td>102.3</td>\n",
       "      <td>Sales</td>\n",
       "      <td>2</td>\n",
       "      <td>3</td>\n",
       "      <td>Medical</td>\n",
       "      <td>1</td>\n",
       "      <td>2065</td>\n",
       "      <td>...</td>\n",
       "      <td>4</td>\n",
       "      <td>80</td>\n",
       "      <td>0</td>\n",
       "      <td>17</td>\n",
       "      <td>3</td>\n",
       "      <td>2</td>\n",
       "      <td>9</td>\n",
       "      <td>6</td>\n",
       "      <td>0</td>\n",
       "      <td>8</td>\n",
       "    </tr>\n",
       "    <tr>\n",
       "      <th>1469</th>\n",
       "      <td>34</td>\n",
       "      <td>No</td>\n",
       "      <td>Travel_Rarely</td>\n",
       "      <td>62.8</td>\n",
       "      <td>Research &amp; Development</td>\n",
       "      <td>8</td>\n",
       "      <td>3</td>\n",
       "      <td>Medical</td>\n",
       "      <td>1</td>\n",
       "      <td>2068</td>\n",
       "      <td>...</td>\n",
       "      <td>1</td>\n",
       "      <td>80</td>\n",
       "      <td>0</td>\n",
       "      <td>6</td>\n",
       "      <td>3</td>\n",
       "      <td>4</td>\n",
       "      <td>4</td>\n",
       "      <td>3</td>\n",
       "      <td>1</td>\n",
       "      <td>2</td>\n",
       "    </tr>\n",
       "  </tbody>\n",
       "</table>\n",
       "<p>1470 rows × 35 columns</p>\n",
       "</div>"
      ],
      "text/plain": [
       "      Age Attrition     BusinessTravel  DailyRate              Department  \\\n",
       "0      41       Yes      Travel_Rarely      110.2                   Sales   \n",
       "1      49        No  Travel_Frequently       27.9  Research & Development   \n",
       "2      37       Yes      Travel_Rarely      137.3  Research & Development   \n",
       "3      33        No  Travel_Frequently      139.2  Research & Development   \n",
       "4      27        No      Travel_Rarely       59.1  Research & Development   \n",
       "...   ...       ...                ...        ...                     ...   \n",
       "1465   36        No  Travel_Frequently       88.4  Research & Development   \n",
       "1466   39        No      Travel_Rarely       61.3  Research & Development   \n",
       "1467   27        No      Travel_Rarely       15.5  Research & Development   \n",
       "1468   49        No  Travel_Frequently      102.3                   Sales   \n",
       "1469   34        No      Travel_Rarely       62.8  Research & Development   \n",
       "\n",
       "      DistanceFromHome  Education EducationField  EmployeeCount  \\\n",
       "0                    1          2  Life Sciences              1   \n",
       "1                    8          1  Life Sciences              1   \n",
       "2                    2          2          Other              1   \n",
       "3                    3          4  Life Sciences              1   \n",
       "4                    2          1        Medical              1   \n",
       "...                ...        ...            ...            ...   \n",
       "1465                23          2        Medical              1   \n",
       "1466                 6          1        Medical              1   \n",
       "1467                 4          3  Life Sciences              1   \n",
       "1468                 2          3        Medical              1   \n",
       "1469                 8          3        Medical              1   \n",
       "\n",
       "      EmployeeNumber  ...  RelationshipSatisfaction StandardHours  \\\n",
       "0                  1  ...                         1            80   \n",
       "1                  2  ...                         4            80   \n",
       "2                  4  ...                         2            80   \n",
       "3                  5  ...                         3            80   \n",
       "4                  7  ...                         4            80   \n",
       "...              ...  ...                       ...           ...   \n",
       "1465            2061  ...                         3            80   \n",
       "1466            2062  ...                         1            80   \n",
       "1467            2064  ...                         2            80   \n",
       "1468            2065  ...                         4            80   \n",
       "1469            2068  ...                         1            80   \n",
       "\n",
       "      StockOptionLevel  TotalWorkingYears  TrainingTimesLastYear  \\\n",
       "0                    0                  8                      0   \n",
       "1                    1                 10                      3   \n",
       "2                    0                  7                      3   \n",
       "3                    0                  8                      3   \n",
       "4                    1                  6                      3   \n",
       "...                ...                ...                    ...   \n",
       "1465                 1                 17                      3   \n",
       "1466                 1                  9                      5   \n",
       "1467                 1                  6                      0   \n",
       "1468                 0                 17                      3   \n",
       "1469                 0                  6                      3   \n",
       "\n",
       "     WorkLifeBalance  YearsAtCompany YearsInCurrentRole  \\\n",
       "0                  1               6                  4   \n",
       "1                  3              10                  7   \n",
       "2                  3               0                  0   \n",
       "3                  3               8                  7   \n",
       "4                  3               2                  2   \n",
       "...              ...             ...                ...   \n",
       "1465               3               5                  2   \n",
       "1466               3               7                  7   \n",
       "1467               3               6                  2   \n",
       "1468               2               9                  6   \n",
       "1469               4               4                  3   \n",
       "\n",
       "      YearsSinceLastPromotion  YearsWithCurrManager  \n",
       "0                           0                     5  \n",
       "1                           1                     7  \n",
       "2                           0                     0  \n",
       "3                           3                     0  \n",
       "4                           2                     2  \n",
       "...                       ...                   ...  \n",
       "1465                        0                     3  \n",
       "1466                        1                     7  \n",
       "1467                        0                     3  \n",
       "1468                        0                     8  \n",
       "1469                        1                     2  \n",
       "\n",
       "[1470 rows x 35 columns]"
      ]
     },
     "execution_count": 544,
     "metadata": {},
     "output_type": "execute_result"
    }
   ],
   "source": [
    "# apply function - used to apply a function to a dataset\n",
    "\n",
    "data[['DailyRate', 'MonthlyRate']].apply(func)\n",
    "data"
   ]
  },
  {
   "cell_type": "code",
   "execution_count": 545,
   "id": "99bebf2e",
   "metadata": {},
   "outputs": [
    {
     "data": {
      "text/plain": [
       "0       1947.9\n",
       "1       2490.7\n",
       "2        239.6\n",
       "3       2315.9\n",
       "4       1663.2\n",
       "         ...  \n",
       "1465    1229.0\n",
       "1466    2145.7\n",
       "1467     517.4\n",
       "1468    1324.3\n",
       "1469    1022.8\n",
       "Name: MonthlyRate, Length: 1470, dtype: float64"
      ]
     },
     "execution_count": 545,
     "metadata": {},
     "output_type": "execute_result"
    }
   ],
   "source": [
    "#using a lambda function with apply inside the apply function\n",
    "\n",
    "data['MonthlyRate'] = data['MonthlyRate'].apply(lambda x:x/10)\n",
    "data['MonthlyRate']"
   ]
  },
  {
   "cell_type": "code",
   "execution_count": 546,
   "id": "8200336d",
   "metadata": {},
   "outputs": [
    {
     "data": {
      "text/plain": [
       "pandas.core.series.Series"
      ]
     },
     "execution_count": 546,
     "metadata": {},
     "output_type": "execute_result"
    }
   ],
   "source": [
    "# string is not a datatype to be processed, so we need to convert it to a integer type\n",
    "type(data['Department'])"
   ]
  },
  {
   "cell_type": "markdown",
   "id": "ed6e12c6",
   "metadata": {},
   "source": [
    "data in pandas - python dict, ndarray, scalar value<br>\n",
    "NaN is the standard missing data marker used in pandas<br>\n",
    "series is a 1 dimensional labelled array<br>\n",
    "from_items is used to create dataframe from dictionaries<br>\n",
    "DataFrame.from_items<br>\n",
    "astype() method is used to cast a pandas object to a specified type<br>\n",
    "df(['x']).astype(int) - used to cast to int type"
   ]
  },
  {
   "cell_type": "markdown",
   "id": "7e8c9c13",
   "metadata": {},
   "source": [
    "# data cleaning concepts\n",
    "\n",
    "## missing values in a dataset\n",
    "\n",
    "missing values occur when there is no data stored for a column in an observation<br>\n",
    "reasons - accidental/data entry error<br>\n",
    "impact on ML models<br>\n",
    "1. most statistical processes require a value<br>\n",
    "2. causes bias in estimation of parameters and affects the accuracy of the ML model.<br>"
   ]
  },
  {
   "cell_type": "code",
   "execution_count": 547,
   "id": "161d365e",
   "metadata": {},
   "outputs": [
    {
     "data": {
      "text/html": [
       "<div>\n",
       "<style scoped>\n",
       "    .dataframe tbody tr th:only-of-type {\n",
       "        vertical-align: middle;\n",
       "    }\n",
       "\n",
       "    .dataframe tbody tr th {\n",
       "        vertical-align: top;\n",
       "    }\n",
       "\n",
       "    .dataframe thead th {\n",
       "        text-align: right;\n",
       "    }\n",
       "</style>\n",
       "<table border=\"1\" class=\"dataframe\">\n",
       "  <thead>\n",
       "    <tr style=\"text-align: right;\">\n",
       "      <th></th>\n",
       "      <th>Number of missing values</th>\n",
       "      <th>Percentage of missing values</th>\n",
       "    </tr>\n",
       "  </thead>\n",
       "  <tbody>\n",
       "    <tr>\n",
       "      <th>Age</th>\n",
       "      <td>0</td>\n",
       "      <td>0.0</td>\n",
       "    </tr>\n",
       "    <tr>\n",
       "      <th>StandardHours</th>\n",
       "      <td>0</td>\n",
       "      <td>0.0</td>\n",
       "    </tr>\n",
       "    <tr>\n",
       "      <th>NumCompaniesWorked</th>\n",
       "      <td>0</td>\n",
       "      <td>0.0</td>\n",
       "    </tr>\n",
       "    <tr>\n",
       "      <th>Over18</th>\n",
       "      <td>0</td>\n",
       "      <td>0.0</td>\n",
       "    </tr>\n",
       "    <tr>\n",
       "      <th>OverTime</th>\n",
       "      <td>0</td>\n",
       "      <td>0.0</td>\n",
       "    </tr>\n",
       "    <tr>\n",
       "      <th>PercentSalaryHike</th>\n",
       "      <td>0</td>\n",
       "      <td>0.0</td>\n",
       "    </tr>\n",
       "    <tr>\n",
       "      <th>PerformanceRating</th>\n",
       "      <td>0</td>\n",
       "      <td>0.0</td>\n",
       "    </tr>\n",
       "    <tr>\n",
       "      <th>RelationshipSatisfaction</th>\n",
       "      <td>0</td>\n",
       "      <td>0.0</td>\n",
       "    </tr>\n",
       "    <tr>\n",
       "      <th>StockOptionLevel</th>\n",
       "      <td>0</td>\n",
       "      <td>0.0</td>\n",
       "    </tr>\n",
       "    <tr>\n",
       "      <th>MonthlyIncome</th>\n",
       "      <td>0</td>\n",
       "      <td>0.0</td>\n",
       "    </tr>\n",
       "    <tr>\n",
       "      <th>TotalWorkingYears</th>\n",
       "      <td>0</td>\n",
       "      <td>0.0</td>\n",
       "    </tr>\n",
       "    <tr>\n",
       "      <th>TrainingTimesLastYear</th>\n",
       "      <td>0</td>\n",
       "      <td>0.0</td>\n",
       "    </tr>\n",
       "    <tr>\n",
       "      <th>WorkLifeBalance</th>\n",
       "      <td>0</td>\n",
       "      <td>0.0</td>\n",
       "    </tr>\n",
       "    <tr>\n",
       "      <th>YearsAtCompany</th>\n",
       "      <td>0</td>\n",
       "      <td>0.0</td>\n",
       "    </tr>\n",
       "    <tr>\n",
       "      <th>YearsInCurrentRole</th>\n",
       "      <td>0</td>\n",
       "      <td>0.0</td>\n",
       "    </tr>\n",
       "    <tr>\n",
       "      <th>YearsSinceLastPromotion</th>\n",
       "      <td>0</td>\n",
       "      <td>0.0</td>\n",
       "    </tr>\n",
       "    <tr>\n",
       "      <th>MonthlyRate</th>\n",
       "      <td>0</td>\n",
       "      <td>0.0</td>\n",
       "    </tr>\n",
       "    <tr>\n",
       "      <th>MaritalStatus</th>\n",
       "      <td>0</td>\n",
       "      <td>0.0</td>\n",
       "    </tr>\n",
       "    <tr>\n",
       "      <th>Attrition</th>\n",
       "      <td>0</td>\n",
       "      <td>0.0</td>\n",
       "    </tr>\n",
       "    <tr>\n",
       "      <th>EmployeeCount</th>\n",
       "      <td>0</td>\n",
       "      <td>0.0</td>\n",
       "    </tr>\n",
       "    <tr>\n",
       "      <th>BusinessTravel</th>\n",
       "      <td>0</td>\n",
       "      <td>0.0</td>\n",
       "    </tr>\n",
       "    <tr>\n",
       "      <th>DailyRate</th>\n",
       "      <td>0</td>\n",
       "      <td>0.0</td>\n",
       "    </tr>\n",
       "    <tr>\n",
       "      <th>Department</th>\n",
       "      <td>0</td>\n",
       "      <td>0.0</td>\n",
       "    </tr>\n",
       "    <tr>\n",
       "      <th>DistanceFromHome</th>\n",
       "      <td>0</td>\n",
       "      <td>0.0</td>\n",
       "    </tr>\n",
       "    <tr>\n",
       "      <th>Education</th>\n",
       "      <td>0</td>\n",
       "      <td>0.0</td>\n",
       "    </tr>\n",
       "    <tr>\n",
       "      <th>EducationField</th>\n",
       "      <td>0</td>\n",
       "      <td>0.0</td>\n",
       "    </tr>\n",
       "    <tr>\n",
       "      <th>EmployeeNumber</th>\n",
       "      <td>0</td>\n",
       "      <td>0.0</td>\n",
       "    </tr>\n",
       "    <tr>\n",
       "      <th>JobSatisfaction</th>\n",
       "      <td>0</td>\n",
       "      <td>0.0</td>\n",
       "    </tr>\n",
       "    <tr>\n",
       "      <th>EnvironmentSatisfaction</th>\n",
       "      <td>0</td>\n",
       "      <td>0.0</td>\n",
       "    </tr>\n",
       "    <tr>\n",
       "      <th>Gender</th>\n",
       "      <td>0</td>\n",
       "      <td>0.0</td>\n",
       "    </tr>\n",
       "    <tr>\n",
       "      <th>HourlyRate</th>\n",
       "      <td>0</td>\n",
       "      <td>0.0</td>\n",
       "    </tr>\n",
       "    <tr>\n",
       "      <th>JobInvolvement</th>\n",
       "      <td>0</td>\n",
       "      <td>0.0</td>\n",
       "    </tr>\n",
       "    <tr>\n",
       "      <th>JobLevel</th>\n",
       "      <td>0</td>\n",
       "      <td>0.0</td>\n",
       "    </tr>\n",
       "    <tr>\n",
       "      <th>JobRole</th>\n",
       "      <td>0</td>\n",
       "      <td>0.0</td>\n",
       "    </tr>\n",
       "    <tr>\n",
       "      <th>YearsWithCurrManager</th>\n",
       "      <td>0</td>\n",
       "      <td>0.0</td>\n",
       "    </tr>\n",
       "  </tbody>\n",
       "</table>\n",
       "</div>"
      ],
      "text/plain": [
       "                          Number of missing values  \\\n",
       "Age                                              0   \n",
       "StandardHours                                    0   \n",
       "NumCompaniesWorked                               0   \n",
       "Over18                                           0   \n",
       "OverTime                                         0   \n",
       "PercentSalaryHike                                0   \n",
       "PerformanceRating                                0   \n",
       "RelationshipSatisfaction                         0   \n",
       "StockOptionLevel                                 0   \n",
       "MonthlyIncome                                    0   \n",
       "TotalWorkingYears                                0   \n",
       "TrainingTimesLastYear                            0   \n",
       "WorkLifeBalance                                  0   \n",
       "YearsAtCompany                                   0   \n",
       "YearsInCurrentRole                               0   \n",
       "YearsSinceLastPromotion                          0   \n",
       "MonthlyRate                                      0   \n",
       "MaritalStatus                                    0   \n",
       "Attrition                                        0   \n",
       "EmployeeCount                                    0   \n",
       "BusinessTravel                                   0   \n",
       "DailyRate                                        0   \n",
       "Department                                       0   \n",
       "DistanceFromHome                                 0   \n",
       "Education                                        0   \n",
       "EducationField                                   0   \n",
       "EmployeeNumber                                   0   \n",
       "JobSatisfaction                                  0   \n",
       "EnvironmentSatisfaction                          0   \n",
       "Gender                                           0   \n",
       "HourlyRate                                       0   \n",
       "JobInvolvement                                   0   \n",
       "JobLevel                                         0   \n",
       "JobRole                                          0   \n",
       "YearsWithCurrManager                             0   \n",
       "\n",
       "                          Percentage of missing values  \n",
       "Age                                                0.0  \n",
       "StandardHours                                      0.0  \n",
       "NumCompaniesWorked                                 0.0  \n",
       "Over18                                             0.0  \n",
       "OverTime                                           0.0  \n",
       "PercentSalaryHike                                  0.0  \n",
       "PerformanceRating                                  0.0  \n",
       "RelationshipSatisfaction                           0.0  \n",
       "StockOptionLevel                                   0.0  \n",
       "MonthlyIncome                                      0.0  \n",
       "TotalWorkingYears                                  0.0  \n",
       "TrainingTimesLastYear                              0.0  \n",
       "WorkLifeBalance                                    0.0  \n",
       "YearsAtCompany                                     0.0  \n",
       "YearsInCurrentRole                                 0.0  \n",
       "YearsSinceLastPromotion                            0.0  \n",
       "MonthlyRate                                        0.0  \n",
       "MaritalStatus                                      0.0  \n",
       "Attrition                                          0.0  \n",
       "EmployeeCount                                      0.0  \n",
       "BusinessTravel                                     0.0  \n",
       "DailyRate                                          0.0  \n",
       "Department                                         0.0  \n",
       "DistanceFromHome                                   0.0  \n",
       "Education                                          0.0  \n",
       "EducationField                                     0.0  \n",
       "EmployeeNumber                                     0.0  \n",
       "JobSatisfaction                                    0.0  \n",
       "EnvironmentSatisfaction                            0.0  \n",
       "Gender                                             0.0  \n",
       "HourlyRate                                         0.0  \n",
       "JobInvolvement                                     0.0  \n",
       "JobLevel                                           0.0  \n",
       "JobRole                                            0.0  \n",
       "YearsWithCurrManager                               0.0  "
      ]
     },
     "execution_count": 547,
     "metadata": {},
     "output_type": "execute_result"
    }
   ],
   "source": [
    "# checking percentage of missing values\n",
    "# in this method, create a new dataframe with the percentage of missing values in each column and decide how to treat them\n",
    "\n",
    "x = data.isnull().sum()  # displays all columns with missing values\n",
    "y = (data.isnull().sum() / data.shape[0])*100 # percentage of missing values in columns\n",
    "z = {'Number of missing values':x, 'Percentage of missing values':y}\n",
    "# construct a dataframe with x and y\n",
    "df = pd.DataFrame(z, columns = ['Number of missing values', 'Percentage of missing values'])\n",
    "# sort according to percentage of missing values in descending order\n",
    "df.sort_values(by = 'Percentage of missing values', ascending = False)"
   ]
  },
  {
   "cell_type": "markdown",
   "id": "56ced1c5",
   "metadata": {},
   "source": [
    "## types of missing values\n",
    "\n",
    "1. MCAR - msising completely at random<br>\n",
    "-> no reason or pattern with no association with any factor<br>\n",
    "2. MAR - missing at random<br>\n",
    "-> missing values have some association with other features of the dataset<br>\n",
    "-> variable with missing values can be linearly related to some other variable in the dataset.<br>\n",
    "3. MNAR - missing not at random<br>\n",
    "-> values missing with specific reason with clear understabdong and logic<br>"
   ]
  },
  {
   "cell_type": "markdown",
   "id": "bd92ee82",
   "metadata": {},
   "source": [
    "## scenarios where we should delete and not delete missing values\n",
    "\n",
    "-> deleting records in some cases lead to small size of dataset which leads to inaccurate model.<br>\n",
    "-> we can delete when missing value percentage is very high. <br>if dataset is large (30% - 40%)+ missing , these columns are deleted.<br>\n",
    "if dataset is small (20%) of missing values<br>\n",
    "\n",
    "to delete rows, same rules<br>\n",
    "eg:\n",
    "if dataset has more than 50 columns if the row has more than 10 values missing<br>\n",
    "\n",
    "if the column has high correlation with the target column, dont delete<br>\n",
    "if the removal or row/column leads to info loss<br>"
   ]
  },
  {
   "cell_type": "markdown",
   "id": "b285fd49",
   "metadata": {},
   "source": [
    "# imputing the missing values\n",
    "\n",
    "## imputing using business logic\n",
    "-> business logic - technique where we rely on business implications or understanding instead of using traditional ways <br>\n",
    "-> say we have a variable where we store rating of an online product, in these case we need to use business logic instead of statistical methods, if we impute missing value 0, rating becomes low and we wont identify unsatisfied customers, to maintain pattern for model, use a negative value<br>\n",
    "\n",
    "\n",
    "## imputing using mean and median method\n",
    "-> mode function for imputing missing values, eg: missing values in a catgorical value for gender, to replace missing values, we can use mode function to replace missing values\n",
    "-> for numerical values, use mean or median<br>\n",
    "-> median function - if there are outliers in the data as it is not sensitive to outliers<br>\n",
    "-> mean function - if there are no outliers in the data as it is very sensitive to outliers<br>\n",
    "\n",
    "## imputing missing values in real time scenario\n",
    "important functions<br>\n",
    "1. df.isnull().any(axis=1) - prescence or abscence of missing values<br>\n",
    "2. df.isnull().sum() - returns total missing values<br>\n",
    "3. len(df) and df.shape[0] - returns the number of rows of the dataset"
   ]
  },
  {
   "cell_type": "markdown",
   "id": "cc492491",
   "metadata": {},
   "source": [
    "## ROWS"
   ]
  },
  {
   "cell_type": "code",
   "execution_count": 548,
   "id": "dc58f3e8",
   "metadata": {},
   "outputs": [
    {
     "data": {
      "text/plain": [
       "0       0\n",
       "987     0\n",
       "985     0\n",
       "984     0\n",
       "983     0\n",
       "       ..\n",
       "488     0\n",
       "487     0\n",
       "486     0\n",
       "485     0\n",
       "1469    0\n",
       "Length: 1470, dtype: int64"
      ]
     },
     "execution_count": 548,
     "metadata": {},
     "output_type": "execute_result"
    }
   ],
   "source": [
    "# sort all missing values in the rows in desc order\n",
    "# having 75 blank values in 89 is very bad for the model\n",
    "\n",
    "data.isnull().sum(axis=1).sort_values(ascending = False)"
   ]
  },
  {
   "cell_type": "code",
   "execution_count": 549,
   "id": "adc025e7",
   "metadata": {},
   "outputs": [
    {
     "data": {
      "text/plain": [
       "(1470, 35)"
      ]
     },
     "execution_count": 549,
     "metadata": {},
     "output_type": "execute_result"
    }
   ],
   "source": [
    "# size of dataframe\n",
    "data.shape"
   ]
  },
  {
   "cell_type": "code",
   "execution_count": 550,
   "id": "8a56637a",
   "metadata": {},
   "outputs": [
    {
     "data": {
      "text/plain": [
       "0       False\n",
       "1       False\n",
       "2       False\n",
       "3       False\n",
       "4       False\n",
       "        ...  \n",
       "1465    False\n",
       "1466    False\n",
       "1467    False\n",
       "1468    False\n",
       "1469    False\n",
       "Length: 1470, dtype: bool"
      ]
     },
     "execution_count": 550,
     "metadata": {},
     "output_type": "execute_result"
    }
   ],
   "source": [
    "# missing values in rows\n",
    "# all rows have a minimum of 1 missing value\n",
    "data.isnull().any(axis=1)"
   ]
  },
  {
   "cell_type": "code",
   "execution_count": 551,
   "id": "23d4bfad",
   "metadata": {},
   "outputs": [
    {
     "data": {
      "text/plain": [
       "Index(['Age', 'Attrition', 'BusinessTravel', 'DailyRate', 'Department',\n",
       "       'DistanceFromHome', 'Education', 'EducationField', 'EmployeeCount',\n",
       "       'EmployeeNumber', 'EnvironmentSatisfaction', 'Gender', 'HourlyRate',\n",
       "       'JobInvolvement', 'JobLevel', 'JobRole', 'JobSatisfaction',\n",
       "       'MaritalStatus', 'MonthlyIncome', 'MonthlyRate', 'NumCompaniesWorked',\n",
       "       'Over18', 'OverTime', 'PercentSalaryHike', 'PerformanceRating',\n",
       "       'RelationshipSatisfaction', 'StandardHours', 'StockOptionLevel',\n",
       "       'TotalWorkingYears', 'TrainingTimesLastYear', 'WorkLifeBalance',\n",
       "       'YearsAtCompany', 'YearsInCurrentRole', 'YearsSinceLastPromotion',\n",
       "       'YearsWithCurrManager'],\n",
       "      dtype='object')"
      ]
     },
     "execution_count": 551,
     "metadata": {},
     "output_type": "execute_result"
    }
   ],
   "source": [
    "# printing columns\n",
    "data.columns"
   ]
  },
  {
   "cell_type": "code",
   "execution_count": 552,
   "id": "1ca9dc17",
   "metadata": {},
   "outputs": [
    {
     "data": {
      "text/html": [
       "<div>\n",
       "<style scoped>\n",
       "    .dataframe tbody tr th:only-of-type {\n",
       "        vertical-align: middle;\n",
       "    }\n",
       "\n",
       "    .dataframe tbody tr th {\n",
       "        vertical-align: top;\n",
       "    }\n",
       "\n",
       "    .dataframe thead th {\n",
       "        text-align: right;\n",
       "    }\n",
       "</style>\n",
       "<table border=\"1\" class=\"dataframe\">\n",
       "  <thead>\n",
       "    <tr style=\"text-align: right;\">\n",
       "      <th></th>\n",
       "      <th>Unnamed: 0</th>\n",
       "      <th>ID</th>\n",
       "      <th>Name</th>\n",
       "      <th>Age</th>\n",
       "      <th>Photo</th>\n",
       "      <th>Nationality</th>\n",
       "      <th>Flag</th>\n",
       "      <th>Overall</th>\n",
       "      <th>Potential</th>\n",
       "      <th>Club</th>\n",
       "      <th>...</th>\n",
       "      <th>Composure</th>\n",
       "      <th>Marking</th>\n",
       "      <th>StandingTackle</th>\n",
       "      <th>SlidingTackle</th>\n",
       "      <th>GKDiving</th>\n",
       "      <th>GKHandling</th>\n",
       "      <th>GKKicking</th>\n",
       "      <th>GKPositioning</th>\n",
       "      <th>GKReflexes</th>\n",
       "      <th>Release Clause</th>\n",
       "    </tr>\n",
       "  </thead>\n",
       "  <tbody>\n",
       "    <tr>\n",
       "      <th>0</th>\n",
       "      <td>0</td>\n",
       "      <td>158023</td>\n",
       "      <td>L. Messi</td>\n",
       "      <td>31</td>\n",
       "      <td>https://cdn.sofifa.org/players/4/19/158023.png</td>\n",
       "      <td>Argentina</td>\n",
       "      <td>https://cdn.sofifa.org/flags/52.png</td>\n",
       "      <td>94</td>\n",
       "      <td>94</td>\n",
       "      <td>FC Barcelona</td>\n",
       "      <td>...</td>\n",
       "      <td>96.0</td>\n",
       "      <td>33.0</td>\n",
       "      <td>28.0</td>\n",
       "      <td>26.0</td>\n",
       "      <td>6.0</td>\n",
       "      <td>11.0</td>\n",
       "      <td>15.0</td>\n",
       "      <td>14.0</td>\n",
       "      <td>8.0</td>\n",
       "      <td>€226.5M</td>\n",
       "    </tr>\n",
       "    <tr>\n",
       "      <th>1</th>\n",
       "      <td>1</td>\n",
       "      <td>20801</td>\n",
       "      <td>Cristiano Ronaldo</td>\n",
       "      <td>33</td>\n",
       "      <td>https://cdn.sofifa.org/players/4/19/20801.png</td>\n",
       "      <td>Portugal</td>\n",
       "      <td>https://cdn.sofifa.org/flags/38.png</td>\n",
       "      <td>94</td>\n",
       "      <td>94</td>\n",
       "      <td>Juventus</td>\n",
       "      <td>...</td>\n",
       "      <td>95.0</td>\n",
       "      <td>28.0</td>\n",
       "      <td>31.0</td>\n",
       "      <td>23.0</td>\n",
       "      <td>7.0</td>\n",
       "      <td>11.0</td>\n",
       "      <td>15.0</td>\n",
       "      <td>14.0</td>\n",
       "      <td>11.0</td>\n",
       "      <td>€127.1M</td>\n",
       "    </tr>\n",
       "    <tr>\n",
       "      <th>2</th>\n",
       "      <td>2</td>\n",
       "      <td>190871</td>\n",
       "      <td>Neymar Jr</td>\n",
       "      <td>26</td>\n",
       "      <td>https://cdn.sofifa.org/players/4/19/190871.png</td>\n",
       "      <td>Brazil</td>\n",
       "      <td>https://cdn.sofifa.org/flags/54.png</td>\n",
       "      <td>92</td>\n",
       "      <td>93</td>\n",
       "      <td>Paris Saint-Germain</td>\n",
       "      <td>...</td>\n",
       "      <td>94.0</td>\n",
       "      <td>27.0</td>\n",
       "      <td>24.0</td>\n",
       "      <td>33.0</td>\n",
       "      <td>9.0</td>\n",
       "      <td>9.0</td>\n",
       "      <td>15.0</td>\n",
       "      <td>15.0</td>\n",
       "      <td>11.0</td>\n",
       "      <td>€228.1M</td>\n",
       "    </tr>\n",
       "    <tr>\n",
       "      <th>3</th>\n",
       "      <td>3</td>\n",
       "      <td>193080</td>\n",
       "      <td>De Gea</td>\n",
       "      <td>27</td>\n",
       "      <td>https://cdn.sofifa.org/players/4/19/193080.png</td>\n",
       "      <td>Spain</td>\n",
       "      <td>https://cdn.sofifa.org/flags/45.png</td>\n",
       "      <td>91</td>\n",
       "      <td>93</td>\n",
       "      <td>Manchester United</td>\n",
       "      <td>...</td>\n",
       "      <td>68.0</td>\n",
       "      <td>15.0</td>\n",
       "      <td>21.0</td>\n",
       "      <td>13.0</td>\n",
       "      <td>90.0</td>\n",
       "      <td>85.0</td>\n",
       "      <td>87.0</td>\n",
       "      <td>88.0</td>\n",
       "      <td>94.0</td>\n",
       "      <td>€138.6M</td>\n",
       "    </tr>\n",
       "    <tr>\n",
       "      <th>4</th>\n",
       "      <td>4</td>\n",
       "      <td>192985</td>\n",
       "      <td>K. De Bruyne</td>\n",
       "      <td>27</td>\n",
       "      <td>https://cdn.sofifa.org/players/4/19/192985.png</td>\n",
       "      <td>Belgium</td>\n",
       "      <td>https://cdn.sofifa.org/flags/7.png</td>\n",
       "      <td>91</td>\n",
       "      <td>92</td>\n",
       "      <td>Manchester City</td>\n",
       "      <td>...</td>\n",
       "      <td>88.0</td>\n",
       "      <td>68.0</td>\n",
       "      <td>58.0</td>\n",
       "      <td>51.0</td>\n",
       "      <td>15.0</td>\n",
       "      <td>13.0</td>\n",
       "      <td>5.0</td>\n",
       "      <td>10.0</td>\n",
       "      <td>13.0</td>\n",
       "      <td>€196.4M</td>\n",
       "    </tr>\n",
       "  </tbody>\n",
       "</table>\n",
       "<p>5 rows × 89 columns</p>\n",
       "</div>"
      ],
      "text/plain": [
       "   Unnamed: 0      ID               Name  Age  \\\n",
       "0           0  158023           L. Messi   31   \n",
       "1           1   20801  Cristiano Ronaldo   33   \n",
       "2           2  190871          Neymar Jr   26   \n",
       "3           3  193080             De Gea   27   \n",
       "4           4  192985       K. De Bruyne   27   \n",
       "\n",
       "                                            Photo Nationality  \\\n",
       "0  https://cdn.sofifa.org/players/4/19/158023.png   Argentina   \n",
       "1   https://cdn.sofifa.org/players/4/19/20801.png    Portugal   \n",
       "2  https://cdn.sofifa.org/players/4/19/190871.png      Brazil   \n",
       "3  https://cdn.sofifa.org/players/4/19/193080.png       Spain   \n",
       "4  https://cdn.sofifa.org/players/4/19/192985.png     Belgium   \n",
       "\n",
       "                                  Flag  Overall  Potential  \\\n",
       "0  https://cdn.sofifa.org/flags/52.png       94         94   \n",
       "1  https://cdn.sofifa.org/flags/38.png       94         94   \n",
       "2  https://cdn.sofifa.org/flags/54.png       92         93   \n",
       "3  https://cdn.sofifa.org/flags/45.png       91         93   \n",
       "4   https://cdn.sofifa.org/flags/7.png       91         92   \n",
       "\n",
       "                  Club  ... Composure Marking StandingTackle  SlidingTackle  \\\n",
       "0         FC Barcelona  ...      96.0    33.0           28.0           26.0   \n",
       "1             Juventus  ...      95.0    28.0           31.0           23.0   \n",
       "2  Paris Saint-Germain  ...      94.0    27.0           24.0           33.0   \n",
       "3    Manchester United  ...      68.0    15.0           21.0           13.0   \n",
       "4      Manchester City  ...      88.0    68.0           58.0           51.0   \n",
       "\n",
       "  GKDiving  GKHandling  GKKicking  GKPositioning GKReflexes Release Clause  \n",
       "0      6.0        11.0       15.0           14.0        8.0        €226.5M  \n",
       "1      7.0        11.0       15.0           14.0       11.0        €127.1M  \n",
       "2      9.0         9.0       15.0           15.0       11.0        €228.1M  \n",
       "3     90.0        85.0       87.0           88.0       94.0        €138.6M  \n",
       "4     15.0        13.0        5.0           10.0       13.0        €196.4M  \n",
       "\n",
       "[5 rows x 89 columns]"
      ]
     },
     "execution_count": 552,
     "metadata": {},
     "output_type": "execute_result"
    }
   ],
   "source": [
    "import pandas as pd\n",
    "\n",
    "# reading csv files\n",
    "data = pd.read_csv('csv/fifa.csv')\n",
    "\n",
    "# reading first 5 lines of the dataset\n",
    "data.head()"
   ]
  },
  {
   "cell_type": "code",
   "execution_count": 553,
   "id": "69b6897a",
   "metadata": {},
   "outputs": [
    {
     "data": {
      "text/plain": [
       "0"
      ]
     },
     "execution_count": 553,
     "metadata": {},
     "output_type": "execute_result"
    }
   ],
   "source": [
    "# check if a row has all the values missing\n",
    "# no row has all values missing\n",
    "data.isnull().all(axis=1).sum()"
   ]
  },
  {
   "cell_type": "code",
   "execution_count": 554,
   "id": "23fd3b04",
   "metadata": {},
   "outputs": [
    {
     "data": {
      "text/html": [
       "<div>\n",
       "<style scoped>\n",
       "    .dataframe tbody tr th:only-of-type {\n",
       "        vertical-align: middle;\n",
       "    }\n",
       "\n",
       "    .dataframe tbody tr th {\n",
       "        vertical-align: top;\n",
       "    }\n",
       "\n",
       "    .dataframe thead th {\n",
       "        text-align: right;\n",
       "    }\n",
       "</style>\n",
       "<table border=\"1\" class=\"dataframe\">\n",
       "  <thead>\n",
       "    <tr style=\"text-align: right;\">\n",
       "      <th></th>\n",
       "      <th>Unnamed: 0</th>\n",
       "      <th>ID</th>\n",
       "      <th>Name</th>\n",
       "      <th>Age</th>\n",
       "      <th>Photo</th>\n",
       "      <th>Nationality</th>\n",
       "      <th>Flag</th>\n",
       "      <th>Overall</th>\n",
       "      <th>Potential</th>\n",
       "      <th>Club</th>\n",
       "      <th>...</th>\n",
       "      <th>Composure</th>\n",
       "      <th>Marking</th>\n",
       "      <th>StandingTackle</th>\n",
       "      <th>SlidingTackle</th>\n",
       "      <th>GKDiving</th>\n",
       "      <th>GKHandling</th>\n",
       "      <th>GKKicking</th>\n",
       "      <th>GKPositioning</th>\n",
       "      <th>GKReflexes</th>\n",
       "      <th>Release Clause</th>\n",
       "    </tr>\n",
       "  </thead>\n",
       "  <tbody>\n",
       "    <tr>\n",
       "      <th>13236</th>\n",
       "      <td>13236</td>\n",
       "      <td>177971</td>\n",
       "      <td>J. McNulty</td>\n",
       "      <td>33</td>\n",
       "      <td>https://cdn.sofifa.org/players/4/19/177971.png</td>\n",
       "      <td>Scotland</td>\n",
       "      <td>https://cdn.sofifa.org/flags/42.png</td>\n",
       "      <td>62</td>\n",
       "      <td>62</td>\n",
       "      <td>Rochdale</td>\n",
       "      <td>...</td>\n",
       "      <td>NaN</td>\n",
       "      <td>NaN</td>\n",
       "      <td>NaN</td>\n",
       "      <td>NaN</td>\n",
       "      <td>NaN</td>\n",
       "      <td>NaN</td>\n",
       "      <td>NaN</td>\n",
       "      <td>NaN</td>\n",
       "      <td>NaN</td>\n",
       "      <td>NaN</td>\n",
       "    </tr>\n",
       "    <tr>\n",
       "      <th>13237</th>\n",
       "      <td>13237</td>\n",
       "      <td>195380</td>\n",
       "      <td>J. Barrera</td>\n",
       "      <td>29</td>\n",
       "      <td>https://cdn.sofifa.org/players/4/19/195380.png</td>\n",
       "      <td>Nicaragua</td>\n",
       "      <td>https://cdn.sofifa.org/flags/86.png</td>\n",
       "      <td>62</td>\n",
       "      <td>62</td>\n",
       "      <td>Boyacá Chicó FC</td>\n",
       "      <td>...</td>\n",
       "      <td>NaN</td>\n",
       "      <td>NaN</td>\n",
       "      <td>NaN</td>\n",
       "      <td>NaN</td>\n",
       "      <td>NaN</td>\n",
       "      <td>NaN</td>\n",
       "      <td>NaN</td>\n",
       "      <td>NaN</td>\n",
       "      <td>NaN</td>\n",
       "      <td>NaN</td>\n",
       "    </tr>\n",
       "    <tr>\n",
       "      <th>13238</th>\n",
       "      <td>13238</td>\n",
       "      <td>139317</td>\n",
       "      <td>J. Stead</td>\n",
       "      <td>35</td>\n",
       "      <td>https://cdn.sofifa.org/players/4/19/139317.png</td>\n",
       "      <td>England</td>\n",
       "      <td>https://cdn.sofifa.org/flags/14.png</td>\n",
       "      <td>62</td>\n",
       "      <td>62</td>\n",
       "      <td>Notts County</td>\n",
       "      <td>...</td>\n",
       "      <td>NaN</td>\n",
       "      <td>NaN</td>\n",
       "      <td>NaN</td>\n",
       "      <td>NaN</td>\n",
       "      <td>NaN</td>\n",
       "      <td>NaN</td>\n",
       "      <td>NaN</td>\n",
       "      <td>NaN</td>\n",
       "      <td>NaN</td>\n",
       "      <td>NaN</td>\n",
       "    </tr>\n",
       "    <tr>\n",
       "      <th>13239</th>\n",
       "      <td>13239</td>\n",
       "      <td>240437</td>\n",
       "      <td>A. Semprini</td>\n",
       "      <td>20</td>\n",
       "      <td>https://cdn.sofifa.org/players/4/19/240437.png</td>\n",
       "      <td>Italy</td>\n",
       "      <td>https://cdn.sofifa.org/flags/27.png</td>\n",
       "      <td>62</td>\n",
       "      <td>72</td>\n",
       "      <td>Brescia</td>\n",
       "      <td>...</td>\n",
       "      <td>NaN</td>\n",
       "      <td>NaN</td>\n",
       "      <td>NaN</td>\n",
       "      <td>NaN</td>\n",
       "      <td>NaN</td>\n",
       "      <td>NaN</td>\n",
       "      <td>NaN</td>\n",
       "      <td>NaN</td>\n",
       "      <td>NaN</td>\n",
       "      <td>NaN</td>\n",
       "    </tr>\n",
       "    <tr>\n",
       "      <th>13240</th>\n",
       "      <td>13240</td>\n",
       "      <td>209462</td>\n",
       "      <td>R. Bingham</td>\n",
       "      <td>24</td>\n",
       "      <td>https://cdn.sofifa.org/players/4/19/209462.png</td>\n",
       "      <td>England</td>\n",
       "      <td>https://cdn.sofifa.org/flags/14.png</td>\n",
       "      <td>62</td>\n",
       "      <td>66</td>\n",
       "      <td>Hamilton Academical FC</td>\n",
       "      <td>...</td>\n",
       "      <td>NaN</td>\n",
       "      <td>NaN</td>\n",
       "      <td>NaN</td>\n",
       "      <td>NaN</td>\n",
       "      <td>NaN</td>\n",
       "      <td>NaN</td>\n",
       "      <td>NaN</td>\n",
       "      <td>NaN</td>\n",
       "      <td>NaN</td>\n",
       "      <td>NaN</td>\n",
       "    </tr>\n",
       "    <tr>\n",
       "      <th>13241</th>\n",
       "      <td>13241</td>\n",
       "      <td>219702</td>\n",
       "      <td>K. Dankowski</td>\n",
       "      <td>21</td>\n",
       "      <td>https://cdn.sofifa.org/players/4/19/219702.png</td>\n",
       "      <td>Poland</td>\n",
       "      <td>https://cdn.sofifa.org/flags/37.png</td>\n",
       "      <td>62</td>\n",
       "      <td>72</td>\n",
       "      <td>Śląsk Wrocław</td>\n",
       "      <td>...</td>\n",
       "      <td>NaN</td>\n",
       "      <td>NaN</td>\n",
       "      <td>NaN</td>\n",
       "      <td>NaN</td>\n",
       "      <td>NaN</td>\n",
       "      <td>NaN</td>\n",
       "      <td>NaN</td>\n",
       "      <td>NaN</td>\n",
       "      <td>NaN</td>\n",
       "      <td>NaN</td>\n",
       "    </tr>\n",
       "    <tr>\n",
       "      <th>13242</th>\n",
       "      <td>13242</td>\n",
       "      <td>225590</td>\n",
       "      <td>I. Colman</td>\n",
       "      <td>23</td>\n",
       "      <td>https://cdn.sofifa.org/players/4/19/225590.png</td>\n",
       "      <td>Argentina</td>\n",
       "      <td>https://cdn.sofifa.org/flags/52.png</td>\n",
       "      <td>62</td>\n",
       "      <td>70</td>\n",
       "      <td>Club Atlético Aldosivi</td>\n",
       "      <td>...</td>\n",
       "      <td>NaN</td>\n",
       "      <td>NaN</td>\n",
       "      <td>NaN</td>\n",
       "      <td>NaN</td>\n",
       "      <td>NaN</td>\n",
       "      <td>NaN</td>\n",
       "      <td>NaN</td>\n",
       "      <td>NaN</td>\n",
       "      <td>NaN</td>\n",
       "      <td>NaN</td>\n",
       "    </tr>\n",
       "    <tr>\n",
       "      <th>13243</th>\n",
       "      <td>13243</td>\n",
       "      <td>233782</td>\n",
       "      <td>M. Feeney</td>\n",
       "      <td>19</td>\n",
       "      <td>https://cdn.sofifa.org/players/4/19/233782.png</td>\n",
       "      <td>England</td>\n",
       "      <td>https://cdn.sofifa.org/flags/14.png</td>\n",
       "      <td>62</td>\n",
       "      <td>78</td>\n",
       "      <td>Everton</td>\n",
       "      <td>...</td>\n",
       "      <td>NaN</td>\n",
       "      <td>NaN</td>\n",
       "      <td>NaN</td>\n",
       "      <td>NaN</td>\n",
       "      <td>NaN</td>\n",
       "      <td>NaN</td>\n",
       "      <td>NaN</td>\n",
       "      <td>NaN</td>\n",
       "      <td>NaN</td>\n",
       "      <td>NaN</td>\n",
       "    </tr>\n",
       "    <tr>\n",
       "      <th>13244</th>\n",
       "      <td>13244</td>\n",
       "      <td>239158</td>\n",
       "      <td>R. Minor</td>\n",
       "      <td>30</td>\n",
       "      <td>https://cdn.sofifa.org/players/4/19/239158.png</td>\n",
       "      <td>Denmark</td>\n",
       "      <td>https://cdn.sofifa.org/flags/13.png</td>\n",
       "      <td>62</td>\n",
       "      <td>62</td>\n",
       "      <td>Hobro IK</td>\n",
       "      <td>...</td>\n",
       "      <td>NaN</td>\n",
       "      <td>NaN</td>\n",
       "      <td>NaN</td>\n",
       "      <td>NaN</td>\n",
       "      <td>NaN</td>\n",
       "      <td>NaN</td>\n",
       "      <td>NaN</td>\n",
       "      <td>NaN</td>\n",
       "      <td>NaN</td>\n",
       "      <td>NaN</td>\n",
       "    </tr>\n",
       "    <tr>\n",
       "      <th>13245</th>\n",
       "      <td>13245</td>\n",
       "      <td>242998</td>\n",
       "      <td>Klauss</td>\n",
       "      <td>21</td>\n",
       "      <td>https://cdn.sofifa.org/players/4/19/242998.png</td>\n",
       "      <td>Brazil</td>\n",
       "      <td>https://cdn.sofifa.org/flags/54.png</td>\n",
       "      <td>62</td>\n",
       "      <td>69</td>\n",
       "      <td>HJK Helsinki</td>\n",
       "      <td>...</td>\n",
       "      <td>NaN</td>\n",
       "      <td>NaN</td>\n",
       "      <td>NaN</td>\n",
       "      <td>NaN</td>\n",
       "      <td>NaN</td>\n",
       "      <td>NaN</td>\n",
       "      <td>NaN</td>\n",
       "      <td>NaN</td>\n",
       "      <td>NaN</td>\n",
       "      <td>NaN</td>\n",
       "    </tr>\n",
       "    <tr>\n",
       "      <th>13246</th>\n",
       "      <td>13246</td>\n",
       "      <td>244022</td>\n",
       "      <td>I. Sissoko</td>\n",
       "      <td>22</td>\n",
       "      <td>https://cdn.sofifa.org/players/4/19/244022.png</td>\n",
       "      <td>France</td>\n",
       "      <td>https://cdn.sofifa.org/flags/18.png</td>\n",
       "      <td>62</td>\n",
       "      <td>68</td>\n",
       "      <td>AS Béziers</td>\n",
       "      <td>...</td>\n",
       "      <td>NaN</td>\n",
       "      <td>NaN</td>\n",
       "      <td>NaN</td>\n",
       "      <td>NaN</td>\n",
       "      <td>NaN</td>\n",
       "      <td>NaN</td>\n",
       "      <td>NaN</td>\n",
       "      <td>NaN</td>\n",
       "      <td>NaN</td>\n",
       "      <td>NaN</td>\n",
       "    </tr>\n",
       "    <tr>\n",
       "      <th>13247</th>\n",
       "      <td>13247</td>\n",
       "      <td>189238</td>\n",
       "      <td>F. Hart</td>\n",
       "      <td>28</td>\n",
       "      <td>https://cdn.sofifa.org/players/4/19/189238.png</td>\n",
       "      <td>Austria</td>\n",
       "      <td>https://cdn.sofifa.org/flags/4.png</td>\n",
       "      <td>62</td>\n",
       "      <td>62</td>\n",
       "      <td>SV Mattersburg</td>\n",
       "      <td>...</td>\n",
       "      <td>NaN</td>\n",
       "      <td>NaN</td>\n",
       "      <td>NaN</td>\n",
       "      <td>NaN</td>\n",
       "      <td>NaN</td>\n",
       "      <td>NaN</td>\n",
       "      <td>NaN</td>\n",
       "      <td>NaN</td>\n",
       "      <td>NaN</td>\n",
       "      <td>NaN</td>\n",
       "    </tr>\n",
       "    <tr>\n",
       "      <th>13248</th>\n",
       "      <td>13248</td>\n",
       "      <td>211511</td>\n",
       "      <td>L. McCullough</td>\n",
       "      <td>24</td>\n",
       "      <td>https://cdn.sofifa.org/players/4/19/211511.png</td>\n",
       "      <td>Northern Ireland</td>\n",
       "      <td>https://cdn.sofifa.org/flags/35.png</td>\n",
       "      <td>62</td>\n",
       "      <td>69</td>\n",
       "      <td>Tranmere Rovers</td>\n",
       "      <td>...</td>\n",
       "      <td>NaN</td>\n",
       "      <td>NaN</td>\n",
       "      <td>NaN</td>\n",
       "      <td>NaN</td>\n",
       "      <td>NaN</td>\n",
       "      <td>NaN</td>\n",
       "      <td>NaN</td>\n",
       "      <td>NaN</td>\n",
       "      <td>NaN</td>\n",
       "      <td>NaN</td>\n",
       "    </tr>\n",
       "    <tr>\n",
       "      <th>13249</th>\n",
       "      <td>13249</td>\n",
       "      <td>224055</td>\n",
       "      <td>Li Yunqiu</td>\n",
       "      <td>27</td>\n",
       "      <td>https://cdn.sofifa.org/players/4/19/224055.png</td>\n",
       "      <td>China PR</td>\n",
       "      <td>https://cdn.sofifa.org/flags/155.png</td>\n",
       "      <td>62</td>\n",
       "      <td>62</td>\n",
       "      <td>Shanghai Greenland Shenhua FC</td>\n",
       "      <td>...</td>\n",
       "      <td>NaN</td>\n",
       "      <td>NaN</td>\n",
       "      <td>NaN</td>\n",
       "      <td>NaN</td>\n",
       "      <td>NaN</td>\n",
       "      <td>NaN</td>\n",
       "      <td>NaN</td>\n",
       "      <td>NaN</td>\n",
       "      <td>NaN</td>\n",
       "      <td>NaN</td>\n",
       "    </tr>\n",
       "    <tr>\n",
       "      <th>13250</th>\n",
       "      <td>13250</td>\n",
       "      <td>244535</td>\n",
       "      <td>F. Garcia</td>\n",
       "      <td>29</td>\n",
       "      <td>https://cdn.sofifa.org/players/4/19/244535.png</td>\n",
       "      <td>Paraguay</td>\n",
       "      <td>https://cdn.sofifa.org/flags/58.png</td>\n",
       "      <td>62</td>\n",
       "      <td>62</td>\n",
       "      <td>Itagüí Leones FC</td>\n",
       "      <td>...</td>\n",
       "      <td>NaN</td>\n",
       "      <td>NaN</td>\n",
       "      <td>NaN</td>\n",
       "      <td>NaN</td>\n",
       "      <td>NaN</td>\n",
       "      <td>NaN</td>\n",
       "      <td>NaN</td>\n",
       "      <td>NaN</td>\n",
       "      <td>NaN</td>\n",
       "      <td>NaN</td>\n",
       "    </tr>\n",
       "    <tr>\n",
       "      <th>13251</th>\n",
       "      <td>13251</td>\n",
       "      <td>134968</td>\n",
       "      <td>R. Haemhouts</td>\n",
       "      <td>34</td>\n",
       "      <td>https://cdn.sofifa.org/players/4/19/134968.png</td>\n",
       "      <td>Belgium</td>\n",
       "      <td>https://cdn.sofifa.org/flags/7.png</td>\n",
       "      <td>62</td>\n",
       "      <td>62</td>\n",
       "      <td>NAC Breda</td>\n",
       "      <td>...</td>\n",
       "      <td>NaN</td>\n",
       "      <td>NaN</td>\n",
       "      <td>NaN</td>\n",
       "      <td>NaN</td>\n",
       "      <td>NaN</td>\n",
       "      <td>NaN</td>\n",
       "      <td>NaN</td>\n",
       "      <td>NaN</td>\n",
       "      <td>NaN</td>\n",
       "      <td>NaN</td>\n",
       "    </tr>\n",
       "    <tr>\n",
       "      <th>13252</th>\n",
       "      <td>13252</td>\n",
       "      <td>225336</td>\n",
       "      <td>E. Binaku</td>\n",
       "      <td>22</td>\n",
       "      <td>https://cdn.sofifa.org/players/4/19/225336.png</td>\n",
       "      <td>Albania</td>\n",
       "      <td>https://cdn.sofifa.org/flags/1.png</td>\n",
       "      <td>62</td>\n",
       "      <td>70</td>\n",
       "      <td>Malmö FF</td>\n",
       "      <td>...</td>\n",
       "      <td>NaN</td>\n",
       "      <td>NaN</td>\n",
       "      <td>NaN</td>\n",
       "      <td>NaN</td>\n",
       "      <td>NaN</td>\n",
       "      <td>NaN</td>\n",
       "      <td>NaN</td>\n",
       "      <td>NaN</td>\n",
       "      <td>NaN</td>\n",
       "      <td>NaN</td>\n",
       "    </tr>\n",
       "    <tr>\n",
       "      <th>13253</th>\n",
       "      <td>13253</td>\n",
       "      <td>171320</td>\n",
       "      <td>G. Miller</td>\n",
       "      <td>31</td>\n",
       "      <td>https://cdn.sofifa.org/players/4/19/171320.png</td>\n",
       "      <td>Scotland</td>\n",
       "      <td>https://cdn.sofifa.org/flags/42.png</td>\n",
       "      <td>62</td>\n",
       "      <td>62</td>\n",
       "      <td>Carlisle United</td>\n",
       "      <td>...</td>\n",
       "      <td>NaN</td>\n",
       "      <td>NaN</td>\n",
       "      <td>NaN</td>\n",
       "      <td>NaN</td>\n",
       "      <td>NaN</td>\n",
       "      <td>NaN</td>\n",
       "      <td>NaN</td>\n",
       "      <td>NaN</td>\n",
       "      <td>NaN</td>\n",
       "      <td>NaN</td>\n",
       "    </tr>\n",
       "    <tr>\n",
       "      <th>13254</th>\n",
       "      <td>13254</td>\n",
       "      <td>246328</td>\n",
       "      <td>A. Aidonis</td>\n",
       "      <td>17</td>\n",
       "      <td>https://cdn.sofifa.org/players/4/19/246328.png</td>\n",
       "      <td>Germany</td>\n",
       "      <td>https://cdn.sofifa.org/flags/21.png</td>\n",
       "      <td>62</td>\n",
       "      <td>82</td>\n",
       "      <td>VfB Stuttgart</td>\n",
       "      <td>...</td>\n",
       "      <td>NaN</td>\n",
       "      <td>NaN</td>\n",
       "      <td>NaN</td>\n",
       "      <td>NaN</td>\n",
       "      <td>NaN</td>\n",
       "      <td>NaN</td>\n",
       "      <td>NaN</td>\n",
       "      <td>NaN</td>\n",
       "      <td>NaN</td>\n",
       "      <td>NaN</td>\n",
       "    </tr>\n",
       "    <tr>\n",
       "      <th>13255</th>\n",
       "      <td>13255</td>\n",
       "      <td>196921</td>\n",
       "      <td>L. Sowah</td>\n",
       "      <td>25</td>\n",
       "      <td>https://cdn.sofifa.org/players/4/19/196921.png</td>\n",
       "      <td>Germany</td>\n",
       "      <td>https://cdn.sofifa.org/flags/21.png</td>\n",
       "      <td>62</td>\n",
       "      <td>65</td>\n",
       "      <td>Hamilton Academical FC</td>\n",
       "      <td>...</td>\n",
       "      <td>NaN</td>\n",
       "      <td>NaN</td>\n",
       "      <td>NaN</td>\n",
       "      <td>NaN</td>\n",
       "      <td>NaN</td>\n",
       "      <td>NaN</td>\n",
       "      <td>NaN</td>\n",
       "      <td>NaN</td>\n",
       "      <td>NaN</td>\n",
       "      <td>NaN</td>\n",
       "    </tr>\n",
       "    <tr>\n",
       "      <th>13256</th>\n",
       "      <td>13256</td>\n",
       "      <td>202809</td>\n",
       "      <td>R. Deacon</td>\n",
       "      <td>26</td>\n",
       "      <td>https://cdn.sofifa.org/players/4/19/202809.png</td>\n",
       "      <td>England</td>\n",
       "      <td>https://cdn.sofifa.org/flags/14.png</td>\n",
       "      <td>62</td>\n",
       "      <td>62</td>\n",
       "      <td>Dundee FC</td>\n",
       "      <td>...</td>\n",
       "      <td>NaN</td>\n",
       "      <td>NaN</td>\n",
       "      <td>NaN</td>\n",
       "      <td>NaN</td>\n",
       "      <td>NaN</td>\n",
       "      <td>NaN</td>\n",
       "      <td>NaN</td>\n",
       "      <td>NaN</td>\n",
       "      <td>NaN</td>\n",
       "      <td>NaN</td>\n",
       "    </tr>\n",
       "    <tr>\n",
       "      <th>13257</th>\n",
       "      <td>13257</td>\n",
       "      <td>226617</td>\n",
       "      <td>Jang Hyun Soo</td>\n",
       "      <td>25</td>\n",
       "      <td>https://cdn.sofifa.org/players/4/19/226617.png</td>\n",
       "      <td>Korea Republic</td>\n",
       "      <td>https://cdn.sofifa.org/flags/167.png</td>\n",
       "      <td>62</td>\n",
       "      <td>65</td>\n",
       "      <td>Suwon Samsung Bluewings</td>\n",
       "      <td>...</td>\n",
       "      <td>NaN</td>\n",
       "      <td>NaN</td>\n",
       "      <td>NaN</td>\n",
       "      <td>NaN</td>\n",
       "      <td>NaN</td>\n",
       "      <td>NaN</td>\n",
       "      <td>NaN</td>\n",
       "      <td>NaN</td>\n",
       "      <td>NaN</td>\n",
       "      <td>NaN</td>\n",
       "    </tr>\n",
       "    <tr>\n",
       "      <th>13258</th>\n",
       "      <td>13258</td>\n",
       "      <td>230713</td>\n",
       "      <td>A. Al Malki</td>\n",
       "      <td>23</td>\n",
       "      <td>https://cdn.sofifa.org/players/4/19/230713.png</td>\n",
       "      <td>Saudi Arabia</td>\n",
       "      <td>https://cdn.sofifa.org/flags/183.png</td>\n",
       "      <td>62</td>\n",
       "      <td>67</td>\n",
       "      <td>Al Wehda</td>\n",
       "      <td>...</td>\n",
       "      <td>NaN</td>\n",
       "      <td>NaN</td>\n",
       "      <td>NaN</td>\n",
       "      <td>NaN</td>\n",
       "      <td>NaN</td>\n",
       "      <td>NaN</td>\n",
       "      <td>NaN</td>\n",
       "      <td>NaN</td>\n",
       "      <td>NaN</td>\n",
       "      <td>NaN</td>\n",
       "    </tr>\n",
       "    <tr>\n",
       "      <th>13259</th>\n",
       "      <td>13259</td>\n",
       "      <td>234809</td>\n",
       "      <td>E. Guerrero</td>\n",
       "      <td>27</td>\n",
       "      <td>https://cdn.sofifa.org/players/4/19/234809.png</td>\n",
       "      <td>Chile</td>\n",
       "      <td>https://cdn.sofifa.org/flags/55.png</td>\n",
       "      <td>62</td>\n",
       "      <td>65</td>\n",
       "      <td>CD Palestino</td>\n",
       "      <td>...</td>\n",
       "      <td>NaN</td>\n",
       "      <td>NaN</td>\n",
       "      <td>NaN</td>\n",
       "      <td>NaN</td>\n",
       "      <td>NaN</td>\n",
       "      <td>NaN</td>\n",
       "      <td>NaN</td>\n",
       "      <td>NaN</td>\n",
       "      <td>NaN</td>\n",
       "      <td>NaN</td>\n",
       "    </tr>\n",
       "    <tr>\n",
       "      <th>13260</th>\n",
       "      <td>13260</td>\n",
       "      <td>246073</td>\n",
       "      <td>Hernáiz</td>\n",
       "      <td>20</td>\n",
       "      <td>https://cdn.sofifa.org/players/4/19/246073.png</td>\n",
       "      <td>Spain</td>\n",
       "      <td>https://cdn.sofifa.org/flags/45.png</td>\n",
       "      <td>62</td>\n",
       "      <td>69</td>\n",
       "      <td>Albacete BP</td>\n",
       "      <td>...</td>\n",
       "      <td>NaN</td>\n",
       "      <td>NaN</td>\n",
       "      <td>NaN</td>\n",
       "      <td>NaN</td>\n",
       "      <td>NaN</td>\n",
       "      <td>NaN</td>\n",
       "      <td>NaN</td>\n",
       "      <td>NaN</td>\n",
       "      <td>NaN</td>\n",
       "      <td>NaN</td>\n",
       "    </tr>\n",
       "    <tr>\n",
       "      <th>13261</th>\n",
       "      <td>13261</td>\n",
       "      <td>221498</td>\n",
       "      <td>H. Al Mansour</td>\n",
       "      <td>25</td>\n",
       "      <td>https://cdn.sofifa.org/players/4/19/221498.png</td>\n",
       "      <td>Saudi Arabia</td>\n",
       "      <td>https://cdn.sofifa.org/flags/183.png</td>\n",
       "      <td>62</td>\n",
       "      <td>64</td>\n",
       "      <td>Al Nassr</td>\n",
       "      <td>...</td>\n",
       "      <td>NaN</td>\n",
       "      <td>NaN</td>\n",
       "      <td>NaN</td>\n",
       "      <td>NaN</td>\n",
       "      <td>NaN</td>\n",
       "      <td>NaN</td>\n",
       "      <td>NaN</td>\n",
       "      <td>NaN</td>\n",
       "      <td>NaN</td>\n",
       "      <td>NaN</td>\n",
       "    </tr>\n",
       "    <tr>\n",
       "      <th>13262</th>\n",
       "      <td>13262</td>\n",
       "      <td>244026</td>\n",
       "      <td>H. Paul</td>\n",
       "      <td>24</td>\n",
       "      <td>https://cdn.sofifa.org/players/4/19/244026.png</td>\n",
       "      <td>Germany</td>\n",
       "      <td>https://cdn.sofifa.org/flags/21.png</td>\n",
       "      <td>62</td>\n",
       "      <td>66</td>\n",
       "      <td>TSV 1860 München</td>\n",
       "      <td>...</td>\n",
       "      <td>NaN</td>\n",
       "      <td>NaN</td>\n",
       "      <td>NaN</td>\n",
       "      <td>NaN</td>\n",
       "      <td>NaN</td>\n",
       "      <td>NaN</td>\n",
       "      <td>NaN</td>\n",
       "      <td>NaN</td>\n",
       "      <td>NaN</td>\n",
       "      <td>NaN</td>\n",
       "    </tr>\n",
       "    <tr>\n",
       "      <th>13263</th>\n",
       "      <td>13263</td>\n",
       "      <td>244538</td>\n",
       "      <td>S. Bauer</td>\n",
       "      <td>25</td>\n",
       "      <td>https://cdn.sofifa.org/players/4/19/244538.png</td>\n",
       "      <td>Austria</td>\n",
       "      <td>https://cdn.sofifa.org/flags/4.png</td>\n",
       "      <td>62</td>\n",
       "      <td>66</td>\n",
       "      <td>FC Admira Wacker Mödling</td>\n",
       "      <td>...</td>\n",
       "      <td>NaN</td>\n",
       "      <td>NaN</td>\n",
       "      <td>NaN</td>\n",
       "      <td>NaN</td>\n",
       "      <td>NaN</td>\n",
       "      <td>NaN</td>\n",
       "      <td>NaN</td>\n",
       "      <td>NaN</td>\n",
       "      <td>NaN</td>\n",
       "      <td>NaN</td>\n",
       "    </tr>\n",
       "    <tr>\n",
       "      <th>13264</th>\n",
       "      <td>13264</td>\n",
       "      <td>201019</td>\n",
       "      <td>M. Chergui</td>\n",
       "      <td>29</td>\n",
       "      <td>https://cdn.sofifa.org/players/4/19/201019.png</td>\n",
       "      <td>France</td>\n",
       "      <td>https://cdn.sofifa.org/flags/18.png</td>\n",
       "      <td>62</td>\n",
       "      <td>62</td>\n",
       "      <td>Grenoble Foot 38</td>\n",
       "      <td>...</td>\n",
       "      <td>NaN</td>\n",
       "      <td>NaN</td>\n",
       "      <td>NaN</td>\n",
       "      <td>NaN</td>\n",
       "      <td>NaN</td>\n",
       "      <td>NaN</td>\n",
       "      <td>NaN</td>\n",
       "      <td>NaN</td>\n",
       "      <td>NaN</td>\n",
       "      <td>NaN</td>\n",
       "    </tr>\n",
       "    <tr>\n",
       "      <th>13265</th>\n",
       "      <td>13265</td>\n",
       "      <td>221499</td>\n",
       "      <td>D. Gardner</td>\n",
       "      <td>28</td>\n",
       "      <td>https://cdn.sofifa.org/players/4/19/221499.png</td>\n",
       "      <td>England</td>\n",
       "      <td>https://cdn.sofifa.org/flags/14.png</td>\n",
       "      <td>62</td>\n",
       "      <td>62</td>\n",
       "      <td>Oldham Athletic</td>\n",
       "      <td>...</td>\n",
       "      <td>NaN</td>\n",
       "      <td>NaN</td>\n",
       "      <td>NaN</td>\n",
       "      <td>NaN</td>\n",
       "      <td>NaN</td>\n",
       "      <td>NaN</td>\n",
       "      <td>NaN</td>\n",
       "      <td>NaN</td>\n",
       "      <td>NaN</td>\n",
       "      <td>NaN</td>\n",
       "    </tr>\n",
       "    <tr>\n",
       "      <th>13266</th>\n",
       "      <td>13266</td>\n",
       "      <td>237371</td>\n",
       "      <td>L. Bengtsson</td>\n",
       "      <td>20</td>\n",
       "      <td>https://cdn.sofifa.org/players/4/19/237371.png</td>\n",
       "      <td>Sweden</td>\n",
       "      <td>https://cdn.sofifa.org/flags/46.png</td>\n",
       "      <td>62</td>\n",
       "      <td>73</td>\n",
       "      <td>Hammarby IF</td>\n",
       "      <td>...</td>\n",
       "      <td>NaN</td>\n",
       "      <td>NaN</td>\n",
       "      <td>NaN</td>\n",
       "      <td>NaN</td>\n",
       "      <td>NaN</td>\n",
       "      <td>NaN</td>\n",
       "      <td>NaN</td>\n",
       "      <td>NaN</td>\n",
       "      <td>NaN</td>\n",
       "      <td>NaN</td>\n",
       "    </tr>\n",
       "    <tr>\n",
       "      <th>13267</th>\n",
       "      <td>13267</td>\n",
       "      <td>242491</td>\n",
       "      <td>F. Jaramillo</td>\n",
       "      <td>22</td>\n",
       "      <td>https://cdn.sofifa.org/players/4/19/242491.png</td>\n",
       "      <td>Colombia</td>\n",
       "      <td>https://cdn.sofifa.org/flags/56.png</td>\n",
       "      <td>62</td>\n",
       "      <td>70</td>\n",
       "      <td>Itagüí Leones FC</td>\n",
       "      <td>...</td>\n",
       "      <td>NaN</td>\n",
       "      <td>NaN</td>\n",
       "      <td>NaN</td>\n",
       "      <td>NaN</td>\n",
       "      <td>NaN</td>\n",
       "      <td>NaN</td>\n",
       "      <td>NaN</td>\n",
       "      <td>NaN</td>\n",
       "      <td>NaN</td>\n",
       "      <td>NaN</td>\n",
       "    </tr>\n",
       "    <tr>\n",
       "      <th>13268</th>\n",
       "      <td>13268</td>\n",
       "      <td>153148</td>\n",
       "      <td>L. Garguła</td>\n",
       "      <td>37</td>\n",
       "      <td>https://cdn.sofifa.org/players/4/19/153148.png</td>\n",
       "      <td>Poland</td>\n",
       "      <td>https://cdn.sofifa.org/flags/37.png</td>\n",
       "      <td>62</td>\n",
       "      <td>62</td>\n",
       "      <td>Miedź Legnica</td>\n",
       "      <td>...</td>\n",
       "      <td>NaN</td>\n",
       "      <td>NaN</td>\n",
       "      <td>NaN</td>\n",
       "      <td>NaN</td>\n",
       "      <td>NaN</td>\n",
       "      <td>NaN</td>\n",
       "      <td>NaN</td>\n",
       "      <td>NaN</td>\n",
       "      <td>NaN</td>\n",
       "      <td>NaN</td>\n",
       "    </tr>\n",
       "    <tr>\n",
       "      <th>13269</th>\n",
       "      <td>13269</td>\n",
       "      <td>244540</td>\n",
       "      <td>S. Rivera</td>\n",
       "      <td>26</td>\n",
       "      <td>https://cdn.sofifa.org/players/4/19/244540.png</td>\n",
       "      <td>Colombia</td>\n",
       "      <td>https://cdn.sofifa.org/flags/56.png</td>\n",
       "      <td>62</td>\n",
       "      <td>64</td>\n",
       "      <td>Jaguares de Córdoba</td>\n",
       "      <td>...</td>\n",
       "      <td>NaN</td>\n",
       "      <td>NaN</td>\n",
       "      <td>NaN</td>\n",
       "      <td>NaN</td>\n",
       "      <td>NaN</td>\n",
       "      <td>NaN</td>\n",
       "      <td>NaN</td>\n",
       "      <td>NaN</td>\n",
       "      <td>NaN</td>\n",
       "      <td>NaN</td>\n",
       "    </tr>\n",
       "    <tr>\n",
       "      <th>13270</th>\n",
       "      <td>13270</td>\n",
       "      <td>245564</td>\n",
       "      <td>Vinicius</td>\n",
       "      <td>19</td>\n",
       "      <td>https://cdn.sofifa.org/players/4/19/245564.png</td>\n",
       "      <td>Brazil</td>\n",
       "      <td>https://cdn.sofifa.org/flags/54.png</td>\n",
       "      <td>62</td>\n",
       "      <td>77</td>\n",
       "      <td>Bologna</td>\n",
       "      <td>...</td>\n",
       "      <td>NaN</td>\n",
       "      <td>NaN</td>\n",
       "      <td>NaN</td>\n",
       "      <td>NaN</td>\n",
       "      <td>NaN</td>\n",
       "      <td>NaN</td>\n",
       "      <td>NaN</td>\n",
       "      <td>NaN</td>\n",
       "      <td>NaN</td>\n",
       "      <td>NaN</td>\n",
       "    </tr>\n",
       "    <tr>\n",
       "      <th>13271</th>\n",
       "      <td>13271</td>\n",
       "      <td>213821</td>\n",
       "      <td>F. Sepúlveda</td>\n",
       "      <td>26</td>\n",
       "      <td>https://cdn.sofifa.org/players/4/19/213821.png</td>\n",
       "      <td>Chile</td>\n",
       "      <td>https://cdn.sofifa.org/flags/55.png</td>\n",
       "      <td>62</td>\n",
       "      <td>63</td>\n",
       "      <td>CD Antofagasta</td>\n",
       "      <td>...</td>\n",
       "      <td>NaN</td>\n",
       "      <td>NaN</td>\n",
       "      <td>NaN</td>\n",
       "      <td>NaN</td>\n",
       "      <td>NaN</td>\n",
       "      <td>NaN</td>\n",
       "      <td>NaN</td>\n",
       "      <td>NaN</td>\n",
       "      <td>NaN</td>\n",
       "      <td>NaN</td>\n",
       "    </tr>\n",
       "    <tr>\n",
       "      <th>13272</th>\n",
       "      <td>13272</td>\n",
       "      <td>240701</td>\n",
       "      <td>L. Spence</td>\n",
       "      <td>22</td>\n",
       "      <td>https://cdn.sofifa.org/players/4/19/240701.png</td>\n",
       "      <td>Scotland</td>\n",
       "      <td>https://cdn.sofifa.org/flags/42.png</td>\n",
       "      <td>62</td>\n",
       "      <td>70</td>\n",
       "      <td>Dundee FC</td>\n",
       "      <td>...</td>\n",
       "      <td>NaN</td>\n",
       "      <td>NaN</td>\n",
       "      <td>NaN</td>\n",
       "      <td>NaN</td>\n",
       "      <td>NaN</td>\n",
       "      <td>NaN</td>\n",
       "      <td>NaN</td>\n",
       "      <td>NaN</td>\n",
       "      <td>NaN</td>\n",
       "      <td>NaN</td>\n",
       "    </tr>\n",
       "    <tr>\n",
       "      <th>13273</th>\n",
       "      <td>13273</td>\n",
       "      <td>242237</td>\n",
       "      <td>B. Lepistu</td>\n",
       "      <td>25</td>\n",
       "      <td>https://cdn.sofifa.org/players/4/19/242237.png</td>\n",
       "      <td>Estonia</td>\n",
       "      <td>https://cdn.sofifa.org/flags/208.png</td>\n",
       "      <td>62</td>\n",
       "      <td>67</td>\n",
       "      <td>Kristiansund BK</td>\n",
       "      <td>...</td>\n",
       "      <td>NaN</td>\n",
       "      <td>NaN</td>\n",
       "      <td>NaN</td>\n",
       "      <td>NaN</td>\n",
       "      <td>NaN</td>\n",
       "      <td>NaN</td>\n",
       "      <td>NaN</td>\n",
       "      <td>NaN</td>\n",
       "      <td>NaN</td>\n",
       "      <td>NaN</td>\n",
       "    </tr>\n",
       "    <tr>\n",
       "      <th>13274</th>\n",
       "      <td>13274</td>\n",
       "      <td>244029</td>\n",
       "      <td>A. Abruscia</td>\n",
       "      <td>27</td>\n",
       "      <td>https://cdn.sofifa.org/players/4/19/244029.png</td>\n",
       "      <td>Italy</td>\n",
       "      <td>https://cdn.sofifa.org/flags/27.png</td>\n",
       "      <td>62</td>\n",
       "      <td>62</td>\n",
       "      <td>TSV 1860 München</td>\n",
       "      <td>...</td>\n",
       "      <td>NaN</td>\n",
       "      <td>NaN</td>\n",
       "      <td>NaN</td>\n",
       "      <td>NaN</td>\n",
       "      <td>NaN</td>\n",
       "      <td>NaN</td>\n",
       "      <td>NaN</td>\n",
       "      <td>NaN</td>\n",
       "      <td>NaN</td>\n",
       "      <td>NaN</td>\n",
       "    </tr>\n",
       "    <tr>\n",
       "      <th>13275</th>\n",
       "      <td>13275</td>\n",
       "      <td>244541</td>\n",
       "      <td>E. González</td>\n",
       "      <td>23</td>\n",
       "      <td>https://cdn.sofifa.org/players/4/19/244541.png</td>\n",
       "      <td>Venezuela</td>\n",
       "      <td>https://cdn.sofifa.org/flags/61.png</td>\n",
       "      <td>62</td>\n",
       "      <td>70</td>\n",
       "      <td>Boyacá Chicó FC</td>\n",
       "      <td>...</td>\n",
       "      <td>NaN</td>\n",
       "      <td>NaN</td>\n",
       "      <td>NaN</td>\n",
       "      <td>NaN</td>\n",
       "      <td>NaN</td>\n",
       "      <td>NaN</td>\n",
       "      <td>NaN</td>\n",
       "      <td>NaN</td>\n",
       "      <td>NaN</td>\n",
       "      <td>NaN</td>\n",
       "    </tr>\n",
       "    <tr>\n",
       "      <th>13276</th>\n",
       "      <td>13276</td>\n",
       "      <td>211006</td>\n",
       "      <td>M. Al Amri</td>\n",
       "      <td>26</td>\n",
       "      <td>https://cdn.sofifa.org/players/4/19/211006.png</td>\n",
       "      <td>Saudi Arabia</td>\n",
       "      <td>https://cdn.sofifa.org/flags/183.png</td>\n",
       "      <td>62</td>\n",
       "      <td>63</td>\n",
       "      <td>Al Raed</td>\n",
       "      <td>...</td>\n",
       "      <td>NaN</td>\n",
       "      <td>NaN</td>\n",
       "      <td>NaN</td>\n",
       "      <td>NaN</td>\n",
       "      <td>NaN</td>\n",
       "      <td>NaN</td>\n",
       "      <td>NaN</td>\n",
       "      <td>NaN</td>\n",
       "      <td>NaN</td>\n",
       "      <td>NaN</td>\n",
       "    </tr>\n",
       "    <tr>\n",
       "      <th>13277</th>\n",
       "      <td>13277</td>\n",
       "      <td>215102</td>\n",
       "      <td>J. Rebolledo</td>\n",
       "      <td>26</td>\n",
       "      <td>https://cdn.sofifa.org/players/4/19/215102.png</td>\n",
       "      <td>Chile</td>\n",
       "      <td>https://cdn.sofifa.org/flags/55.png</td>\n",
       "      <td>62</td>\n",
       "      <td>62</td>\n",
       "      <td>Deportes Iquique</td>\n",
       "      <td>...</td>\n",
       "      <td>NaN</td>\n",
       "      <td>NaN</td>\n",
       "      <td>NaN</td>\n",
       "      <td>NaN</td>\n",
       "      <td>NaN</td>\n",
       "      <td>NaN</td>\n",
       "      <td>NaN</td>\n",
       "      <td>NaN</td>\n",
       "      <td>NaN</td>\n",
       "      <td>NaN</td>\n",
       "    </tr>\n",
       "    <tr>\n",
       "      <th>13278</th>\n",
       "      <td>13278</td>\n",
       "      <td>246078</td>\n",
       "      <td>C. Mamengi</td>\n",
       "      <td>17</td>\n",
       "      <td>https://cdn.sofifa.org/players/4/19/246078.png</td>\n",
       "      <td>Netherlands</td>\n",
       "      <td>https://cdn.sofifa.org/flags/34.png</td>\n",
       "      <td>62</td>\n",
       "      <td>79</td>\n",
       "      <td>FC Utrecht</td>\n",
       "      <td>...</td>\n",
       "      <td>NaN</td>\n",
       "      <td>NaN</td>\n",
       "      <td>NaN</td>\n",
       "      <td>NaN</td>\n",
       "      <td>NaN</td>\n",
       "      <td>NaN</td>\n",
       "      <td>NaN</td>\n",
       "      <td>NaN</td>\n",
       "      <td>NaN</td>\n",
       "      <td>NaN</td>\n",
       "    </tr>\n",
       "    <tr>\n",
       "      <th>13279</th>\n",
       "      <td>13279</td>\n",
       "      <td>239679</td>\n",
       "      <td>P. Mazzocchi</td>\n",
       "      <td>22</td>\n",
       "      <td>https://cdn.sofifa.org/players/4/19/239679.png</td>\n",
       "      <td>Italy</td>\n",
       "      <td>https://cdn.sofifa.org/flags/27.png</td>\n",
       "      <td>62</td>\n",
       "      <td>69</td>\n",
       "      <td>Perugia</td>\n",
       "      <td>...</td>\n",
       "      <td>NaN</td>\n",
       "      <td>NaN</td>\n",
       "      <td>NaN</td>\n",
       "      <td>NaN</td>\n",
       "      <td>NaN</td>\n",
       "      <td>NaN</td>\n",
       "      <td>NaN</td>\n",
       "      <td>NaN</td>\n",
       "      <td>NaN</td>\n",
       "      <td>NaN</td>\n",
       "    </tr>\n",
       "    <tr>\n",
       "      <th>13280</th>\n",
       "      <td>13280</td>\n",
       "      <td>244543</td>\n",
       "      <td>Y. Ammour</td>\n",
       "      <td>19</td>\n",
       "      <td>https://cdn.sofifa.org/players/4/19/244543.png</td>\n",
       "      <td>France</td>\n",
       "      <td>https://cdn.sofifa.org/flags/18.png</td>\n",
       "      <td>62</td>\n",
       "      <td>77</td>\n",
       "      <td>Montpellier HSC</td>\n",
       "      <td>...</td>\n",
       "      <td>NaN</td>\n",
       "      <td>NaN</td>\n",
       "      <td>NaN</td>\n",
       "      <td>NaN</td>\n",
       "      <td>NaN</td>\n",
       "      <td>NaN</td>\n",
       "      <td>NaN</td>\n",
       "      <td>NaN</td>\n",
       "      <td>NaN</td>\n",
       "      <td>NaN</td>\n",
       "    </tr>\n",
       "    <tr>\n",
       "      <th>13281</th>\n",
       "      <td>13281</td>\n",
       "      <td>212800</td>\n",
       "      <td>Jwa Joon Hyeop</td>\n",
       "      <td>27</td>\n",
       "      <td>https://cdn.sofifa.org/players/4/19/212800.png</td>\n",
       "      <td>Korea Republic</td>\n",
       "      <td>https://cdn.sofifa.org/flags/167.png</td>\n",
       "      <td>62</td>\n",
       "      <td>62</td>\n",
       "      <td>Gyeongnam FC</td>\n",
       "      <td>...</td>\n",
       "      <td>NaN</td>\n",
       "      <td>NaN</td>\n",
       "      <td>NaN</td>\n",
       "      <td>NaN</td>\n",
       "      <td>NaN</td>\n",
       "      <td>NaN</td>\n",
       "      <td>NaN</td>\n",
       "      <td>NaN</td>\n",
       "      <td>NaN</td>\n",
       "      <td>NaN</td>\n",
       "    </tr>\n",
       "    <tr>\n",
       "      <th>13282</th>\n",
       "      <td>13282</td>\n",
       "      <td>231232</td>\n",
       "      <td>O. Marrufo</td>\n",
       "      <td>25</td>\n",
       "      <td>https://cdn.sofifa.org/players/4/19/231232.png</td>\n",
       "      <td>Mexico</td>\n",
       "      <td>https://cdn.sofifa.org/flags/83.png</td>\n",
       "      <td>62</td>\n",
       "      <td>65</td>\n",
       "      <td>Tiburones Rojos de Veracruz</td>\n",
       "      <td>...</td>\n",
       "      <td>NaN</td>\n",
       "      <td>NaN</td>\n",
       "      <td>NaN</td>\n",
       "      <td>NaN</td>\n",
       "      <td>NaN</td>\n",
       "      <td>NaN</td>\n",
       "      <td>NaN</td>\n",
       "      <td>NaN</td>\n",
       "      <td>NaN</td>\n",
       "      <td>NaN</td>\n",
       "    </tr>\n",
       "    <tr>\n",
       "      <th>13283</th>\n",
       "      <td>13283</td>\n",
       "      <td>232256</td>\n",
       "      <td>Han Pengfei</td>\n",
       "      <td>25</td>\n",
       "      <td>https://cdn.sofifa.org/players/4/19/232256.png</td>\n",
       "      <td>China PR</td>\n",
       "      <td>https://cdn.sofifa.org/flags/155.png</td>\n",
       "      <td>62</td>\n",
       "      <td>66</td>\n",
       "      <td>Guizhou Hengfeng FC</td>\n",
       "      <td>...</td>\n",
       "      <td>NaN</td>\n",
       "      <td>NaN</td>\n",
       "      <td>NaN</td>\n",
       "      <td>NaN</td>\n",
       "      <td>NaN</td>\n",
       "      <td>NaN</td>\n",
       "      <td>NaN</td>\n",
       "      <td>NaN</td>\n",
       "      <td>NaN</td>\n",
       "      <td>NaN</td>\n",
       "    </tr>\n",
       "  </tbody>\n",
       "</table>\n",
       "<p>48 rows × 89 columns</p>\n",
       "</div>"
      ],
      "text/plain": [
       "       Unnamed: 0      ID            Name  Age  \\\n",
       "13236       13236  177971      J. McNulty   33   \n",
       "13237       13237  195380      J. Barrera   29   \n",
       "13238       13238  139317        J. Stead   35   \n",
       "13239       13239  240437     A. Semprini   20   \n",
       "13240       13240  209462      R. Bingham   24   \n",
       "13241       13241  219702    K. Dankowski   21   \n",
       "13242       13242  225590       I. Colman   23   \n",
       "13243       13243  233782       M. Feeney   19   \n",
       "13244       13244  239158        R. Minor   30   \n",
       "13245       13245  242998          Klauss   21   \n",
       "13246       13246  244022      I. Sissoko   22   \n",
       "13247       13247  189238         F. Hart   28   \n",
       "13248       13248  211511   L. McCullough   24   \n",
       "13249       13249  224055       Li Yunqiu   27   \n",
       "13250       13250  244535       F. Garcia   29   \n",
       "13251       13251  134968    R. Haemhouts   34   \n",
       "13252       13252  225336       E. Binaku   22   \n",
       "13253       13253  171320       G. Miller   31   \n",
       "13254       13254  246328      A. Aidonis   17   \n",
       "13255       13255  196921        L. Sowah   25   \n",
       "13256       13256  202809       R. Deacon   26   \n",
       "13257       13257  226617   Jang Hyun Soo   25   \n",
       "13258       13258  230713     A. Al Malki   23   \n",
       "13259       13259  234809     E. Guerrero   27   \n",
       "13260       13260  246073         Hernáiz   20   \n",
       "13261       13261  221498   H. Al Mansour   25   \n",
       "13262       13262  244026         H. Paul   24   \n",
       "13263       13263  244538        S. Bauer   25   \n",
       "13264       13264  201019      M. Chergui   29   \n",
       "13265       13265  221499      D. Gardner   28   \n",
       "13266       13266  237371    L. Bengtsson   20   \n",
       "13267       13267  242491    F. Jaramillo   22   \n",
       "13268       13268  153148      L. Garguła   37   \n",
       "13269       13269  244540       S. Rivera   26   \n",
       "13270       13270  245564        Vinicius   19   \n",
       "13271       13271  213821    F. Sepúlveda   26   \n",
       "13272       13272  240701       L. Spence   22   \n",
       "13273       13273  242237      B. Lepistu   25   \n",
       "13274       13274  244029     A. Abruscia   27   \n",
       "13275       13275  244541     E. González   23   \n",
       "13276       13276  211006      M. Al Amri   26   \n",
       "13277       13277  215102    J. Rebolledo   26   \n",
       "13278       13278  246078      C. Mamengi   17   \n",
       "13279       13279  239679    P. Mazzocchi   22   \n",
       "13280       13280  244543       Y. Ammour   19   \n",
       "13281       13281  212800  Jwa Joon Hyeop   27   \n",
       "13282       13282  231232      O. Marrufo   25   \n",
       "13283       13283  232256     Han Pengfei   25   \n",
       "\n",
       "                                                Photo       Nationality  \\\n",
       "13236  https://cdn.sofifa.org/players/4/19/177971.png          Scotland   \n",
       "13237  https://cdn.sofifa.org/players/4/19/195380.png         Nicaragua   \n",
       "13238  https://cdn.sofifa.org/players/4/19/139317.png           England   \n",
       "13239  https://cdn.sofifa.org/players/4/19/240437.png             Italy   \n",
       "13240  https://cdn.sofifa.org/players/4/19/209462.png           England   \n",
       "13241  https://cdn.sofifa.org/players/4/19/219702.png            Poland   \n",
       "13242  https://cdn.sofifa.org/players/4/19/225590.png         Argentina   \n",
       "13243  https://cdn.sofifa.org/players/4/19/233782.png           England   \n",
       "13244  https://cdn.sofifa.org/players/4/19/239158.png           Denmark   \n",
       "13245  https://cdn.sofifa.org/players/4/19/242998.png            Brazil   \n",
       "13246  https://cdn.sofifa.org/players/4/19/244022.png            France   \n",
       "13247  https://cdn.sofifa.org/players/4/19/189238.png           Austria   \n",
       "13248  https://cdn.sofifa.org/players/4/19/211511.png  Northern Ireland   \n",
       "13249  https://cdn.sofifa.org/players/4/19/224055.png          China PR   \n",
       "13250  https://cdn.sofifa.org/players/4/19/244535.png          Paraguay   \n",
       "13251  https://cdn.sofifa.org/players/4/19/134968.png           Belgium   \n",
       "13252  https://cdn.sofifa.org/players/4/19/225336.png           Albania   \n",
       "13253  https://cdn.sofifa.org/players/4/19/171320.png          Scotland   \n",
       "13254  https://cdn.sofifa.org/players/4/19/246328.png           Germany   \n",
       "13255  https://cdn.sofifa.org/players/4/19/196921.png           Germany   \n",
       "13256  https://cdn.sofifa.org/players/4/19/202809.png           England   \n",
       "13257  https://cdn.sofifa.org/players/4/19/226617.png    Korea Republic   \n",
       "13258  https://cdn.sofifa.org/players/4/19/230713.png      Saudi Arabia   \n",
       "13259  https://cdn.sofifa.org/players/4/19/234809.png             Chile   \n",
       "13260  https://cdn.sofifa.org/players/4/19/246073.png             Spain   \n",
       "13261  https://cdn.sofifa.org/players/4/19/221498.png      Saudi Arabia   \n",
       "13262  https://cdn.sofifa.org/players/4/19/244026.png           Germany   \n",
       "13263  https://cdn.sofifa.org/players/4/19/244538.png           Austria   \n",
       "13264  https://cdn.sofifa.org/players/4/19/201019.png            France   \n",
       "13265  https://cdn.sofifa.org/players/4/19/221499.png           England   \n",
       "13266  https://cdn.sofifa.org/players/4/19/237371.png            Sweden   \n",
       "13267  https://cdn.sofifa.org/players/4/19/242491.png          Colombia   \n",
       "13268  https://cdn.sofifa.org/players/4/19/153148.png            Poland   \n",
       "13269  https://cdn.sofifa.org/players/4/19/244540.png          Colombia   \n",
       "13270  https://cdn.sofifa.org/players/4/19/245564.png            Brazil   \n",
       "13271  https://cdn.sofifa.org/players/4/19/213821.png             Chile   \n",
       "13272  https://cdn.sofifa.org/players/4/19/240701.png          Scotland   \n",
       "13273  https://cdn.sofifa.org/players/4/19/242237.png           Estonia   \n",
       "13274  https://cdn.sofifa.org/players/4/19/244029.png             Italy   \n",
       "13275  https://cdn.sofifa.org/players/4/19/244541.png         Venezuela   \n",
       "13276  https://cdn.sofifa.org/players/4/19/211006.png      Saudi Arabia   \n",
       "13277  https://cdn.sofifa.org/players/4/19/215102.png             Chile   \n",
       "13278  https://cdn.sofifa.org/players/4/19/246078.png       Netherlands   \n",
       "13279  https://cdn.sofifa.org/players/4/19/239679.png             Italy   \n",
       "13280  https://cdn.sofifa.org/players/4/19/244543.png            France   \n",
       "13281  https://cdn.sofifa.org/players/4/19/212800.png    Korea Republic   \n",
       "13282  https://cdn.sofifa.org/players/4/19/231232.png            Mexico   \n",
       "13283  https://cdn.sofifa.org/players/4/19/232256.png          China PR   \n",
       "\n",
       "                                       Flag  Overall  Potential  \\\n",
       "13236   https://cdn.sofifa.org/flags/42.png       62         62   \n",
       "13237   https://cdn.sofifa.org/flags/86.png       62         62   \n",
       "13238   https://cdn.sofifa.org/flags/14.png       62         62   \n",
       "13239   https://cdn.sofifa.org/flags/27.png       62         72   \n",
       "13240   https://cdn.sofifa.org/flags/14.png       62         66   \n",
       "13241   https://cdn.sofifa.org/flags/37.png       62         72   \n",
       "13242   https://cdn.sofifa.org/flags/52.png       62         70   \n",
       "13243   https://cdn.sofifa.org/flags/14.png       62         78   \n",
       "13244   https://cdn.sofifa.org/flags/13.png       62         62   \n",
       "13245   https://cdn.sofifa.org/flags/54.png       62         69   \n",
       "13246   https://cdn.sofifa.org/flags/18.png       62         68   \n",
       "13247    https://cdn.sofifa.org/flags/4.png       62         62   \n",
       "13248   https://cdn.sofifa.org/flags/35.png       62         69   \n",
       "13249  https://cdn.sofifa.org/flags/155.png       62         62   \n",
       "13250   https://cdn.sofifa.org/flags/58.png       62         62   \n",
       "13251    https://cdn.sofifa.org/flags/7.png       62         62   \n",
       "13252    https://cdn.sofifa.org/flags/1.png       62         70   \n",
       "13253   https://cdn.sofifa.org/flags/42.png       62         62   \n",
       "13254   https://cdn.sofifa.org/flags/21.png       62         82   \n",
       "13255   https://cdn.sofifa.org/flags/21.png       62         65   \n",
       "13256   https://cdn.sofifa.org/flags/14.png       62         62   \n",
       "13257  https://cdn.sofifa.org/flags/167.png       62         65   \n",
       "13258  https://cdn.sofifa.org/flags/183.png       62         67   \n",
       "13259   https://cdn.sofifa.org/flags/55.png       62         65   \n",
       "13260   https://cdn.sofifa.org/flags/45.png       62         69   \n",
       "13261  https://cdn.sofifa.org/flags/183.png       62         64   \n",
       "13262   https://cdn.sofifa.org/flags/21.png       62         66   \n",
       "13263    https://cdn.sofifa.org/flags/4.png       62         66   \n",
       "13264   https://cdn.sofifa.org/flags/18.png       62         62   \n",
       "13265   https://cdn.sofifa.org/flags/14.png       62         62   \n",
       "13266   https://cdn.sofifa.org/flags/46.png       62         73   \n",
       "13267   https://cdn.sofifa.org/flags/56.png       62         70   \n",
       "13268   https://cdn.sofifa.org/flags/37.png       62         62   \n",
       "13269   https://cdn.sofifa.org/flags/56.png       62         64   \n",
       "13270   https://cdn.sofifa.org/flags/54.png       62         77   \n",
       "13271   https://cdn.sofifa.org/flags/55.png       62         63   \n",
       "13272   https://cdn.sofifa.org/flags/42.png       62         70   \n",
       "13273  https://cdn.sofifa.org/flags/208.png       62         67   \n",
       "13274   https://cdn.sofifa.org/flags/27.png       62         62   \n",
       "13275   https://cdn.sofifa.org/flags/61.png       62         70   \n",
       "13276  https://cdn.sofifa.org/flags/183.png       62         63   \n",
       "13277   https://cdn.sofifa.org/flags/55.png       62         62   \n",
       "13278   https://cdn.sofifa.org/flags/34.png       62         79   \n",
       "13279   https://cdn.sofifa.org/flags/27.png       62         69   \n",
       "13280   https://cdn.sofifa.org/flags/18.png       62         77   \n",
       "13281  https://cdn.sofifa.org/flags/167.png       62         62   \n",
       "13282   https://cdn.sofifa.org/flags/83.png       62         65   \n",
       "13283  https://cdn.sofifa.org/flags/155.png       62         66   \n",
       "\n",
       "                                Club  ... Composure Marking StandingTackle  \\\n",
       "13236                       Rochdale  ...       NaN     NaN            NaN   \n",
       "13237                Boyacá Chicó FC  ...       NaN     NaN            NaN   \n",
       "13238                   Notts County  ...       NaN     NaN            NaN   \n",
       "13239                        Brescia  ...       NaN     NaN            NaN   \n",
       "13240         Hamilton Academical FC  ...       NaN     NaN            NaN   \n",
       "13241                  Śląsk Wrocław  ...       NaN     NaN            NaN   \n",
       "13242         Club Atlético Aldosivi  ...       NaN     NaN            NaN   \n",
       "13243                        Everton  ...       NaN     NaN            NaN   \n",
       "13244                       Hobro IK  ...       NaN     NaN            NaN   \n",
       "13245                   HJK Helsinki  ...       NaN     NaN            NaN   \n",
       "13246                     AS Béziers  ...       NaN     NaN            NaN   \n",
       "13247                 SV Mattersburg  ...       NaN     NaN            NaN   \n",
       "13248                Tranmere Rovers  ...       NaN     NaN            NaN   \n",
       "13249  Shanghai Greenland Shenhua FC  ...       NaN     NaN            NaN   \n",
       "13250               Itagüí Leones FC  ...       NaN     NaN            NaN   \n",
       "13251                      NAC Breda  ...       NaN     NaN            NaN   \n",
       "13252                       Malmö FF  ...       NaN     NaN            NaN   \n",
       "13253                Carlisle United  ...       NaN     NaN            NaN   \n",
       "13254                  VfB Stuttgart  ...       NaN     NaN            NaN   \n",
       "13255         Hamilton Academical FC  ...       NaN     NaN            NaN   \n",
       "13256                      Dundee FC  ...       NaN     NaN            NaN   \n",
       "13257        Suwon Samsung Bluewings  ...       NaN     NaN            NaN   \n",
       "13258                       Al Wehda  ...       NaN     NaN            NaN   \n",
       "13259                   CD Palestino  ...       NaN     NaN            NaN   \n",
       "13260                    Albacete BP  ...       NaN     NaN            NaN   \n",
       "13261                       Al Nassr  ...       NaN     NaN            NaN   \n",
       "13262               TSV 1860 München  ...       NaN     NaN            NaN   \n",
       "13263       FC Admira Wacker Mödling  ...       NaN     NaN            NaN   \n",
       "13264               Grenoble Foot 38  ...       NaN     NaN            NaN   \n",
       "13265                Oldham Athletic  ...       NaN     NaN            NaN   \n",
       "13266                    Hammarby IF  ...       NaN     NaN            NaN   \n",
       "13267               Itagüí Leones FC  ...       NaN     NaN            NaN   \n",
       "13268                  Miedź Legnica  ...       NaN     NaN            NaN   \n",
       "13269            Jaguares de Córdoba  ...       NaN     NaN            NaN   \n",
       "13270                        Bologna  ...       NaN     NaN            NaN   \n",
       "13271                 CD Antofagasta  ...       NaN     NaN            NaN   \n",
       "13272                      Dundee FC  ...       NaN     NaN            NaN   \n",
       "13273                Kristiansund BK  ...       NaN     NaN            NaN   \n",
       "13274               TSV 1860 München  ...       NaN     NaN            NaN   \n",
       "13275                Boyacá Chicó FC  ...       NaN     NaN            NaN   \n",
       "13276                        Al Raed  ...       NaN     NaN            NaN   \n",
       "13277               Deportes Iquique  ...       NaN     NaN            NaN   \n",
       "13278                     FC Utrecht  ...       NaN     NaN            NaN   \n",
       "13279                        Perugia  ...       NaN     NaN            NaN   \n",
       "13280                Montpellier HSC  ...       NaN     NaN            NaN   \n",
       "13281                   Gyeongnam FC  ...       NaN     NaN            NaN   \n",
       "13282    Tiburones Rojos de Veracruz  ...       NaN     NaN            NaN   \n",
       "13283            Guizhou Hengfeng FC  ...       NaN     NaN            NaN   \n",
       "\n",
       "       SlidingTackle GKDiving  GKHandling  GKKicking  GKPositioning  \\\n",
       "13236            NaN      NaN         NaN        NaN            NaN   \n",
       "13237            NaN      NaN         NaN        NaN            NaN   \n",
       "13238            NaN      NaN         NaN        NaN            NaN   \n",
       "13239            NaN      NaN         NaN        NaN            NaN   \n",
       "13240            NaN      NaN         NaN        NaN            NaN   \n",
       "13241            NaN      NaN         NaN        NaN            NaN   \n",
       "13242            NaN      NaN         NaN        NaN            NaN   \n",
       "13243            NaN      NaN         NaN        NaN            NaN   \n",
       "13244            NaN      NaN         NaN        NaN            NaN   \n",
       "13245            NaN      NaN         NaN        NaN            NaN   \n",
       "13246            NaN      NaN         NaN        NaN            NaN   \n",
       "13247            NaN      NaN         NaN        NaN            NaN   \n",
       "13248            NaN      NaN         NaN        NaN            NaN   \n",
       "13249            NaN      NaN         NaN        NaN            NaN   \n",
       "13250            NaN      NaN         NaN        NaN            NaN   \n",
       "13251            NaN      NaN         NaN        NaN            NaN   \n",
       "13252            NaN      NaN         NaN        NaN            NaN   \n",
       "13253            NaN      NaN         NaN        NaN            NaN   \n",
       "13254            NaN      NaN         NaN        NaN            NaN   \n",
       "13255            NaN      NaN         NaN        NaN            NaN   \n",
       "13256            NaN      NaN         NaN        NaN            NaN   \n",
       "13257            NaN      NaN         NaN        NaN            NaN   \n",
       "13258            NaN      NaN         NaN        NaN            NaN   \n",
       "13259            NaN      NaN         NaN        NaN            NaN   \n",
       "13260            NaN      NaN         NaN        NaN            NaN   \n",
       "13261            NaN      NaN         NaN        NaN            NaN   \n",
       "13262            NaN      NaN         NaN        NaN            NaN   \n",
       "13263            NaN      NaN         NaN        NaN            NaN   \n",
       "13264            NaN      NaN         NaN        NaN            NaN   \n",
       "13265            NaN      NaN         NaN        NaN            NaN   \n",
       "13266            NaN      NaN         NaN        NaN            NaN   \n",
       "13267            NaN      NaN         NaN        NaN            NaN   \n",
       "13268            NaN      NaN         NaN        NaN            NaN   \n",
       "13269            NaN      NaN         NaN        NaN            NaN   \n",
       "13270            NaN      NaN         NaN        NaN            NaN   \n",
       "13271            NaN      NaN         NaN        NaN            NaN   \n",
       "13272            NaN      NaN         NaN        NaN            NaN   \n",
       "13273            NaN      NaN         NaN        NaN            NaN   \n",
       "13274            NaN      NaN         NaN        NaN            NaN   \n",
       "13275            NaN      NaN         NaN        NaN            NaN   \n",
       "13276            NaN      NaN         NaN        NaN            NaN   \n",
       "13277            NaN      NaN         NaN        NaN            NaN   \n",
       "13278            NaN      NaN         NaN        NaN            NaN   \n",
       "13279            NaN      NaN         NaN        NaN            NaN   \n",
       "13280            NaN      NaN         NaN        NaN            NaN   \n",
       "13281            NaN      NaN         NaN        NaN            NaN   \n",
       "13282            NaN      NaN         NaN        NaN            NaN   \n",
       "13283            NaN      NaN         NaN        NaN            NaN   \n",
       "\n",
       "      GKReflexes Release Clause  \n",
       "13236        NaN            NaN  \n",
       "13237        NaN            NaN  \n",
       "13238        NaN            NaN  \n",
       "13239        NaN            NaN  \n",
       "13240        NaN            NaN  \n",
       "13241        NaN            NaN  \n",
       "13242        NaN            NaN  \n",
       "13243        NaN            NaN  \n",
       "13244        NaN            NaN  \n",
       "13245        NaN            NaN  \n",
       "13246        NaN            NaN  \n",
       "13247        NaN            NaN  \n",
       "13248        NaN            NaN  \n",
       "13249        NaN            NaN  \n",
       "13250        NaN            NaN  \n",
       "13251        NaN            NaN  \n",
       "13252        NaN            NaN  \n",
       "13253        NaN            NaN  \n",
       "13254        NaN            NaN  \n",
       "13255        NaN            NaN  \n",
       "13256        NaN            NaN  \n",
       "13257        NaN            NaN  \n",
       "13258        NaN            NaN  \n",
       "13259        NaN            NaN  \n",
       "13260        NaN            NaN  \n",
       "13261        NaN            NaN  \n",
       "13262        NaN            NaN  \n",
       "13263        NaN            NaN  \n",
       "13264        NaN            NaN  \n",
       "13265        NaN            NaN  \n",
       "13266        NaN            NaN  \n",
       "13267        NaN            NaN  \n",
       "13268        NaN            NaN  \n",
       "13269        NaN            NaN  \n",
       "13270        NaN            NaN  \n",
       "13271        NaN            NaN  \n",
       "13272        NaN            NaN  \n",
       "13273        NaN            NaN  \n",
       "13274        NaN            NaN  \n",
       "13275        NaN            NaN  \n",
       "13276        NaN            NaN  \n",
       "13277        NaN            NaN  \n",
       "13278        NaN            NaN  \n",
       "13279        NaN            NaN  \n",
       "13280        NaN            NaN  \n",
       "13281        NaN            NaN  \n",
       "13282        NaN            NaN  \n",
       "13283        NaN            NaN  \n",
       "\n",
       "[48 rows x 89 columns]"
      ]
     },
     "execution_count": 554,
     "metadata": {},
     "output_type": "execute_result"
    }
   ],
   "source": [
    "# checking for rows which have more than 50 missing values\n",
    "data[data.isnull().sum(axis=1)>50]\n",
    "# 50/89 values missing, so delete them"
   ]
  },
  {
   "cell_type": "code",
   "execution_count": 555,
   "id": "ec477e77",
   "metadata": {},
   "outputs": [
    {
     "name": "stdout",
     "output_type": "stream",
     "text": [
      "BEFORE DELETING (18207, 89)\n"
     ]
    }
   ],
   "source": [
    "print(\"BEFORE DELETING\",data.shape)\n",
    "data = data[data.isnull().sum(axis=1)<=50]"
   ]
  },
  {
   "cell_type": "code",
   "execution_count": 556,
   "id": "dcde8e0a",
   "metadata": {},
   "outputs": [
    {
     "name": "stdout",
     "output_type": "stream",
     "text": [
      "AFTER DELETING (18159, 89)\n"
     ]
    }
   ],
   "source": [
    "print(\"AFTER DELETING\",data.shape)"
   ]
  },
  {
   "cell_type": "markdown",
   "id": "ea009dc9",
   "metadata": {},
   "source": [
    "## COLUMNS using percentage method"
   ]
  },
  {
   "cell_type": "code",
   "execution_count": 557,
   "id": "010cc869",
   "metadata": {},
   "outputs": [
    {
     "data": {
      "text/plain": [
       "Unnamed: 0           0\n",
       "ID                   0\n",
       "Name                 0\n",
       "Age                  0\n",
       "Photo                0\n",
       "                  ... \n",
       "GKHandling           0\n",
       "GKKicking            0\n",
       "GKPositioning        0\n",
       "GKReflexes           0\n",
       "Release Clause    1516\n",
       "Length: 89, dtype: int64"
      ]
     },
     "execution_count": 557,
     "metadata": {},
     "output_type": "execute_result"
    }
   ],
   "source": [
    "# checking for missing values in columns\n",
    "# this displays only first 5 and last 5 values in the dataset\n",
    "data.isnull().sum()"
   ]
  },
  {
   "cell_type": "code",
   "execution_count": 558,
   "id": "55920363",
   "metadata": {},
   "outputs": [
    {
     "data": {
      "text/plain": [
       "Unnamed: 0                      0\n",
       "ID                              0\n",
       "Name                            0\n",
       "Age                             0\n",
       "Photo                           0\n",
       "Nationality                     0\n",
       "Flag                            0\n",
       "Overall                         0\n",
       "Potential                       0\n",
       "Club                          241\n",
       "Club Logo                       0\n",
       "Value                           0\n",
       "Wage                            0\n",
       "Special                         0\n",
       "Preferred Foot                  0\n",
       "International Reputation        0\n",
       "Weak Foot                       0\n",
       "Skill Moves                     0\n",
       "Work Rate                       0\n",
       "Body Type                       0\n",
       "Real Face                       0\n",
       "Position                       12\n",
       "Jersey Number                  12\n",
       "Joined                       1505\n",
       "Loaned From                 16895\n",
       "Contract Valid Until          241\n",
       "Height                          0\n",
       "Weight                          0\n",
       "LS                           2037\n",
       "ST                           2037\n",
       "RS                           2037\n",
       "LW                           2037\n",
       "LF                           2037\n",
       "CF                           2037\n",
       "RF                           2037\n",
       "RW                           2037\n",
       "LAM                          2037\n",
       "CAM                          2037\n",
       "RAM                          2037\n",
       "LM                           2037\n",
       "LCM                          2037\n",
       "CM                           2037\n",
       "RCM                          2037\n",
       "RM                           2037\n",
       "LWB                          2037\n",
       "LDM                          2037\n",
       "CDM                          2037\n",
       "RDM                          2037\n",
       "RWB                          2037\n",
       "LB                           2037\n",
       "LCB                          2037\n",
       "CB                           2037\n",
       "RCB                          2037\n",
       "RB                           2037\n",
       "Crossing                        0\n",
       "Finishing                       0\n",
       "HeadingAccuracy                 0\n",
       "ShortPassing                    0\n",
       "Volleys                         0\n",
       "Dribbling                       0\n",
       "Curve                           0\n",
       "FKAccuracy                      0\n",
       "LongPassing                     0\n",
       "BallControl                     0\n",
       "Acceleration                    0\n",
       "SprintSpeed                     0\n",
       "Agility                         0\n",
       "Reactions                       0\n",
       "Balance                         0\n",
       "ShotPower                       0\n",
       "Jumping                         0\n",
       "Stamina                         0\n",
       "Strength                        0\n",
       "LongShots                       0\n",
       "Aggression                      0\n",
       "Interceptions                   0\n",
       "Positioning                     0\n",
       "Vision                          0\n",
       "Penalties                       0\n",
       "Composure                       0\n",
       "Marking                         0\n",
       "StandingTackle                  0\n",
       "SlidingTackle                   0\n",
       "GKDiving                        0\n",
       "GKHandling                      0\n",
       "GKKicking                       0\n",
       "GKPositioning                   0\n",
       "GKReflexes                      0\n",
       "Release Clause               1516\n",
       "dtype: int64"
      ]
     },
     "execution_count": 558,
     "metadata": {},
     "output_type": "execute_result"
    }
   ],
   "source": [
    "# to display misisng values of all columns of the dataset\n",
    "pd.set_option(\"max_rows\", 89) # we set 89 as it is the max col number\n",
    "data.isnull().sum()"
   ]
  },
  {
   "cell_type": "code",
   "execution_count": 559,
   "id": "46f54c08",
   "metadata": {},
   "outputs": [
    {
     "data": {
      "text/plain": [
       "Index(['Unnamed: 0', 'ID', 'Name', 'Age', 'Photo', 'Nationality', 'Flag',\n",
       "       'Overall', 'Potential', 'Club', 'Club Logo', 'Value', 'Wage', 'Special',\n",
       "       'Preferred Foot', 'International Reputation', 'Weak Foot',\n",
       "       'Skill Moves', 'Work Rate', 'Body Type', 'Real Face', 'Position',\n",
       "       'Jersey Number', 'Joined', 'Contract Valid Until', 'Height', 'Weight',\n",
       "       'LS', 'ST', 'RS', 'LW', 'LF', 'CF', 'RF', 'RW', 'LAM', 'CAM', 'RAM',\n",
       "       'LM', 'LCM', 'CM', 'RCM', 'RM', 'LWB', 'LDM', 'CDM', 'RDM', 'RWB', 'LB',\n",
       "       'LCB', 'CB', 'RCB', 'RB', 'Crossing', 'Finishing', 'HeadingAccuracy',\n",
       "       'ShortPassing', 'Volleys', 'Dribbling', 'Curve', 'FKAccuracy',\n",
       "       'LongPassing', 'BallControl', 'Acceleration', 'SprintSpeed', 'Agility',\n",
       "       'Reactions', 'Balance', 'ShotPower', 'Jumping', 'Stamina', 'Strength',\n",
       "       'LongShots', 'Aggression', 'Interceptions', 'Positioning', 'Vision',\n",
       "       'Penalties', 'Composure', 'Marking', 'StandingTackle', 'SlidingTackle',\n",
       "       'GKDiving', 'GKHandling', 'GKKicking', 'GKPositioning', 'GKReflexes',\n",
       "       'Release Clause'],\n",
       "      dtype='object')"
      ]
     },
     "execution_count": 559,
     "metadata": {},
     "output_type": "execute_result"
    }
   ],
   "source": [
    "# since loaned from has 93% missing values, we can drop the column\n",
    "data = data.drop(['Loaned From'], axis=1)\n",
    "data.columns"
   ]
  },
  {
   "cell_type": "code",
   "execution_count": 560,
   "id": "aafed491",
   "metadata": {},
   "outputs": [
    {
     "data": {
      "text/plain": [
       "Club                     object\n",
       "Position                 object\n",
       "Jersey Number           float64\n",
       "Joined                   object\n",
       "Contract Valid Until     object\n",
       "LS                       object\n",
       "ST                       object\n",
       "RS                       object\n",
       "LW                       object\n",
       "LF                       object\n",
       "CF                       object\n",
       "RF                       object\n",
       "RW                       object\n",
       "LAM                      object\n",
       "CAM                      object\n",
       "RAM                      object\n",
       "LM                       object\n",
       "LCM                      object\n",
       "CM                       object\n",
       "RCM                      object\n",
       "RM                       object\n",
       "LWB                      object\n",
       "LDM                      object\n",
       "CDM                      object\n",
       "RDM                      object\n",
       "RWB                      object\n",
       "LB                       object\n",
       "LCB                      object\n",
       "CB                       object\n",
       "RCB                      object\n",
       "RB                       object\n",
       "Release Clause           object\n",
       "dtype: object"
      ]
     },
     "execution_count": 560,
     "metadata": {},
     "output_type": "execute_result"
    }
   ],
   "source": [
    "# check the data types of each column values\n",
    "data.dtypes[data.isnull().any()]"
   ]
  },
  {
   "cell_type": "code",
   "execution_count": 561,
   "id": "5773ebb9",
   "metadata": {},
   "outputs": [],
   "source": [
    "# all values are categorical except jersey number\n",
    "\n",
    "# missing values of jersey number means its not applicable\n",
    "data['Jersey Number'].fillna('NA', inplace=True)"
   ]
  },
  {
   "cell_type": "code",
   "execution_count": 562,
   "id": "d6eb4b5f",
   "metadata": {},
   "outputs": [],
   "source": [
    "# since these are categorical, replace with mode\n",
    "\n",
    "data['Club'] = data['Club'].fillna(data['Club'].mode()[0])\n",
    "data['Position'] = data['Position'].fillna(data['Position'].mode()[0])\n",
    "data['Joined'] = data['Joined'].fillna(data['Joined'].mode()[0])\n",
    "data['Contract Valid Until'] = data['Contract Valid Until'].fillna(data['Contract Valid Until'].mode()[0])\n",
    "data['Release Clause'] = data['Release Clause'].fillna(data['Release Clause'].mode()[0])"
   ]
  },
  {
   "cell_type": "code",
   "execution_count": 563,
   "id": "ebba716f",
   "metadata": {},
   "outputs": [],
   "source": [
    "# business logic \n",
    "\n",
    "# scores of different positions of the player, so a missing value means player does not play for that role\n",
    "data['LS'].fillna(0, inplace = True)\n",
    "data['ST'].fillna(0, inplace = True)   \n",
    "data['RS'].fillna(0, inplace = True) \n",
    "data['LW'].fillna(0, inplace = True) \n",
    "data['LF'].fillna(0, inplace = True) \n",
    "data['CF'].fillna(0, inplace = True) \n",
    "data['RF'].fillna(0, inplace = True) \n",
    "data['RW'].fillna(0, inplace = True) \n",
    "data['LAM'].fillna(0, inplace = True) \n",
    "data['CAM'].fillna(0, inplace = True) \n",
    "data['RAM'].fillna(0, inplace = True) \n",
    "data['LM'].fillna(0, inplace = True) \n",
    "data['LCM'].fillna(0, inplace = True) \n",
    "data['CM'].fillna(0, inplace = True) \n",
    "data['RCM'].fillna(0, inplace = True) \n",
    "data['RM'].fillna(0, inplace = True) \n",
    "data['LWB'].fillna(0, inplace = True) \n",
    "data['LDM'].fillna(0, inplace = True) \n",
    "data['CDM'].fillna(0, inplace = True) \n",
    "data['RDM'].fillna(0, inplace = True) \n",
    "data['RWB'].fillna(0, inplace = True) \n",
    "data['LB'].fillna(0, inplace = True) \n",
    "data['LCB'].fillna(0, inplace = True) \n",
    "data['CB'].fillna(0, inplace = True) \n",
    "data['RCB'].fillna(0, inplace = True) \n",
    "data['RB'].fillna(0, inplace = True) \n",
    "   "
   ]
  },
  {
   "cell_type": "code",
   "execution_count": 564,
   "id": "64a9574c",
   "metadata": {},
   "outputs": [
    {
     "data": {
      "text/plain": [
       "0"
      ]
     },
     "execution_count": 564,
     "metadata": {},
     "output_type": "execute_result"
    }
   ],
   "source": [
    "# find missing values\n",
    "data.isnull().sum().sum()"
   ]
  },
  {
   "cell_type": "markdown",
   "id": "98edde93",
   "metadata": {},
   "source": [
    "# outliers\n",
    "\n",
    "how outliers are harmful for ml model\n",
    "-> extreme values which fall a long way outside of the normal observations<br>\n",
    "-> eg: age of a college student = 50<br>\n",
    "-> they are bad for predictive models cos they can induce confusions and give poor performing models and ultimately poor results."
   ]
  },
  {
   "cell_type": "markdown",
   "id": "c4637084",
   "metadata": {},
   "source": [
    "## types of outliers\n",
    "\n",
    "1. univariate outliers - points beyond normal values in single variable<br>\n",
    "2. bivariate outliers - points which lie far from the expected values where 2 variables are plotted against each other<br>"
   ]
  },
  {
   "cell_type": "code",
   "execution_count": 565,
   "id": "254ba1fd",
   "metadata": {},
   "outputs": [
    {
     "data": {
      "text/html": [
       "<div>\n",
       "<style scoped>\n",
       "    .dataframe tbody tr th:only-of-type {\n",
       "        vertical-align: middle;\n",
       "    }\n",
       "\n",
       "    .dataframe tbody tr th {\n",
       "        vertical-align: top;\n",
       "    }\n",
       "\n",
       "    .dataframe thead th {\n",
       "        text-align: right;\n",
       "    }\n",
       "</style>\n",
       "<table border=\"1\" class=\"dataframe\">\n",
       "  <thead>\n",
       "    <tr style=\"text-align: right;\">\n",
       "      <th></th>\n",
       "      <th>Item_Identifier</th>\n",
       "      <th>Item_Weight</th>\n",
       "      <th>Item_Fat_Content</th>\n",
       "      <th>Item_Visibility</th>\n",
       "      <th>Item_Type</th>\n",
       "      <th>Item_MRP</th>\n",
       "      <th>Outlet_Identifier</th>\n",
       "      <th>Outlet_Establishment_Year</th>\n",
       "      <th>Outlet_Size</th>\n",
       "      <th>Outlet_Location_Type</th>\n",
       "      <th>Outlet_Type</th>\n",
       "      <th>Item_Outlet_Sales</th>\n",
       "    </tr>\n",
       "  </thead>\n",
       "  <tbody>\n",
       "    <tr>\n",
       "      <th>0</th>\n",
       "      <td>FDA15</td>\n",
       "      <td>9.30</td>\n",
       "      <td>Low Fat</td>\n",
       "      <td>0.016047</td>\n",
       "      <td>Dairy</td>\n",
       "      <td>249.8092</td>\n",
       "      <td>OUT049</td>\n",
       "      <td>1999</td>\n",
       "      <td>Medium</td>\n",
       "      <td>Tier 1</td>\n",
       "      <td>Supermarket Type1</td>\n",
       "      <td>3735.1380</td>\n",
       "    </tr>\n",
       "    <tr>\n",
       "      <th>1</th>\n",
       "      <td>DRC01</td>\n",
       "      <td>5.92</td>\n",
       "      <td>Regular</td>\n",
       "      <td>0.019278</td>\n",
       "      <td>Soft Drinks</td>\n",
       "      <td>48.2692</td>\n",
       "      <td>OUT018</td>\n",
       "      <td>2009</td>\n",
       "      <td>Medium</td>\n",
       "      <td>Tier 3</td>\n",
       "      <td>Supermarket Type2</td>\n",
       "      <td>443.4228</td>\n",
       "    </tr>\n",
       "    <tr>\n",
       "      <th>2</th>\n",
       "      <td>FDN15</td>\n",
       "      <td>17.50</td>\n",
       "      <td>Low Fat</td>\n",
       "      <td>0.016760</td>\n",
       "      <td>Meat</td>\n",
       "      <td>141.6180</td>\n",
       "      <td>OUT049</td>\n",
       "      <td>1999</td>\n",
       "      <td>Medium</td>\n",
       "      <td>Tier 1</td>\n",
       "      <td>Supermarket Type1</td>\n",
       "      <td>2097.2700</td>\n",
       "    </tr>\n",
       "    <tr>\n",
       "      <th>3</th>\n",
       "      <td>FDX07</td>\n",
       "      <td>19.20</td>\n",
       "      <td>Regular</td>\n",
       "      <td>0.000000</td>\n",
       "      <td>Fruits and Vegetables</td>\n",
       "      <td>182.0950</td>\n",
       "      <td>OUT010</td>\n",
       "      <td>1998</td>\n",
       "      <td>NaN</td>\n",
       "      <td>Tier 3</td>\n",
       "      <td>Grocery Store</td>\n",
       "      <td>732.3800</td>\n",
       "    </tr>\n",
       "    <tr>\n",
       "      <th>4</th>\n",
       "      <td>NCD19</td>\n",
       "      <td>8.93</td>\n",
       "      <td>Low Fat</td>\n",
       "      <td>0.000000</td>\n",
       "      <td>Household</td>\n",
       "      <td>53.8614</td>\n",
       "      <td>OUT013</td>\n",
       "      <td>1987</td>\n",
       "      <td>High</td>\n",
       "      <td>Tier 3</td>\n",
       "      <td>Supermarket Type1</td>\n",
       "      <td>994.7052</td>\n",
       "    </tr>\n",
       "  </tbody>\n",
       "</table>\n",
       "</div>"
      ],
      "text/plain": [
       "  Item_Identifier  Item_Weight Item_Fat_Content  Item_Visibility  \\\n",
       "0           FDA15         9.30          Low Fat         0.016047   \n",
       "1           DRC01         5.92          Regular         0.019278   \n",
       "2           FDN15        17.50          Low Fat         0.016760   \n",
       "3           FDX07        19.20          Regular         0.000000   \n",
       "4           NCD19         8.93          Low Fat         0.000000   \n",
       "\n",
       "               Item_Type  Item_MRP Outlet_Identifier  \\\n",
       "0                  Dairy  249.8092            OUT049   \n",
       "1            Soft Drinks   48.2692            OUT018   \n",
       "2                   Meat  141.6180            OUT049   \n",
       "3  Fruits and Vegetables  182.0950            OUT010   \n",
       "4              Household   53.8614            OUT013   \n",
       "\n",
       "   Outlet_Establishment_Year Outlet_Size Outlet_Location_Type  \\\n",
       "0                       1999      Medium               Tier 1   \n",
       "1                       2009      Medium               Tier 3   \n",
       "2                       1999      Medium               Tier 1   \n",
       "3                       1998         NaN               Tier 3   \n",
       "4                       1987        High               Tier 3   \n",
       "\n",
       "         Outlet_Type  Item_Outlet_Sales  \n",
       "0  Supermarket Type1          3735.1380  \n",
       "1  Supermarket Type2           443.4228  \n",
       "2  Supermarket Type1          2097.2700  \n",
       "3      Grocery Store           732.3800  \n",
       "4  Supermarket Type1           994.7052  "
      ]
     },
     "execution_count": 565,
     "metadata": {},
     "output_type": "execute_result"
    }
   ],
   "source": [
    "import pandas as pd\n",
    "# for plotting values\n",
    "import matplotlib.pyplot as plt\n",
    "import seaborn as sns\n",
    "\n",
    "data = pd.read_csv('csv/bigmart.csv')\n",
    "data.head()"
   ]
  },
  {
   "cell_type": "code",
   "execution_count": 566,
   "id": "60e6c3ac",
   "metadata": {},
   "outputs": [],
   "source": [
    "# outliers are possible in numeric values, so we should check for outliers\n",
    "# outlet establishment year is categorical"
   ]
  },
  {
   "attachments": {
    "image.png": {
     "image/png": "[encoded data removed]"
    }
   },
   "cell_type": "markdown",
   "id": "6d0ff812",
   "metadata": {},
   "source": [
    "## finding outliers\n",
    "\n",
    "## boxplot (seaborn library)\n",
    "-> standardised way of displaying distribution of data using a 5 number summary - minimum, first quartile, median, third quartile, maximum<br>\n",
    "![image.png](attachment:image.png)<br>\n",
    "-> criteria for having outliers in the boxplot -\n",
    "data points > q3+1.5*IQR and \n",
    "data points < q3-1.5*IQR"
   ]
  },
  {
   "cell_type": "code",
   "execution_count": 567,
   "id": "090a9b38",
   "metadata": {},
   "outputs": [
    {
     "name": "stderr",
     "output_type": "stream",
     "text": [
      "C:\\Users\\shrey\\AppData\\Local\\Programs\\Python\\Python39\\lib\\site-packages\\seaborn\\_decorators.py:36: FutureWarning: Pass the following variable as a keyword arg: x. From version 0.12, the only valid positional argument will be `data`, and passing other arguments without an explicit keyword will result in an error or misinterpretation.\n",
      "  warnings.warn(\n",
      "C:\\Users\\shrey\\AppData\\Local\\Programs\\Python\\Python39\\lib\\site-packages\\seaborn\\_decorators.py:36: FutureWarning: Pass the following variable as a keyword arg: x. From version 0.12, the only valid positional argument will be `data`, and passing other arguments without an explicit keyword will result in an error or misinterpretation.\n",
      "  warnings.warn(\n",
      "C:\\Users\\shrey\\AppData\\Local\\Programs\\Python\\Python39\\lib\\site-packages\\seaborn\\_decorators.py:36: FutureWarning: Pass the following variable as a keyword arg: x. From version 0.12, the only valid positional argument will be `data`, and passing other arguments without an explicit keyword will result in an error or misinterpretation.\n",
      "  warnings.warn(\n",
      "C:\\Users\\shrey\\AppData\\Local\\Programs\\Python\\Python39\\lib\\site-packages\\seaborn\\_decorators.py:36: FutureWarning: Pass the following variable as a keyword arg: x. From version 0.12, the only valid positional argument will be `data`, and passing other arguments without an explicit keyword will result in an error or misinterpretation.\n",
      "  warnings.warn(\n"
     ]
    },
    {
     "data": {
      "image/png": "[encoded data removed]",
      "text/plain": [
       "<Figure size 1152x288 with 4 Axes>"
      ]
     },
     "metadata": {
      "needs_background": "light"
     },
     "output_type": "display_data"
    }
   ],
   "source": [
    "# checking for univariate outliers\n",
    "# highest and lowest occuring values within the limit is called whiskers of the plot\n",
    "\n",
    "plt.rcParams['figure.figsize'] = (16, 4)\n",
    "\n",
    "plt.subplot(1,4,1)\n",
    "sns.boxplot(data['Item_Weight'])\n",
    "\n",
    "plt.subplot(1,4,2)\n",
    "sns.boxplot(data['Item_Visibility'])\n",
    "\n",
    "plt.subplot(1,4,3)\n",
    "sns.boxplot(data['Item_MRP'])\n",
    "\n",
    "plt.subplot(1,4,4)\n",
    "sns.boxplot(data['Item_Outlet_Sales'])\n",
    "\n",
    "plt.suptitle(\"Univariate Outliers\")\n",
    "plt.show()"
   ]
  },
  {
   "cell_type": "code",
   "execution_count": 568,
   "id": "6179cfe7",
   "metadata": {},
   "outputs": [],
   "source": [
    "# item visibility - dont delete these since range is very small\n",
    "# and outlet sales - big range, so delete"
   ]
  },
  {
   "cell_type": "markdown",
   "id": "562fd910",
   "metadata": {},
   "source": [
    "## bivariate outliers - using scatterplot\n",
    "-> always found against target variables, eg: against item_outlet_sales"
   ]
  },
  {
   "cell_type": "code",
   "execution_count": 569,
   "id": "c6f8ef20",
   "metadata": {},
   "outputs": [
    {
     "data": {
      "image/png": "[encoded data removed]",
      "text/plain": [
       "<Figure size 1152x288 with 3 Axes>"
      ]
     },
     "metadata": {
      "needs_background": "light"
     },
     "output_type": "display_data"
    }
   ],
   "source": [
    "# plot all numberic values against target column\n",
    "\n",
    "plt.subplot(1,3,1)\n",
    "sns.scatterplot(y = data['Item_Outlet_Sales'], x=data['Item_Weight'])\n",
    "\n",
    "plt.subplot(1,3,2)\n",
    "sns.scatterplot(y = data['Item_Outlet_Sales'], x=data['Item_Visibility'])\n",
    "\n",
    "plt.subplot(1,3,3)\n",
    "sns.scatterplot(y = data['Item_Outlet_Sales'], x=data['Item_MRP'])\n",
    "\n",
    "plt.suptitle(\"Bivariate Variables\")\n",
    "plt.show()"
   ]
  },
  {
   "cell_type": "code",
   "execution_count": 570,
   "id": "801607dd",
   "metadata": {},
   "outputs": [],
   "source": [
    "# delete valeus which come after 8000 from item weight and greater than 10000 from item visibility and mrp"
   ]
  },
  {
   "cell_type": "markdown",
   "id": "f36f8d70",
   "metadata": {},
   "source": [
    "## winsorisation for dealing with outliers\n",
    "\n",
    "-> minimise the influence of outliers by either deleting the extreme observations or deleting the extreme observations of the data<br>\n",
    "-> finds most uncommon observations<br>\n",
    "STEPS IN WINSORISATION\n",
    "-> analyse the reason for the outliers<br>\n",
    "-> decide how much winsorisation is necessary<br>\n",
    "-> in general top 5% and bottom 5% is preferred<br>\n",
    "-> replace extreme values by maximum or minimum values<br> "
   ]
  },
  {
   "cell_type": "markdown",
   "id": "7c189db3",
   "metadata": {},
   "source": [
    "# handling outliers\n",
    "\n",
    "## deleting \n",
    "where we cant use delete <br>\n",
    "\n",
    "-> age variable for loan approval dataset, normal age is 15-60 years, if greater than 60 applied for loan, they are not outliers, they are valid values for the model. we cant delete<br>\n",
    "\n",
    "when to delete<br>\n",
    "-> outliers are due to entry error/measurement error<br>\n",
    "-> when they have significant relationship between 2 independent variables which is against the assumption<br>\n",
    "\n",
    "## capping the outliers\n",
    "\n",
    "-> replacing outliers to near value, so that we can keep the point in our analysis and also does not skew the data<br>\n",
    "\n",
    "## imputing\n",
    "-> outlier is due to some recognised mistake, we can replace it with mean<br>\n",
    "\n",
    "## binning\n",
    "-> transform numerical values to categorical type<br>\n",
    "eg: age can be categorised as 20-40, 40-60, 60-80 <br>"
   ]
  },
  {
   "cell_type": "markdown",
   "id": "6e5100a0",
   "metadata": {},
   "source": [
    "## treating outliers\n",
    "##### note: if there are too many outliers in a dataset, the most representative average value is median - since it isnt sensitive to outliers."
   ]
  },
  {
   "cell_type": "markdown",
   "id": "d6419828",
   "metadata": {},
   "source": [
    "### univariate outliers\n",
    "\n",
    "-> univariate outliers in item_visibility - outliers are in the range 0.2 to 0.3 and other values are in the same range as well, so deleting them doesnt make sense, leave it as such<br>"
   ]
  },
  {
   "cell_type": "code",
   "execution_count": 574,
   "id": "9299c872",
   "metadata": {},
   "outputs": [],
   "source": [
    "# capping values greater than 10000 to 10000\n",
    "data['Item_Outlet_Sales'].values[data['Item_Outlet_Sales'].values > 10000] = 10000"
   ]
  },
  {
   "cell_type": "code",
   "execution_count": 575,
   "id": "ac8d75e4",
   "metadata": {},
   "outputs": [
    {
     "data": {
      "text/html": [
       "<div>\n",
       "<style scoped>\n",
       "    .dataframe tbody tr th:only-of-type {\n",
       "        vertical-align: middle;\n",
       "    }\n",
       "\n",
       "    .dataframe tbody tr th {\n",
       "        vertical-align: top;\n",
       "    }\n",
       "\n",
       "    .dataframe thead th {\n",
       "        text-align: right;\n",
       "    }\n",
       "</style>\n",
       "<table border=\"1\" class=\"dataframe\">\n",
       "  <thead>\n",
       "    <tr style=\"text-align: right;\">\n",
       "      <th></th>\n",
       "      <th>Item_Identifier</th>\n",
       "      <th>Item_Weight</th>\n",
       "      <th>Item_Fat_Content</th>\n",
       "      <th>Item_Visibility</th>\n",
       "      <th>Item_Type</th>\n",
       "      <th>Item_MRP</th>\n",
       "      <th>Outlet_Identifier</th>\n",
       "      <th>Outlet_Establishment_Year</th>\n",
       "      <th>Outlet_Size</th>\n",
       "      <th>Outlet_Location_Type</th>\n",
       "      <th>Outlet_Type</th>\n",
       "      <th>Item_Outlet_Sales</th>\n",
       "    </tr>\n",
       "  </thead>\n",
       "  <tbody>\n",
       "  </tbody>\n",
       "</table>\n",
       "</div>"
      ],
      "text/plain": [
       "Empty DataFrame\n",
       "Columns: [Item_Identifier, Item_Weight, Item_Fat_Content, Item_Visibility, Item_Type, Item_MRP, Outlet_Identifier, Outlet_Establishment_Year, Outlet_Size, Outlet_Location_Type, Outlet_Type, Item_Outlet_Sales]\n",
       "Index: []"
      ]
     },
     "execution_count": 575,
     "metadata": {},
     "output_type": "execute_result"
    }
   ],
   "source": [
    "# check for values greater than 10000 - we find none\n",
    "data[data['Item_Outlet_Sales'].values>10000]"
   ]
  },
  {
   "cell_type": "markdown",
   "id": "1111945c",
   "metadata": {},
   "source": [
    "### bivariate outliers\n",
    "\n",
    "-> delete the all rows where item outlet sales for item visibility and item mrp greater than 10000 <br>"
   ]
  },
  {
   "cell_type": "code",
   "execution_count": 582,
   "id": "95b95c80",
   "metadata": {},
   "outputs": [],
   "source": [
    "# item_outlet_sales which is greater than 8000 for the first case and greater than 10000 for the other 2 cases, deleting all rows where outlet sales is greater than 8000 satisfies all conditions\n",
    "data = data[(data['Item_Outlet_Sales']<=8000)]\n",
    "# an alternate way to achieve this is the invert function  ~\n",
    "data = data[~(data['Item_Outlet_Sales']>8000)]"
   ]
  },
  {
   "cell_type": "markdown",
   "id": "b4b98b5a",
   "metadata": {},
   "source": [
    "# data manipulation functions\n",
    "\n",
    "## reindex\n",
    "-> used to reorder index in the dataframe(changes row and column labels of a dataframe)<br>"
   ]
  },
  {
   "cell_type": "code",
   "execution_count": 628,
   "id": "2bac1f8c",
   "metadata": {},
   "outputs": [
    {
     "data": {
      "text/html": [
       "<div>\n",
       "<style scoped>\n",
       "    .dataframe tbody tr th:only-of-type {\n",
       "        vertical-align: middle;\n",
       "    }\n",
       "\n",
       "    .dataframe tbody tr th {\n",
       "        vertical-align: top;\n",
       "    }\n",
       "\n",
       "    .dataframe thead th {\n",
       "        text-align: right;\n",
       "    }\n",
       "</style>\n",
       "<table border=\"1\" class=\"dataframe\">\n",
       "  <thead>\n",
       "    <tr style=\"text-align: right;\">\n",
       "      <th></th>\n",
       "      <th>http_status</th>\n",
       "      <th>response_time</th>\n",
       "    </tr>\n",
       "  </thead>\n",
       "  <tbody>\n",
       "    <tr>\n",
       "      <th>Firefox</th>\n",
       "      <td>200</td>\n",
       "      <td>0.04</td>\n",
       "    </tr>\n",
       "    <tr>\n",
       "      <th>Chrome</th>\n",
       "      <td>200</td>\n",
       "      <td>0.02</td>\n",
       "    </tr>\n",
       "    <tr>\n",
       "      <th>Safari</th>\n",
       "      <td>404</td>\n",
       "      <td>0.07</td>\n",
       "    </tr>\n",
       "    <tr>\n",
       "      <th>IE10</th>\n",
       "      <td>404</td>\n",
       "      <td>0.08</td>\n",
       "    </tr>\n",
       "    <tr>\n",
       "      <th>Konqueror</th>\n",
       "      <td>301</td>\n",
       "      <td>1.00</td>\n",
       "    </tr>\n",
       "  </tbody>\n",
       "</table>\n",
       "</div>"
      ],
      "text/plain": [
       "           http_status  response_time\n",
       "Firefox            200           0.04\n",
       "Chrome             200           0.02\n",
       "Safari             404           0.07\n",
       "IE10               404           0.08\n",
       "Konqueror          301           1.00"
      ]
     },
     "execution_count": 628,
     "metadata": {},
     "output_type": "execute_result"
    }
   ],
   "source": [
    "# creating a dataframe\n",
    "index = ['Firefox', 'Chrome', 'Safari', 'IE10', 'Konqueror']\n",
    "df = pd.DataFrame({'http_status': [200, 200, 404, 404, 301],\n",
    "                    'response_time': [0.04, 0.02, 0.07, 0.08, 1.0]},\n",
    "                    index = index)\n",
    "df"
   ]
  },
  {
   "cell_type": "code",
   "execution_count": 629,
   "id": "4168f732",
   "metadata": {},
   "outputs": [
    {
     "data": {
      "text/html": [
       "<div>\n",
       "<style scoped>\n",
       "    .dataframe tbody tr th:only-of-type {\n",
       "        vertical-align: middle;\n",
       "    }\n",
       "\n",
       "    .dataframe tbody tr th {\n",
       "        vertical-align: top;\n",
       "    }\n",
       "\n",
       "    .dataframe thead th {\n",
       "        text-align: right;\n",
       "    }\n",
       "</style>\n",
       "<table border=\"1\" class=\"dataframe\">\n",
       "  <thead>\n",
       "    <tr style=\"text-align: right;\">\n",
       "      <th></th>\n",
       "      <th>http_status</th>\n",
       "      <th>response_time</th>\n",
       "    </tr>\n",
       "  </thead>\n",
       "  <tbody>\n",
       "    <tr>\n",
       "      <th>Firefox</th>\n",
       "      <td>200.0</td>\n",
       "      <td>0.04</td>\n",
       "    </tr>\n",
       "    <tr>\n",
       "      <th>Iceweasel</th>\n",
       "      <td>NaN</td>\n",
       "      <td>NaN</td>\n",
       "    </tr>\n",
       "    <tr>\n",
       "      <th>Safari</th>\n",
       "      <td>404.0</td>\n",
       "      <td>0.07</td>\n",
       "    </tr>\n",
       "    <tr>\n",
       "      <th>Konqueror</th>\n",
       "      <td>301.0</td>\n",
       "      <td>1.00</td>\n",
       "    </tr>\n",
       "  </tbody>\n",
       "</table>\n",
       "</div>"
      ],
      "text/plain": [
       "           http_status  response_time\n",
       "Firefox          200.0           0.04\n",
       "Iceweasel          NaN            NaN\n",
       "Safari           404.0           0.07\n",
       "Konqueror        301.0           1.00"
      ]
     },
     "execution_count": 629,
     "metadata": {},
     "output_type": "execute_result"
    }
   ],
   "source": [
    "# create another index\n",
    "new_index = ['Firefox', 'Iceweasel', 'Safari', 'Konqueror']\n",
    "df.reindex(new_index) # this function gives NaN wherever values havent been defined"
   ]
  },
  {
   "cell_type": "markdown",
   "id": "5f5c4621",
   "metadata": {},
   "source": [
    "## reset_index\n",
    "\n",
    "-> it is used to reset an index or convert it to a column<br>"
   ]
  },
  {
   "cell_type": "code",
   "execution_count": 630,
   "id": "88371846",
   "metadata": {},
   "outputs": [
    {
     "data": {
      "text/html": [
       "<div>\n",
       "<style scoped>\n",
       "    .dataframe tbody tr th:only-of-type {\n",
       "        vertical-align: middle;\n",
       "    }\n",
       "\n",
       "    .dataframe tbody tr th {\n",
       "        vertical-align: top;\n",
       "    }\n",
       "\n",
       "    .dataframe thead th {\n",
       "        text-align: right;\n",
       "    }\n",
       "</style>\n",
       "<table border=\"1\" class=\"dataframe\">\n",
       "  <thead>\n",
       "    <tr style=\"text-align: right;\">\n",
       "      <th></th>\n",
       "      <th>class</th>\n",
       "      <th>max_speed</th>\n",
       "    </tr>\n",
       "  </thead>\n",
       "  <tbody>\n",
       "    <tr>\n",
       "      <th>falcon</th>\n",
       "      <td>bird</td>\n",
       "      <td>389.0</td>\n",
       "    </tr>\n",
       "    <tr>\n",
       "      <th>parrot</th>\n",
       "      <td>bird</td>\n",
       "      <td>24.0</td>\n",
       "    </tr>\n",
       "    <tr>\n",
       "      <th>tiger</th>\n",
       "      <td>mammal</td>\n",
       "      <td>80.5</td>\n",
       "    </tr>\n",
       "    <tr>\n",
       "      <th>monkey</th>\n",
       "      <td>mammal</td>\n",
       "      <td>NaN</td>\n",
       "    </tr>\n",
       "  </tbody>\n",
       "</table>\n",
       "</div>"
      ],
      "text/plain": [
       "         class  max_speed\n",
       "falcon    bird      389.0\n",
       "parrot    bird       24.0\n",
       "tiger   mammal       80.5\n",
       "monkey  mammal        NaN"
      ]
     },
     "execution_count": 630,
     "metadata": {},
     "output_type": "execute_result"
    }
   ],
   "source": [
    "df = pd.DataFrame([('bird', 389.0),\n",
    "                ('bird', 24.0),\n",
    "                ('mammal', 80.5),\n",
    "                ('mammal', np.nan)],\n",
    "                index = ['falcon', 'parrot', 'tiger', 'monkey'],\n",
    "                columns = ('class', 'max_speed'))\n",
    "df"
   ]
  },
  {
   "cell_type": "code",
   "execution_count": 631,
   "id": "cecdf313",
   "metadata": {},
   "outputs": [
    {
     "data": {
      "text/html": [
       "<div>\n",
       "<style scoped>\n",
       "    .dataframe tbody tr th:only-of-type {\n",
       "        vertical-align: middle;\n",
       "    }\n",
       "\n",
       "    .dataframe tbody tr th {\n",
       "        vertical-align: top;\n",
       "    }\n",
       "\n",
       "    .dataframe thead th {\n",
       "        text-align: right;\n",
       "    }\n",
       "</style>\n",
       "<table border=\"1\" class=\"dataframe\">\n",
       "  <thead>\n",
       "    <tr style=\"text-align: right;\">\n",
       "      <th></th>\n",
       "      <th>index</th>\n",
       "      <th>class</th>\n",
       "      <th>max_speed</th>\n",
       "    </tr>\n",
       "  </thead>\n",
       "  <tbody>\n",
       "    <tr>\n",
       "      <th>0</th>\n",
       "      <td>falcon</td>\n",
       "      <td>bird</td>\n",
       "      <td>389.0</td>\n",
       "    </tr>\n",
       "    <tr>\n",
       "      <th>1</th>\n",
       "      <td>parrot</td>\n",
       "      <td>bird</td>\n",
       "      <td>24.0</td>\n",
       "    </tr>\n",
       "    <tr>\n",
       "      <th>2</th>\n",
       "      <td>tiger</td>\n",
       "      <td>mammal</td>\n",
       "      <td>80.5</td>\n",
       "    </tr>\n",
       "    <tr>\n",
       "      <th>3</th>\n",
       "      <td>monkey</td>\n",
       "      <td>mammal</td>\n",
       "      <td>NaN</td>\n",
       "    </tr>\n",
       "  </tbody>\n",
       "</table>\n",
       "</div>"
      ],
      "text/plain": [
       "    index   class  max_speed\n",
       "0  falcon    bird      389.0\n",
       "1  parrot    bird       24.0\n",
       "2   tiger  mammal       80.5\n",
       "3  monkey  mammal        NaN"
      ]
     },
     "execution_count": 631,
     "metadata": {},
     "output_type": "execute_result"
    }
   ],
   "source": [
    "# to make this index a column of the dataframe\n",
    "df.reset_index()"
   ]
  },
  {
   "cell_type": "code",
   "execution_count": 632,
   "id": "b702c072",
   "metadata": {},
   "outputs": [
    {
     "data": {
      "text/html": [
       "<div>\n",
       "<style scoped>\n",
       "    .dataframe tbody tr th:only-of-type {\n",
       "        vertical-align: middle;\n",
       "    }\n",
       "\n",
       "    .dataframe tbody tr th {\n",
       "        vertical-align: top;\n",
       "    }\n",
       "\n",
       "    .dataframe thead th {\n",
       "        text-align: right;\n",
       "    }\n",
       "</style>\n",
       "<table border=\"1\" class=\"dataframe\">\n",
       "  <thead>\n",
       "    <tr style=\"text-align: right;\">\n",
       "      <th></th>\n",
       "      <th>class</th>\n",
       "      <th>max_speed</th>\n",
       "    </tr>\n",
       "  </thead>\n",
       "  <tbody>\n",
       "    <tr>\n",
       "      <th>0</th>\n",
       "      <td>bird</td>\n",
       "      <td>389.0</td>\n",
       "    </tr>\n",
       "    <tr>\n",
       "      <th>1</th>\n",
       "      <td>bird</td>\n",
       "      <td>24.0</td>\n",
       "    </tr>\n",
       "    <tr>\n",
       "      <th>2</th>\n",
       "      <td>mammal</td>\n",
       "      <td>80.5</td>\n",
       "    </tr>\n",
       "    <tr>\n",
       "      <th>3</th>\n",
       "      <td>mammal</td>\n",
       "      <td>NaN</td>\n",
       "    </tr>\n",
       "  </tbody>\n",
       "</table>\n",
       "</div>"
      ],
      "text/plain": [
       "    class  max_speed\n",
       "0    bird      389.0\n",
       "1    bird       24.0\n",
       "2  mammal       80.5\n",
       "3  mammal        NaN"
      ]
     },
     "execution_count": 632,
     "metadata": {},
     "output_type": "execute_result"
    }
   ],
   "source": [
    "# to completely delete the index\n",
    "df.reset_index(drop = True)"
   ]
  },
  {
   "cell_type": "markdown",
   "id": "9e470eee",
   "metadata": {},
   "source": [
    "## set_index\n",
    "-> sets a column into an index"
   ]
  },
  {
   "cell_type": "code",
   "execution_count": 633,
   "id": "bac86c97",
   "metadata": {},
   "outputs": [
    {
     "data": {
      "text/html": [
       "<div>\n",
       "<style scoped>\n",
       "    .dataframe tbody tr th:only-of-type {\n",
       "        vertical-align: middle;\n",
       "    }\n",
       "\n",
       "    .dataframe tbody tr th {\n",
       "        vertical-align: top;\n",
       "    }\n",
       "\n",
       "    .dataframe thead th {\n",
       "        text-align: right;\n",
       "    }\n",
       "</style>\n",
       "<table border=\"1\" class=\"dataframe\">\n",
       "  <thead>\n",
       "    <tr style=\"text-align: right;\">\n",
       "      <th></th>\n",
       "      <th>month</th>\n",
       "      <th>year</th>\n",
       "      <th>sale</th>\n",
       "    </tr>\n",
       "  </thead>\n",
       "  <tbody>\n",
       "    <tr>\n",
       "      <th>0</th>\n",
       "      <td>1</td>\n",
       "      <td>2012</td>\n",
       "      <td>55</td>\n",
       "    </tr>\n",
       "    <tr>\n",
       "      <th>1</th>\n",
       "      <td>4</td>\n",
       "      <td>2017</td>\n",
       "      <td>40</td>\n",
       "    </tr>\n",
       "    <tr>\n",
       "      <th>2</th>\n",
       "      <td>7</td>\n",
       "      <td>2019</td>\n",
       "      <td>80</td>\n",
       "    </tr>\n",
       "    <tr>\n",
       "      <th>3</th>\n",
       "      <td>10</td>\n",
       "      <td>2020</td>\n",
       "      <td>90</td>\n",
       "    </tr>\n",
       "  </tbody>\n",
       "</table>\n",
       "</div>"
      ],
      "text/plain": [
       "   month  year  sale\n",
       "0      1  2012    55\n",
       "1      4  2017    40\n",
       "2      7  2019    80\n",
       "3     10  2020    90"
      ]
     },
     "execution_count": 633,
     "metadata": {},
     "output_type": "execute_result"
    }
   ],
   "source": [
    "df = pd.DataFrame({'month': [1, 4, 7, 10],\n",
    "                    'year': [2012, 2017, 2019, 2020],\n",
    "                    'sale': [55, 40, 80, 90]})\n",
    "df"
   ]
  },
  {
   "cell_type": "code",
   "execution_count": 634,
   "id": "d68b99be",
   "metadata": {},
   "outputs": [
    {
     "data": {
      "text/html": [
       "<div>\n",
       "<style scoped>\n",
       "    .dataframe tbody tr th:only-of-type {\n",
       "        vertical-align: middle;\n",
       "    }\n",
       "\n",
       "    .dataframe tbody tr th {\n",
       "        vertical-align: top;\n",
       "    }\n",
       "\n",
       "    .dataframe thead th {\n",
       "        text-align: right;\n",
       "    }\n",
       "</style>\n",
       "<table border=\"1\" class=\"dataframe\">\n",
       "  <thead>\n",
       "    <tr style=\"text-align: right;\">\n",
       "      <th></th>\n",
       "      <th>year</th>\n",
       "      <th>sale</th>\n",
       "    </tr>\n",
       "    <tr>\n",
       "      <th>month</th>\n",
       "      <th></th>\n",
       "      <th></th>\n",
       "    </tr>\n",
       "  </thead>\n",
       "  <tbody>\n",
       "    <tr>\n",
       "      <th>1</th>\n",
       "      <td>2012</td>\n",
       "      <td>55</td>\n",
       "    </tr>\n",
       "    <tr>\n",
       "      <th>4</th>\n",
       "      <td>2017</td>\n",
       "      <td>40</td>\n",
       "    </tr>\n",
       "    <tr>\n",
       "      <th>7</th>\n",
       "      <td>2019</td>\n",
       "      <td>80</td>\n",
       "    </tr>\n",
       "    <tr>\n",
       "      <th>10</th>\n",
       "      <td>2020</td>\n",
       "      <td>90</td>\n",
       "    </tr>\n",
       "  </tbody>\n",
       "</table>\n",
       "</div>"
      ],
      "text/plain": [
       "       year  sale\n",
       "month            \n",
       "1      2012    55\n",
       "4      2017    40\n",
       "7      2019    80\n",
       "10     2020    90"
      ]
     },
     "execution_count": 634,
     "metadata": {},
     "output_type": "execute_result"
    }
   ],
   "source": [
    "# month column is the index of the dataframe\n",
    "df.set_index('month')"
   ]
  },
  {
   "cell_type": "markdown",
   "id": "b8df155c",
   "metadata": {},
   "source": [
    "## sort_index\n",
    "-> used to sort the indices"
   ]
  },
  {
   "cell_type": "code",
   "execution_count": 635,
   "id": "5f1bce3e",
   "metadata": {},
   "outputs": [
    {
     "data": {
      "text/html": [
       "<div>\n",
       "<style scoped>\n",
       "    .dataframe tbody tr th:only-of-type {\n",
       "        vertical-align: middle;\n",
       "    }\n",
       "\n",
       "    .dataframe tbody tr th {\n",
       "        vertical-align: top;\n",
       "    }\n",
       "\n",
       "    .dataframe thead th {\n",
       "        text-align: right;\n",
       "    }\n",
       "</style>\n",
       "<table border=\"1\" class=\"dataframe\">\n",
       "  <thead>\n",
       "    <tr style=\"text-align: right;\">\n",
       "      <th></th>\n",
       "      <th>month</th>\n",
       "      <th>year</th>\n",
       "      <th>sale</th>\n",
       "    </tr>\n",
       "  </thead>\n",
       "  <tbody>\n",
       "    <tr>\n",
       "      <th>0</th>\n",
       "      <td>1</td>\n",
       "      <td>2012</td>\n",
       "      <td>55</td>\n",
       "    </tr>\n",
       "    <tr>\n",
       "      <th>1</th>\n",
       "      <td>4</td>\n",
       "      <td>2017</td>\n",
       "      <td>40</td>\n",
       "    </tr>\n",
       "    <tr>\n",
       "      <th>2</th>\n",
       "      <td>7</td>\n",
       "      <td>2019</td>\n",
       "      <td>80</td>\n",
       "    </tr>\n",
       "    <tr>\n",
       "      <th>3</th>\n",
       "      <td>10</td>\n",
       "      <td>2020</td>\n",
       "      <td>90</td>\n",
       "    </tr>\n",
       "  </tbody>\n",
       "</table>\n",
       "</div>"
      ],
      "text/plain": [
       "   month  year  sale\n",
       "0      1  2012    55\n",
       "1      4  2017    40\n",
       "2      7  2019    80\n",
       "3     10  2020    90"
      ]
     },
     "execution_count": 635,
     "metadata": {},
     "output_type": "execute_result"
    }
   ],
   "source": [
    "df = pd.DataFrame({'month': [1, 4, 7, 10],\n",
    "                    'year': [2012, 2017, 2019, 2020],\n",
    "                    'sale': [55, 40, 80, 90]})\n",
    "df"
   ]
  },
  {
   "cell_type": "code",
   "execution_count": 636,
   "id": "ca0f9225",
   "metadata": {},
   "outputs": [
    {
     "data": {
      "text/plain": [
       "1    40\n",
       "0    55\n",
       "2    80\n",
       "3    90\n",
       "Name: sale, dtype: int64"
      ]
     },
     "execution_count": 636,
     "metadata": {},
     "output_type": "execute_result"
    }
   ],
   "source": [
    "# sorts sale values in ascending order\n",
    "df['sale'].sort_values()"
   ]
  },
  {
   "cell_type": "code",
   "execution_count": 637,
   "id": "7636b73f",
   "metadata": {
    "scrolled": true
   },
   "outputs": [
    {
     "data": {
      "text/plain": [
       "0    55\n",
       "1    40\n",
       "2    80\n",
       "3    90\n",
       "Name: sale, dtype: int64"
      ]
     },
     "execution_count": 637,
     "metadata": {},
     "output_type": "execute_result"
    }
   ],
   "source": [
    "# sorts value by index\n",
    "df['sale'].sort_index()"
   ]
  },
  {
   "cell_type": "markdown",
   "id": "fcb921f5",
   "metadata": {},
   "source": [
    "## replace \n",
    "-> used to replace old values with new values"
   ]
  },
  {
   "cell_type": "code",
   "execution_count": 638,
   "id": "4bb54240",
   "metadata": {},
   "outputs": [
    {
     "data": {
      "text/html": [
       "<div>\n",
       "<style scoped>\n",
       "    .dataframe tbody tr th:only-of-type {\n",
       "        vertical-align: middle;\n",
       "    }\n",
       "\n",
       "    .dataframe tbody tr th {\n",
       "        vertical-align: top;\n",
       "    }\n",
       "\n",
       "    .dataframe thead th {\n",
       "        text-align: right;\n",
       "    }\n",
       "</style>\n",
       "<table border=\"1\" class=\"dataframe\">\n",
       "  <thead>\n",
       "    <tr style=\"text-align: right;\">\n",
       "      <th></th>\n",
       "      <th>A</th>\n",
       "      <th>B</th>\n",
       "    </tr>\n",
       "  </thead>\n",
       "  <tbody>\n",
       "    <tr>\n",
       "      <th>0</th>\n",
       "      <td>foo</td>\n",
       "      <td>xyz</td>\n",
       "    </tr>\n",
       "    <tr>\n",
       "      <th>1</th>\n",
       "      <td>bar</td>\n",
       "      <td>abc</td>\n",
       "    </tr>\n",
       "    <tr>\n",
       "      <th>2</th>\n",
       "      <td>abc</td>\n",
       "      <td>rtx</td>\n",
       "    </tr>\n",
       "  </tbody>\n",
       "</table>\n",
       "</div>"
      ],
      "text/plain": [
       "     A    B\n",
       "0  foo  xyz\n",
       "1  bar  abc\n",
       "2  abc  rtx"
      ]
     },
     "execution_count": 638,
     "metadata": {},
     "output_type": "execute_result"
    }
   ],
   "source": [
    "df = pd.DataFrame({'A': ['foo', 'bar', 'abc'],\n",
    "                    'B': ['xyz', 'abc', 'rtx']})\n",
    "df"
   ]
  },
  {
   "cell_type": "code",
   "execution_count": 639,
   "id": "9ed33b74",
   "metadata": {},
   "outputs": [
    {
     "data": {
      "text/html": [
       "<div>\n",
       "<style scoped>\n",
       "    .dataframe tbody tr th:only-of-type {\n",
       "        vertical-align: middle;\n",
       "    }\n",
       "\n",
       "    .dataframe tbody tr th {\n",
       "        vertical-align: top;\n",
       "    }\n",
       "\n",
       "    .dataframe thead th {\n",
       "        text-align: right;\n",
       "    }\n",
       "</style>\n",
       "<table border=\"1\" class=\"dataframe\">\n",
       "  <thead>\n",
       "    <tr style=\"text-align: right;\">\n",
       "      <th></th>\n",
       "      <th>A</th>\n",
       "      <th>B</th>\n",
       "    </tr>\n",
       "  </thead>\n",
       "  <tbody>\n",
       "    <tr>\n",
       "      <th>0</th>\n",
       "      <td>Ram</td>\n",
       "      <td>xyz</td>\n",
       "    </tr>\n",
       "    <tr>\n",
       "      <th>1</th>\n",
       "      <td>bar</td>\n",
       "      <td>abc</td>\n",
       "    </tr>\n",
       "    <tr>\n",
       "      <th>2</th>\n",
       "      <td>abc</td>\n",
       "      <td>rtx</td>\n",
       "    </tr>\n",
       "  </tbody>\n",
       "</table>\n",
       "</div>"
      ],
      "text/plain": [
       "     A    B\n",
       "0  Ram  xyz\n",
       "1  bar  abc\n",
       "2  abc  rtx"
      ]
     },
     "execution_count": 639,
     "metadata": {},
     "output_type": "execute_result"
    }
   ],
   "source": [
    "# to replace foo with ram\n",
    "df['A'] = df['A'].replace('foo', 'Ram')\n",
    "df"
   ]
  },
  {
   "cell_type": "markdown",
   "id": "01e9e722",
   "metadata": {},
   "source": [
    "## drop level indexing\n",
    "-> used to remove levels in multilevel indexing"
   ]
  },
  {
   "cell_type": "code",
   "execution_count": 640,
   "id": "9a107ee2",
   "metadata": {},
   "outputs": [
    {
     "data": {
      "text/html": [
       "<div>\n",
       "<style scoped>\n",
       "    .dataframe tbody tr th:only-of-type {\n",
       "        vertical-align: middle;\n",
       "    }\n",
       "\n",
       "    .dataframe tbody tr th {\n",
       "        vertical-align: top;\n",
       "    }\n",
       "\n",
       "    .dataframe thead th {\n",
       "        text-align: right;\n",
       "    }\n",
       "</style>\n",
       "<table border=\"1\" class=\"dataframe\">\n",
       "  <thead>\n",
       "    <tr style=\"text-align: right;\">\n",
       "      <th></th>\n",
       "      <th></th>\n",
       "      <th>2</th>\n",
       "      <th>3</th>\n",
       "    </tr>\n",
       "    <tr>\n",
       "      <th>a</th>\n",
       "      <th>b</th>\n",
       "      <th></th>\n",
       "      <th></th>\n",
       "    </tr>\n",
       "  </thead>\n",
       "  <tbody>\n",
       "    <tr>\n",
       "      <th>1</th>\n",
       "      <th>2</th>\n",
       "      <td>3</td>\n",
       "      <td>4</td>\n",
       "    </tr>\n",
       "    <tr>\n",
       "      <th>5</th>\n",
       "      <th>6</th>\n",
       "      <td>7</td>\n",
       "      <td>8</td>\n",
       "    </tr>\n",
       "    <tr>\n",
       "      <th>9</th>\n",
       "      <th>10</th>\n",
       "      <td>11</td>\n",
       "      <td>12</td>\n",
       "    </tr>\n",
       "  </tbody>\n",
       "</table>\n",
       "</div>"
      ],
      "text/plain": [
       "       2   3\n",
       "a b         \n",
       "1 2    3   4\n",
       "5 6    7   8\n",
       "9 10  11  12"
      ]
     },
     "execution_count": 640,
     "metadata": {},
     "output_type": "execute_result"
    }
   ],
   "source": [
    "df = pd.DataFrame([[1, 2, 3, 4], [5, 6, 7, 8], [9, 10, 11, 12]]).set_index([0,1]).rename_axis(['a','b'])\n",
    "df"
   ]
  },
  {
   "cell_type": "code",
   "execution_count": 641,
   "id": "1419b132",
   "metadata": {},
   "outputs": [
    {
     "data": {
      "text/html": [
       "<div>\n",
       "<style scoped>\n",
       "    .dataframe tbody tr th:only-of-type {\n",
       "        vertical-align: middle;\n",
       "    }\n",
       "\n",
       "    .dataframe tbody tr th {\n",
       "        vertical-align: top;\n",
       "    }\n",
       "\n",
       "    .dataframe thead th {\n",
       "        text-align: right;\n",
       "    }\n",
       "</style>\n",
       "<table border=\"1\" class=\"dataframe\">\n",
       "  <thead>\n",
       "    <tr style=\"text-align: right;\">\n",
       "      <th></th>\n",
       "      <th>2</th>\n",
       "      <th>3</th>\n",
       "    </tr>\n",
       "    <tr>\n",
       "      <th>b</th>\n",
       "      <th></th>\n",
       "      <th></th>\n",
       "    </tr>\n",
       "  </thead>\n",
       "  <tbody>\n",
       "    <tr>\n",
       "      <th>2</th>\n",
       "      <td>3</td>\n",
       "      <td>4</td>\n",
       "    </tr>\n",
       "    <tr>\n",
       "      <th>6</th>\n",
       "      <td>7</td>\n",
       "      <td>8</td>\n",
       "    </tr>\n",
       "    <tr>\n",
       "      <th>10</th>\n",
       "      <td>11</td>\n",
       "      <td>12</td>\n",
       "    </tr>\n",
       "  </tbody>\n",
       "</table>\n",
       "</div>"
      ],
      "text/plain": [
       "     2   3\n",
       "b         \n",
       "2    3   4\n",
       "6    7   8\n",
       "10  11  12"
      ]
     },
     "execution_count": 641,
     "metadata": {},
     "output_type": "execute_result"
    }
   ],
   "source": [
    "# dropped level a\n",
    "df.droplevel('a')"
   ]
  },
  {
   "cell_type": "markdown",
   "id": "f41daa77",
   "metadata": {},
   "source": [
    "## split\n",
    "-> string to list, default separator is whitespace"
   ]
  },
  {
   "cell_type": "code",
   "execution_count": 642,
   "id": "93d44252",
   "metadata": {},
   "outputs": [
    {
     "name": "stdout",
     "output_type": "stream",
     "text": [
      "split to a list: ['x', 'y', 'z']\n",
      "first element: x\n"
     ]
    }
   ],
   "source": [
    "s = 'x y z'\n",
    "print(\"split to a list:\",s.split(' '))\n",
    "print(\"first element:\",s.split(' ')[0])"
   ]
  },
  {
   "cell_type": "code",
   "execution_count": 643,
   "id": "7db321c4",
   "metadata": {},
   "outputs": [
    {
     "data": {
      "text/html": [
       "<div>\n",
       "<style scoped>\n",
       "    .dataframe tbody tr th:only-of-type {\n",
       "        vertical-align: middle;\n",
       "    }\n",
       "\n",
       "    .dataframe tbody tr th {\n",
       "        vertical-align: top;\n",
       "    }\n",
       "\n",
       "    .dataframe thead th {\n",
       "        text-align: right;\n",
       "    }\n",
       "</style>\n",
       "<table border=\"1\" class=\"dataframe\">\n",
       "  <thead>\n",
       "    <tr style=\"text-align: right;\">\n",
       "      <th></th>\n",
       "      <th>movieId</th>\n",
       "      <th>title</th>\n",
       "      <th>genres</th>\n",
       "    </tr>\n",
       "  </thead>\n",
       "  <tbody>\n",
       "    <tr>\n",
       "      <th>0</th>\n",
       "      <td>1</td>\n",
       "      <td>Toy Story (1995)</td>\n",
       "      <td>Adventure|Animation|Children|Comedy|Fantasy</td>\n",
       "    </tr>\n",
       "    <tr>\n",
       "      <th>1</th>\n",
       "      <td>2</td>\n",
       "      <td>Jumanji (1995)</td>\n",
       "      <td>Adventure|Children|Fantasy</td>\n",
       "    </tr>\n",
       "    <tr>\n",
       "      <th>2</th>\n",
       "      <td>3</td>\n",
       "      <td>Grumpier Old Men (1995)</td>\n",
       "      <td>Comedy|Romance</td>\n",
       "    </tr>\n",
       "    <tr>\n",
       "      <th>3</th>\n",
       "      <td>4</td>\n",
       "      <td>Waiting to Exhale (1995)</td>\n",
       "      <td>Comedy|Drama|Romance</td>\n",
       "    </tr>\n",
       "    <tr>\n",
       "      <th>4</th>\n",
       "      <td>5</td>\n",
       "      <td>Father of the Bride Part II (1995)</td>\n",
       "      <td>Comedy</td>\n",
       "    </tr>\n",
       "  </tbody>\n",
       "</table>\n",
       "</div>"
      ],
      "text/plain": [
       "   movieId                               title  \\\n",
       "0        1                    Toy Story (1995)   \n",
       "1        2                      Jumanji (1995)   \n",
       "2        3             Grumpier Old Men (1995)   \n",
       "3        4            Waiting to Exhale (1995)   \n",
       "4        5  Father of the Bride Part II (1995)   \n",
       "\n",
       "                                        genres  \n",
       "0  Adventure|Animation|Children|Comedy|Fantasy  \n",
       "1                   Adventure|Children|Fantasy  \n",
       "2                               Comedy|Romance  \n",
       "3                         Comedy|Drama|Romance  \n",
       "4                                       Comedy  "
      ]
     },
     "execution_count": 643,
     "metadata": {},
     "output_type": "execute_result"
    }
   ],
   "source": [
    "# use movie dataset\n",
    "data = pd.read_csv('csv/movie.csv')\n",
    "data.head()"
   ]
  },
  {
   "cell_type": "code",
   "execution_count": 644,
   "id": "131dcfef",
   "metadata": {},
   "outputs": [
    {
     "data": {
      "text/plain": [
       "0       [Adventure, Animation, Children, Comedy, Fantasy]\n",
       "1                          [Adventure, Children, Fantasy]\n",
       "2                                       [Comedy, Romance]\n",
       "3                                [Comedy, Drama, Romance]\n",
       "4                                                [Comedy]\n",
       "                              ...                        \n",
       "9120                          [Adventure, Drama, Romance]\n",
       "9121                 [Action, Adventure, Fantasy, Sci-Fi]\n",
       "9122                                        [Documentary]\n",
       "9123                                             [Comedy]\n",
       "9124                                        [Documentary]\n",
       "Name: genres, Length: 9125, dtype: object"
      ]
     },
     "execution_count": 644,
     "metadata": {},
     "output_type": "execute_result"
    }
   ],
   "source": [
    "# extract genre of movies from movies.csv using split function\n",
    "# series data type is converted to string which is pased through strip function\n",
    "data['genres'].str.split('|')"
   ]
  },
  {
   "cell_type": "code",
   "execution_count": 645,
   "id": "eb3e81e0",
   "metadata": {},
   "outputs": [
    {
     "data": {
      "text/plain": [
       "0        (1995)\n",
       "1        (1995)\n",
       "2        (1995)\n",
       "3        (1995)\n",
       "4        (1995)\n",
       "         ...   \n",
       "9120     (2016)\n",
       "9121     (2016)\n",
       "9122     (2016)\n",
       "9123     (1936)\n",
       "9124    Unboxed\n",
       "Name: year, Length: 9125, dtype: object"
      ]
     },
     "execution_count": 645,
     "metadata": {},
     "output_type": "execute_result"
    }
   ],
   "source": [
    "# extract year of release from the title\n",
    "# store the split values of every row to data\n",
    "data['y'] = data['title'].str.split(' ')\n",
    "# apply the lambda function to extract the last value of every row\n",
    "data['year'] = data['y'].apply(lambda x: x[-1])\n",
    "data['year']"
   ]
  },
  {
   "cell_type": "markdown",
   "id": "30cb0159",
   "metadata": {},
   "source": [
    "## strip\n",
    "-> removes all leading and trailing characters from a string\n",
    "-> spaces by default"
   ]
  },
  {
   "cell_type": "code",
   "execution_count": 646,
   "id": "8583f239",
   "metadata": {},
   "outputs": [
    {
     "data": {
      "text/plain": [
       "0          1995\n",
       "1          1995\n",
       "2          1995\n",
       "3          1995\n",
       "4          1995\n",
       "         ...   \n",
       "9120       2016\n",
       "9121       2016\n",
       "9122       2016\n",
       "9123       1936\n",
       "9124    Unboxed\n",
       "Name: year, Length: 9125, dtype: object"
      ]
     },
     "execution_count": 646,
     "metadata": {},
     "output_type": "execute_result"
    }
   ],
   "source": [
    "# returns a string store it in a string object\n",
    "data['year'] = data['year'].str.strip(')')\n",
    "data['year'] = data['year'].str.strip('(')\n",
    "data['year'] "
   ]
  },
  {
   "cell_type": "markdown",
   "id": "e3571706",
   "metadata": {},
   "source": [
    "## stack\n",
    "-> in pandas, its used to stack prescribed levels from columns to index<br>\n",
    "-> returns a reshaped daatframe having one or more new inner-most levels<br>"
   ]
  },
  {
   "cell_type": "code",
   "execution_count": 651,
   "id": "1aea4da3",
   "metadata": {},
   "outputs": [
    {
     "data": {
      "text/html": [
       "<div>\n",
       "<style scoped>\n",
       "    .dataframe tbody tr th:only-of-type {\n",
       "        vertical-align: middle;\n",
       "    }\n",
       "\n",
       "    .dataframe tbody tr th {\n",
       "        vertical-align: top;\n",
       "    }\n",
       "\n",
       "    .dataframe thead th {\n",
       "        text-align: right;\n",
       "    }\n",
       "</style>\n",
       "<table border=\"1\" class=\"dataframe\">\n",
       "  <thead>\n",
       "    <tr style=\"text-align: right;\">\n",
       "      <th></th>\n",
       "      <th>weight</th>\n",
       "      <th>height</th>\n",
       "    </tr>\n",
       "  </thead>\n",
       "  <tbody>\n",
       "    <tr>\n",
       "      <th>cat</th>\n",
       "      <td>0</td>\n",
       "      <td>1</td>\n",
       "    </tr>\n",
       "    <tr>\n",
       "      <th>dog</th>\n",
       "      <td>2</td>\n",
       "      <td>3</td>\n",
       "    </tr>\n",
       "  </tbody>\n",
       "</table>\n",
       "</div>"
      ],
      "text/plain": [
       "     weight  height\n",
       "cat       0       1\n",
       "dog       2       3"
      ]
     },
     "execution_count": 651,
     "metadata": {},
     "output_type": "execute_result"
    }
   ],
   "source": [
    "# returns a multilevel dataframe\n",
    "df = pd.DataFrame([[0,1], [2,3]],\n",
    "                index = ['cat', 'dog'],\n",
    "                columns = ['weight', 'height'])\n",
    "df"
   ]
  },
  {
   "cell_type": "code",
   "execution_count": 652,
   "id": "30a8e659",
   "metadata": {},
   "outputs": [
    {
     "data": {
      "text/plain": [
       "cat  weight    0\n",
       "     height    1\n",
       "dog  weight    2\n",
       "     height    3\n",
       "dtype: int64"
      ]
     },
     "execution_count": 652,
     "metadata": {},
     "output_type": "execute_result"
    }
   ],
   "source": [
    "df.stack()"
   ]
  },
  {
   "cell_type": "markdown",
   "id": "41e4bc22",
   "metadata": {},
   "source": [
    "## unstack\n",
    "-> if we do not want to change level of inner labels, we can use unstack function<br>\n",
    "-> if we want cat and dog to be the inner index levels<br>\n",
    "-> pivots level of index labels<br>"
   ]
  },
  {
   "cell_type": "code",
   "execution_count": 653,
   "id": "8b484f9e",
   "metadata": {},
   "outputs": [
    {
     "data": {
      "text/plain": [
       "weight  cat    0\n",
       "        dog    2\n",
       "height  cat    1\n",
       "        dog    3\n",
       "dtype: int64"
      ]
     },
     "execution_count": 653,
     "metadata": {},
     "output_type": "execute_result"
    }
   ],
   "source": [
    "df.unstack()"
   ]
  },
  {
   "cell_type": "markdown",
   "id": "8f74ef58",
   "metadata": {},
   "source": [
    "## melt\n",
    "-> used to massage a dataframe into a format where one or more columns are "
   ]
  },
  {
   "cell_type": "markdown",
   "id": "db2c11a0",
   "metadata": {},
   "source": [
    "## explode"
   ]
  },
  {
   "cell_type": "markdown",
   "id": "25cdffb5",
   "metadata": {},
   "source": [
    "## squeeze"
   ]
  },
  {
   "cell_type": "markdown",
   "id": "afa5f92b",
   "metadata": {},
   "source": [
    "# DATA CLEANING PRACTISE"
   ]
  },
  {
   "cell_type": "markdown",
   "id": "2a3f0126",
   "metadata": {},
   "source": [
    "## bigmart dataset\n",
    "-> contains sales data of products<br>\n",
    "-> aim - predict sale of each product"
   ]
  },
  {
   "cell_type": "code",
   "execution_count": 682,
   "id": "39cc717e",
   "metadata": {},
   "outputs": [
    {
     "data": {
      "text/html": [
       "<div>\n",
       "<style scoped>\n",
       "    .dataframe tbody tr th:only-of-type {\n",
       "        vertical-align: middle;\n",
       "    }\n",
       "\n",
       "    .dataframe tbody tr th {\n",
       "        vertical-align: top;\n",
       "    }\n",
       "\n",
       "    .dataframe thead th {\n",
       "        text-align: right;\n",
       "    }\n",
       "</style>\n",
       "<table border=\"1\" class=\"dataframe\">\n",
       "  <thead>\n",
       "    <tr style=\"text-align: right;\">\n",
       "      <th></th>\n",
       "      <th>Item_Identifier</th>\n",
       "      <th>Item_Weight</th>\n",
       "      <th>Item_Fat_Content</th>\n",
       "      <th>Item_Visibility</th>\n",
       "      <th>Item_Type</th>\n",
       "      <th>Item_MRP</th>\n",
       "      <th>Outlet_Identifier</th>\n",
       "      <th>Outlet_Establishment_Year</th>\n",
       "      <th>Outlet_Size</th>\n",
       "      <th>Outlet_Location_Type</th>\n",
       "      <th>Outlet_Type</th>\n",
       "      <th>Item_Outlet_Sales</th>\n",
       "    </tr>\n",
       "  </thead>\n",
       "  <tbody>\n",
       "    <tr>\n",
       "      <th>0</th>\n",
       "      <td>FDA15</td>\n",
       "      <td>9.30</td>\n",
       "      <td>Low Fat</td>\n",
       "      <td>0.016047</td>\n",
       "      <td>Dairy</td>\n",
       "      <td>249.8092</td>\n",
       "      <td>OUT049</td>\n",
       "      <td>1999</td>\n",
       "      <td>Medium</td>\n",
       "      <td>Tier 1</td>\n",
       "      <td>Supermarket Type1</td>\n",
       "      <td>3735.1380</td>\n",
       "    </tr>\n",
       "    <tr>\n",
       "      <th>1</th>\n",
       "      <td>DRC01</td>\n",
       "      <td>5.92</td>\n",
       "      <td>Regular</td>\n",
       "      <td>0.019278</td>\n",
       "      <td>Soft Drinks</td>\n",
       "      <td>48.2692</td>\n",
       "      <td>OUT018</td>\n",
       "      <td>2009</td>\n",
       "      <td>Medium</td>\n",
       "      <td>Tier 3</td>\n",
       "      <td>Supermarket Type2</td>\n",
       "      <td>443.4228</td>\n",
       "    </tr>\n",
       "    <tr>\n",
       "      <th>2</th>\n",
       "      <td>FDN15</td>\n",
       "      <td>17.50</td>\n",
       "      <td>Low Fat</td>\n",
       "      <td>0.016760</td>\n",
       "      <td>Meat</td>\n",
       "      <td>141.6180</td>\n",
       "      <td>OUT049</td>\n",
       "      <td>1999</td>\n",
       "      <td>Medium</td>\n",
       "      <td>Tier 1</td>\n",
       "      <td>Supermarket Type1</td>\n",
       "      <td>2097.2700</td>\n",
       "    </tr>\n",
       "    <tr>\n",
       "      <th>3</th>\n",
       "      <td>FDX07</td>\n",
       "      <td>19.20</td>\n",
       "      <td>Regular</td>\n",
       "      <td>0.000000</td>\n",
       "      <td>Fruits and Vegetables</td>\n",
       "      <td>182.0950</td>\n",
       "      <td>OUT010</td>\n",
       "      <td>1998</td>\n",
       "      <td>NaN</td>\n",
       "      <td>Tier 3</td>\n",
       "      <td>Grocery Store</td>\n",
       "      <td>732.3800</td>\n",
       "    </tr>\n",
       "    <tr>\n",
       "      <th>4</th>\n",
       "      <td>NCD19</td>\n",
       "      <td>8.93</td>\n",
       "      <td>Low Fat</td>\n",
       "      <td>0.000000</td>\n",
       "      <td>Household</td>\n",
       "      <td>53.8614</td>\n",
       "      <td>OUT013</td>\n",
       "      <td>1987</td>\n",
       "      <td>High</td>\n",
       "      <td>Tier 3</td>\n",
       "      <td>Supermarket Type1</td>\n",
       "      <td>994.7052</td>\n",
       "    </tr>\n",
       "  </tbody>\n",
       "</table>\n",
       "</div>"
      ],
      "text/plain": [
       "  Item_Identifier  Item_Weight Item_Fat_Content  Item_Visibility  \\\n",
       "0           FDA15         9.30          Low Fat         0.016047   \n",
       "1           DRC01         5.92          Regular         0.019278   \n",
       "2           FDN15        17.50          Low Fat         0.016760   \n",
       "3           FDX07        19.20          Regular         0.000000   \n",
       "4           NCD19         8.93          Low Fat         0.000000   \n",
       "\n",
       "               Item_Type  Item_MRP Outlet_Identifier  \\\n",
       "0                  Dairy  249.8092            OUT049   \n",
       "1            Soft Drinks   48.2692            OUT018   \n",
       "2                   Meat  141.6180            OUT049   \n",
       "3  Fruits and Vegetables  182.0950            OUT010   \n",
       "4              Household   53.8614            OUT013   \n",
       "\n",
       "   Outlet_Establishment_Year Outlet_Size Outlet_Location_Type  \\\n",
       "0                       1999      Medium               Tier 1   \n",
       "1                       2009      Medium               Tier 3   \n",
       "2                       1999      Medium               Tier 1   \n",
       "3                       1998         NaN               Tier 3   \n",
       "4                       1987        High               Tier 3   \n",
       "\n",
       "         Outlet_Type  Item_Outlet_Sales  \n",
       "0  Supermarket Type1          3735.1380  \n",
       "1  Supermarket Type2           443.4228  \n",
       "2  Supermarket Type1          2097.2700  \n",
       "3      Grocery Store           732.3800  \n",
       "4  Supermarket Type1           994.7052  "
      ]
     },
     "execution_count": 682,
     "metadata": {},
     "output_type": "execute_result"
    }
   ],
   "source": [
    "## libraries\n",
    "import numpy as np\n",
    "import pandas as pd\n",
    "import matplotlib.pyplot as plt\n",
    "import seaborn as sns\n",
    "\n",
    "data = pd.read_csv('csv/bigmart.csv')\n",
    "data.shape\n",
    "\n",
    "data.head()\n"
   ]
  },
  {
   "cell_type": "code",
   "execution_count": 683,
   "id": "438f154b",
   "metadata": {},
   "outputs": [
    {
     "data": {
      "text/plain": [
       "Item_Identifier               0.000000\n",
       "Item_Weight                  17.165317\n",
       "Item_Fat_Content              0.000000\n",
       "Item_Visibility               0.000000\n",
       "Item_Type                     0.000000\n",
       "Item_MRP                      0.000000\n",
       "Outlet_Identifier             0.000000\n",
       "Outlet_Establishment_Year     0.000000\n",
       "Outlet_Size                  28.276428\n",
       "Outlet_Location_Type          0.000000\n",
       "Outlet_Type                   0.000000\n",
       "Item_Outlet_Sales             0.000000\n",
       "dtype: float64"
      ]
     },
     "execution_count": 683,
     "metadata": {},
     "output_type": "execute_result"
    }
   ],
   "source": [
    "# check for missing values percentage\n",
    "# missing values in 2 columns - impute them since percentage is less \n",
    "data.isnull().sum()/data.shape[0]*100"
   ]
  },
  {
   "cell_type": "code",
   "execution_count": 684,
   "id": "51a23bdb",
   "metadata": {},
   "outputs": [
    {
     "data": {
      "text/plain": [
       "0"
      ]
     },
     "execution_count": 684,
     "metadata": {},
     "output_type": "execute_result"
    }
   ],
   "source": [
    "# impute item_weight with mean abd outlet size with mode\n",
    "data['Item_Weight'] = data['Item_Weight'].fillna(data['Item_Weight'].mean())\n",
    "data['Outlet_Size'] = data['Outlet_Size'].fillna(data['Outlet_Size'].mode()[0])\n",
    "\n",
    "# no missing values\n",
    "data.isnull().sum().sum()"
   ]
  },
  {
   "cell_type": "code",
   "execution_count": 685,
   "id": "7ca9dd9e",
   "metadata": {},
   "outputs": [
    {
     "name": "stderr",
     "output_type": "stream",
     "text": [
      "C:\\Users\\shrey\\AppData\\Local\\Programs\\Python\\Python39\\lib\\site-packages\\seaborn\\_decorators.py:36: FutureWarning: Pass the following variable as a keyword arg: x. From version 0.12, the only valid positional argument will be `data`, and passing other arguments without an explicit keyword will result in an error or misinterpretation.\n",
      "  warnings.warn(\n",
      "C:\\Users\\shrey\\AppData\\Local\\Programs\\Python\\Python39\\lib\\site-packages\\seaborn\\_decorators.py:36: FutureWarning: Pass the following variable as a keyword arg: x. From version 0.12, the only valid positional argument will be `data`, and passing other arguments without an explicit keyword will result in an error or misinterpretation.\n",
      "  warnings.warn(\n",
      "C:\\Users\\shrey\\AppData\\Local\\Programs\\Python\\Python39\\lib\\site-packages\\seaborn\\_decorators.py:36: FutureWarning: Pass the following variable as a keyword arg: x. From version 0.12, the only valid positional argument will be `data`, and passing other arguments without an explicit keyword will result in an error or misinterpretation.\n",
      "  warnings.warn(\n"
     ]
    },
    {
     "data": {
      "image/png": "[encoded data removed]",
      "text/plain": [
       "<Figure size 864x216 with 3 Axes>"
      ]
     },
     "metadata": {},
     "output_type": "display_data"
    }
   ],
   "source": [
    "# outliers in the data\n",
    "# check for outliers in numerical columns\n",
    "# univariate outliers\n",
    "\n",
    "# outliers in item visibility column only\n",
    "plt.rcParams['figure.figsize'] = (12, 3)\n",
    "plt.style.use('fivethirtyeight')\n",
    "\n",
    "plt.subplot(1, 3, 1)\n",
    "sns.boxplot(data['Item_Weight'])\n",
    "\n",
    "plt.subplot(1, 3, 2)\n",
    "sns.boxplot(data['Item_Visibility'])\n",
    "\n",
    "plt.subplot(1, 3, 3)\n",
    "sns.boxplot(data['Item_MRP'])\n",
    "plt.show()\n"
   ]
  },
  {
   "cell_type": "code",
   "execution_count": 686,
   "id": "efa4874b",
   "metadata": {},
   "outputs": [
    {
     "name": "stderr",
     "output_type": "stream",
     "text": [
      "C:\\Users\\shrey\\AppData\\Local\\Programs\\Python\\Python39\\lib\\site-packages\\seaborn\\_decorators.py:36: FutureWarning: Pass the following variable as a keyword arg: x. From version 0.12, the only valid positional argument will be `data`, and passing other arguments without an explicit keyword will result in an error or misinterpretation.\n",
      "  warnings.warn(\n"
     ]
    },
    {
     "data": {
      "text/plain": [
       "<AxesSubplot:xlabel='Item_Visibility'>"
      ]
     },
     "execution_count": 686,
     "metadata": {},
     "output_type": "execute_result"
    },
    {
     "data": {
      "image/png": "[encoded data removed]",
      "text/plain": [
       "<Figure size 864x216 with 1 Axes>"
      ]
     },
     "metadata": {},
     "output_type": "display_data"
    }
   ],
   "source": [
    "# since only 1 variable has outliers, remove it\n",
    "data = data[data['Item_Visibility'] <= 0.2]\n",
    "# free of outliers\n",
    "sns.boxplot(data['Item_Visibility'])"
   ]
  },
  {
   "cell_type": "code",
   "execution_count": 687,
   "id": "1252a025",
   "metadata": {},
   "outputs": [
    {
     "data": {
      "text/plain": [
       "FD    6016\n",
       "NC    1583\n",
       "DR     790\n",
       "Name: Item_Identifier, dtype: int64"
      ]
     },
     "execution_count": 687,
     "metadata": {},
     "output_type": "execute_result"
    }
   ],
   "source": [
    "# look for other columns and check value counts\n",
    "# extract first 3 letters of identifier to check the type of variables\n",
    "data['Item_Identifier'] = data['Item_Identifier'].apply(lambda x:x[0:2])\n",
    "# extract count of the types of identifiers\n",
    "data['Item_Identifier'].value_counts()"
   ]
  },
  {
   "cell_type": "code",
   "execution_count": 688,
   "id": "990cfcc3",
   "metadata": {},
   "outputs": [
    {
     "data": {
      "text/plain": [
       "Low Fat    5024\n",
       "Regular    2832\n",
       "LF          307\n",
       "reg         117\n",
       "low fat     109\n",
       "Name: Item_Fat_Content, dtype: int64"
      ]
     },
     "execution_count": 688,
     "metadata": {},
     "output_type": "execute_result"
    }
   ],
   "source": [
    "# extract fat content\n",
    "data['Item_Fat_Content'].value_counts()\n",
    "# since the same entry is made in different ways replace them"
   ]
  },
  {
   "cell_type": "code",
   "execution_count": 689,
   "id": "9623633c",
   "metadata": {},
   "outputs": [
    {
     "data": {
      "text/plain": [
       "Low Fat    5440\n",
       "Regular    2949\n",
       "Name: Item_Fat_Content, dtype: int64"
      ]
     },
     "execution_count": 689,
     "metadata": {},
     "output_type": "execute_result"
    }
   ],
   "source": [
    "# bring uniform labels\n",
    "data['Item_Fat_Content'] = data['Item_Fat_Content'].replace(('low fat' , 'LF', 'reg'), ('Low Fat', 'Low Fat', 'Regular'))\n",
    "data['Item_Fat_Content'].value_counts()"
   ]
  },
  {
   "cell_type": "markdown",
   "id": "37dec0bd",
   "metadata": {},
   "source": [
    "## movie dataset\n",
    "-> data cleaning of the movie dataset"
   ]
  },
  {
   "cell_type": "code",
   "execution_count": 103,
   "id": "00b61cc1",
   "metadata": {},
   "outputs": [],
   "source": [
    "import numpy as np\n",
    "import pandas as pd\n",
    "import matplotlib.pyplot as plt\n",
    "import seaborn as sns\n",
    "\n",
    "import datetime"
   ]
  },
  {
   "cell_type": "code",
   "execution_count": 104,
   "id": "63c9e8fe",
   "metadata": {},
   "outputs": [
    {
     "data": {
      "text/plain": [
       "(9125, 3)"
      ]
     },
     "execution_count": 104,
     "metadata": {},
     "output_type": "execute_result"
    }
   ],
   "source": [
    "data = pd.read_csv('csv/movie.csv')\n",
    "data.shape\n"
   ]
  },
  {
   "cell_type": "code",
   "execution_count": 105,
   "id": "bdf07e55",
   "metadata": {},
   "outputs": [
    {
     "data": {
      "text/html": [
       "<div>\n",
       "<style scoped>\n",
       "    .dataframe tbody tr th:only-of-type {\n",
       "        vertical-align: middle;\n",
       "    }\n",
       "\n",
       "    .dataframe tbody tr th {\n",
       "        vertical-align: top;\n",
       "    }\n",
       "\n",
       "    .dataframe thead th {\n",
       "        text-align: right;\n",
       "    }\n",
       "</style>\n",
       "<table border=\"1\" class=\"dataframe\">\n",
       "  <thead>\n",
       "    <tr style=\"text-align: right;\">\n",
       "      <th></th>\n",
       "      <th>movieId</th>\n",
       "      <th>title</th>\n",
       "      <th>genres</th>\n",
       "    </tr>\n",
       "  </thead>\n",
       "  <tbody>\n",
       "    <tr>\n",
       "      <th>0</th>\n",
       "      <td>1</td>\n",
       "      <td>Toy Story (1995)</td>\n",
       "      <td>Adventure|Animation|Children|Comedy|Fantasy</td>\n",
       "    </tr>\n",
       "    <tr>\n",
       "      <th>1</th>\n",
       "      <td>2</td>\n",
       "      <td>Jumanji (1995)</td>\n",
       "      <td>Adventure|Children|Fantasy</td>\n",
       "    </tr>\n",
       "    <tr>\n",
       "      <th>2</th>\n",
       "      <td>3</td>\n",
       "      <td>Grumpier Old Men (1995)</td>\n",
       "      <td>Comedy|Romance</td>\n",
       "    </tr>\n",
       "    <tr>\n",
       "      <th>3</th>\n",
       "      <td>4</td>\n",
       "      <td>Waiting to Exhale (1995)</td>\n",
       "      <td>Comedy|Drama|Romance</td>\n",
       "    </tr>\n",
       "    <tr>\n",
       "      <th>4</th>\n",
       "      <td>5</td>\n",
       "      <td>Father of the Bride Part II (1995)</td>\n",
       "      <td>Comedy</td>\n",
       "    </tr>\n",
       "  </tbody>\n",
       "</table>\n",
       "</div>"
      ],
      "text/plain": [
       "   movieId                               title  \\\n",
       "0        1                    Toy Story (1995)   \n",
       "1        2                      Jumanji (1995)   \n",
       "2        3             Grumpier Old Men (1995)   \n",
       "3        4            Waiting to Exhale (1995)   \n",
       "4        5  Father of the Bride Part II (1995)   \n",
       "\n",
       "                                        genres  \n",
       "0  Adventure|Animation|Children|Comedy|Fantasy  \n",
       "1                   Adventure|Children|Fantasy  \n",
       "2                               Comedy|Romance  \n",
       "3                         Comedy|Drama|Romance  \n",
       "4                                       Comedy  "
      ]
     },
     "execution_count": 105,
     "metadata": {},
     "output_type": "execute_result"
    }
   ],
   "source": [
    "data.head()"
   ]
  },
  {
   "cell_type": "code",
   "execution_count": 106,
   "id": "9c037993",
   "metadata": {},
   "outputs": [
    {
     "data": {
      "text/plain": [
       "(100836, 4)"
      ]
     },
     "execution_count": 106,
     "metadata": {},
     "output_type": "execute_result"
    }
   ],
   "source": [
    "rating = pd.read_csv('csv/ratings.csv')\n",
    "rating.shape"
   ]
  },
  {
   "cell_type": "code",
   "execution_count": 107,
   "id": "05c8387b",
   "metadata": {},
   "outputs": [
    {
     "data": {
      "text/html": [
       "<div>\n",
       "<style scoped>\n",
       "    .dataframe tbody tr th:only-of-type {\n",
       "        vertical-align: middle;\n",
       "    }\n",
       "\n",
       "    .dataframe tbody tr th {\n",
       "        vertical-align: top;\n",
       "    }\n",
       "\n",
       "    .dataframe thead th {\n",
       "        text-align: right;\n",
       "    }\n",
       "</style>\n",
       "<table border=\"1\" class=\"dataframe\">\n",
       "  <thead>\n",
       "    <tr style=\"text-align: right;\">\n",
       "      <th></th>\n",
       "      <th>userId</th>\n",
       "      <th>movieId</th>\n",
       "      <th>rating</th>\n",
       "      <th>timestamp</th>\n",
       "    </tr>\n",
       "  </thead>\n",
       "  <tbody>\n",
       "    <tr>\n",
       "      <th>0</th>\n",
       "      <td>1</td>\n",
       "      <td>1</td>\n",
       "      <td>4.0</td>\n",
       "      <td>964982703</td>\n",
       "    </tr>\n",
       "    <tr>\n",
       "      <th>1</th>\n",
       "      <td>1</td>\n",
       "      <td>3</td>\n",
       "      <td>4.0</td>\n",
       "      <td>964981247</td>\n",
       "    </tr>\n",
       "    <tr>\n",
       "      <th>2</th>\n",
       "      <td>1</td>\n",
       "      <td>6</td>\n",
       "      <td>4.0</td>\n",
       "      <td>964982224</td>\n",
       "    </tr>\n",
       "    <tr>\n",
       "      <th>3</th>\n",
       "      <td>1</td>\n",
       "      <td>47</td>\n",
       "      <td>5.0</td>\n",
       "      <td>964983815</td>\n",
       "    </tr>\n",
       "    <tr>\n",
       "      <th>4</th>\n",
       "      <td>1</td>\n",
       "      <td>50</td>\n",
       "      <td>5.0</td>\n",
       "      <td>964982931</td>\n",
       "    </tr>\n",
       "  </tbody>\n",
       "</table>\n",
       "</div>"
      ],
      "text/plain": [
       "   userId  movieId  rating  timestamp\n",
       "0       1        1     4.0  964982703\n",
       "1       1        3     4.0  964981247\n",
       "2       1        6     4.0  964982224\n",
       "3       1       47     5.0  964983815\n",
       "4       1       50     5.0  964982931"
      ]
     },
     "execution_count": 107,
     "metadata": {},
     "output_type": "execute_result"
    }
   ],
   "source": [
    "rating.head()"
   ]
  },
  {
   "cell_type": "code",
   "execution_count": 108,
   "id": "f3e3be02",
   "metadata": {},
   "outputs": [
    {
     "data": {
      "text/plain": [
       "(96811, 6)"
      ]
     },
     "execution_count": 108,
     "metadata": {},
     "output_type": "execute_result"
    }
   ],
   "source": [
    "# movie id is the common column so we can merge the 2 \n",
    "data = pd.merge(data, rating, on='movieId', how = 'inner')\n",
    "data.shape"
   ]
  },
  {
   "cell_type": "code",
   "execution_count": 109,
   "id": "c4ba1fa6",
   "metadata": {},
   "outputs": [
    {
     "data": {
      "text/html": [
       "<div>\n",
       "<style scoped>\n",
       "    .dataframe tbody tr th:only-of-type {\n",
       "        vertical-align: middle;\n",
       "    }\n",
       "\n",
       "    .dataframe tbody tr th {\n",
       "        vertical-align: top;\n",
       "    }\n",
       "\n",
       "    .dataframe thead th {\n",
       "        text-align: right;\n",
       "    }\n",
       "</style>\n",
       "<table border=\"1\" class=\"dataframe\">\n",
       "  <thead>\n",
       "    <tr style=\"text-align: right;\">\n",
       "      <th></th>\n",
       "      <th>movieId</th>\n",
       "      <th>title</th>\n",
       "      <th>genres</th>\n",
       "      <th>userId</th>\n",
       "      <th>rating</th>\n",
       "      <th>timestamp</th>\n",
       "    </tr>\n",
       "  </thead>\n",
       "  <tbody>\n",
       "    <tr>\n",
       "      <th>0</th>\n",
       "      <td>1</td>\n",
       "      <td>Toy Story (1995)</td>\n",
       "      <td>Adventure|Animation|Children|Comedy|Fantasy</td>\n",
       "      <td>1</td>\n",
       "      <td>4.0</td>\n",
       "      <td>964982703</td>\n",
       "    </tr>\n",
       "    <tr>\n",
       "      <th>1</th>\n",
       "      <td>1</td>\n",
       "      <td>Toy Story (1995)</td>\n",
       "      <td>Adventure|Animation|Children|Comedy|Fantasy</td>\n",
       "      <td>5</td>\n",
       "      <td>4.0</td>\n",
       "      <td>847434962</td>\n",
       "    </tr>\n",
       "    <tr>\n",
       "      <th>2</th>\n",
       "      <td>1</td>\n",
       "      <td>Toy Story (1995)</td>\n",
       "      <td>Adventure|Animation|Children|Comedy|Fantasy</td>\n",
       "      <td>7</td>\n",
       "      <td>4.5</td>\n",
       "      <td>1106635946</td>\n",
       "    </tr>\n",
       "    <tr>\n",
       "      <th>3</th>\n",
       "      <td>1</td>\n",
       "      <td>Toy Story (1995)</td>\n",
       "      <td>Adventure|Animation|Children|Comedy|Fantasy</td>\n",
       "      <td>15</td>\n",
       "      <td>2.5</td>\n",
       "      <td>1510577970</td>\n",
       "    </tr>\n",
       "    <tr>\n",
       "      <th>4</th>\n",
       "      <td>1</td>\n",
       "      <td>Toy Story (1995)</td>\n",
       "      <td>Adventure|Animation|Children|Comedy|Fantasy</td>\n",
       "      <td>17</td>\n",
       "      <td>4.5</td>\n",
       "      <td>1305696483</td>\n",
       "    </tr>\n",
       "  </tbody>\n",
       "</table>\n",
       "</div>"
      ],
      "text/plain": [
       "   movieId             title                                       genres  \\\n",
       "0        1  Toy Story (1995)  Adventure|Animation|Children|Comedy|Fantasy   \n",
       "1        1  Toy Story (1995)  Adventure|Animation|Children|Comedy|Fantasy   \n",
       "2        1  Toy Story (1995)  Adventure|Animation|Children|Comedy|Fantasy   \n",
       "3        1  Toy Story (1995)  Adventure|Animation|Children|Comedy|Fantasy   \n",
       "4        1  Toy Story (1995)  Adventure|Animation|Children|Comedy|Fantasy   \n",
       "\n",
       "   userId  rating   timestamp  \n",
       "0       1     4.0   964982703  \n",
       "1       5     4.0   847434962  \n",
       "2       7     4.5  1106635946  \n",
       "3      15     2.5  1510577970  \n",
       "4      17     4.5  1305696483  "
      ]
     },
     "execution_count": 109,
     "metadata": {},
     "output_type": "execute_result"
    }
   ],
   "source": [
    "data.head()\n",
    "# remove unnecessary columns"
   ]
  },
  {
   "cell_type": "code",
   "execution_count": 110,
   "id": "9396d1e8",
   "metadata": {},
   "outputs": [
    {
     "data": {
      "text/plain": [
       "(96811, 3)"
      ]
     },
     "execution_count": 110,
     "metadata": {},
     "output_type": "execute_result"
    }
   ],
   "source": [
    "data = data.drop(['movieId', 'userId','timestamp'], axis = 1)\n",
    "data.shape\n"
   ]
  },
  {
   "cell_type": "code",
   "execution_count": 111,
   "id": "be819418",
   "metadata": {},
   "outputs": [
    {
     "data": {
      "text/html": [
       "<div>\n",
       "<style scoped>\n",
       "    .dataframe tbody tr th:only-of-type {\n",
       "        vertical-align: middle;\n",
       "    }\n",
       "\n",
       "    .dataframe tbody tr th {\n",
       "        vertical-align: top;\n",
       "    }\n",
       "\n",
       "    .dataframe thead th {\n",
       "        text-align: right;\n",
       "    }\n",
       "</style>\n",
       "<table border=\"1\" class=\"dataframe\">\n",
       "  <thead>\n",
       "    <tr style=\"text-align: right;\">\n",
       "      <th></th>\n",
       "      <th>title</th>\n",
       "      <th>genres</th>\n",
       "      <th>rating</th>\n",
       "    </tr>\n",
       "  </thead>\n",
       "  <tbody>\n",
       "    <tr>\n",
       "      <th>0</th>\n",
       "      <td>Toy Story (1995)</td>\n",
       "      <td>Adventure|Animation|Children|Comedy|Fantasy</td>\n",
       "      <td>4.0</td>\n",
       "    </tr>\n",
       "    <tr>\n",
       "      <th>1</th>\n",
       "      <td>Toy Story (1995)</td>\n",
       "      <td>Adventure|Animation|Children|Comedy|Fantasy</td>\n",
       "      <td>4.0</td>\n",
       "    </tr>\n",
       "    <tr>\n",
       "      <th>2</th>\n",
       "      <td>Toy Story (1995)</td>\n",
       "      <td>Adventure|Animation|Children|Comedy|Fantasy</td>\n",
       "      <td>4.5</td>\n",
       "    </tr>\n",
       "    <tr>\n",
       "      <th>3</th>\n",
       "      <td>Toy Story (1995)</td>\n",
       "      <td>Adventure|Animation|Children|Comedy|Fantasy</td>\n",
       "      <td>2.5</td>\n",
       "    </tr>\n",
       "    <tr>\n",
       "      <th>4</th>\n",
       "      <td>Toy Story (1995)</td>\n",
       "      <td>Adventure|Animation|Children|Comedy|Fantasy</td>\n",
       "      <td>4.5</td>\n",
       "    </tr>\n",
       "  </tbody>\n",
       "</table>\n",
       "</div>"
      ],
      "text/plain": [
       "              title                                       genres  rating\n",
       "0  Toy Story (1995)  Adventure|Animation|Children|Comedy|Fantasy     4.0\n",
       "1  Toy Story (1995)  Adventure|Animation|Children|Comedy|Fantasy     4.0\n",
       "2  Toy Story (1995)  Adventure|Animation|Children|Comedy|Fantasy     4.5\n",
       "3  Toy Story (1995)  Adventure|Animation|Children|Comedy|Fantasy     2.5\n",
       "4  Toy Story (1995)  Adventure|Animation|Children|Comedy|Fantasy     4.5"
      ]
     },
     "execution_count": 111,
     "metadata": {},
     "output_type": "execute_result"
    }
   ],
   "source": [
    "data.head()"
   ]
  },
  {
   "cell_type": "code",
   "execution_count": 112,
   "id": "bf447bc4",
   "metadata": {},
   "outputs": [
    {
     "data": {
      "text/plain": [
       "Forrest Gump (1994)                      329\n",
       "Shawshank Redemption, The (1994)         317\n",
       "Pulp Fiction (1994)                      307\n",
       "Silence of the Lambs, The (1991)         279\n",
       "Matrix, The (1999)                       278\n",
       "                                        ... \n",
       "Selfish Giant, The (2013)                  1\n",
       "Delta of Venus (1995)                      1\n",
       "Winnie the Pooh and Tigger Too (1974)      1\n",
       "Torn Curtain (1966)                        1\n",
       "Lammbock (2001)                            1\n",
       "Name: title, Length: 7071, dtype: int64"
      ]
     },
     "execution_count": 112,
     "metadata": {},
     "output_type": "execute_result"
    }
   ],
   "source": [
    "data['title'].value_counts() \n",
    "# we observe that a lot of movies are repeated, so group by movie names\n"
   ]
  },
  {
   "cell_type": "markdown",
   "id": "fd407f97",
   "metadata": {},
   "source": [
    "## using pivot table to group the dataset\n",
    "A PivotTable is an interactive way to quickly summarize large amounts of data. You can use a PivotTable to analyze numerical data in detail, and answer unanticipated questions about your data. "
   ]
  },
  {
   "cell_type": "code",
   "execution_count": 113,
   "id": "34bdf3ed",
   "metadata": {},
   "outputs": [
    {
     "data": {
      "text/html": [
       "<div>\n",
       "<style scoped>\n",
       "    .dataframe tbody tr th:only-of-type {\n",
       "        vertical-align: middle;\n",
       "    }\n",
       "\n",
       "    .dataframe tbody tr th {\n",
       "        vertical-align: top;\n",
       "    }\n",
       "\n",
       "    .dataframe thead th {\n",
       "        text-align: right;\n",
       "    }\n",
       "</style>\n",
       "<table border=\"1\" class=\"dataframe\">\n",
       "  <thead>\n",
       "    <tr style=\"text-align: right;\">\n",
       "      <th></th>\n",
       "      <th>title</th>\n",
       "      <th>genres</th>\n",
       "      <th>rating</th>\n",
       "    </tr>\n",
       "  </thead>\n",
       "  <tbody>\n",
       "    <tr>\n",
       "      <th>0</th>\n",
       "      <td>'Hellboy': The Seeds of Creation (2004)</td>\n",
       "      <td>Action|Adventure|Comedy|Documentary|Fantasy</td>\n",
       "      <td>4.000000</td>\n",
       "    </tr>\n",
       "    <tr>\n",
       "      <th>1</th>\n",
       "      <td>'Round Midnight (1986)</td>\n",
       "      <td>Drama|Musical</td>\n",
       "      <td>3.500000</td>\n",
       "    </tr>\n",
       "    <tr>\n",
       "      <th>2</th>\n",
       "      <td>'Salem's Lot (2004)</td>\n",
       "      <td>Drama|Horror|Mystery|Thriller</td>\n",
       "      <td>5.000000</td>\n",
       "    </tr>\n",
       "    <tr>\n",
       "      <th>3</th>\n",
       "      <td>'Til There Was You (1997)</td>\n",
       "      <td>Drama|Romance</td>\n",
       "      <td>4.000000</td>\n",
       "    </tr>\n",
       "    <tr>\n",
       "      <th>4</th>\n",
       "      <td>'burbs, The (1989)</td>\n",
       "      <td>Comedy</td>\n",
       "      <td>3.176471</td>\n",
       "    </tr>\n",
       "  </tbody>\n",
       "</table>\n",
       "</div>"
      ],
      "text/plain": [
       "                                     title  \\\n",
       "0  'Hellboy': The Seeds of Creation (2004)   \n",
       "1                   'Round Midnight (1986)   \n",
       "2                      'Salem's Lot (2004)   \n",
       "3                'Til There Was You (1997)   \n",
       "4                       'burbs, The (1989)   \n",
       "\n",
       "                                        genres    rating  \n",
       "0  Action|Adventure|Comedy|Documentary|Fantasy  4.000000  \n",
       "1                                Drama|Musical  3.500000  \n",
       "2                Drama|Horror|Mystery|Thriller  5.000000  \n",
       "3                                Drama|Romance  4.000000  \n",
       "4                                       Comedy  3.176471  "
      ]
     },
     "execution_count": 113,
     "metadata": {},
     "output_type": "execute_result"
    }
   ],
   "source": [
    "# use title and genres as index and aggregate the names by finding mean of the ratings\n",
    "data = pd.pivot_table(data, index = ['title', 'genres'], aggfunc = 'mean')\n",
    "# reset title and genres back to column values\n",
    "data.reset_index(level = ['title', 'genres'], inplace = True)\n",
    "data.head()"
   ]
  },
  {
   "cell_type": "code",
   "execution_count": 114,
   "id": "48d2cd14",
   "metadata": {},
   "outputs": [],
   "source": [
    "# check the distribution of ratings among movies"
   ]
  },
  {
   "cell_type": "markdown",
   "id": "21b98fd1",
   "metadata": {},
   "source": [
    "## displot\n",
    "\n",
    "A Distplot or distribution plot, depicts the variation in the data distribution. Seaborn Distplot represents the overall distribution of continuous data variables. The Distplot depicts the data by a histogram and a line in combination to it."
   ]
  },
  {
   "cell_type": "code",
   "execution_count": 115,
   "id": "3d1b6f3a",
   "metadata": {},
   "outputs": [
    {
     "data": {
      "image/png": "[encoded data removed]",
      "text/plain": [
       "<Figure size 360x360 with 1 Axes>"
      ]
     },
     "metadata": {},
     "output_type": "display_data"
    }
   ],
   "source": [
    "plt.rcParams['figure.figsize'] = (8,3)\n",
    "plt.style.use('fivethirtyeight')\n",
    "sns.displot(data['rating'], color = 'black')\n",
    "plt.title('Distribution of ratings')\n",
    "plt.show()\n",
    "\n",
    "# maximum movies have ratings 3 or 4"
   ]
  },
  {
   "cell_type": "code",
   "execution_count": 116,
   "id": "2c140f0d",
   "metadata": {},
   "outputs": [
    {
     "data": {
      "text/plain": [
       "2002    244\n",
       "1996    240\n",
       "1995    228\n",
       "2001    227\n",
       "2000    225\n",
       "1998    225\n",
       "1999    221\n",
       "1997    217\n",
       "2004    206\n",
       "2006    204\n",
       "1994    198\n",
       "2003    197\n",
       "2007    195\n",
       "2005    195\n",
       "2009    190\n",
       "2008    189\n",
       "2011    180\n",
       "2010    179\n",
       "2014    170\n",
       "2013    166\n",
       "1993    166\n",
       "2012    160\n",
       "2015    148\n",
       "1988    133\n",
       "1992    127\n",
       "1987    123\n",
       "1990    117\n",
       "1989    115\n",
       "1986    115\n",
       "1991    111\n",
       "1985    105\n",
       "1984     77\n",
       "1982     71\n",
       "1983     67\n",
       "1981     64\n",
       "1980     63\n",
       "2016     52\n",
       "1979     48\n",
       "1977     47\n",
       "1978     46\n",
       "1973     41\n",
       "1974     39\n",
       "1971     33\n",
       "1975     32\n",
       "1955     32\n",
       "1962     32\n",
       "1965     32\n",
       "1959     32\n",
       "1976     31\n",
       "1964     31\n",
       "1972     30\n",
       "1960     30\n",
       "1966     30\n",
       "1963     29\n",
       "1968     28\n",
       "1967     28\n",
       "1957     26\n",
       "1953     26\n",
       "1961     25\n",
       "1958     24\n",
       "1970     23\n",
       "1969     22\n",
       "1956     22\n",
       "1954     20\n",
       "1939     20\n",
       "1942     20\n",
       "1947     17\n",
       "1940     17\n",
       "1950     16\n",
       "1948     16\n",
       "1946     16\n",
       "1951     16\n",
       "1949     15\n",
       "1941     15\n",
       "1937     14\n",
       "1945     13\n",
       "1952     13\n",
       "1944     12\n",
       "1936     11\n",
       "1938     10\n",
       "1931      9\n",
       "1932      8\n",
       "1933      8\n",
       "1934      7\n",
       "1935      6\n",
       "1943      6\n",
       "1928      4\n",
       "1929      4\n",
       "1925      4\n",
       "1927      4\n",
       "1924      4\n",
       "1930      3\n",
       "1926      3\n",
       "1923      2\n",
       "1916      2\n",
       "1922      1\n",
       "1917      1\n",
       "1915      1\n",
       "1921      1\n",
       "1920      1\n",
       "Road      1\n",
       "1902      1\n",
       "          1\n",
       "Name: year, dtype: int64"
      ]
     },
     "execution_count": 116,
     "metadata": {},
     "output_type": "execute_result"
    }
   ],
   "source": [
    "# extract year of release from the movie\n",
    "\n",
    "data['y'] = data['title'].str.split(' ')\n",
    "data['year'] = data['y'].apply(lambda x:x[-1])\n",
    "\n",
    "data['year'] = data['year'].str.strip('(')\n",
    "data['year'] = data['year'].str.strip(')')\n",
    "\n",
    "pd.set_option('max_rows', 200)\n",
    "data['year'].value_counts()"
   ]
  },
  {
   "cell_type": "code",
   "execution_count": 117,
   "id": "7a1d5099",
   "metadata": {},
   "outputs": [
    {
     "data": {
      "text/html": [
       "<div>\n",
       "<style scoped>\n",
       "    .dataframe tbody tr th:only-of-type {\n",
       "        vertical-align: middle;\n",
       "    }\n",
       "\n",
       "    .dataframe tbody tr th {\n",
       "        vertical-align: top;\n",
       "    }\n",
       "\n",
       "    .dataframe thead th {\n",
       "        text-align: right;\n",
       "    }\n",
       "</style>\n",
       "<table border=\"1\" class=\"dataframe\">\n",
       "  <thead>\n",
       "    <tr style=\"text-align: right;\">\n",
       "      <th></th>\n",
       "      <th>title</th>\n",
       "      <th>genres</th>\n",
       "      <th>rating</th>\n",
       "      <th>y</th>\n",
       "      <th>year</th>\n",
       "    </tr>\n",
       "  </thead>\n",
       "  <tbody>\n",
       "    <tr>\n",
       "      <th>0</th>\n",
       "      <td>'Hellboy': The Seeds of Creation (2004)</td>\n",
       "      <td>Action|Adventure|Comedy|Documentary|Fantasy</td>\n",
       "      <td>4.000000</td>\n",
       "      <td>['Hellboy':, The, Seeds, of, Creation, (2004)]</td>\n",
       "      <td>2004</td>\n",
       "    </tr>\n",
       "    <tr>\n",
       "      <th>1</th>\n",
       "      <td>'Round Midnight (1986)</td>\n",
       "      <td>Drama|Musical</td>\n",
       "      <td>3.500000</td>\n",
       "      <td>['Round, Midnight, (1986)]</td>\n",
       "      <td>1986</td>\n",
       "    </tr>\n",
       "    <tr>\n",
       "      <th>2</th>\n",
       "      <td>'Salem's Lot (2004)</td>\n",
       "      <td>Drama|Horror|Mystery|Thriller</td>\n",
       "      <td>5.000000</td>\n",
       "      <td>['Salem's, Lot, (2004)]</td>\n",
       "      <td>2004</td>\n",
       "    </tr>\n",
       "    <tr>\n",
       "      <th>3</th>\n",
       "      <td>'Til There Was You (1997)</td>\n",
       "      <td>Drama|Romance</td>\n",
       "      <td>4.000000</td>\n",
       "      <td>['Til, There, Was, You, (1997)]</td>\n",
       "      <td>1997</td>\n",
       "    </tr>\n",
       "    <tr>\n",
       "      <th>4</th>\n",
       "      <td>'burbs, The (1989)</td>\n",
       "      <td>Comedy</td>\n",
       "      <td>3.176471</td>\n",
       "      <td>['burbs,, The, (1989)]</td>\n",
       "      <td>1989</td>\n",
       "    </tr>\n",
       "  </tbody>\n",
       "</table>\n",
       "</div>"
      ],
      "text/plain": [
       "                                     title  \\\n",
       "0  'Hellboy': The Seeds of Creation (2004)   \n",
       "1                   'Round Midnight (1986)   \n",
       "2                      'Salem's Lot (2004)   \n",
       "3                'Til There Was You (1997)   \n",
       "4                       'burbs, The (1989)   \n",
       "\n",
       "                                        genres    rating  \\\n",
       "0  Action|Adventure|Comedy|Documentary|Fantasy  4.000000   \n",
       "1                                Drama|Musical  3.500000   \n",
       "2                Drama|Horror|Mystery|Thriller  5.000000   \n",
       "3                                Drama|Romance  4.000000   \n",
       "4                                       Comedy  3.176471   \n",
       "\n",
       "                                                y  year  \n",
       "0  ['Hellboy':, The, Seeds, of, Creation, (2004)]  2004  \n",
       "1                      ['Round, Midnight, (1986)]  1986  \n",
       "2                         ['Salem's, Lot, (2004)]  2004  \n",
       "3                 ['Til, There, Was, You, (1997)]  1997  \n",
       "4                          ['burbs,, The, (1989)]  1989  "
      ]
     },
     "execution_count": 117,
     "metadata": {},
     "output_type": "execute_result"
    }
   ],
   "source": [
    "data.head()\n",
    "# y is an unnecessary column, lets drop it"
   ]
  },
  {
   "cell_type": "code",
   "execution_count": 118,
   "id": "1a377e29",
   "metadata": {},
   "outputs": [],
   "source": [
    "data = data.drop(['y'], axis=1)"
   ]
  },
  {
   "cell_type": "code",
   "execution_count": 119,
   "id": "7dff98e4",
   "metadata": {},
   "outputs": [
    {
     "data": {
      "text/html": [
       "<div>\n",
       "<style scoped>\n",
       "    .dataframe tbody tr th:only-of-type {\n",
       "        vertical-align: middle;\n",
       "    }\n",
       "\n",
       "    .dataframe tbody tr th {\n",
       "        vertical-align: top;\n",
       "    }\n",
       "\n",
       "    .dataframe thead th {\n",
       "        text-align: right;\n",
       "    }\n",
       "</style>\n",
       "<table border=\"1\" class=\"dataframe\">\n",
       "  <thead>\n",
       "    <tr style=\"text-align: right;\">\n",
       "      <th></th>\n",
       "      <th>title</th>\n",
       "      <th>genres</th>\n",
       "      <th>rating</th>\n",
       "      <th>year</th>\n",
       "    </tr>\n",
       "  </thead>\n",
       "  <tbody>\n",
       "    <tr>\n",
       "      <th>0</th>\n",
       "      <td>'Hellboy': The Seeds of Creation (2004)</td>\n",
       "      <td>Action|Adventure|Comedy|Documentary|Fantasy</td>\n",
       "      <td>4.000000</td>\n",
       "      <td>2004</td>\n",
       "    </tr>\n",
       "    <tr>\n",
       "      <th>1</th>\n",
       "      <td>'Round Midnight (1986)</td>\n",
       "      <td>Drama|Musical</td>\n",
       "      <td>3.500000</td>\n",
       "      <td>1986</td>\n",
       "    </tr>\n",
       "    <tr>\n",
       "      <th>2</th>\n",
       "      <td>'Salem's Lot (2004)</td>\n",
       "      <td>Drama|Horror|Mystery|Thriller</td>\n",
       "      <td>5.000000</td>\n",
       "      <td>2004</td>\n",
       "    </tr>\n",
       "    <tr>\n",
       "      <th>3</th>\n",
       "      <td>'Til There Was You (1997)</td>\n",
       "      <td>Drama|Romance</td>\n",
       "      <td>4.000000</td>\n",
       "      <td>1997</td>\n",
       "    </tr>\n",
       "    <tr>\n",
       "      <th>4</th>\n",
       "      <td>'burbs, The (1989)</td>\n",
       "      <td>Comedy</td>\n",
       "      <td>3.176471</td>\n",
       "      <td>1989</td>\n",
       "    </tr>\n",
       "  </tbody>\n",
       "</table>\n",
       "</div>"
      ],
      "text/plain": [
       "                                     title  \\\n",
       "0  'Hellboy': The Seeds of Creation (2004)   \n",
       "1                   'Round Midnight (1986)   \n",
       "2                      'Salem's Lot (2004)   \n",
       "3                'Til There Was You (1997)   \n",
       "4                       'burbs, The (1989)   \n",
       "\n",
       "                                        genres    rating  year  \n",
       "0  Action|Adventure|Comedy|Documentary|Fantasy  4.000000  2004  \n",
       "1                                Drama|Musical  3.500000  1986  \n",
       "2                Drama|Horror|Mystery|Thriller  5.000000  2004  \n",
       "3                                Drama|Romance  4.000000  1997  \n",
       "4                                       Comedy  3.176471  1989  "
      ]
     },
     "execution_count": 119,
     "metadata": {},
     "output_type": "execute_result"
    }
   ],
   "source": [
    "data.head()"
   ]
  },
  {
   "cell_type": "markdown",
   "id": "cc13c13f",
   "metadata": {},
   "source": [
    "## dirty values\n",
    "values in the year column has some string type values, so clean"
   ]
  },
  {
   "cell_type": "code",
   "execution_count": 124,
   "id": "da33da5e",
   "metadata": {},
   "outputs": [
    {
     "data": {
      "text/html": [
       "<div>\n",
       "<style scoped>\n",
       "    .dataframe tbody tr th:only-of-type {\n",
       "        vertical-align: middle;\n",
       "    }\n",
       "\n",
       "    .dataframe tbody tr th {\n",
       "        vertical-align: top;\n",
       "    }\n",
       "\n",
       "    .dataframe thead th {\n",
       "        text-align: right;\n",
       "    }\n",
       "</style>\n",
       "<table border=\"1\" class=\"dataframe\">\n",
       "  <thead>\n",
       "    <tr style=\"text-align: right;\">\n",
       "      <th></th>\n",
       "      <th>title</th>\n",
       "      <th>genres</th>\n",
       "      <th>rating</th>\n",
       "      <th>year</th>\n",
       "    </tr>\n",
       "  </thead>\n",
       "  <tbody>\n",
       "    <tr>\n",
       "      <th>0</th>\n",
       "      <td>'Hellboy': The Seeds of Creation (2004)</td>\n",
       "      <td>Action|Adventure|Comedy|Documentary|Fantasy</td>\n",
       "      <td>4.000000</td>\n",
       "      <td>2004</td>\n",
       "    </tr>\n",
       "    <tr>\n",
       "      <th>1</th>\n",
       "      <td>'Round Midnight (1986)</td>\n",
       "      <td>Drama|Musical</td>\n",
       "      <td>3.500000</td>\n",
       "      <td>1986</td>\n",
       "    </tr>\n",
       "    <tr>\n",
       "      <th>2</th>\n",
       "      <td>'Salem's Lot (2004)</td>\n",
       "      <td>Drama|Horror|Mystery|Thriller</td>\n",
       "      <td>5.000000</td>\n",
       "      <td>2004</td>\n",
       "    </tr>\n",
       "    <tr>\n",
       "      <th>3</th>\n",
       "      <td>'Til There Was You (1997)</td>\n",
       "      <td>Drama|Romance</td>\n",
       "      <td>4.000000</td>\n",
       "      <td>1997</td>\n",
       "    </tr>\n",
       "    <tr>\n",
       "      <th>4</th>\n",
       "      <td>'burbs, The (1989)</td>\n",
       "      <td>Comedy</td>\n",
       "      <td>3.176471</td>\n",
       "      <td>1989</td>\n",
       "    </tr>\n",
       "  </tbody>\n",
       "</table>\n",
       "</div>"
      ],
      "text/plain": [
       "                                     title  \\\n",
       "0  'Hellboy': The Seeds of Creation (2004)   \n",
       "1                   'Round Midnight (1986)   \n",
       "2                      'Salem's Lot (2004)   \n",
       "3                'Til There Was You (1997)   \n",
       "4                       'burbs, The (1989)   \n",
       "\n",
       "                                        genres    rating  year  \n",
       "0  Action|Adventure|Comedy|Documentary|Fantasy  4.000000  2004  \n",
       "1                                Drama|Musical  3.500000  1986  \n",
       "2                Drama|Horror|Mystery|Thriller  5.000000  2004  \n",
       "3                                Drama|Romance  4.000000  1997  \n",
       "4                                       Comedy  3.176471  1989  "
      ]
     },
     "execution_count": 124,
     "metadata": {},
     "output_type": "execute_result"
    }
   ],
   "source": [
    "# replace all redundant values\n",
    "data['year'] = data['year'].replace(('Road', ''),('2006','1996'))\n",
    "data['year'] = data['year'].astype(int)\n",
    "data.head()"
   ]
  },
  {
   "cell_type": "code",
   "execution_count": 126,
   "id": "3b4d8846",
   "metadata": {},
   "outputs": [
    {
     "data": {
      "text/html": [
       "<div>\n",
       "<style scoped>\n",
       "    .dataframe tbody tr th:only-of-type {\n",
       "        vertical-align: middle;\n",
       "    }\n",
       "\n",
       "    .dataframe tbody tr th {\n",
       "        vertical-align: top;\n",
       "    }\n",
       "\n",
       "    .dataframe thead th {\n",
       "        text-align: right;\n",
       "    }\n",
       "</style>\n",
       "<table border=\"1\" class=\"dataframe\">\n",
       "  <thead>\n",
       "    <tr style=\"text-align: right;\">\n",
       "      <th></th>\n",
       "      <th>title</th>\n",
       "      <th>genres</th>\n",
       "      <th>rating</th>\n",
       "      <th>year</th>\n",
       "    </tr>\n",
       "  </thead>\n",
       "  <tbody>\n",
       "    <tr>\n",
       "      <th>0</th>\n",
       "      <td>'Hellboy': The Seeds of</td>\n",
       "      <td>Action|Adventure|Comedy|Documentary|Fantasy</td>\n",
       "      <td>4.000000</td>\n",
       "      <td>2004</td>\n",
       "    </tr>\n",
       "    <tr>\n",
       "      <th>1</th>\n",
       "      <td>'Round</td>\n",
       "      <td>Drama|Musical</td>\n",
       "      <td>3.500000</td>\n",
       "      <td>1986</td>\n",
       "    </tr>\n",
       "    <tr>\n",
       "      <th>2</th>\n",
       "      <td>'Salem's</td>\n",
       "      <td>Drama|Horror|Mystery|Thriller</td>\n",
       "      <td>5.000000</td>\n",
       "      <td>2004</td>\n",
       "    </tr>\n",
       "    <tr>\n",
       "      <th>3</th>\n",
       "      <td>'Til There Was</td>\n",
       "      <td>Drama|Romance</td>\n",
       "      <td>4.000000</td>\n",
       "      <td>1997</td>\n",
       "    </tr>\n",
       "    <tr>\n",
       "      <th>4</th>\n",
       "      <td>'burbs,</td>\n",
       "      <td>Comedy</td>\n",
       "      <td>3.176471</td>\n",
       "      <td>1989</td>\n",
       "    </tr>\n",
       "  </tbody>\n",
       "</table>\n",
       "</div>"
      ],
      "text/plain": [
       "                     title                                       genres  \\\n",
       "0  'Hellboy': The Seeds of  Action|Adventure|Comedy|Documentary|Fantasy   \n",
       "1                   'Round                                Drama|Musical   \n",
       "2                 'Salem's                Drama|Horror|Mystery|Thriller   \n",
       "3           'Til There Was                                Drama|Romance   \n",
       "4                  'burbs,                                       Comedy   \n",
       "\n",
       "     rating  year  \n",
       "0  4.000000  2004  \n",
       "1  3.500000  1986  \n",
       "2  5.000000  2004  \n",
       "3  4.000000  1997  \n",
       "4  3.176471  1989  "
      ]
     },
     "execution_count": 126,
     "metadata": {},
     "output_type": "execute_result"
    }
   ],
   "source": [
    "# remove year from title of movies\n",
    "# split title into list of words\n",
    "data['title'] = data[\"title\"].str.split(' ')\n",
    "# join all except last term\n",
    "data['title'] = data['title'].apply(lambda x: ' '.join(x[:-1]))\n",
    "data.head()"
   ]
  },
  {
   "cell_type": "markdown",
   "id": "d0e375f2",
   "metadata": {},
   "source": [
    "## melbourne housing dataset"
   ]
  },
  {
   "cell_type": "code",
   "execution_count": 71,
   "id": "c70d2bbc",
   "metadata": {},
   "outputs": [],
   "source": [
    "import numpy as np\n",
    "import pandas as pd"
   ]
  },
  {
   "cell_type": "code",
   "execution_count": 72,
   "id": "5e0016a6",
   "metadata": {},
   "outputs": [
    {
     "data": {
      "text/plain": [
       "(23547, 21)"
      ]
     },
     "execution_count": 72,
     "metadata": {},
     "output_type": "execute_result"
    }
   ],
   "source": [
    "data = pd.read_csv('csv/melbourne.csv')\n",
    "data.shape"
   ]
  },
  {
   "cell_type": "code",
   "execution_count": 73,
   "id": "306560ee",
   "metadata": {},
   "outputs": [
    {
     "data": {
      "text/html": [
       "<div>\n",
       "<style scoped>\n",
       "    .dataframe tbody tr th:only-of-type {\n",
       "        vertical-align: middle;\n",
       "    }\n",
       "\n",
       "    .dataframe tbody tr th {\n",
       "        vertical-align: top;\n",
       "    }\n",
       "\n",
       "    .dataframe thead th {\n",
       "        text-align: right;\n",
       "    }\n",
       "</style>\n",
       "<table border=\"1\" class=\"dataframe\">\n",
       "  <thead>\n",
       "    <tr style=\"text-align: right;\">\n",
       "      <th></th>\n",
       "      <th>Suburb</th>\n",
       "      <th>Address</th>\n",
       "      <th>Rooms</th>\n",
       "      <th>Type</th>\n",
       "      <th>Price</th>\n",
       "      <th>Method</th>\n",
       "      <th>SellerG</th>\n",
       "      <th>Date</th>\n",
       "      <th>Distance</th>\n",
       "      <th>Postcode</th>\n",
       "      <th>...</th>\n",
       "      <th>Bathroom</th>\n",
       "      <th>Car</th>\n",
       "      <th>Landsize</th>\n",
       "      <th>BuildingArea</th>\n",
       "      <th>YearBuilt</th>\n",
       "      <th>CouncilArea</th>\n",
       "      <th>Lattitude</th>\n",
       "      <th>Longtitude</th>\n",
       "      <th>Regionname</th>\n",
       "      <th>Propertycount</th>\n",
       "    </tr>\n",
       "  </thead>\n",
       "  <tbody>\n",
       "    <tr>\n",
       "      <th>0</th>\n",
       "      <td>Abbotsford</td>\n",
       "      <td>68 Studley St</td>\n",
       "      <td>2</td>\n",
       "      <td>h</td>\n",
       "      <td>NaN</td>\n",
       "      <td>SS</td>\n",
       "      <td>Jellis</td>\n",
       "      <td>03-09-2016</td>\n",
       "      <td>2.5</td>\n",
       "      <td>3067.0</td>\n",
       "      <td>...</td>\n",
       "      <td>1.0</td>\n",
       "      <td>1.0</td>\n",
       "      <td>126.0</td>\n",
       "      <td>NaN</td>\n",
       "      <td>NaN</td>\n",
       "      <td>Yarra</td>\n",
       "      <td>-37.8014</td>\n",
       "      <td>144.9958</td>\n",
       "      <td>Northern Metropolitan</td>\n",
       "      <td>4019.0</td>\n",
       "    </tr>\n",
       "    <tr>\n",
       "      <th>1</th>\n",
       "      <td>Abbotsford</td>\n",
       "      <td>85 Turner St</td>\n",
       "      <td>2</td>\n",
       "      <td>h</td>\n",
       "      <td>1480000.0</td>\n",
       "      <td>S</td>\n",
       "      <td>Biggin</td>\n",
       "      <td>03-12-2016</td>\n",
       "      <td>2.5</td>\n",
       "      <td>3067.0</td>\n",
       "      <td>...</td>\n",
       "      <td>1.0</td>\n",
       "      <td>1.0</td>\n",
       "      <td>202.0</td>\n",
       "      <td>NaN</td>\n",
       "      <td>NaN</td>\n",
       "      <td>Yarra</td>\n",
       "      <td>-37.7996</td>\n",
       "      <td>144.9984</td>\n",
       "      <td>Northern Metropolitan</td>\n",
       "      <td>4019.0</td>\n",
       "    </tr>\n",
       "    <tr>\n",
       "      <th>2</th>\n",
       "      <td>Abbotsford</td>\n",
       "      <td>25 Bloomburg St</td>\n",
       "      <td>2</td>\n",
       "      <td>h</td>\n",
       "      <td>1035000.0</td>\n",
       "      <td>S</td>\n",
       "      <td>Biggin</td>\n",
       "      <td>04-02-2016</td>\n",
       "      <td>2.5</td>\n",
       "      <td>3067.0</td>\n",
       "      <td>...</td>\n",
       "      <td>1.0</td>\n",
       "      <td>0.0</td>\n",
       "      <td>156.0</td>\n",
       "      <td>79.0</td>\n",
       "      <td>1900.0</td>\n",
       "      <td>Yarra</td>\n",
       "      <td>-37.8079</td>\n",
       "      <td>144.9934</td>\n",
       "      <td>Northern Metropolitan</td>\n",
       "      <td>4019.0</td>\n",
       "    </tr>\n",
       "    <tr>\n",
       "      <th>3</th>\n",
       "      <td>Abbotsford</td>\n",
       "      <td>18/659 Victoria St</td>\n",
       "      <td>3</td>\n",
       "      <td>u</td>\n",
       "      <td>NaN</td>\n",
       "      <td>VB</td>\n",
       "      <td>Rounds</td>\n",
       "      <td>04-02-2016</td>\n",
       "      <td>2.5</td>\n",
       "      <td>3067.0</td>\n",
       "      <td>...</td>\n",
       "      <td>2.0</td>\n",
       "      <td>1.0</td>\n",
       "      <td>0.0</td>\n",
       "      <td>NaN</td>\n",
       "      <td>NaN</td>\n",
       "      <td>Yarra</td>\n",
       "      <td>-37.8114</td>\n",
       "      <td>145.0116</td>\n",
       "      <td>Northern Metropolitan</td>\n",
       "      <td>4019.0</td>\n",
       "    </tr>\n",
       "    <tr>\n",
       "      <th>4</th>\n",
       "      <td>Abbotsford</td>\n",
       "      <td>5 Charles St</td>\n",
       "      <td>3</td>\n",
       "      <td>h</td>\n",
       "      <td>1465000.0</td>\n",
       "      <td>SP</td>\n",
       "      <td>Biggin</td>\n",
       "      <td>04-03-2017</td>\n",
       "      <td>2.5</td>\n",
       "      <td>3067.0</td>\n",
       "      <td>...</td>\n",
       "      <td>2.0</td>\n",
       "      <td>0.0</td>\n",
       "      <td>134.0</td>\n",
       "      <td>150.0</td>\n",
       "      <td>1900.0</td>\n",
       "      <td>Yarra</td>\n",
       "      <td>-37.8093</td>\n",
       "      <td>144.9944</td>\n",
       "      <td>Northern Metropolitan</td>\n",
       "      <td>4019.0</td>\n",
       "    </tr>\n",
       "  </tbody>\n",
       "</table>\n",
       "<p>5 rows × 21 columns</p>\n",
       "</div>"
      ],
      "text/plain": [
       "       Suburb             Address  Rooms Type      Price Method SellerG  \\\n",
       "0  Abbotsford       68 Studley St      2    h        NaN     SS  Jellis   \n",
       "1  Abbotsford        85 Turner St      2    h  1480000.0      S  Biggin   \n",
       "2  Abbotsford     25 Bloomburg St      2    h  1035000.0      S  Biggin   \n",
       "3  Abbotsford  18/659 Victoria St      3    u        NaN     VB  Rounds   \n",
       "4  Abbotsford        5 Charles St      3    h  1465000.0     SP  Biggin   \n",
       "\n",
       "         Date  Distance  Postcode  ...  Bathroom  Car  Landsize  BuildingArea  \\\n",
       "0  03-09-2016       2.5    3067.0  ...       1.0  1.0     126.0           NaN   \n",
       "1  03-12-2016       2.5    3067.0  ...       1.0  1.0     202.0           NaN   \n",
       "2  04-02-2016       2.5    3067.0  ...       1.0  0.0     156.0          79.0   \n",
       "3  04-02-2016       2.5    3067.0  ...       2.0  1.0       0.0           NaN   \n",
       "4  04-03-2017       2.5    3067.0  ...       2.0  0.0     134.0         150.0   \n",
       "\n",
       "   YearBuilt  CouncilArea Lattitude  Longtitude             Regionname  \\\n",
       "0        NaN        Yarra  -37.8014    144.9958  Northern Metropolitan   \n",
       "1        NaN        Yarra  -37.7996    144.9984  Northern Metropolitan   \n",
       "2     1900.0        Yarra  -37.8079    144.9934  Northern Metropolitan   \n",
       "3        NaN        Yarra  -37.8114    145.0116  Northern Metropolitan   \n",
       "4     1900.0        Yarra  -37.8093    144.9944  Northern Metropolitan   \n",
       "\n",
       "  Propertycount  \n",
       "0        4019.0  \n",
       "1        4019.0  \n",
       "2        4019.0  \n",
       "3        4019.0  \n",
       "4        4019.0  \n",
       "\n",
       "[5 rows x 21 columns]"
      ]
     },
     "execution_count": 73,
     "metadata": {},
     "output_type": "execute_result"
    }
   ],
   "source": [
    "data.head()"
   ]
  },
  {
   "cell_type": "code",
   "execution_count": 74,
   "id": "11e06999",
   "metadata": {},
   "outputs": [
    {
     "data": {
      "text/plain": [
       "66918"
      ]
     },
     "execution_count": 74,
     "metadata": {},
     "output_type": "execute_result"
    }
   ],
   "source": [
    "# finding missing values\n",
    "data.isnull().sum().sum()"
   ]
  },
  {
   "cell_type": "code",
   "execution_count": 75,
   "id": "e2f5778b",
   "metadata": {},
   "outputs": [
    {
     "name": "stdout",
     "output_type": "stream",
     "text": [
      "Suburb            0.00\n",
      "Address           0.00\n",
      "Rooms             0.00\n",
      "Type              0.00\n",
      "Price            21.88\n",
      "Method            0.00\n",
      "SellerG           0.00\n",
      "Date              0.00\n",
      "Distance          0.00\n",
      "Postcode          0.00\n",
      "Bedroom2         19.03\n",
      "Bathroom         19.04\n",
      "Car              19.65\n",
      "Landsize         26.06\n",
      "BuildingArea     57.46\n",
      "YearBuilt        50.99\n",
      "CouncilArea      33.51\n",
      "Lattitude        18.28\n",
      "Longtitude       18.28\n",
      "Regionname        0.00\n",
      "Propertycount     0.00\n",
      "dtype: float64\n"
     ]
    }
   ],
   "source": [
    "# percentaeg of missing values\n",
    "# rounds each col to 2 decimal places\n",
    "percentage = round(data.isnull().sum()/data.shape[0]*100, 2)\n",
    "print(percentage)\n"
   ]
  },
  {
   "cell_type": "code",
   "execution_count": 76,
   "id": "8429ae35",
   "metadata": {},
   "outputs": [
    {
     "data": {
      "text/plain": [
       "Index(['Suburb', 'Address', 'Rooms', 'Type', 'Price', 'Method', 'SellerG',\n",
       "       'Date', 'Distance', 'Postcode', 'Bedroom2', 'Bathroom', 'Car',\n",
       "       'Landsize', 'Lattitude', 'Longtitude', 'Regionname', 'Propertycount'],\n",
       "      dtype='object')"
      ]
     },
     "execution_count": 76,
     "metadata": {},
     "output_type": "execute_result"
    }
   ],
   "source": [
    "# drop columns having misisng values greater than 33%\n",
    "data = data.drop('BuildingArea', axis=1)\n",
    "data = data.drop('YearBuilt', axis=1)\n",
    "data = data.drop('CouncilArea', axis=1)\n",
    "data.columns"
   ]
  },
  {
   "cell_type": "code",
   "execution_count": 77,
   "id": "268a6aac",
   "metadata": {},
   "outputs": [
    {
     "name": "stdout",
     "output_type": "stream",
     "text": [
      "Suburb            0.00\n",
      "Address           0.00\n",
      "Rooms             0.00\n",
      "Type              0.00\n",
      "Price            21.88\n",
      "Method            0.00\n",
      "SellerG           0.00\n",
      "Date              0.00\n",
      "Distance          0.00\n",
      "Postcode          0.00\n",
      "Bedroom2         19.03\n",
      "Bathroom         19.04\n",
      "Car              19.65\n",
      "Landsize         26.06\n",
      "Lattitude        18.28\n",
      "Longtitude       18.28\n",
      "Regionname        0.00\n",
      "Propertycount     0.00\n",
      "dtype: float64\n"
     ]
    }
   ],
   "source": [
    "percentage = round(data.isnull().sum()/data.shape[0]*100, 2)\n",
    "print(percentage)"
   ]
  },
  {
   "cell_type": "code",
   "execution_count": 78,
   "id": "ff3e609a",
   "metadata": {},
   "outputs": [
    {
     "name": "stdout",
     "output_type": "stream",
     "text": [
      "Suburb           0.00\n",
      "Address          0.00\n",
      "Rooms            0.00\n",
      "Type             0.00\n",
      "Price            0.00\n",
      "Method           0.00\n",
      "SellerG          0.00\n",
      "Date             0.00\n",
      "Distance         0.00\n",
      "Postcode         0.00\n",
      "Bedroom2         0.00\n",
      "Bathroom         0.01\n",
      "Car              0.46\n",
      "Landsize         0.00\n",
      "Lattitude        0.16\n",
      "Longtitude       0.16\n",
      "Regionname       0.00\n",
      "Propertycount    0.00\n",
      "dtype: float64\n"
     ]
    }
   ],
   "source": [
    "# remove rows where the column has missing values in landsize and price\n",
    "\n",
    "data = data[~np.isnan(data['Price'])]\n",
    "data = data[~np.isnan(data['Landsize'])]\n",
    "percentage = round(data.isnull().sum()/data.shape[0]*100, 2)\n",
    "print(percentage) "
   ]
  },
  {
   "cell_type": "markdown",
   "id": "86128404",
   "metadata": {},
   "source": [
    "#### very less missing valeus in the remaining columns, so check the range, check for outliers"
   ]
  },
  {
   "cell_type": "code",
   "execution_count": 79,
   "id": "da01abda",
   "metadata": {},
   "outputs": [
    {
     "data": {
      "text/html": [
       "<div>\n",
       "<style scoped>\n",
       "    .dataframe tbody tr th:only-of-type {\n",
       "        vertical-align: middle;\n",
       "    }\n",
       "\n",
       "    .dataframe tbody tr th {\n",
       "        vertical-align: top;\n",
       "    }\n",
       "\n",
       "    .dataframe thead th {\n",
       "        text-align: right;\n",
       "    }\n",
       "</style>\n",
       "<table border=\"1\" class=\"dataframe\">\n",
       "  <thead>\n",
       "    <tr style=\"text-align: right;\">\n",
       "      <th></th>\n",
       "      <th>Lattitude</th>\n",
       "      <th>Longtitude</th>\n",
       "    </tr>\n",
       "  </thead>\n",
       "  <tbody>\n",
       "    <tr>\n",
       "      <th>count</th>\n",
       "      <td>13581.000000</td>\n",
       "      <td>13581.000000</td>\n",
       "    </tr>\n",
       "    <tr>\n",
       "      <th>mean</th>\n",
       "      <td>-37.809204</td>\n",
       "      <td>144.995221</td>\n",
       "    </tr>\n",
       "    <tr>\n",
       "      <th>std</th>\n",
       "      <td>0.079257</td>\n",
       "      <td>0.103913</td>\n",
       "    </tr>\n",
       "    <tr>\n",
       "      <th>min</th>\n",
       "      <td>-38.182550</td>\n",
       "      <td>144.431810</td>\n",
       "    </tr>\n",
       "    <tr>\n",
       "      <th>25%</th>\n",
       "      <td>-37.856820</td>\n",
       "      <td>144.929600</td>\n",
       "    </tr>\n",
       "    <tr>\n",
       "      <th>50%</th>\n",
       "      <td>-37.802360</td>\n",
       "      <td>145.000100</td>\n",
       "    </tr>\n",
       "    <tr>\n",
       "      <th>75%</th>\n",
       "      <td>-37.756400</td>\n",
       "      <td>145.058320</td>\n",
       "    </tr>\n",
       "    <tr>\n",
       "      <th>max</th>\n",
       "      <td>-37.408530</td>\n",
       "      <td>145.526350</td>\n",
       "    </tr>\n",
       "  </tbody>\n",
       "</table>\n",
       "</div>"
      ],
      "text/plain": [
       "          Lattitude    Longtitude\n",
       "count  13581.000000  13581.000000\n",
       "mean     -37.809204    144.995221\n",
       "std        0.079257      0.103913\n",
       "min      -38.182550    144.431810\n",
       "25%      -37.856820    144.929600\n",
       "50%      -37.802360    145.000100\n",
       "75%      -37.756400    145.058320\n",
       "max      -37.408530    145.526350"
      ]
     },
     "execution_count": 79,
     "metadata": {},
     "output_type": "execute_result"
    }
   ],
   "source": [
    "data[['Lattitude','Longtitude']].describe()\n",
    "# since there is a very minute difference between the values, we can replace them with mean"
   ]
  },
  {
   "cell_type": "code",
   "execution_count": 80,
   "id": "b9ec2754",
   "metadata": {},
   "outputs": [],
   "source": [
    "data['Lattitude'] = data[['Lattitude']].fillna(data['Lattitude'].mean())\n",
    "data['Longtitude'].fillna(data['Longtitude'].mean(), inplace=True)"
   ]
  },
  {
   "cell_type": "code",
   "execution_count": 81,
   "id": "52da19c4",
   "metadata": {},
   "outputs": [
    {
     "data": {
      "text/plain": [
       "Suburb           0.00\n",
       "Address          0.00\n",
       "Rooms            0.00\n",
       "Type             0.00\n",
       "Price            0.00\n",
       "Method           0.00\n",
       "SellerG          0.00\n",
       "Date             0.00\n",
       "Distance         0.00\n",
       "Postcode         0.00\n",
       "Bedroom2         0.00\n",
       "Bathroom         0.01\n",
       "Car              0.46\n",
       "Landsize         0.00\n",
       "Lattitude        0.00\n",
       "Longtitude       0.00\n",
       "Regionname       0.00\n",
       "Propertycount    0.00\n",
       "dtype: float64"
      ]
     },
     "execution_count": 81,
     "metadata": {},
     "output_type": "execute_result"
    }
   ],
   "source": [
    "percentage = round(data.isnull().sum()/data.shape[0]*100, 2)\n",
    "percentage"
   ]
  },
  {
   "cell_type": "code",
   "execution_count": 82,
   "id": "28292f2e",
   "metadata": {},
   "outputs": [
    {
     "data": {
      "text/plain": [
       "1.0    7517\n",
       "2.0    4987\n",
       "3.0     921\n",
       "4.0     106\n",
       "0.0      34\n",
       "5.0      28\n",
       "6.0       5\n",
       "8.0       2\n",
       "7.0       2\n",
       "Name: Bathroom, dtype: int64"
      ]
     },
     "execution_count": 82,
     "metadata": {},
     "output_type": "execute_result"
    }
   ],
   "source": [
    "# check values in bathroom column\n",
    "data['Bathroom'].value_counts()"
   ]
  },
  {
   "cell_type": "code",
   "execution_count": 83,
   "id": "14ce64f3",
   "metadata": {},
   "outputs": [
    {
     "data": {
      "text/plain": [
       "2.0     5606\n",
       "1.0     5515\n",
       "0.0     1026\n",
       "3.0      748\n",
       "4.0      507\n",
       "5.0       63\n",
       "6.0       54\n",
       "8.0        9\n",
       "7.0        8\n",
       "10.0       3\n",
       "9.0        1\n",
       "Name: Car, dtype: int64"
      ]
     },
     "execution_count": 83,
     "metadata": {},
     "output_type": "execute_result"
    }
   ],
   "source": [
    "# check values in car column\n",
    "data['Car'].value_counts()"
   ]
  },
  {
   "cell_type": "code",
   "execution_count": 84,
   "id": "c07e1ec7",
   "metadata": {},
   "outputs": [],
   "source": [
    "# replace values in categorical columns using mode\n",
    "data['Bathroom'].fillna(data['Bathroom'].mode()[0], inplace=True)\n",
    "data['Car'].fillna(data['Car'].mode()[0], inplace=True)"
   ]
  },
  {
   "cell_type": "code",
   "execution_count": 85,
   "id": "289879d3",
   "metadata": {},
   "outputs": [
    {
     "data": {
      "text/plain": [
       "0"
      ]
     },
     "execution_count": 85,
     "metadata": {},
     "output_type": "execute_result"
    }
   ],
   "source": [
    "data.isnull().sum().sum()"
   ]
  },
  {
   "cell_type": "code",
   "execution_count": 86,
   "id": "81af6eca",
   "metadata": {},
   "outputs": [
    {
     "data": {
      "text/plain": [
       "Suburb           0\n",
       "Address          0\n",
       "Rooms            0\n",
       "Type             0\n",
       "Price            0\n",
       "Method           0\n",
       "SellerG          0\n",
       "Date             0\n",
       "Distance         0\n",
       "Postcode         0\n",
       "Bedroom2         0\n",
       "Bathroom         0\n",
       "Car              0\n",
       "Landsize         0\n",
       "Lattitude        0\n",
       "Longtitude       0\n",
       "Regionname       0\n",
       "Propertycount    0\n",
       "dtype: int64"
      ]
     },
     "execution_count": 86,
     "metadata": {},
     "output_type": "execute_result"
    }
   ],
   "source": [
    "data.isnull().sum()\n"
   ]
  },
  {
   "cell_type": "markdown",
   "id": "a8f11003",
   "metadata": {},
   "source": [
    "## naukri dataset"
   ]
  },
  {
   "cell_type": "code",
   "execution_count": null,
   "id": "2af189b4",
   "metadata": {},
   "outputs": [],
   "source": [
    "import numpy as np\n",
    "import pandas as pd\n",
    "import matplotlib.pyplot as plt\n",
    "import seaborn as sns"
   ]
  },
  {
   "cell_type": "code",
   "execution_count": 88,
   "id": "e7c81f6f",
   "metadata": {},
   "outputs": [
    {
     "data": {
      "text/plain": [
       "(22000, 14)"
      ]
     },
     "execution_count": 88,
     "metadata": {},
     "output_type": "execute_result"
    }
   ],
   "source": [
    "data = pd.read_csv('csv/Naukri dataset.csv')\n",
    "data.shape"
   ]
  },
  {
   "cell_type": "code",
   "execution_count": 89,
   "id": "fb04d44f",
   "metadata": {},
   "outputs": [
    {
     "data": {
      "text/html": [
       "<div>\n",
       "<style scoped>\n",
       "    .dataframe tbody tr th:only-of-type {\n",
       "        vertical-align: middle;\n",
       "    }\n",
       "\n",
       "    .dataframe tbody tr th {\n",
       "        vertical-align: top;\n",
       "    }\n",
       "\n",
       "    .dataframe thead th {\n",
       "        text-align: right;\n",
       "    }\n",
       "</style>\n",
       "<table border=\"1\" class=\"dataframe\">\n",
       "  <thead>\n",
       "    <tr style=\"text-align: right;\">\n",
       "      <th></th>\n",
       "      <th>company</th>\n",
       "      <th>education</th>\n",
       "      <th>experience</th>\n",
       "      <th>industry</th>\n",
       "      <th>jobdescription</th>\n",
       "      <th>jobid</th>\n",
       "      <th>joblocation_address</th>\n",
       "      <th>jobtitle</th>\n",
       "      <th>numberofpositions</th>\n",
       "      <th>payrate</th>\n",
       "      <th>postdate</th>\n",
       "      <th>site_name</th>\n",
       "      <th>skills</th>\n",
       "      <th>uniq_id</th>\n",
       "    </tr>\n",
       "  </thead>\n",
       "  <tbody>\n",
       "    <tr>\n",
       "      <th>0</th>\n",
       "      <td>MM Media Pvt Ltd</td>\n",
       "      <td>UG: B.Tech/B.E. - Any Specialization PG:Any Po...</td>\n",
       "      <td>0 - 1 yrs</td>\n",
       "      <td>Media / Entertainment / Internet</td>\n",
       "      <td>Job Description   Send me Jobs like this Quali...</td>\n",
       "      <td>210516002263</td>\n",
       "      <td>Chennai</td>\n",
       "      <td>Walkin Data Entry Operator (night Shift)</td>\n",
       "      <td>NaN</td>\n",
       "      <td>1,50,000 - 2,25,000 P.A</td>\n",
       "      <td>2016-05-21 19:30:00 +0000</td>\n",
       "      <td>NaN</td>\n",
       "      <td>ITES</td>\n",
       "      <td>43b19632647068535437c774b6ca6cf8</td>\n",
       "    </tr>\n",
       "    <tr>\n",
       "      <th>1</th>\n",
       "      <td>find live infotech</td>\n",
       "      <td>UG: B.Tech/B.E. - Any Specialization PG:MBA/PG...</td>\n",
       "      <td>0 - 0 yrs</td>\n",
       "      <td>Advertising / PR / MR / Event Management</td>\n",
       "      <td>Job Description   Send me Jobs like this Quali...</td>\n",
       "      <td>210516002391</td>\n",
       "      <td>Chennai</td>\n",
       "      <td>Work Based Onhome Based Part Time.</td>\n",
       "      <td>60.0</td>\n",
       "      <td>1,50,000 - 2,50,000 P.A. 20000</td>\n",
       "      <td>2016-05-21 19:30:00 +0000</td>\n",
       "      <td>NaN</td>\n",
       "      <td>Marketing</td>\n",
       "      <td>d4c72325e57f89f364812b5ed5a795f0</td>\n",
       "    </tr>\n",
       "    <tr>\n",
       "      <th>2</th>\n",
       "      <td>Softtech Career Infosystem Pvt. Ltd</td>\n",
       "      <td>UG: Any Graduate - Any Specialization PG:Any P...</td>\n",
       "      <td>4 - 8 yrs</td>\n",
       "      <td>IT-Software / Software Services</td>\n",
       "      <td>Job Description   Send me Jobs like this - as ...</td>\n",
       "      <td>101016900534</td>\n",
       "      <td>Bengaluru</td>\n",
       "      <td>Pl/sql Developer - SQL</td>\n",
       "      <td>NaN</td>\n",
       "      <td>Not Disclosed by Recruiter</td>\n",
       "      <td>2016-10-13 16:20:55 +0000</td>\n",
       "      <td>NaN</td>\n",
       "      <td>IT Software - Application Programming</td>\n",
       "      <td>c47df6f4cfdf5b46f1fd713ba61b9eba</td>\n",
       "    </tr>\n",
       "    <tr>\n",
       "      <th>3</th>\n",
       "      <td>Onboard HRServices LLP</td>\n",
       "      <td>UG: Any Graduate - Any Specialization PG:CA Do...</td>\n",
       "      <td>11 - 15 yrs</td>\n",
       "      <td>Banking / Financial Services / Broking</td>\n",
       "      <td>Job Description   Send me Jobs like this - Inv...</td>\n",
       "      <td>81016900536</td>\n",
       "      <td>Mumbai, Bengaluru, Kolkata, Chennai, Coimbator...</td>\n",
       "      <td>Manager/ad/partner - Indirect Tax - CA</td>\n",
       "      <td>NaN</td>\n",
       "      <td>Not Disclosed by Recruiter</td>\n",
       "      <td>2016-10-13 16:20:55 +0000</td>\n",
       "      <td>NaN</td>\n",
       "      <td>Accounts</td>\n",
       "      <td>115d28f140f694dd1cc61c53d03c66ae</td>\n",
       "    </tr>\n",
       "    <tr>\n",
       "      <th>4</th>\n",
       "      <td>Spire Technologies and Solutions Pvt. Ltd.</td>\n",
       "      <td>UG: B.Tech/B.E. - Any Specialization PG:Any Po...</td>\n",
       "      <td>6 - 8 yrs</td>\n",
       "      <td>IT-Software / Software Services</td>\n",
       "      <td>Job Description   Send me Jobs like this Pleas...</td>\n",
       "      <td>120916002122</td>\n",
       "      <td>Bengaluru</td>\n",
       "      <td>JAVA Technical Lead (6-8 yrs) -</td>\n",
       "      <td>4.0</td>\n",
       "      <td>Not Disclosed by Recruiter</td>\n",
       "      <td>2016-10-13 16:20:55 +0000</td>\n",
       "      <td>NaN</td>\n",
       "      <td>IT Software - Application Programming</td>\n",
       "      <td>a12553fc03bc7bcced8b1bb8963f97b4</td>\n",
       "    </tr>\n",
       "  </tbody>\n",
       "</table>\n",
       "</div>"
      ],
      "text/plain": [
       "                                      company  \\\n",
       "0                            MM Media Pvt Ltd   \n",
       "1                          find live infotech   \n",
       "2         Softtech Career Infosystem Pvt. Ltd   \n",
       "3                      Onboard HRServices LLP   \n",
       "4  Spire Technologies and Solutions Pvt. Ltd.   \n",
       "\n",
       "                                           education   experience  \\\n",
       "0  UG: B.Tech/B.E. - Any Specialization PG:Any Po...    0 - 1 yrs   \n",
       "1  UG: B.Tech/B.E. - Any Specialization PG:MBA/PG...    0 - 0 yrs   \n",
       "2  UG: Any Graduate - Any Specialization PG:Any P...    4 - 8 yrs   \n",
       "3  UG: Any Graduate - Any Specialization PG:CA Do...  11 - 15 yrs   \n",
       "4  UG: B.Tech/B.E. - Any Specialization PG:Any Po...    6 - 8 yrs   \n",
       "\n",
       "                                   industry  \\\n",
       "0          Media / Entertainment / Internet   \n",
       "1  Advertising / PR / MR / Event Management   \n",
       "2           IT-Software / Software Services   \n",
       "3    Banking / Financial Services / Broking   \n",
       "4           IT-Software / Software Services   \n",
       "\n",
       "                                      jobdescription         jobid  \\\n",
       "0  Job Description   Send me Jobs like this Quali...  210516002263   \n",
       "1  Job Description   Send me Jobs like this Quali...  210516002391   \n",
       "2  Job Description   Send me Jobs like this - as ...  101016900534   \n",
       "3  Job Description   Send me Jobs like this - Inv...   81016900536   \n",
       "4  Job Description   Send me Jobs like this Pleas...  120916002122   \n",
       "\n",
       "                                 joblocation_address  \\\n",
       "0                                            Chennai   \n",
       "1                                            Chennai   \n",
       "2                                          Bengaluru   \n",
       "3  Mumbai, Bengaluru, Kolkata, Chennai, Coimbator...   \n",
       "4                                          Bengaluru   \n",
       "\n",
       "                                   jobtitle  numberofpositions  \\\n",
       "0  Walkin Data Entry Operator (night Shift)                NaN   \n",
       "1        Work Based Onhome Based Part Time.               60.0   \n",
       "2                    Pl/sql Developer - SQL                NaN   \n",
       "3    Manager/ad/partner - Indirect Tax - CA                NaN   \n",
       "4           JAVA Technical Lead (6-8 yrs) -                4.0   \n",
       "\n",
       "                          payrate                   postdate site_name  \\\n",
       "0         1,50,000 - 2,25,000 P.A  2016-05-21 19:30:00 +0000       NaN   \n",
       "1  1,50,000 - 2,50,000 P.A. 20000  2016-05-21 19:30:00 +0000       NaN   \n",
       "2      Not Disclosed by Recruiter  2016-10-13 16:20:55 +0000       NaN   \n",
       "3      Not Disclosed by Recruiter  2016-10-13 16:20:55 +0000       NaN   \n",
       "4      Not Disclosed by Recruiter  2016-10-13 16:20:55 +0000       NaN   \n",
       "\n",
       "                                  skills                           uniq_id  \n",
       "0                                   ITES  43b19632647068535437c774b6ca6cf8  \n",
       "1                              Marketing  d4c72325e57f89f364812b5ed5a795f0  \n",
       "2  IT Software - Application Programming  c47df6f4cfdf5b46f1fd713ba61b9eba  \n",
       "3                               Accounts  115d28f140f694dd1cc61c53d03c66ae  \n",
       "4  IT Software - Application Programming  a12553fc03bc7bcced8b1bb8963f97b4  "
      ]
     },
     "execution_count": 89,
     "metadata": {},
     "output_type": "execute_result"
    }
   ],
   "source": [
    "data.head()"
   ]
  },
  {
   "cell_type": "code",
   "execution_count": 90,
   "id": "3851b241",
   "metadata": {},
   "outputs": [
    {
     "data": {
      "text/plain": [
       "company                    4\n",
       "education               1996\n",
       "experience                 4\n",
       "industry                   5\n",
       "jobdescription             4\n",
       "jobid                      0\n",
       "joblocation_address      501\n",
       "jobtitle                   0\n",
       "numberofpositions      17536\n",
       "payrate                   97\n",
       "postdate                  23\n",
       "site_name              18013\n",
       "skills                   528\n",
       "uniq_id                    0\n",
       "dtype: int64"
      ]
     },
     "execution_count": 90,
     "metadata": {},
     "output_type": "execute_result"
    }
   ],
   "source": [
    "data.isnull().sum()"
   ]
  },
  {
   "cell_type": "code",
   "execution_count": 101,
   "id": "e7204a13",
   "metadata": {},
   "outputs": [
    {
     "ename": "AttributeError",
     "evalue": "Can only use .str accessor with string values!",
     "output_type": "error",
     "traceback": [
      "\u001b[1;31m---------------------------------------------------------------------------\u001b[0m",
      "\u001b[1;31mAttributeError\u001b[0m                            Traceback (most recent call last)",
      "\u001b[1;32m<ipython-input-101-513329d0bf51>\u001b[0m in \u001b[0;36m<module>\u001b[1;34m\u001b[0m\n\u001b[1;32m----> 1\u001b[1;33m \u001b[0mdata\u001b[0m\u001b[1;33m[\u001b[0m\u001b[1;34m'joblocation_address'\u001b[0m\u001b[1;33m]\u001b[0m \u001b[1;33m=\u001b[0m \u001b[0mdata\u001b[0m\u001b[1;33m[\u001b[0m\u001b[1;34m'joblocation_address'\u001b[0m\u001b[1;33m]\u001b[0m\u001b[1;33m.\u001b[0m\u001b[0mstr\u001b[0m\u001b[1;33m.\u001b[0m\u001b[0msplit\u001b[0m\u001b[1;33m(\u001b[0m\u001b[1;34m','\u001b[0m\u001b[1;33m)\u001b[0m\u001b[1;33m\u001b[0m\u001b[1;33m\u001b[0m\u001b[0m\n\u001b[0m",
      "\u001b[1;32m~\\AppData\\Local\\Programs\\Python\\Python39\\lib\\site-packages\\pandas\\core\\generic.py\u001b[0m in \u001b[0;36m__getattr__\u001b[1;34m(self, name)\u001b[0m\n\u001b[0;32m   5459\u001b[0m             \u001b[1;32mor\u001b[0m \u001b[0mname\u001b[0m \u001b[1;32min\u001b[0m \u001b[0mself\u001b[0m\u001b[1;33m.\u001b[0m\u001b[0m_accessors\u001b[0m\u001b[1;33m\u001b[0m\u001b[1;33m\u001b[0m\u001b[0m\n\u001b[0;32m   5460\u001b[0m         ):\n\u001b[1;32m-> 5461\u001b[1;33m             \u001b[1;32mreturn\u001b[0m \u001b[0mobject\u001b[0m\u001b[1;33m.\u001b[0m\u001b[0m__getattribute__\u001b[0m\u001b[1;33m(\u001b[0m\u001b[0mself\u001b[0m\u001b[1;33m,\u001b[0m \u001b[0mname\u001b[0m\u001b[1;33m)\u001b[0m\u001b[1;33m\u001b[0m\u001b[1;33m\u001b[0m\u001b[0m\n\u001b[0m\u001b[0;32m   5462\u001b[0m         \u001b[1;32melse\u001b[0m\u001b[1;33m:\u001b[0m\u001b[1;33m\u001b[0m\u001b[1;33m\u001b[0m\u001b[0m\n\u001b[0;32m   5463\u001b[0m             \u001b[1;32mif\u001b[0m \u001b[0mself\u001b[0m\u001b[1;33m.\u001b[0m\u001b[0m_info_axis\u001b[0m\u001b[1;33m.\u001b[0m\u001b[0m_can_hold_identifiers_and_holds_name\u001b[0m\u001b[1;33m(\u001b[0m\u001b[0mname\u001b[0m\u001b[1;33m)\u001b[0m\u001b[1;33m:\u001b[0m\u001b[1;33m\u001b[0m\u001b[1;33m\u001b[0m\u001b[0m\n",
      "\u001b[1;32m~\\AppData\\Local\\Programs\\Python\\Python39\\lib\\site-packages\\pandas\\core\\accessor.py\u001b[0m in \u001b[0;36m__get__\u001b[1;34m(self, obj, cls)\u001b[0m\n\u001b[0;32m    178\u001b[0m             \u001b[1;31m# we're accessing the attribute of the class, i.e., Dataset.geo\u001b[0m\u001b[1;33m\u001b[0m\u001b[1;33m\u001b[0m\u001b[1;33m\u001b[0m\u001b[0m\n\u001b[0;32m    179\u001b[0m             \u001b[1;32mreturn\u001b[0m \u001b[0mself\u001b[0m\u001b[1;33m.\u001b[0m\u001b[0m_accessor\u001b[0m\u001b[1;33m\u001b[0m\u001b[1;33m\u001b[0m\u001b[0m\n\u001b[1;32m--> 180\u001b[1;33m         \u001b[0maccessor_obj\u001b[0m \u001b[1;33m=\u001b[0m \u001b[0mself\u001b[0m\u001b[1;33m.\u001b[0m\u001b[0m_accessor\u001b[0m\u001b[1;33m(\u001b[0m\u001b[0mobj\u001b[0m\u001b[1;33m)\u001b[0m\u001b[1;33m\u001b[0m\u001b[1;33m\u001b[0m\u001b[0m\n\u001b[0m\u001b[0;32m    181\u001b[0m         \u001b[1;31m# Replace the property with the accessor object. Inspired by:\u001b[0m\u001b[1;33m\u001b[0m\u001b[1;33m\u001b[0m\u001b[1;33m\u001b[0m\u001b[0m\n\u001b[0;32m    182\u001b[0m         \u001b[1;31m# https://www.pydanny.com/cached-property.html\u001b[0m\u001b[1;33m\u001b[0m\u001b[1;33m\u001b[0m\u001b[1;33m\u001b[0m\u001b[0m\n",
      "\u001b[1;32m~\\AppData\\Local\\Programs\\Python\\Python39\\lib\\site-packages\\pandas\\core\\strings\\accessor.py\u001b[0m in \u001b[0;36m__init__\u001b[1;34m(self, data)\u001b[0m\n\u001b[0;32m    152\u001b[0m         \u001b[1;32mfrom\u001b[0m \u001b[0mpandas\u001b[0m\u001b[1;33m.\u001b[0m\u001b[0mcore\u001b[0m\u001b[1;33m.\u001b[0m\u001b[0marrays\u001b[0m\u001b[1;33m.\u001b[0m\u001b[0mstring_\u001b[0m \u001b[1;32mimport\u001b[0m \u001b[0mStringDtype\u001b[0m\u001b[1;33m\u001b[0m\u001b[1;33m\u001b[0m\u001b[0m\n\u001b[0;32m    153\u001b[0m \u001b[1;33m\u001b[0m\u001b[0m\n\u001b[1;32m--> 154\u001b[1;33m         \u001b[0mself\u001b[0m\u001b[1;33m.\u001b[0m\u001b[0m_inferred_dtype\u001b[0m \u001b[1;33m=\u001b[0m \u001b[0mself\u001b[0m\u001b[1;33m.\u001b[0m\u001b[0m_validate\u001b[0m\u001b[1;33m(\u001b[0m\u001b[0mdata\u001b[0m\u001b[1;33m)\u001b[0m\u001b[1;33m\u001b[0m\u001b[1;33m\u001b[0m\u001b[0m\n\u001b[0m\u001b[0;32m    155\u001b[0m         \u001b[0mself\u001b[0m\u001b[1;33m.\u001b[0m\u001b[0m_is_categorical\u001b[0m \u001b[1;33m=\u001b[0m \u001b[0mis_categorical_dtype\u001b[0m\u001b[1;33m(\u001b[0m\u001b[0mdata\u001b[0m\u001b[1;33m.\u001b[0m\u001b[0mdtype\u001b[0m\u001b[1;33m)\u001b[0m\u001b[1;33m\u001b[0m\u001b[1;33m\u001b[0m\u001b[0m\n\u001b[0;32m    156\u001b[0m         \u001b[0mself\u001b[0m\u001b[1;33m.\u001b[0m\u001b[0m_is_string\u001b[0m \u001b[1;33m=\u001b[0m \u001b[0misinstance\u001b[0m\u001b[1;33m(\u001b[0m\u001b[0mdata\u001b[0m\u001b[1;33m.\u001b[0m\u001b[0mdtype\u001b[0m\u001b[1;33m,\u001b[0m \u001b[0mStringDtype\u001b[0m\u001b[1;33m)\u001b[0m\u001b[1;33m\u001b[0m\u001b[1;33m\u001b[0m\u001b[0m\n",
      "\u001b[1;32m~\\AppData\\Local\\Programs\\Python\\Python39\\lib\\site-packages\\pandas\\core\\strings\\accessor.py\u001b[0m in \u001b[0;36m_validate\u001b[1;34m(data)\u001b[0m\n\u001b[0;32m    215\u001b[0m \u001b[1;33m\u001b[0m\u001b[0m\n\u001b[0;32m    216\u001b[0m         \u001b[1;32mif\u001b[0m \u001b[0minferred_dtype\u001b[0m \u001b[1;32mnot\u001b[0m \u001b[1;32min\u001b[0m \u001b[0mallowed_types\u001b[0m\u001b[1;33m:\u001b[0m\u001b[1;33m\u001b[0m\u001b[1;33m\u001b[0m\u001b[0m\n\u001b[1;32m--> 217\u001b[1;33m             \u001b[1;32mraise\u001b[0m \u001b[0mAttributeError\u001b[0m\u001b[1;33m(\u001b[0m\u001b[1;34m\"Can only use .str accessor with string values!\"\u001b[0m\u001b[1;33m)\u001b[0m\u001b[1;33m\u001b[0m\u001b[1;33m\u001b[0m\u001b[0m\n\u001b[0m\u001b[0;32m    218\u001b[0m         \u001b[1;32mreturn\u001b[0m \u001b[0minferred_dtype\u001b[0m\u001b[1;33m\u001b[0m\u001b[1;33m\u001b[0m\u001b[0m\n\u001b[0;32m    219\u001b[0m \u001b[1;33m\u001b[0m\u001b[0m\n",
      "\u001b[1;31mAttributeError\u001b[0m: Can only use .str accessor with string values!"
     ]
    }
   ],
   "source": [
    "data['joblocation_address'] = data['joblocation_address'].str.split(',')"
   ]
  },
  {
   "cell_type": "markdown",
   "id": "631616ae",
   "metadata": {},
   "source": []
  },
  {
   "cell_type": "markdown",
   "id": "aa6deae6",
   "metadata": {},
   "source": []
  },
  {
   "cell_type": "markdown",
   "id": "e604623e",
   "metadata": {},
   "source": []
  }
 ],
 "metadata": {
  "kernelspec": {
   "display_name": "Python 3",
   "language": "python",
   "name": "python3"
  },
  "language_info": {
   "codemirror_mode": {
    "name": "ipython",
    "version": 3
   },
   "file_extension": ".py",
   "mimetype": "text/x-python",
   "name": "python",
   "nbconvert_exporter": "python",
   "pygments_lexer": "ipython3",
   "version": "3.9.5"
  }
 },
 "nbformat": 4,
 "nbformat_minor": 5
}
